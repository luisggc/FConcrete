{
 "cells": [
  {
   "cell_type": "code",
   "execution_count": 22,
   "metadata": {},
   "outputs": [],
   "source": [
    "import matplotlib.pyplot as plt\n",
    "from math import log\n",
    "%matplotlib notebook "
   ]
  },
  {
   "cell_type": "markdown",
   "metadata": {},
   "source": [
    "## User Input"
   ]
  },
  {
   "cell_type": "code",
   "execution_count": 2,
   "metadata": {},
   "outputs": [],
   "source": [
    "from fconcrete import Load, Node, Beam, SingleBeamElement #, helpers.integrate as integrate"
   ]
  },
  {
   "cell_type": "code",
   "execution_count": 3,
   "metadata": {},
   "outputs": [],
   "source": [
    "f1 = Load.PontualLoad(-16, x=6)\n",
    "f4 = Load.UniformDistributedLoad(-8, x_begin=0, x_end=4)\n",
    "\n",
    "n1 = Node.SimpleSupport(x=0)\n",
    "n2 = Node.SimpleSupport(x=4)\n",
    "n3 = Node.MiddleNode(x=6)\n",
    "\n",
    "bar1 = SingleBeamElement([n1, n2], E=1, I=1)\n",
    "bar2 = SingleBeamElement([n2, n3], E=1, I=1)\n",
    "\n",
    "beam = Beam(\n",
    "    loads = [f1, f4],\n",
    "    bars = [bar1, bar2]\n",
    ")\n",
    "\n",
    "self = beam"
   ]
  },
  {
   "cell_type": "code",
   "execution_count": 4,
   "metadata": {},
   "outputs": [
    {
     "data": {
      "text/plain": [
       "[<matplotlib.lines.Line2D at 0x10ae1a710>]"
      ]
     },
     "execution_count": 4,
     "metadata": {},
     "output_type": "execute_result"
    },
    {
     "data": {
      "image/png": "[encoded data removed]",
      "text/plain": [
       "<Figure size 432x288 with 1 Axes>"
      ]
     },
     "metadata": {},
     "output_type": "display_data"
    }
   ],
   "source": [
    "x, y = beam.getMomentumDiagram()\n",
    "plt.plot(x, y)"
   ]
  },
  {
   "cell_type": "code",
   "execution_count": 5,
   "metadata": {},
   "outputs": [
    {
     "data": {
      "text/plain": [
       "[<matplotlib.lines.Line2D at 0x10cf11e80>]"
      ]
     },
     "execution_count": 5,
     "metadata": {},
     "output_type": "execute_result"
    },
    {
     "data": {
      "image/png": "[encoded data removed]",
      "text/plain": [
       "<Figure size 432x288 with 1 Axes>"
      ]
     },
     "metadata": {},
     "output_type": "display_data"
    }
   ],
   "source": [
    "x, y = beam.getShearDiagram()\n",
    "plt.plot(x, y)"
   ]
  },
  {
   "cell_type": "code",
   "execution_count": 8,
   "metadata": {},
   "outputs": [],
   "source": [
    "import numpy as np"
   ]
  },
  {
   "cell_type": "code",
   "execution_count": 58,
   "metadata": {},
   "outputs": [],
   "source": [
    "def integrate(f, a, b, N=100):\n",
    "    x = np.linspace(a, b, N)\n",
    "    #y = np.array([ f(xi) for xi in x ])\n",
    "    y = np.apply_along_axis(f, 0, np.array([x]))\n",
    "    return np.trapz(y, dx=(b-a)/(N-1))"
   ]
  },
  {
   "cell_type": "code",
   "execution_count": 256,
   "metadata": {},
   "outputs": [],
   "source": [
    "\n",
    "class Section():\n",
    "    \"\"\"\n",
    "    Class to represent simetrical section along the y axis.\n",
    "    function_width is made to define the width along the y axis. The function starts with x=0 and ends in x=height.\n",
    "    height is to represent the maximum y value possible.\n",
    "    \"\"\"    \n",
    "    def __init__(self, function_width, height):\n",
    "        self.height = height\n",
    "        self.function_width = function_width\n",
    "        self.area = self.getAreaBetween(0, height, 1000)\n",
    "        self.I = self._I()\n",
    "        \n",
    "    def width(self, height):\n",
    "        return 0 if height>self.height else self.function_width(height)\n",
    "    \n",
    "    def getAreaBetween(self, begin_height, end_height, interations=100):\n",
    "        return 2*integrate(self.function_width, begin_height, end_height, interations)\n",
    "    \n",
    "    def _I(self):\n",
    "        return 1\n",
    "        \n",
    "    def plot(self, N=100):\n",
    "        height = self.height\n",
    "        x = np.linspace(0, height, N)\n",
    "        y = np.array([self.function_width(xi) for xi in x])\n",
    "        return plt.plot(y,x, -y, x)\n",
    "    \n",
    "    #@classmethod\n",
    "    #def Rectangle(cls, width, height):\n",
    "    #    return cls(lambda x:width/2, height)\n",
    "    \n",
    "class Rectangle(Section):\n",
    "    def __init__(self,width, height):\n",
    "        #super( Rectangle, self ).__init__()\n",
    "        self.__width = width\n",
    "        self.height = height\n",
    "        self.function_width = lambda x:width/2\n",
    "        self.area = width*height\n",
    "        self.I = self.width()*self.height**3/12\n",
    "        \n",
    "    def getAreaBetween(self, begin_height, end_height):\n",
    "        return self.width()*(end_height - begin_height)\n",
    "    \n",
    "    def width(self, height=0):\n",
    "        return self.__width"
   ]
  },
  {
   "cell_type": "code",
   "execution_count": 16,
   "metadata": {},
   "outputs": [],
   "source": [
    "class Material():\n",
    "    \"\"\"\n",
    "    E - in MPA\n",
    "    Poisson - \n",
    "    \"\"\"    \n",
    "    def __init__(self, E, poisson, alpha):\n",
    "        self.E = E\n",
    "        self.poisson = poisson\n",
    "        self.alpha = alpha\n",
    "        \n",
    "class Concrete(Material):\n",
    "    def __init__(self, E, alpha, fck, aggregate=\"granito\"):\n",
    "        \n",
    "        alpha_e = 0\n",
    "        if aggregate in [\"basalto\", \"diabásio\"]: alpha_e = 1.2\n",
    "        if aggregate in [\"granito\", \"gnaisse\"]: alpha_e = 1\n",
    "        if aggregate in [\"calcário\"]: alpha_e = 0.9\n",
    "        if aggregate in [\"arenito\"]: alpha_e = 0.7\n",
    "        if alpha_e == 0: raise Exception(\"Must select a valid aggregate: basalto, diabásio, granito, gnaisse, calcário ou arenito\")\n",
    "        \n",
    "        if fck<20 or fck>90: raise Exception(\"Must select a valid fck value (between 20MPa and 90MPa)\")\n",
    "        if (fck>=20 and fck<=50): E_ci = alpha_e*5600*(fck**0.5)\n",
    "        E_ci = alpha_e*21500*(fck/10+1.25)**(1/3) if fck>50 else E_ci\n",
    "            \n",
    "        fctm = 0.3*(fck**(2/3)) if fck<=50 else 2.12*log(1+0.11*fck)\n",
    "        fctk_inf = 0.7*fctm\n",
    "        fctk_sup = 1.3*fctm\n",
    "        fctd = fck/1.4\n",
    "\n",
    "        super(Concrete, self ).__init__(E_ci, 0.2, 10**(-5))\n",
    "        \n",
    "        self.fck = fck\n",
    "        self.E_ci = E_ci\n",
    "        self.fctm = fctm\n",
    "        self.fctk_inf = fctk_inf\n",
    "        self.fctk_sup = fctk_sup\n",
    "        self.fctd = fctd\n",
    "        \n",
    "        "
   ]
  },
  {
   "cell_type": "code",
   "execution_count": 24,
   "metadata": {},
   "outputs": [
    {
     "ename": "TypeError",
     "evalue": "'int' object is not iterable",
     "output_type": "error",
     "traceback": [
      "\u001b[0;31m---------------------------------------------------------------------------\u001b[0m",
      "\u001b[0;31mTypeError\u001b[0m                                 Traceback (most recent call last)",
      "\u001b[0;32m<ipython-input-24-78a59efe0a66>\u001b[0m in \u001b[0;36m<module>\u001b[0;34m()\u001b[0m\n\u001b[0;32m----> 1\u001b[0;31m \u001b[0mfctk\u001b[0m\u001b[0;34m,\u001b[0m\u001b[0minf\u001b[0m \u001b[0;34m=\u001b[0m \u001b[0;36m5\u001b[0m\u001b[0;34m\u001b[0m\u001b[0m\n\u001b[0m",
      "\u001b[0;31mTypeError\u001b[0m: 'int' object is not iterable"
     ]
    }
   ],
   "source": [
    "fctk_inf = 5"
   ]
  },
  {
   "cell_type": "code",
   "execution_count": 20,
   "metadata": {},
   "outputs": [],
   "source": [
    "fctk_inf = 0.7 fct_m\n",
    "fctk_sup = 1.3 fct_m"
   ]
  },
  {
   "cell_type": "code",
   "execution_count": 23,
   "metadata": {},
   "outputs": [
    {
     "data": {
      "text/plain": [
       "1.0"
      ]
     },
     "execution_count": 23,
     "metadata": {},
     "output_type": "execute_result"
    }
   ],
   "source": [
    "log(2.7182818284590452353602874)"
   ]
  },
  {
   "cell_type": "code",
   "execution_count": null,
   "metadata": {},
   "outputs": [],
   "source": [
    " 2,12 ln (1 + 0,11 fck)"
   ]
  },
  {
   "cell_type": "code",
   "execution_count": 14,
   "metadata": {},
   "outputs": [
    {
     "data": {
      "text/plain": [
       "0"
      ]
     },
     "execution_count": 14,
     "metadata": {},
     "output_type": "execute_result"
    }
   ],
   "source": [
    "['fctm'] = 0.3*(projeto['fck']*10)**(2/3)/10\n",
    "projeto['fctkinf'] = 0.7*projeto['fctm']\n",
    "projeto['fctd'] = projeto['fctkinf']/1.4"
   ]
  },
  {
   "cell_type": "code",
   "execution_count": 11,
   "metadata": {},
   "outputs": [
    {
     "data": {
      "text/plain": [
       "False"
      ]
     },
     "execution_count": 11,
     "metadata": {},
     "output_type": "execute_result"
    }
   ],
   "source": [
    "aggregate in [\"basalto\", \"diabásio\"]"
   ]
  },
  {
   "cell_type": "code",
   "execution_count": 260,
   "metadata": {
    "scrolled": true
   },
   "outputs": [
    {
     "data": {
      "text/plain": [
       "6666.666666666667"
      ]
     },
     "execution_count": 260,
     "metadata": {},
     "output_type": "execute_result"
    }
   ],
   "source": [
    "rectangle = Rectangle(10,20)\n",
    "rectangle.I"
   ]
  },
  {
   "cell_type": "code",
   "execution_count": null,
   "metadata": {},
   "outputs": [],
   "source": []
  }
 ],
 "metadata": {
  "kernelspec": {
   "display_name": "Python 3",
   "language": "python",
   "name": "python3"
  },
  "language_info": {
   "codemirror_mode": {
    "name": "ipython",
    "version": 3
   },
   "file_extension": ".py",
   "mimetype": "text/x-python",
   "name": "python",
   "nbconvert_exporter": "python",
   "pygments_lexer": "ipython3",
   "version": "3.6.5"
  }
 },
 "nbformat": 4,
 "nbformat_minor": 2
}
