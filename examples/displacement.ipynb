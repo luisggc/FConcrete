{
 "cells": [
  {
   "cell_type": "code",
   "execution_count": 4,
   "metadata": {},
   "outputs": [
    {
     "name": "stdout",
     "output_type": "stream",
     "text": [
      "Uniform pressure\n",
      "BCs: clamped-clamped\n",
      "BCs output: clamped-clamped\n"
     ]
    },
    {
     "data": {
      "image/png": "[encoded data removed]",
      "text/plain": [
       "<Figure size 432x288 with 1 Axes>"
      ]
     },
     "metadata": {
      "needs_background": "light"
     },
     "output_type": "display_data"
    },
    {
     "data": {
      "text/plain": [
       "Text(0.5, 0, 'X [m]')"
      ]
     },
     "execution_count": 4,
     "metadata": {},
     "output_type": "execute_result"
    },
    {
     "data": {
      "image/png": "[encoded data removed]",
      "text/plain": [
       "<Figure size 432x288 with 1 Axes>"
      ]
     },
     "metadata": {
      "needs_background": "light"
     },
     "output_type": "display_data"
    }
   ],
   "source": [
    "import matplotlib.pyplot as plt\n",
    "import numpy as np\n",
    "\n",
    "E=200e9 #Young's modulus\n",
    "rho=7800. #density\n",
    "L=1. #total length\n",
    "b=0.010 #beam depth\n",
    "h=0.005 #beam height\n",
    "A=b*h #beam cross sectional area\n",
    "I=b*h**3/12 #beam moment of inertia\n",
    "N=40 #number of elements \n",
    "Nnodes=N+1 #number of nodes\n",
    "ell=L/N #length of beam element\n",
    "Nmodes=12 #number of modes to keep\n",
    "mass=rho*L*A #total mass\n",
    "Irot=1/12*mass*L**2 #rotary inertia\n",
    "x=np.arange(0,ell+L,ell)\n",
    "\n",
    "\n",
    "K_e=E*I/ell**3*np.array([[12, 6*ell, -12, 6*ell],\n",
    " [6*ell, 4*ell**2, -6*ell, 2*ell**2],\n",
    " [-12, -6*ell, 12, -6*ell], #x2\n",
    " [6*ell, 2*ell**2, -6*ell, 4*ell**2]]) #theta2\n",
    "\n",
    "\n",
    "bcs = 'clamped-clamped' # 'clamped-clamped' # 'clamped-sliding' # simplysupported # 'cantilever' Input boundary conditions here\n",
    "\n",
    "loadcase = 'uniformpres' #'pointforce' # 'pointmoment' # 'unifromdistribmoment' Input load case here\n",
    " # 'uniformpres' # 'concmomenteachnode'\n",
    "\n",
    "\n",
    "K=np.zeros((2*(N+1),2*(N+1))) \n",
    "# M=zeros(2*(N+1),2*(N+1))\n",
    "\n",
    "\n",
    "for i in range(1,N+1):\n",
    "    K[(2*(i-1)+1-1):(2*(i-1)+4), (2*(i-1)+1-1):(2*(i-1)+4)]=K[(2*(i-1)+1-1):(2*(i-1)+4)][:,(2*(i-1)+1-1):(2*(i-1)+4)]+K_e\n",
    "\n",
    "f=np.zeros((2*Nnodes,1))\n",
    "\n",
    "if loadcase == 'pointforce':\n",
    "    print('Load: concentrated force at x=L/2')\n",
    " #load: concentrated force on center of beam\n",
    "    f[Nnodes-1]=1 \n",
    "elif loadcase == 'pointmoment':\n",
    "    print('Load: concentrated moment at x=L/2')\n",
    " #load: concentrated moment on center of beam\n",
    "    f[Nnodes]=1 \n",
    "elif loadcase == 'uniformdistribmoment':\n",
    "    print('Load: uniformly distributed moment')\n",
    " #load: uniform distributed moment on entire beam\n",
    "    m=1.0\n",
    "    m_el=np.zeros((4,1))\n",
    "    m_el[:,0] = np.array([-m,0,m,0])\n",
    "    for i in range(1,N+1):\n",
    "        f[2*(i-1)+1-1:2*(i-1)+4]=f[2*(i-1)+1-1:2*(i-1)+4]+m_el\n",
    "elif loadcase == 'concmomenteachnode':\n",
    "    print('Load: Concentrated moment on each node')\n",
    " #load: concentrated moment on each node\n",
    "    f[1:2*Nnodes:2]=1 \n",
    "elif loadcase == 'uniformpres':\n",
    "    print('Uniform pressure')\n",
    " #load: uniform distributed load on entire beam\n",
    "    q=-rho*A*9.81\n",
    "    q_el=np.zeros((4,1))\n",
    "    q_el[:,0] = np.array([q*ell/2, q*ell**2/12, q*ell/2, -q*ell**2/12])\n",
    "    for i in range(1,N+1):\n",
    "        f[2*(i-1)+1-1:2*(i-1)+4]=f[2*(i-1)+1-1:2*(i-1)+4]+q_el\n",
    "else:\n",
    "    print('Unknown loading')\n",
    "\n",
    "if bcs == 'clamped-clamped':\n",
    "    print('BCs: clamped-clamped')\n",
    "    #clamped-clamped beam BCs\n",
    "    K=np.delete(K,[2*Nnodes-2,2*Nnodes-1],0) #K[1:2,:]=[] \n",
    "    K=np.delete(K,[2*Nnodes-2,2*Nnodes-1],1) #K[:,1:2]=[] \n",
    "    f=np.delete(f,[2*Nnodes-2,2*Nnodes-1]) #f[1:2]=[] \n",
    "    K=np.delete(K,[0,1],0) #K[1:2,:]=[] \n",
    "    K=np.delete(K,[0,1],1) #K[:,1:2]=[] \n",
    "    f=np.delete(f,[0,1]) #f[1:2]=[]\n",
    "\n",
    "elif bcs == 'simplysupported':\n",
    "    print('BCs: simply supported')\n",
    "    #simply supported beam BCs\n",
    "    K=np.delete(K,[2*Nnodes-2],0) #K[1:2,:]=[] \n",
    "    K=np.delete(K,[2*Nnodes-2],1) #K[:,1:2]=[] \n",
    "    f=np.delete(f,[2*Nnodes-2]) #f[1:2]=[] \n",
    "    K=np.delete(K,[0],0) #K[1:2,:]=[] \n",
    "    K=np.delete(K,[0],1) #K[1:2,:]=[] \n",
    "    f=np.delete(f,[0]) #f[1:2]=[] \n",
    "elif bcs == 'cantilever':\n",
    "    print('BCs: cantilever')\n",
    "    #cantilever beam BCs\n",
    "    K=np.delete(K,[0,1],0) #K[1:2,:]=[] \n",
    "    K=np.delete(K,[0,1],1) #K[:,1:2]=[] \n",
    "    f=np.delete(f,[0,1]) #f[1:2]=[] \n",
    "elif bcs == 'clamped-sliding':\n",
    "    print('BCs: clamped-sliding')\n",
    "    #clamped-sliding beam BCs\n",
    "    K=np.delete(K,[2*Nnodes-1],0) #K[1:2,:]=[] \n",
    "    K=np.delete(K,[2*Nnodes-1],1) #K[:,1:2]=[] \n",
    "    f=np.delete(f,[2*Nnodes-1]) #f[1:2]=[] \n",
    "    K=np.delete(K,[0,1],0) #K[1:2,:]=[] \n",
    "    K=np.delete(K,[0,1],1) #K[:,1:2]=[] \n",
    "    f=np.delete(f,[0,1]) #f[1:2]=[] \n",
    "else:\n",
    "    print('Unknown boundary conditions.')\n",
    "\n",
    "dx_vec=np.linalg.solve(K,f)\n",
    "\n",
    "if bcs == 'clamped-clamped':\n",
    "    print('BCs output: clamped-clamped')\n",
    "    #clamped-clamped\n",
    "    dx=np.hstack([0., dx_vec[0:2*Nnodes-5:2], 0.]) \n",
    "    dtheta=np.hstack([0., dx_vec[1:2*Nnodes-4:2], 0.])\n",
    "elif bcs == 'simplysupported':\n",
    "    print('BCs output: simply-supported')\n",
    "    #simply-supported\n",
    "    dx=np.hstack([0., dx_vec[1:2*Nnodes-4:2], 0.])\n",
    "    dtheta=np.hstack([dx_vec[0:2*Nnodes-3:2], dx_vec[2*Nnodes-3]])\n",
    "elif bcs == 'cantilever':\n",
    "    print('BCs output: cantilever')\n",
    "    #cantilever\n",
    "    dx=np.hstack([0., dx_vec[0:2*Nnodes-2:2]])\n",
    "    dtheta=np.hstack([0., dx_vec[1:2*Nnodes-1:2]])\n",
    "elif bcs == 'clamped-sliding':\n",
    "    print('BCs output: clamped-sliding')\n",
    "    #clamped-sliding beam BCs\n",
    "    dx=np.hstack([0., dx_vec[0:2*Nnodes-3:2]])\n",
    "    dtheta=np.hstack([0., dx_vec[1:2*Nnodes-4:2], 0.])\n",
    "else:\n",
    "    print('Output: Unknown boundary conditions.')\n",
    "\n",
    "plt.figure(1)\n",
    "plt.subplot(211)\n",
    "plt.plot(x,dx)\n",
    "plt.ylabel('displacement [m]')\n",
    "#plt.title(['BCs: ' bcs 'Load case: ' loadcase])\n",
    "plt.show()\n",
    "\n",
    "plt.subplot(212)\n",
    "plt.plot(x,dtheta) \n",
    "plt.ylabel('slope [radians]')\n",
    "plt.xlabel('X [m]')"
   ]
  },
  {
   "cell_type": "code",
   "execution_count": 5,
   "metadata": {},
   "outputs": [
    {
     "data": {
      "text/plain": [
       "array([ 0.00000000e+00, -4.54624523e-06, -1.72643738e-05, -3.68272765e-05,\n",
       "       -6.19795800e-05, -9.15376465e-05, -1.24389574e-04, -1.59495195e-04,\n",
       "       -1.95886080e-04, -2.32665533e-04, -2.69008594e-04, -3.04162039e-04,\n",
       "       -3.37444380e-04, -3.68245864e-04, -3.96028474e-04, -4.20325928e-04,\n",
       "       -4.40743680e-04, -4.56958920e-04, -4.68720574e-04, -4.75849301e-04,\n",
       "       -4.78237500e-04, -4.75849301e-04, -4.68720574e-04, -4.56958920e-04,\n",
       "       -4.40743680e-04, -4.20325928e-04, -3.96028474e-04, -3.68245864e-04,\n",
       "       -3.37444380e-04, -3.04162039e-04, -2.69008594e-04, -2.32665533e-04,\n",
       "       -1.95886080e-04, -1.59495195e-04, -1.24389574e-04, -9.15376465e-05,\n",
       "       -6.19795800e-05, -3.68272765e-05, -1.72643738e-05, -4.54624523e-06,\n",
       "        0.00000000e+00])"
      ]
     },
     "execution_count": 5,
     "metadata": {},
     "output_type": "execute_result"
    }
   ],
   "source": [
    "se"
   ]
  }
 ],
 "metadata": {
  "kernelspec": {
   "display_name": "Python 3",
   "language": "python",
   "name": "python3"
  },
  "language_info": {
   "codemirror_mode": {
    "name": "ipython",
    "version": 3
   },
   "file_extension": ".py",
   "mimetype": "text/x-python",
   "name": "python",
   "nbconvert_exporter": "python",
   "pygments_lexer": "ipython3",
   "version": "3.6.6"
  }
 },
 "nbformat": 4,
 "nbformat_minor": 2
}
