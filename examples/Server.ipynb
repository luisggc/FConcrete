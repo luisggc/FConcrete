{
 "cells": [
  {
   "cell_type": "code",
   "execution_count": 1,
   "metadata": {},
   "outputs": [],
   "source": [
    "import json\n",
    "import sys\n",
    "sys.path.insert(0, '../')\n",
    "import fconcrete as fc"
   ]
  },
  {
   "cell_type": "code",
   "execution_count": null,
   "metadata": {},
   "outputs": [],
   "source": []
  },
  {
   "cell_type": "code",
   "execution_count": 3,
   "metadata": {},
   "outputs": [],
   "source": []
  },
  {
   "cell_type": "code",
   "execution_count": 11,
   "metadata": {},
   "outputs": [
    {
     "data": {
      "text/plain": [
       "'\\n{\\n    \"ConcreteBeam\": {\\n        \"section\": {\\n            \"width\": 30,\\n            \"height\": 2,\\n            \"type\": \"Rectangle\"\\n        },\\n        \"nodes\": [\\n            {\\n                \"x\": 0,\\n                \"length\": 20,\\n                \"type\": \"SimpleSupport\"\\n            },\\n            {\\n                \"x\": 400,\\n                \"length\": 40,\\n                \"type\": \"SimpleSupport\"\\n            }\\n        ],\\n        \"loads\": [\\n            {\\n                \"q\": -0.3,\\n                \"x_begin\": 0,\\n                \"x_end\": 400,\\n                \"type\": \"UniformDistributedLoad\"\\n            },\\n            {\\n                \"load\": -0.5,\\n                \"x\": 150,\\n                \"type\": \"PontualLoad\"\\n            }\\n        ],\\n        \"design_factor\": 1.4\\n    }\\n}\\n'"
      ]
     },
     "execution_count": 11,
     "metadata": {},
     "output_type": "execute_result"
    }
   ],
   "source": [
    "income"
   ]
  },
  {
   "cell_type": "code",
   "execution_count": 9,
   "metadata": {},
   "outputs": [
    {
     "ename": "AttributeError",
     "evalue": "'API' object has no attribute 'concrete_beam'",
     "output_type": "error",
     "traceback": [
      "\u001b[0;31m---------------------------------------------------------------------------\u001b[0m",
      "\u001b[0;31mAttributeError\u001b[0m                            Traceback (most recent call last)",
      "\u001b[0;32m<ipython-input-9-82a77261664d>\u001b[0m in \u001b[0;36m<module>\u001b[0;34m\u001b[0m\n\u001b[1;32m     38\u001b[0m \u001b[0;34m\u001b[0m\u001b[0m\n\u001b[1;32m     39\u001b[0m \u001b[0mparsed\u001b[0m \u001b[0;34m=\u001b[0m \u001b[0mfc\u001b[0m\u001b[0;34m.\u001b[0m\u001b[0mAPI\u001b[0m\u001b[0;34m(\u001b[0m\u001b[0mincome\u001b[0m\u001b[0;34m)\u001b[0m\u001b[0;34m\u001b[0m\u001b[0;34m\u001b[0m\u001b[0m\n\u001b[0;32m---> 40\u001b[0;31m \u001b[0mparsed_concrete_beam\u001b[0m \u001b[0;34m=\u001b[0m \u001b[0mparsed\u001b[0m\u001b[0;34m.\u001b[0m\u001b[0mconcrete_beam\u001b[0m\u001b[0;34m\u001b[0m\u001b[0;34m\u001b[0m\u001b[0m\n\u001b[0m\u001b[1;32m     41\u001b[0m \u001b[0;34m\u001b[0m\u001b[0m\n",
      "\u001b[0;31mAttributeError\u001b[0m: 'API' object has no attribute 'concrete_beam'"
     ]
    }
   ],
   "source": [
    "income = '''\n",
    "{\n",
    "    \"ConcreteBeam\": {\n",
    "        \"section\": {\n",
    "            \"width\": 30,\n",
    "            \"height\": 2,\n",
    "            \"type\": \"Rectangle\"\n",
    "        },\n",
    "        \"nodes\": [\n",
    "            {\n",
    "                \"x\": 0,\n",
    "                \"length\": 20,\n",
    "                \"type\": \"SimpleSupport\"\n",
    "            },\n",
    "            {\n",
    "                \"x\": 400,\n",
    "                \"length\": 40,\n",
    "                \"type\": \"SimpleSupport\"\n",
    "            }\n",
    "        ],\n",
    "        \"loads\": [\n",
    "            {\n",
    "                \"q\": -0.3,\n",
    "                \"x_begin\": 0,\n",
    "                \"x_end\": 400,\n",
    "                \"type\": \"UniformDistributedLoad\"\n",
    "            },\n",
    "            {\n",
    "                \"load\": -0.5,\n",
    "                \"x\": 150,\n",
    "                \"type\": \"PontualLoad\"\n",
    "            }\n",
    "        ],\n",
    "        \"design_factor\": 1.4\n",
    "    }\n",
    "}\n",
    "'''\n",
    "\n",
    "parsed = fc.API(income)\n",
    "parsed_concrete_beam = parsed.concrete_beam\n",
    "\n"
   ]
  },
  {
   "cell_type": "code",
   "execution_count": 10,
   "metadata": {},
   "outputs": [
    {
     "data": {
      "text/plain": [
       "'Shear (136.125933279kN) in x=399.99999 is greater or equal to maximum shear allowed (34.56176322032717kN)'"
      ]
     },
     "execution_count": 10,
     "metadata": {},
     "output_type": "execute_result"
    }
   ],
   "source": [
    "parsed.status"
   ]
  },
  {
   "cell_type": "code",
   "execution_count": 4,
   "metadata": {},
   "outputs": [
    {
     "data": {
      "text/plain": [
       "482.98384110275356"
      ]
     },
     "execution_count": 4,
     "metadata": {},
     "output_type": "execute_result"
    }
   ],
   "source": [
    "n1 = fc.Node.SimpleSupport(x=0, length=20)\n",
    "n2 = fc.Node.SimpleSupport(x=400, length=40)\n",
    "f1 = fc.Load.UniformDistributedLoad(-0.3, x_begin=0, x_end=400)\n",
    "f2 = fc.Load.PontualLoad(-0.5, x=150)\n",
    "\n",
    "concrete_beam2 = fc.ConcreteBeam(\n",
    "        loads = [f1, f2],\n",
    "        nodes = [n1, n2],\n",
    "        section = fc.Rectangle(30,80),\n",
    ")\n",
    "\n",
    "concrete_beam2.cost"
   ]
  },
  {
   "cell_type": "code",
   "execution_count": 5,
   "metadata": {},
   "outputs": [
    {
     "data": {
      "text/plain": [
       "482.98384110275356"
      ]
     },
     "execution_count": 5,
     "metadata": {},
     "output_type": "execute_result"
    }
   ],
   "source": [
    "parsed_concrete_beam.cost"
   ]
  }
 ],
 "metadata": {
  "kernelspec": {
   "display_name": "Python 3",
   "language": "python",
   "name": "python3"
  },
  "language_info": {
   "codemirror_mode": {
    "name": "ipython",
    "version": 3
   },
   "file_extension": ".py",
   "mimetype": "text/x-python",
   "name": "python",
   "nbconvert_exporter": "python",
   "pygments_lexer": "ipython3",
   "version": "3.8.1"
  }
 },
 "nbformat": 4,
 "nbformat_minor": 2
}
