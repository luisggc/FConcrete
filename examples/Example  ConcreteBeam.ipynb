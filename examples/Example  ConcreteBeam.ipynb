{
 "cells": [
  {
   "cell_type": "code",
   "execution_count": null,
   "metadata": {},
   "outputs": [],
   "source": [
    "\n",
    "import matplotlib.pyplot as plt"
   ]
  },
  {
   "cell_type": "code",
   "execution_count": 1,
   "metadata": {},
   "outputs": [],
   "source": [
    "import sys\n",
    "sys.path.insert(0, '../')\n",
    "import fconcrete as fc"
   ]
  },
  {
   "cell_type": "code",
   "execution_count": 2,
   "metadata": {
    "collapsed": true
   },
   "outputs": [
    {
     "name": "stdout",
     "output_type": "stream",
     "text": [
      "Cost of the concrete beam, in reais:  514.18070291349\n",
      "Processing time of the concrete beam, in seconds:  0.23333215713500977\n",
      "[['Material' 'Price' 'Quantity' 'Unit' 'Commentary' 'Is Subtotal']\n",
      " ['Concrete' '339.17' '0.96' 'm3' 'Between 0.0m and 0.0m' 'False']\n",
      " ['Concrete' '339.17' '0.96' 'm3' '' 'True']\n",
      " ['Longitudinal bar' '56.78' '459.98' 'm'\n",
      "  'Diameter 8.0mm. Between -56.68m and 456.68m' 'False']\n",
      " ['Longitudinal bar' '14.31' '347.74' 'm'\n",
      "  'Diameter 8.0mm. Between -0.56m and 400.56m' 'False']\n",
      " ['Longitudinal bar' '12.34' '299.82' 'm'\n",
      "  'Diameter 8.0mm. Between 23.4m and 376.6m' 'False']\n",
      " ['Longitudinal bar' '9.86' '239.52' 'm'\n",
      "  'Diameter 8.0mm. Between 53.56m and 346.44m' 'False']\n",
      " ['Longitudinal bar' '3.03' '147.06' 'm'\n",
      "  'Diameter 8.0mm. Between 99.79m and 300.21m' 'False']\n",
      " ['Longitudinal bar' '96.31' '1494.11' 'm' '' 'True']\n",
      " ['Transversal bar' '4.63' '225.0' 'm'\n",
      "  '22.0cm x 72.0cm. Diameter 8.0mm. Placed in 0.0m ' 'False']\n",
      " ['Transversal bar' '4.63' '225.0' 'm'\n",
      "  '22.0cm x 72.0cm. Diameter 8.0mm. Placed in 25.0m ' 'False']\n",
      " ['Transversal bar' '4.63' '225.0' 'm'\n",
      "  '22.0cm x 72.0cm. Diameter 8.0mm. Placed in 50.0m ' 'False']\n",
      " ['Transversal bar' '4.63' '225.0' 'm'\n",
      "  '22.0cm x 72.0cm. Diameter 8.0mm. Placed in 75.0m ' 'False']\n",
      " ['Transversal bar' '4.63' '225.0' 'm'\n",
      "  '22.0cm x 72.0cm. Diameter 8.0mm. Placed in 100.0m ' 'False']\n",
      " ['Transversal bar' '4.63' '225.0' 'm'\n",
      "  '22.0cm x 72.0cm. Diameter 8.0mm. Placed in 125.0m ' 'False']\n",
      " ['Transversal bar' '4.63' '225.0' 'm'\n",
      "  '22.0cm x 72.0cm. Diameter 8.0mm. Placed in 150.0m ' 'False']\n",
      " ['Transversal bar' '4.63' '225.0' 'm'\n",
      "  '22.0cm x 72.0cm. Diameter 8.0mm. Placed in 175.0m ' 'False']\n",
      " ['Transversal bar' '4.63' '225.0' 'm'\n",
      "  '22.0cm x 72.0cm. Diameter 8.0mm. Placed in 200.0m ' 'False']\n",
      " ['Transversal bar' '4.63' '225.0' 'm'\n",
      "  '22.0cm x 72.0cm. Diameter 8.0mm. Placed in 225.0m ' 'False']\n",
      " ['Transversal bar' '4.63' '225.0' 'm'\n",
      "  '22.0cm x 72.0cm. Diameter 8.0mm. Placed in 250.0m ' 'False']\n",
      " ['Transversal bar' '4.63' '225.0' 'm'\n",
      "  '22.0cm x 72.0cm. Diameter 8.0mm. Placed in 275.0m ' 'False']\n",
      " ['Transversal bar' '4.63' '225.0' 'm'\n",
      "  '22.0cm x 72.0cm. Diameter 8.0mm. Placed in 300.0m ' 'False']\n",
      " ['Transversal bar' '4.63' '225.0' 'm'\n",
      "  '22.0cm x 72.0cm. Diameter 8.0mm. Placed in 325.0m ' 'False']\n",
      " ['Transversal bar' '4.63' '225.0' 'm'\n",
      "  '22.0cm x 72.0cm. Diameter 8.0mm. Placed in 350.0m ' 'False']\n",
      " ['Transversal bar' '4.63' '225.0' 'm'\n",
      "  '22.0cm x 72.0cm. Diameter 8.0mm. Placed in 375.0m ' 'False']\n",
      " ['Transversal bar' '4.63' '225.0' 'm'\n",
      "  '22.0cm x 72.0cm. Diameter 8.0mm. Placed in 400.0m ' 'False']\n",
      " ['Transversal bar' '78.7' '3825.0' 'm' '' 'True']]\n"
     ]
    },
    {
     "data": {
      "text/plain": [
       "(<Figure size 432x288 with 1 Axes>,\n",
       " <matplotlib.axes._subplots.AxesSubplot at 0x1c12c96550>)"
      ]
     },
     "execution_count": 2,
     "metadata": {},
     "output_type": "execute_result"
    },
    {
     "data": {
      "image/png": "[encoded data removed]",
      "text/plain": [
       "<Figure size 432x288 with 1 Axes>"
      ]
     },
     "metadata": {},
     "output_type": "display_data"
    }
   ],
   "source": [
    "\n",
    "n1 = fc.Node.SimpleSupport(x=0, length=20)\n",
    "n2 = fc.Node.SimpleSupport(x=400, length=20)\n",
    "f1 = fc.Load.UniformDistributedLoad(-0.6, x_begin=0, x_end=400)\n",
    "\n",
    "concrete_beam = fc.ConcreteBeam(\n",
    "    loads = [f1],\n",
    "    nodes = [n1, n2],\n",
    "    section = fc.Rectangle(30,80),\n",
    "    division = 200\n",
    ")\n",
    "\n",
    "print(\"Cost of the concrete beam, in reais: \", concrete_beam.cost)\n",
    "print(\"Processing time of the concrete beam, in seconds: \", concrete_beam.processing_time)\n",
    "print(concrete_beam.cost_table)\n",
    "\n",
    "concrete_beam.plotTransversalInX(200)\n"
   ]
  },
  {
   "cell_type": "code",
   "execution_count": 3,
   "metadata": {},
   "outputs": [
    {
     "data": {
      "image/png": "[encoded data removed]",
      "text/plain": [
       "<Figure size 432x288 with 1 Axes>"
      ]
     },
     "metadata": {},
     "output_type": "display_data"
    }
   ],
   "source": [
    "concrete_beam.long_steel_bars.plot(prop='area_accumulated')"
   ]
  },
  {
   "cell_type": "code",
   "execution_count": 3,
   "metadata": {},
   "outputs": [
    {
     "data": {
      "text/plain": [
       "(<Figure size 432x288 with 1 Axes>,\n",
       " <matplotlib.axes._subplots.AxesSubplot at 0x1c13a9d9b0>)"
      ]
     },
     "execution_count": 3,
     "metadata": {},
     "output_type": "execute_result"
    },
    {
     "data": {
      "image/png": "[encoded data removed]",
      "text/plain": [
       "<Figure size 432x288 with 1 Axes>"
      ]
     },
     "metadata": {},
     "output_type": "display_data"
    }
   ],
   "source": [
    "concrete_beam.transv_steel_bars.plotLong()"
   ]
  },
  {
   "cell_type": "code",
   "execution_count": 3,
   "metadata": {},
   "outputs": [],
   "source": [
    "concrete_beam.long_steel_bars_solution_info.plotDecalagedMomentumDesignDiagram()"
   ]
  },
  {
   "cell_type": "code",
   "execution_count": 5,
   "metadata": {},
   "outputs": [
    {
     "data": {
      "text/plain": [
       "(array([1.00000000e-05, 2.01006015e+00, 4.02011030e+00, 6.03016045e+00,\n",
       "        8.04021060e+00, 1.00502608e+01, 1.20603109e+01, 1.40703611e+01,\n",
       "        1.60804112e+01, 1.80904614e+01, 2.01005115e+01, 2.21105617e+01,\n",
       "        2.41206118e+01, 2.61306620e+01, 2.81407121e+01, 3.01507623e+01,\n",
       "        3.21608124e+01, 3.41708626e+01, 3.61809127e+01, 3.81909629e+01,\n",
       "        4.02010130e+01, 4.22110632e+01, 4.42211133e+01, 4.62311635e+01,\n",
       "        4.82412136e+01, 5.02512638e+01, 5.22613139e+01, 5.42713641e+01,\n",
       "        5.62814142e+01, 5.82914644e+01, 6.03015145e+01, 6.23115647e+01,\n",
       "        6.43216148e+01, 6.63316650e+01, 6.83417151e+01, 7.03517653e+01,\n",
       "        7.23618154e+01, 7.43718656e+01, 7.63819157e+01, 7.83919659e+01,\n",
       "        8.04020160e+01, 8.24120662e+01, 8.44221163e+01, 8.64321665e+01,\n",
       "        8.84422166e+01, 9.04522668e+01, 9.24623169e+01, 9.44723671e+01,\n",
       "        9.64824172e+01, 9.84924674e+01, 1.00502518e+02, 1.02512568e+02,\n",
       "        1.04522618e+02, 1.06532668e+02, 1.08542718e+02, 1.10552768e+02,\n",
       "        1.12562818e+02, 1.14572869e+02, 1.16582919e+02, 1.18592969e+02,\n",
       "        1.20603019e+02, 1.22613069e+02, 1.24623119e+02, 1.26633169e+02,\n",
       "        1.28643220e+02, 1.30653270e+02, 1.32663320e+02, 1.34673370e+02,\n",
       "        1.36683420e+02, 1.38693470e+02, 1.40703521e+02, 1.42713571e+02,\n",
       "        1.44723621e+02, 1.46733671e+02, 1.48743721e+02, 1.50753771e+02,\n",
       "        1.52763821e+02, 1.54773872e+02, 1.56783922e+02, 1.58793972e+02,\n",
       "        1.60804022e+02, 1.62814072e+02, 1.64824122e+02, 1.66834173e+02,\n",
       "        1.68844223e+02, 1.70854273e+02, 1.72864323e+02, 1.74874373e+02,\n",
       "        1.76884423e+02, 1.78894473e+02, 1.80904524e+02, 1.82914574e+02,\n",
       "        1.84924624e+02, 1.86934674e+02, 1.88944724e+02, 1.90954774e+02,\n",
       "        1.92964824e+02, 1.94974875e+02, 1.96984925e+02, 1.98994975e+02,\n",
       "        2.01005025e+02, 2.03015075e+02, 2.05025125e+02, 2.07035176e+02,\n",
       "        2.09045226e+02, 2.11055276e+02, 2.13065326e+02, 2.15075376e+02,\n",
       "        2.17085426e+02, 2.19095476e+02, 2.21105527e+02, 2.23115577e+02,\n",
       "        2.25125627e+02, 2.27135677e+02, 2.29145727e+02, 2.31155777e+02,\n",
       "        2.33165827e+02, 2.35175878e+02, 2.37185928e+02, 2.39195978e+02,\n",
       "        2.41206028e+02, 2.43216078e+02, 2.45226128e+02, 2.47236179e+02,\n",
       "        2.49246229e+02, 2.51256279e+02, 2.53266329e+02, 2.55276379e+02,\n",
       "        2.57286429e+02, 2.59296479e+02, 2.61306530e+02, 2.63316580e+02,\n",
       "        2.65326630e+02, 2.67336680e+02, 2.69346730e+02, 2.71356780e+02,\n",
       "        2.73366831e+02, 2.75376881e+02, 2.77386931e+02, 2.79396981e+02,\n",
       "        2.81407031e+02, 2.83417081e+02, 2.85427131e+02, 2.87437182e+02,\n",
       "        2.89447232e+02, 2.91457282e+02, 2.93467332e+02, 2.95477382e+02,\n",
       "        2.97487432e+02, 2.99497482e+02, 3.01507533e+02, 3.03517583e+02,\n",
       "        3.05527633e+02, 3.07537683e+02, 3.09547733e+02, 3.11557783e+02,\n",
       "        3.13567834e+02, 3.15577884e+02, 3.17587934e+02, 3.19597984e+02,\n",
       "        3.21608034e+02, 3.23618084e+02, 3.25628134e+02, 3.27638185e+02,\n",
       "        3.29648235e+02, 3.31658285e+02, 3.33668335e+02, 3.35678385e+02,\n",
       "        3.37688435e+02, 3.39698485e+02, 3.41708536e+02, 3.43718586e+02,\n",
       "        3.45728636e+02, 3.47738686e+02, 3.49748736e+02, 3.51758786e+02,\n",
       "        3.53768837e+02, 3.55778887e+02, 3.57788937e+02, 3.59798987e+02,\n",
       "        3.61809037e+02, 3.63819087e+02, 3.65829137e+02, 3.67839188e+02,\n",
       "        3.69849238e+02, 3.71859288e+02, 3.73869338e+02, 3.75879388e+02,\n",
       "        3.77889438e+02, 3.79899488e+02, 3.81909539e+02, 3.83919589e+02,\n",
       "        3.85929639e+02, 3.87939689e+02, 3.89949739e+02, 3.91959789e+02,\n",
       "        3.93969840e+02, 3.95979890e+02, 3.97989940e+02, 3.99999990e+02]),\n",
       " array([0.03475762, 0.03475762, 0.03475762, 0.03475762, 0.03475762,\n",
       "        0.03475762, 0.03475762, 0.03475762, 0.03475762, 0.03475762,\n",
       "        0.03475762, 0.03475762, 0.03475762, 0.03475762, 0.03475762,\n",
       "        0.03475762, 0.03475762, 0.03475762, 0.03475762, 0.03475762,\n",
       "        0.03475762, 0.03475762, 0.03475762, 0.03475762, 0.03475762,\n",
       "        0.03475762, 0.03475762, 0.03475762, 0.03475762, 0.03475762,\n",
       "        0.03475762, 0.03475762, 0.03475762, 0.03475762, 0.03475762,\n",
       "        0.03475762, 0.03475762, 0.03475762, 0.03475762, 0.03475762,\n",
       "        0.03475762, 0.03475762, 0.03475762, 0.03475762, 0.03475762,\n",
       "        0.03475762, 0.03475762, 0.03475762, 0.03475762, 0.03475762,\n",
       "        0.03475762, 0.03475762, 0.03475762, 0.03475762, 0.03475762,\n",
       "        0.03475762, 0.03475762, 0.03475762, 0.03475762, 0.03475762,\n",
       "        0.03475762, 0.03475762, 0.03475762, 0.03475762, 0.03475762,\n",
       "        0.03475762, 0.03475762, 0.03475762, 0.03475762, 0.03475762,\n",
       "        0.03475762, 0.03475762, 0.03475762, 0.03475762, 0.03475762,\n",
       "        0.03475762, 0.03475762, 0.03475762, 0.03475762, 0.03475762,\n",
       "        0.03475762, 0.03475762, 0.03475762, 0.03475762, 0.03475762,\n",
       "        0.03475762, 0.03475762, 0.03475762, 0.03475762, 0.03475762,\n",
       "        0.03475762, 0.03475762, 0.03475762, 0.03475762, 0.03475762,\n",
       "        0.03475762, 0.03475762, 0.03475762, 0.03475762, 0.03475762,\n",
       "        0.03475762, 0.03475762, 0.03475762, 0.03475762, 0.03475762,\n",
       "        0.03475762, 0.03475762, 0.03475762, 0.03475762, 0.03475762,\n",
       "        0.03475762, 0.03475762, 0.03475762, 0.03475762, 0.03475762,\n",
       "        0.03475762, 0.03475762, 0.03475762, 0.03475762, 0.03475762,\n",
       "        0.03475762, 0.03475762, 0.03475762, 0.03475762, 0.03475762,\n",
       "        0.03475762, 0.03475762, 0.03475762, 0.03475762, 0.03475762,\n",
       "        0.03475762, 0.03475762, 0.03475762, 0.03475762, 0.03475762,\n",
       "        0.03475762, 0.03475762, 0.03475762, 0.03475762, 0.03475762,\n",
       "        0.03475762, 0.03475762, 0.03475762, 0.03475762, 0.03475762,\n",
       "        0.03475762, 0.03475762, 0.03475762, 0.03475762, 0.03475762,\n",
       "        0.03475762, 0.03475762, 0.03475762, 0.03475762, 0.03475762,\n",
       "        0.03475762, 0.03475762, 0.03475762, 0.03475762, 0.03475762,\n",
       "        0.03475762, 0.03475762, 0.03475762, 0.03475762, 0.03475762,\n",
       "        0.03475762, 0.03475762, 0.03475762, 0.03475762, 0.03475762,\n",
       "        0.03475762, 0.03475762, 0.03475762, 0.03475762, 0.03475762,\n",
       "        0.03475762, 0.03475762, 0.03475762, 0.03475762, 0.03475762,\n",
       "        0.03475762, 0.03475762, 0.03475762, 0.03475762, 0.03475762,\n",
       "        0.03475762, 0.03475762, 0.03475762, 0.03475762, 0.03475762,\n",
       "        0.03475762, 0.03475762, 0.03475762, 0.03475762, 0.03475762,\n",
       "        0.03475762, 0.03475762, 0.03475762, 0.03475762, 0.03475762]))"
      ]
     },
     "execution_count": 5,
     "metadata": {},
     "output_type": "execute_result"
    }
   ],
   "source": [
    "concrete_beam.transv_steel_bars_solution_info."
   ]
  },
  {
   "cell_type": "code",
   "execution_count": 8,
   "metadata": {},
   "outputs": [],
   "source": [
    "x, momentum_positive, momentum_negative = concrete_beam.long_steel_bars_solution_info.getDecalagedMomentumDesignDiagram()\n"
   ]
  },
  {
   "cell_type": "code",
   "execution_count": 11,
   "metadata": {},
   "outputs": [
    {
     "data": {
      "text/plain": [
       "[<matplotlib.lines.Line2D at 0x1c1dfaf7f0>]"
      ]
     },
     "execution_count": 11,
     "metadata": {},
     "output_type": "execute_result"
    },
    {
     "data": {
      "image/png": "[encoded data removed]",
      "text/plain": [
       "<Figure size 432x288 with 1 Axes>"
      ]
     },
     "metadata": {},
     "output_type": "display_data"
    }
   ],
   "source": [
    "plt.plot(x, momentum_positive)\n",
    "plt.plot(x, momentum_negative)"
   ]
  },
  {
   "cell_type": "code",
   "execution_count": 6,
   "metadata": {},
   "outputs": [
    {
     "ename": "AttributeError",
     "evalue": "'LongSteelBars' object has no attribute 'positive_areas_info'",
     "output_type": "error",
     "traceback": [
      "\u001b[0;31m---------------------------------------------------------------------------\u001b[0m",
      "\u001b[0;31mAttributeError\u001b[0m                            Traceback (most recent call last)",
      "\u001b[0;32m<ipython-input-6-3a1d7f57859b>\u001b[0m in \u001b[0;36m<module>\u001b[0;34m()\u001b[0m\n\u001b[0;32m----> 1\u001b[0;31m \u001b[0mconcrete_beam\u001b[0m\u001b[0;34m.\u001b[0m\u001b[0mlong_steel_bars\u001b[0m\u001b[0;34m.\u001b[0m\u001b[0mpositive_areas_info\u001b[0m\u001b[0;34m\u001b[0m\u001b[0m\n\u001b[0m",
      "\u001b[0;31mAttributeError\u001b[0m: 'LongSteelBars' object has no attribute 'positive_areas_info'"
     ]
    }
   ],
   "source": [
    "concrete_beam.long_steel_bars.positive_areas_info"
   ]
  }
 ],
 "metadata": {
  "kernelspec": {
   "display_name": "Python 3",
   "language": "python",
   "name": "python3"
  },
  "language_info": {
   "codemirror_mode": {
    "name": "ipython",
    "version": 3
   },
   "file_extension": ".py",
   "mimetype": "text/x-python",
   "name": "python",
   "nbconvert_exporter": "python",
   "pygments_lexer": "ipython3",
   "version": "3.6.5"
  }
 },
 "nbformat": 4,
 "nbformat_minor": 2
}
