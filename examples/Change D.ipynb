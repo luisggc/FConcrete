{
 "cells": [
  {
   "cell_type": "code",
   "execution_count": 1,
   "metadata": {},
   "outputs": [],
   "source": [
    "import sys\n",
    "sys.path.insert(0, '../')\n",
    "import fconcrete as fc\n",
    "import numpy as np\n",
    "import matplotlib.pyplot as plt\n",
    "#plt.rcParams[\"figure.figsize\"] = (25,10)"
   ]
  },
  {
   "cell_type": "code",
   "execution_count": 2,
   "metadata": {},
   "outputs": [],
   "source": [
    "def concrete_beam_function(width, height, length):\n",
    "    \n",
    "    n1 = fc.Node.SimpleSupport(x=0, length=20)\n",
    "    n2 = fc.Node.SimpleSupport(x=length, length=20)\n",
    "\n",
    "    slab_area = 5*5\n",
    "    kn_per_m2 = 5\n",
    "    distributed_load = -slab_area*kn_per_m2/500\n",
    "    f1 = fc.Load.UniformDistributedLoad(-distributed_load, x_begin=0, x_end=length)\n",
    "    pp = fc.Load.UniformDistributedLoad(width*height*25/100000, x_begin=0, x_end=length)\n",
    "\n",
    "    beam = fc.ConcreteBeam(\n",
    "        loads = [f1, pp],\n",
    "        nodes = [n1, n2],\n",
    "        section = fc.Rectangle(width,height),\n",
    "        bar_steel_max_removal = 100,\n",
    "        transversal_bar_inclination_angle=90,\n",
    "        available_long_steel_bars = fc.AvailableLongConcreteSteelBar(diameters=[8], max_number=500),\n",
    "        available_transv_steel_bars = fc.AvailableTransvConcreteSteelBar(diameters=[6.3], space_is_multiple_of=[1]),\n",
    "        available_concrete = fc.AvailableConcrete(fck=30, aggressiveness=2),\n",
    "        solve_transv_steel = True,\n",
    "        solve_long_steel = True,\n",
    "        solve_ELS = True,\n",
    "        solve_cost = True,\n",
    "        verbose = False,\n",
    "    )\n",
    "    \n",
    "    return beam"
   ]
  },
  {
   "cell_type": "code",
   "execution_count": 3,
   "metadata": {},
   "outputs": [],
   "source": [
    "beam = concrete_beam_function(15, 30, 200)\n",
    "self = beam"
   ]
  },
  {
   "cell_type": "code",
   "execution_count": 4,
   "metadata": {},
   "outputs": [
    {
     "data": {
      "image/png": "[encoded data removed]",
      "text/plain": [
       "<Figure size 432x288 with 1 Axes>"
      ]
     },
     "metadata": {
      "needs_background": "light"
     },
     "output_type": "display_data"
    }
   ],
   "source": [
    "self.plotDisplacementDiagram()"
   ]
  },
  {
   "cell_type": "code",
   "execution_count": 32,
   "metadata": {},
   "outputs": [],
   "source": [
    "self = beam.copy()\n",
    "\n",
    "while True:\n",
    "    x_changes = np.concatenate((self.long_steel_bars.long_begins, self.long_steel_bars.long_ends))\n",
    "    x_changes = x_changes[np.isin(x_changes, self.beam_elements.nodes.x, invert=True)]\n",
    "    x_changes = np.unique(x_changes[(x_changes>=0) & (x_changes<=self.length)])\n",
    "\n",
    "    nodes_change = [ fc.Node.Crimp(x) for x in x_changes ]\n",
    "    new_nodes = fc.Nodes(np.concatenate((nodes_change, self.beam_elements.nodes)))\n",
    "    new_nodes = new_nodes[np.argsort(new_nodes.x)]\n",
    "\n",
    "    previous_ds, diff = 0, 0\n",
    "    beam_elements = []\n",
    "\n",
    "    for i in range(0, len(new_nodes)-1):\n",
    "        current_x = new_nodes[i].x\n",
    "        next_x = new_nodes[i+1].x\n",
    "        middle_x = (current_x+next_x)/2\n",
    "\n",
    "        transversal_position = self.long_steel_bars.getBarTransversalPosition(self, x=middle_x)\n",
    "        _, beam_element = self.getBeamElementInX(middle_x)\n",
    "        section, material = beam_element.section, beam_element.material\n",
    "        height = section.height\n",
    "        \n",
    "        _, y, _, area = transversal_position.T\n",
    "        \n",
    "        y_positive = y[y >= height/2]\n",
    "        y_negative = y[y < height/2]\n",
    "        \n",
    "        y_c_negative = (y[y >= (height/2)] @ area[y >= (height/2)])/sum(area[y >= (height/2)]) if sum(y >= (height/2)) else np.nan\n",
    "        y_c_positive = (y[y < (height/2)] @ area[y < (height/2)])/sum(area[y < (height/2)]) if sum(y < (height/2)) else np.nan\n",
    "        new_positive_steel_height, previous_positive_steel_height = (height - y_c_positive), section.positive_steel_height\n",
    "        new_negative_steel_height, previous_negative_steel_height = (y_c_negative), section.negative_steel_height\n",
    "        \n",
    "        previous_ds += 0 if np.isnan(new_positive_steel_height) else previous_positive_steel_height\n",
    "        previous_ds += 0 if np.isnan(new_negative_steel_height) else previous_negative_steel_height\n",
    "        diff += abs(0 if np.isnan(new_positive_steel_height) else previous_positive_steel_height-new_positive_steel_height)\n",
    "        diff += abs(0 if np.isnan(new_negative_steel_height) else previous_negative_steel_height-new_negative_steel_height)\n",
    "\n",
    "        new_section = fc.Rectangle(section.width(), section.height)\n",
    "        \n",
    "        new_section.positive_steel_height = new_positive_steel_height\n",
    "        new_section.negative_steel_height = new_negative_steel_height\n",
    "        new_section.maximum_steel_height = previous_negative_steel_height\n",
    "        new_section.minimum_steel_height = previous_negative_steel_height\n",
    "        \n",
    "\n",
    "        new_beam_element = fc.BeamElement([new_nodes[i], new_nodes[i+1]], new_section, material)\n",
    "        beam_elements = [*beam_elements, new_beam_element]\n",
    "    \n",
    "    break\n",
    "    relative_diff_of_d = diff/previous_ds\n",
    "    print(relative_diff_of_d)\n",
    "\n",
    "    if relative_diff_of_d > self.max_relative_diff_of_steel_height:\n",
    "        self.beam_elements = fc.BeamElements(beam_elements)\n",
    "        self.solve_long_steel()\n",
    "        self.solve_transv_steel()\n",
    "        self.solve_ELS()\n",
    "        self.solve_cost()\n",
    "    else:\n",
    "        break"
   ]
  },
  {
   "cell_type": "code",
   "execution_count": null,
   "metadata": {},
   "outputs": [],
   "source": [
    "6.570997475485015\n",
    "24.0\n",
    "25.369999999999997 24.0\n",
    "100.0\n",
    "24.0\n",
    "24.77 24.0\n",
    "193.429002524515\n",
    "24.0\n",
    "25.369999999999997 24.0"
   ]
  },
  {
   "cell_type": "code",
   "execution_count": 39,
   "metadata": {},
   "outputs": [
    {
     "name": "stdout",
     "output_type": "stream",
     "text": [
      "0.009596161535385813\n"
     ]
    }
   ],
   "source": []
  },
  {
   "cell_type": "code",
   "execution_count": 37,
   "metadata": {},
   "outputs": [],
   "source": []
  },
  {
   "cell_type": "code",
   "execution_count": 144,
   "metadata": {},
   "outputs": [
    {
     "data": {
      "image/png": "[encoded data removed]",
      "text/plain": [
       "<Figure size 432x288 with 1 Axes>"
      ]
     },
     "metadata": {
      "needs_background": "light"
     },
     "output_type": "display_data"
    }
   ],
   "source": [
    "self.long_steel_bars.plot()"
   ]
  },
  {
   "cell_type": "code",
   "execution_count": null,
   "metadata": {},
   "outputs": [],
   "source": [
    "fc.BeamElement()"
   ]
  },
  {
   "cell_type": "code",
   "execution_count": null,
   "metadata": {},
   "outputs": [],
   "source": [
    "beam_elements = fc.BeamElements([])"
   ]
  },
  {
   "cell_type": "code",
   "execution_count": 20,
   "metadata": {},
   "outputs": [
    {
     "data": {
      "text/plain": [
       "(24.77, 24.77)"
      ]
     },
     "execution_count": 20,
     "metadata": {},
     "output_type": "execute_result"
    }
   ],
   "source": [
    "previous_d, new_d"
   ]
  },
  {
   "cell_type": "code",
   "execution_count": 26,
   "metadata": {},
   "outputs": [
    {
     "data": {
      "text/plain": [
       "0.015788394504818528"
      ]
     },
     "execution_count": 26,
     "metadata": {},
     "output_type": "execute_result"
    }
   ],
   "source": [
    "diff/previous_ds"
   ]
  },
  {
   "cell_type": "code",
   "execution_count": 16,
   "metadata": {},
   "outputs": [
    {
     "data": {
      "text/plain": [
       "0.0"
      ]
     },
     "execution_count": 16,
     "metadata": {},
     "output_type": "execute_result"
    }
   ],
   "source": [
    "diff"
   ]
  },
  {
   "cell_type": "code",
   "execution_count": 15,
   "metadata": {},
   "outputs": [
    {
     "data": {
      "text/plain": [
       "49.54"
      ]
     },
     "execution_count": 15,
     "metadata": {},
     "output_type": "execute_result"
    }
   ],
   "source": [
    "previous_ds"
   ]
  },
  {
   "cell_type": "code",
   "execution_count": 11,
   "metadata": {},
   "outputs": [
    {
     "data": {
      "text/plain": [
       "24.0"
      ]
     },
     "execution_count": 11,
     "metadata": {},
     "output_type": "execute_result"
    }
   ],
   "source": [
    "beam_element.section.height*.8"
   ]
  },
  {
   "cell_type": "code",
   "execution_count": 27,
   "metadata": {},
   "outputs": [
    {
     "name": "stdout",
     "output_type": "stream",
     "text": [
      "24.77\n",
      "24.77\n",
      "24.77\n"
     ]
    }
   ],
   "source": [
    "for beam_element in self.beam_elements:\n",
    "    print(beam_element.section.d)"
   ]
  },
  {
   "cell_type": "code",
   "execution_count": 157,
   "metadata": {},
   "outputs": [
    {
     "data": {
      "text/plain": [
       "{'bar_elements': array([{'section': <fconcrete.Structural.Section.Rectangle object at 0x12722ffd0>, 'material': <fconcrete.StructuralConcrete.Concrete.Concrete object at 0x127248160>, 'x': [{'x': 0.0, 'condition_boundary': [0, 1], 'length': 20.0}\n",
       ", {'x': 13.14199495097003, 'condition_boundary': [1, 1], 'length': 0.0}\n",
       "], 'E': 26838.405317753142, 'I': 33750.0, 'n1': {'x': 0.0, 'condition_boundary': [0, 1], 'length': 20.0}\n",
       ", 'n2': {'x': 13.14199495097003, 'condition_boundary': [1, 1], 'length': 0.0}\n",
       ", 'length': 13.14199495097003, 'flexural_rigidity': 905796179.4741685},\n",
       "       {'section': <fconcrete.Structural.Section.Rectangle object at 0x12722ffd0>, 'material': <fconcrete.StructuralConcrete.Concrete.Concrete object at 0x127248160>, 'x': [{'x': 13.14199495097003, 'condition_boundary': [1, 1], 'length': 0.0}\n",
       ", {'x': 186.85800504902997, 'condition_boundary': [1, 1], 'length': 0.0}\n",
       "], 'E': 26838.405317753142, 'I': 33750.0, 'n1': {'x': 13.14199495097003, 'condition_boundary': [1, 1], 'length': 0.0}\n",
       ", 'n2': {'x': 186.85800504902997, 'condition_boundary': [1, 1], 'length': 0.0}\n",
       ", 'length': 173.71601009805994, 'flexural_rigidity': 905796179.4741685},\n",
       "       {'section': <fconcrete.Structural.Section.Rectangle object at 0x12722ffd0>, 'material': <fconcrete.StructuralConcrete.Concrete.Concrete object at 0x127248160>, 'x': [{'x': 186.85800504902997, 'condition_boundary': [1, 1], 'length': 0.0}\n",
       ", {'x': 200.0, 'condition_boundary': [0, 1], 'length': 20.0}\n",
       "], 'E': 26838.405317753142, 'I': 33750.0, 'n1': {'x': 186.85800504902997, 'condition_boundary': [1, 1], 'length': 0.0}\n",
       ", 'n2': {'x': 200.0, 'condition_boundary': [0, 1], 'length': 20.0}\n",
       ", 'length': 13.14199495097003, 'flexural_rigidity': 905796179.4741685}],\n",
       "      dtype=object), 'materials': array([<fconcrete.StructuralConcrete.Concrete.Concrete object at 0x127248160>,\n",
       "       <fconcrete.StructuralConcrete.Concrete.Concrete object at 0x127248160>,\n",
       "       <fconcrete.StructuralConcrete.Concrete.Concrete object at 0x127248160>],\n",
       "      dtype=object), 'sections': array([<fconcrete.Structural.Section.Rectangle object at 0x12722ffd0>,\n",
       "       <fconcrete.Structural.Section.Rectangle object at 0x12722ffd0>,\n",
       "       <fconcrete.Structural.Section.Rectangle object at 0x12722ffd0>],\n",
       "      dtype=object), 'x_start': array([  0.        ,  13.14199495, 186.85800505]), 'x_end': array([ 13.14199495, 186.85800505, 200.        ]), 'length': array([ 13.14199495, 173.7160101 ,  13.14199495]), 'flexural_rigidity': array([9.05796179e+08, 9.05796179e+08, 9.05796179e+08]), 'nodes': [{'x': 0.0, 'condition_boundary': [0, 1], 'length': 20.0}\n",
       " {'x': 13.14199495097003, 'condition_boundary': [1, 1], 'length': 0.0}\n",
       " {'x': 186.85800504902997, 'condition_boundary': [1, 1], 'length': 0.0}\n",
       " {'x': 200.0, 'condition_boundary': [0, 1], 'length': 20.0}\n",
       "], 'condition_boundary': array([False,  True,  True,  True,  True,  True, False,  True])}"
      ]
     },
     "execution_count": 157,
     "metadata": {},
     "output_type": "execute_result"
    }
   ],
   "source": [
    "self.beam_elements"
   ]
  },
  {
   "cell_type": "code",
   "execution_count": 121,
   "metadata": {},
   "outputs": [
    {
     "data": {
      "text/plain": [
       "201.5667128868678"
      ]
     },
     "execution_count": 121,
     "metadata": {},
     "output_type": "execute_result"
    }
   ],
   "source": [
    "middle_x"
   ]
  },
  {
   "cell_type": "code",
   "execution_count": null,
   "metadata": {},
   "outputs": [],
   "source": [
    "beam_elements = []\n",
    "nodes = self.beam_elements.nodes\n",
    "for beam_element, i in zip(self.beam_elements, range(0,len(self.beam_elements)):\n",
    "    beam_elements = \n",
    "    n1, n2 = self.beam_elements.nodes[i], self.beam_elements.nodes[i+1]\n",
    "                           \n",
    "    \n",
    "    section, material = beam_element.section, beam_element.material\n",
    "                           \n",
    "    transversal_position = positive_bars.getBarTransversalPosition(self, x=(current_x+next_x)/2)\n",
    "    _, y, _, area = transversal_position.T\n",
    "    y_c = (y @ area)/sum(area)\n",
    "    section.d = section.height - y_c\n",
    "                           \n",
    "    section.d =                  \n",
    "    beam_elements = [*beam_elements, fc.BeamElement([n1, n2], section, material)]"
   ]
  },
  {
   "cell_type": "code",
   "execution_count": 151,
   "metadata": {},
   "outputs": [
    {
     "data": {
      "image/png": "[encoded data removed]",
      "text/plain": [
       "<Figure size 432x288 with 1 Axes>"
      ]
     },
     "metadata": {
      "needs_background": "light"
     },
     "output_type": "display_data"
    }
   ],
   "source": [
    "self.long_steel_bars.plot()"
   ]
  },
  {
   "cell_type": "code",
   "execution_count": null,
   "metadata": {},
   "outputs": [],
   "source": [
    "transversal_position = positive_bars.getBarTransversalPosition(self, x=500)\n",
    "x, y, radius, area = transversal_position.T\n",
    "x_c = (x @ area)/sum(area) #should be always 0\n",
    "y_c = (y @ area)/sum(area)"
   ]
  }
 ],
 "metadata": {
  "kernelspec": {
   "display_name": "Python 3",
   "language": "python",
   "name": "python3"
  },
  "language_info": {
   "codemirror_mode": {
    "name": "ipython",
    "version": 3
   },
   "file_extension": ".py",
   "mimetype": "text/x-python",
   "name": "python",
   "nbconvert_exporter": "python",
   "pygments_lexer": "ipython3",
   "version": "3.6.6"
  }
 },
 "nbformat": 4,
 "nbformat_minor": 4
}
