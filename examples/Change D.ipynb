{
 "cells": [
  {
   "cell_type": "code",
   "execution_count": 1,
   "metadata": {},
   "outputs": [],
   "source": [
    "import sys\n",
    "sys.path.insert(0, '../')\n",
    "import fconcrete as fc\n",
    "import numpy as np\n",
    "import matplotlib.pyplot as plt\n",
    "plt.rcParams[\"figure.figsize\"] = (25,10)"
   ]
  },
  {
   "cell_type": "code",
   "execution_count": 2,
   "metadata": {},
   "outputs": [],
   "source": [
    "material = fc.Concrete(fck='30 MPa', aggressiveness=2)\n",
    "section = fc.Rectangle(25,60)\n",
    "\n",
    "#Design\n",
    "f1 = fc.Load.UniformDistributedLoad(-0.1622, x_begin=0, x_end=113)\n",
    "f2 = fc.Load.UniformDistributedLoad(-0.4994, x_begin=113, x_end=583)\n",
    "f3 = fc.Load.UniformDistributedLoad(-0.4196, x_begin=583, x_end=1188)\n",
    "\n",
    "n1 = fc.Node.SimpleSupport(x=0, length=20)\n",
    "n2 = fc.Node.SimpleSupport(x=113, length=20)\n",
    "n3 = fc.Node.SimpleSupport(x=583, length=20)\n",
    "n4 = fc.Node.SimpleSupport(x=1188, length=20)\n",
    "\n",
    "bar1 = fc.BeamElement([n1, n2], section, material)\n",
    "bar2 = fc.BeamElement([n2, n3], section, material)\n",
    "bar3 = fc.BeamElement([n3, n4], section, material)\n",
    "\n",
    "\n",
    "beam = fc.ConcreteBeam(\n",
    "    loads = [f1, f2, f3],\n",
    "    beam_elements = [bar1, bar2, bar3],\n",
    "    bar_steel_max_removal = 2,\n",
    ")"
   ]
  },
  {
   "cell_type": "code",
   "execution_count": 3,
   "metadata": {
    "scrolled": true
   },
   "outputs": [],
   "source": [
    "n1 = fc.Node.SimpleSupport(x=0)\n",
    "n2 = fc.Node.SimpleSupport(x=400)\n",
    "f1 = fc.Load.UniformDistributedLoad(-0.6, x_begin=0, x_end=400)\n",
    "\n",
    "beam = fc.ConcreteBeam(\n",
    "    loads = [f1],\n",
    "    nodes = [n1, n2],\n",
    "    section = fc.Rectangle(30,80),\n",
    "    division = 200,\n",
    "    solve_cost = False\n",
    ")"
   ]
  },
  {
   "cell_type": "code",
   "execution_count": 7,
   "metadata": {},
   "outputs": [
    {
     "ename": "IndexError",
     "evalue": "index 0 is out of bounds for axis 0 with size 0",
     "output_type": "error",
     "traceback": [
      "\u001b[0;31m---------------------------------------------------------------------------\u001b[0m",
      "\u001b[0;31mIndexError\u001b[0m                                Traceback (most recent call last)",
      "\u001b[0;32m<ipython-input-7-66e76a710ff4>\u001b[0m in \u001b[0;36m<module>\u001b[0;34m\u001b[0m\n\u001b[1;32m     21\u001b[0m \u001b[0;34m\u001b[0m\u001b[0m\n\u001b[1;32m     22\u001b[0m     \u001b[0mpositive_bars\u001b[0m\u001b[0;34m,\u001b[0m \u001b[0mnegative_bars\u001b[0m \u001b[0;34m=\u001b[0m \u001b[0mself\u001b[0m\u001b[0;34m.\u001b[0m\u001b[0mlong_steel_bars\u001b[0m\u001b[0;34m.\u001b[0m\u001b[0mgetPositiveandNegativeLongSteelBarsInX\u001b[0m\u001b[0;34m(\u001b[0m\u001b[0mx\u001b[0m\u001b[0;34m=\u001b[0m\u001b[0mmiddle_x\u001b[0m\u001b[0;34m)\u001b[0m\u001b[0;34m\u001b[0m\u001b[0m\n\u001b[0;32m---> 23\u001b[0;31m     \u001b[0mpositive_transversal_position\u001b[0m\u001b[0;34m,\u001b[0m \u001b[0mnegative_transversal_position\u001b[0m \u001b[0;34m=\u001b[0m \u001b[0mpositive_bars\u001b[0m\u001b[0;34m.\u001b[0m\u001b[0mgetBarTransversalPosition\u001b[0m\u001b[0;34m(\u001b[0m\u001b[0mself\u001b[0m\u001b[0;34m,\u001b[0m \u001b[0mx\u001b[0m\u001b[0;34m=\u001b[0m\u001b[0mmiddle_x\u001b[0m\u001b[0;34m)\u001b[0m\u001b[0;34m,\u001b[0m \u001b[0;34m[\u001b[0m\u001b[0;34m]\u001b[0m\u001b[0;34m\u001b[0m\u001b[0m\n\u001b[0m\u001b[1;32m     24\u001b[0m \u001b[0;34m\u001b[0m\u001b[0m\n\u001b[1;32m     25\u001b[0m     transversal_position = negative_transversal_position if len(positive_transversal_position)==0 else (\n",
      "\u001b[0;32m~/OneDrive - Vale S.A/Random/TCC/fconcrete/fconcrete/StructuralConcrete/LongSteelBar/LongSteelBar.py\u001b[0m in \u001b[0;36mgetBarTransversalPosition\u001b[0;34m(self, concrete_beam, x)\u001b[0m\n\u001b[1;32m    141\u001b[0m         \"\"\"\n\u001b[1;32m    142\u001b[0m         \u001b[0m_\u001b[0m\u001b[0;34m,\u001b[0m \u001b[0mbeam_element\u001b[0m \u001b[0;34m=\u001b[0m \u001b[0mconcrete_beam\u001b[0m\u001b[0;34m.\u001b[0m\u001b[0mgetBeamElementInX\u001b[0m\u001b[0;34m(\u001b[0m\u001b[0mx\u001b[0m\u001b[0;34m)\u001b[0m\u001b[0;34m\u001b[0m\u001b[0m\n\u001b[0;32m--> 143\u001b[0;31m         \u001b[0mtransversal_beam\u001b[0m \u001b[0;34m=\u001b[0m \u001b[0mconcrete_beam\u001b[0m\u001b[0;34m.\u001b[0m\u001b[0mtransv_steel_bars\u001b[0m\u001b[0;34m.\u001b[0m\u001b[0mgetTransversalBarAfterX\u001b[0m\u001b[0;34m(\u001b[0m\u001b[0mx\u001b[0m\u001b[0;34m)\u001b[0m\u001b[0;34m\u001b[0m\u001b[0m\n\u001b[0m\u001b[1;32m    144\u001b[0m         \u001b[0mmaterial\u001b[0m \u001b[0;34m=\u001b[0m \u001b[0mbeam_element\u001b[0m\u001b[0;34m.\u001b[0m\u001b[0mmaterial\u001b[0m\u001b[0;34m\u001b[0m\u001b[0m\n\u001b[1;32m    145\u001b[0m         \u001b[0msection\u001b[0m \u001b[0;34m=\u001b[0m \u001b[0mbeam_element\u001b[0m\u001b[0;34m.\u001b[0m\u001b[0msection\u001b[0m\u001b[0;34m\u001b[0m\u001b[0m\n",
      "\u001b[0;32m~/OneDrive - Vale S.A/Random/TCC/fconcrete/fconcrete/StructuralConcrete/TransvSteelBar/TransvSteelBar.py\u001b[0m in \u001b[0;36mgetTransversalBarAfterX\u001b[0;34m(self, x)\u001b[0m\n\u001b[1;32m     80\u001b[0m             \u001b[0mGet\u001b[0m \u001b[0mthe\u001b[0m \u001b[0mnext\u001b[0m \u001b[0mtransversal\u001b[0m \u001b[0mbar\u001b[0m \u001b[0;32min\u001b[0m \u001b[0mx\u001b[0m \u001b[0;32mor\u001b[0m \u001b[0mafter\u001b[0m\u001b[0;34m.\u001b[0m\u001b[0;34m\u001b[0m\u001b[0m\n\u001b[1;32m     81\u001b[0m         \"\"\"\n\u001b[0;32m---> 82\u001b[0;31m         \u001b[0;32mreturn\u001b[0m \u001b[0mself\u001b[0m\u001b[0;34m.\u001b[0m\u001b[0msteel_bars\u001b[0m\u001b[0;34m[\u001b[0m\u001b[0mself\u001b[0m\u001b[0;34m.\u001b[0m\u001b[0mx\u001b[0m \u001b[0;34m>=\u001b[0m \u001b[0mx\u001b[0m\u001b[0;34m]\u001b[0m\u001b[0;34m[\u001b[0m\u001b[0;36m0\u001b[0m\u001b[0;34m]\u001b[0m\u001b[0;34m\u001b[0m\u001b[0m\n\u001b[0m\u001b[1;32m     83\u001b[0m \u001b[0;34m\u001b[0m\u001b[0m\n\u001b[1;32m     84\u001b[0m     \u001b[0;32mdef\u001b[0m \u001b[0mchangeProperty\u001b[0m\u001b[0;34m(\u001b[0m\u001b[0mself\u001b[0m\u001b[0;34m,\u001b[0m \u001b[0mprop\u001b[0m\u001b[0;34m,\u001b[0m \u001b[0mfunction\u001b[0m\u001b[0;34m,\u001b[0m \u001b[0mconditional\u001b[0m\u001b[0;34m=\u001b[0m\u001b[0;32mlambda\u001b[0m \u001b[0mx\u001b[0m\u001b[0;34m:\u001b[0m\u001b[0;32mTrue\u001b[0m\u001b[0;34m)\u001b[0m\u001b[0;34m:\u001b[0m\u001b[0;34m\u001b[0m\u001b[0m\n",
      "\u001b[0;31mIndexError\u001b[0m: index 0 is out of bounds for axis 0 with size 0"
     ]
    }
   ],
   "source": [
    "concrete_beam = beam.copy()\n",
    "#self = beam.long_steel_bars\n",
    "self = concrete_beam.copy()\n",
    "\n",
    "#while True:\n",
    "x_changes = np.concatenate((self.long_steel_bars.long_begins, self.long_steel_bars.long_ends))\n",
    "x_changes = x_changes[np.isin(x_changes, self.beam_elements.nodes.x, invert=True)]\n",
    "x_changes = np.unique(x_changes[(x_changes>=0) & (x_changes<=self.length)])\n",
    "\n",
    "nodes_change = [ fc.Node.Crimp(x) for x in x_changes ]\n",
    "new_nodes = fc.Nodes(np.concatenate((nodes_change, self.beam_elements.nodes)))\n",
    "new_nodes = new_nodes[np.argsort(new_nodes.x)]\n",
    "\n",
    "previous_ds, diff = 0, 0\n",
    "beam_elements = []\n",
    "\n",
    "for i in range(0, len(new_nodes)-1):\n",
    "    current_x = new_nodes[i].x\n",
    "    next_x = new_nodes[i+1].x\n",
    "    middle_x = (current_x+next_x)/2\n",
    "\n",
    "    positive_bars, negative_bars = self.long_steel_bars.getPositiveandNegativeLongSteelBarsInX(x=middle_x)\n",
    "    positive_transversal_position, negative_transversal_position = positive_bars.getBarTransversalPosition(self, x=middle_x), negative_transversal_position.getBarTransversalPosition(self, x=middle_x)\n",
    "\n",
    "    transversal_position = negative_transversal_position if len(positive_transversal_position)==0 else (\n",
    "        positive_transversal_position if len(negative_transversal_position)==0 else np.concatenate((\n",
    "            positive_transversal_position,\n",
    "            negative_transversal_position\n",
    "        ))\n",
    "    )\n",
    "\n",
    "    _, beam_element = self.getBeamElementInX(middle_x)\n",
    "    section, material = beam_element.section, beam_element.material\n",
    "    height = section.height\n",
    "\n",
    "    _, y, _, area = transversal_position.T\n",
    "\n",
    "    y_c_negative = (y[y >= (height/2)] @ area[y >= (height/2)])/sum(area[y >= (height/2)]) if sum(y >= (height/2)) else 0\n",
    "    y_c_positive = height - (y[y < (height/2)] @ area[y < (height/2)])/sum(area[y < (height/2)]) if sum(y < (height/2)) else 0\n",
    "\n",
    "    new_positive_steel_height, previous_positive_steel_height = (y_c_positive), section.positive_steel_height\n",
    "    new_negative_steel_height, previous_negative_steel_height = (y_c_negative), section.negative_steel_height\n",
    "\n",
    "    previous_ds += 0 if new_positive_steel_height else previous_positive_steel_height\n",
    "    previous_ds += 0 if new_negative_steel_height else previous_negative_steel_height\n",
    "    diff += abs(previous_positive_steel_height-new_positive_steel_height if new_positive_steel_height else 0)\n",
    "    diff += abs(previous_negative_steel_height-new_negative_steel_height if new_negative_steel_height else 0)\n",
    "\n",
    "    new_section = fc.Rectangle(section.width(), section.height)\n",
    "    new_section = fc.ConcreteSection.setSteelHeight(new_section, new_positive_steel_height, new_negative_steel_height)\n",
    "\n",
    "    new_beam_element = fc.BeamElement([new_nodes[i], new_nodes[i+1]], new_section, material)\n",
    "    beam_elements = [*beam_elements, new_beam_element]\n",
    "    \n",
    "    "
   ]
  },
  {
   "cell_type": "code",
   "execution_count": 24,
   "metadata": {},
   "outputs": [
    {
     "data": {
      "text/plain": [
       "388.2976893686456"
      ]
     },
     "execution_count": 24,
     "metadata": {},
     "output_type": "execute_result"
    }
   ],
   "source": [
    "middle_x"
   ]
  },
  {
   "cell_type": "code",
   "execution_count": 27,
   "metadata": {},
   "outputs": [
    {
     "data": {
      "image/png": "[encoded data removed]",
      "text/plain": [
       "<Figure size 1800x720 with 1 Axes>"
      ]
     },
     "metadata": {
      "needs_background": "light"
     },
     "output_type": "display_data"
    }
   ],
   "source": [
    "concrete_beam.transv_steel_bars.plotLong()"
   ]
  },
  {
   "cell_type": "code",
   "execution_count": 25,
   "metadata": {},
   "outputs": [
    {
     "ename": "IndexError",
     "evalue": "index 0 is out of bounds for axis 0 with size 0",
     "output_type": "error",
     "traceback": [
      "\u001b[0;31m---------------------------------------------------------------------------\u001b[0m",
      "\u001b[0;31mIndexError\u001b[0m                                Traceback (most recent call last)",
      "\u001b[0;32m<ipython-input-25-f1f957bf0690>\u001b[0m in \u001b[0;36m<module>\u001b[0;34m\u001b[0m\n\u001b[0;32m----> 1\u001b[0;31m \u001b[0mpositive_bars\u001b[0m\u001b[0;34m.\u001b[0m\u001b[0mgetBarTransversalPosition\u001b[0m\u001b[0;34m(\u001b[0m\u001b[0mself\u001b[0m\u001b[0;34m,\u001b[0m \u001b[0mx\u001b[0m\u001b[0;34m=\u001b[0m\u001b[0mmiddle_x\u001b[0m\u001b[0;34m)\u001b[0m\u001b[0;34m\u001b[0m\u001b[0m\n\u001b[0m",
      "\u001b[0;32m~/OneDrive - Vale S.A/Random/TCC/fconcrete/fconcrete/StructuralConcrete/LongSteelBar/LongSteelBar.py\u001b[0m in \u001b[0;36mgetBarTransversalPosition\u001b[0;34m(self, concrete_beam, x)\u001b[0m\n\u001b[1;32m    141\u001b[0m         \"\"\"\n\u001b[1;32m    142\u001b[0m         \u001b[0m_\u001b[0m\u001b[0;34m,\u001b[0m \u001b[0mbeam_element\u001b[0m \u001b[0;34m=\u001b[0m \u001b[0mconcrete_beam\u001b[0m\u001b[0;34m.\u001b[0m\u001b[0mgetBeamElementInX\u001b[0m\u001b[0;34m(\u001b[0m\u001b[0mx\u001b[0m\u001b[0;34m)\u001b[0m\u001b[0;34m\u001b[0m\u001b[0m\n\u001b[0;32m--> 143\u001b[0;31m         \u001b[0mtransversal_beam\u001b[0m \u001b[0;34m=\u001b[0m \u001b[0mconcrete_beam\u001b[0m\u001b[0;34m.\u001b[0m\u001b[0mtransv_steel_bars\u001b[0m\u001b[0;34m.\u001b[0m\u001b[0mgetTransversalBarAfterX\u001b[0m\u001b[0;34m(\u001b[0m\u001b[0mx\u001b[0m\u001b[0;34m)\u001b[0m\u001b[0;34m\u001b[0m\u001b[0m\n\u001b[0m\u001b[1;32m    144\u001b[0m         \u001b[0mmaterial\u001b[0m \u001b[0;34m=\u001b[0m \u001b[0mbeam_element\u001b[0m\u001b[0;34m.\u001b[0m\u001b[0mmaterial\u001b[0m\u001b[0;34m\u001b[0m\u001b[0m\n\u001b[1;32m    145\u001b[0m         \u001b[0msection\u001b[0m \u001b[0;34m=\u001b[0m \u001b[0mbeam_element\u001b[0m\u001b[0;34m.\u001b[0m\u001b[0msection\u001b[0m\u001b[0;34m\u001b[0m\u001b[0m\n",
      "\u001b[0;32m~/OneDrive - Vale S.A/Random/TCC/fconcrete/fconcrete/StructuralConcrete/TransvSteelBar/TransvSteelBar.py\u001b[0m in \u001b[0;36mgetTransversalBarAfterX\u001b[0;34m(self, x)\u001b[0m\n\u001b[1;32m     80\u001b[0m             \u001b[0mGet\u001b[0m \u001b[0mthe\u001b[0m \u001b[0mnext\u001b[0m \u001b[0mtransversal\u001b[0m \u001b[0mbar\u001b[0m \u001b[0;32min\u001b[0m \u001b[0mx\u001b[0m \u001b[0;32mor\u001b[0m \u001b[0mafter\u001b[0m\u001b[0;34m.\u001b[0m\u001b[0;34m\u001b[0m\u001b[0m\n\u001b[1;32m     81\u001b[0m         \"\"\"\n\u001b[0;32m---> 82\u001b[0;31m         \u001b[0;32mreturn\u001b[0m \u001b[0mself\u001b[0m\u001b[0;34m.\u001b[0m\u001b[0msteel_bars\u001b[0m\u001b[0;34m[\u001b[0m\u001b[0mself\u001b[0m\u001b[0;34m.\u001b[0m\u001b[0mx\u001b[0m \u001b[0;34m>=\u001b[0m \u001b[0mx\u001b[0m\u001b[0;34m]\u001b[0m\u001b[0;34m[\u001b[0m\u001b[0;36m0\u001b[0m\u001b[0;34m]\u001b[0m\u001b[0;34m\u001b[0m\u001b[0m\n\u001b[0m\u001b[1;32m     83\u001b[0m \u001b[0;34m\u001b[0m\u001b[0m\n\u001b[1;32m     84\u001b[0m     \u001b[0;32mdef\u001b[0m \u001b[0mchangeProperty\u001b[0m\u001b[0;34m(\u001b[0m\u001b[0mself\u001b[0m\u001b[0;34m,\u001b[0m \u001b[0mprop\u001b[0m\u001b[0;34m,\u001b[0m \u001b[0mfunction\u001b[0m\u001b[0;34m,\u001b[0m \u001b[0mconditional\u001b[0m\u001b[0;34m=\u001b[0m\u001b[0;32mlambda\u001b[0m \u001b[0mx\u001b[0m\u001b[0;34m:\u001b[0m\u001b[0;32mTrue\u001b[0m\u001b[0;34m)\u001b[0m\u001b[0;34m:\u001b[0m\u001b[0;34m\u001b[0m\u001b[0m\n",
      "\u001b[0;31mIndexError\u001b[0m: index 0 is out of bounds for axis 0 with size 0"
     ]
    }
   ],
   "source": [
    "positive_bars.getBarTransversalPosition(self, x=)"
   ]
  },
  {
   "cell_type": "code",
   "execution_count": 23,
   "metadata": {},
   "outputs": [
    {
     "data": {
      "text/plain": [
       "{'x': 25.0, 'height': 72.0, 'width': 22.0, 'diameter': 0.8, 'space_after': 25.0, 'area': 1.0, 'as_per_cm': 0.04, 'anchor': 5, 'length': 225.0, 'cost': 4.629375}"
      ]
     },
     "execution_count": 23,
     "metadata": {},
     "output_type": "execute_result"
    }
   ],
   "source": [
    "concrete_beam.transv_steel_bars.getTransversalBarAfterX(10)"
   ]
  },
  {
   "cell_type": "code",
   "execution_count": 19,
   "metadata": {},
   "outputs": [],
   "source": [
    "positive_bars, negative_bars = self.long_steel_bars.getPositiveandNegativeLongSteelBarsInX(x=middle_x)"
   ]
  },
  {
   "cell_type": "code",
   "execution_count": 20,
   "metadata": {},
   "outputs": [
    {
     "data": {
      "text/plain": [
       "[{'long_begin': -56.67577994332125, 'long_end': 456.6757799433213, 'quantity': 6, 'diameter': 0.8, 'interspace': (-31.99999, 431.99999), 'quantity_accumulated': 6, 'area_accumulated': 3.0, 'area': 3.0, 'fyd': 43.47826086956522, 'length': 459.9798796984925, 'cost': 56.784516148778906}\n",
       " {'long_begin': -0.5551781342760229, 'long_end': 400.5551781342761, 'quantity': 2, 'diameter': 0.8, 'interspace': (-31.99999, 431.99999), 'quantity_accumulated': 8, 'area_accumulated': 4.0, 'area': 1.0, 'fyd': 43.47826086956522, 'length': 347.73867608040206, 'cost': 14.309446520708546}\n",
       "]"
      ]
     },
     "execution_count": 20,
     "metadata": {},
     "output_type": "execute_result"
    }
   ],
   "source": [
    "positive_bars"
   ]
  },
  {
   "cell_type": "code",
   "execution_count": 13,
   "metadata": {},
   "outputs": [
    {
     "ename": "IndexError",
     "evalue": "index 0 is out of bounds for axis 0 with size 0",
     "output_type": "error",
     "traceback": [
      "\u001b[0;31m---------------------------------------------------------------------------\u001b[0m",
      "\u001b[0;31mIndexError\u001b[0m                                Traceback (most recent call last)",
      "\u001b[0;32m<ipython-input-13-f1f957bf0690>\u001b[0m in \u001b[0;36m<module>\u001b[0;34m\u001b[0m\n\u001b[0;32m----> 1\u001b[0;31m \u001b[0mpositive_bars\u001b[0m\u001b[0;34m.\u001b[0m\u001b[0mgetBarTransversalPosition\u001b[0m\u001b[0;34m(\u001b[0m\u001b[0mself\u001b[0m\u001b[0;34m,\u001b[0m \u001b[0mx\u001b[0m\u001b[0;34m=\u001b[0m\u001b[0mmiddle_x\u001b[0m\u001b[0;34m)\u001b[0m\u001b[0;34m\u001b[0m\u001b[0m\n\u001b[0m",
      "\u001b[0;32m~/OneDrive - Vale S.A/Random/TCC/fconcrete/fconcrete/StructuralConcrete/LongSteelBar/LongSteelBar.py\u001b[0m in \u001b[0;36mgetBarTransversalPosition\u001b[0;34m(self, concrete_beam, x)\u001b[0m\n\u001b[1;32m    141\u001b[0m         \"\"\"\n\u001b[1;32m    142\u001b[0m         \u001b[0m_\u001b[0m\u001b[0;34m,\u001b[0m \u001b[0mbeam_element\u001b[0m \u001b[0;34m=\u001b[0m \u001b[0mconcrete_beam\u001b[0m\u001b[0;34m.\u001b[0m\u001b[0mgetBeamElementInX\u001b[0m\u001b[0;34m(\u001b[0m\u001b[0mx\u001b[0m\u001b[0;34m)\u001b[0m\u001b[0;34m\u001b[0m\u001b[0m\n\u001b[0;32m--> 143\u001b[0;31m         \u001b[0mtransversal_beam\u001b[0m \u001b[0;34m=\u001b[0m \u001b[0mconcrete_beam\u001b[0m\u001b[0;34m.\u001b[0m\u001b[0mtransv_steel_bars\u001b[0m\u001b[0;34m.\u001b[0m\u001b[0mgetTransversalBarAfterX\u001b[0m\u001b[0;34m(\u001b[0m\u001b[0mx\u001b[0m\u001b[0;34m)\u001b[0m\u001b[0;34m\u001b[0m\u001b[0m\n\u001b[0m\u001b[1;32m    144\u001b[0m         \u001b[0mmaterial\u001b[0m \u001b[0;34m=\u001b[0m \u001b[0mbeam_element\u001b[0m\u001b[0;34m.\u001b[0m\u001b[0mmaterial\u001b[0m\u001b[0;34m\u001b[0m\u001b[0m\n\u001b[1;32m    145\u001b[0m         \u001b[0msection\u001b[0m \u001b[0;34m=\u001b[0m \u001b[0mbeam_element\u001b[0m\u001b[0;34m.\u001b[0m\u001b[0msection\u001b[0m\u001b[0;34m\u001b[0m\u001b[0m\n",
      "\u001b[0;32m~/OneDrive - Vale S.A/Random/TCC/fconcrete/fconcrete/StructuralConcrete/TransvSteelBar/TransvSteelBar.py\u001b[0m in \u001b[0;36mgetTransversalBarAfterX\u001b[0;34m(self, x)\u001b[0m\n\u001b[1;32m     80\u001b[0m             \u001b[0mGet\u001b[0m \u001b[0mthe\u001b[0m \u001b[0mnext\u001b[0m \u001b[0mtransversal\u001b[0m \u001b[0mbar\u001b[0m \u001b[0;32min\u001b[0m \u001b[0mx\u001b[0m \u001b[0;32mor\u001b[0m \u001b[0mafter\u001b[0m\u001b[0;34m.\u001b[0m\u001b[0;34m\u001b[0m\u001b[0m\n\u001b[1;32m     81\u001b[0m         \"\"\"\n\u001b[0;32m---> 82\u001b[0;31m         \u001b[0;32mreturn\u001b[0m \u001b[0mself\u001b[0m\u001b[0;34m.\u001b[0m\u001b[0msteel_bars\u001b[0m\u001b[0;34m[\u001b[0m\u001b[0mself\u001b[0m\u001b[0;34m.\u001b[0m\u001b[0mx\u001b[0m \u001b[0;34m>=\u001b[0m \u001b[0mx\u001b[0m\u001b[0;34m]\u001b[0m\u001b[0;34m[\u001b[0m\u001b[0;36m0\u001b[0m\u001b[0;34m]\u001b[0m\u001b[0;34m\u001b[0m\u001b[0m\n\u001b[0m\u001b[1;32m     83\u001b[0m \u001b[0;34m\u001b[0m\u001b[0m\n\u001b[1;32m     84\u001b[0m     \u001b[0;32mdef\u001b[0m \u001b[0mchangeProperty\u001b[0m\u001b[0;34m(\u001b[0m\u001b[0mself\u001b[0m\u001b[0;34m,\u001b[0m \u001b[0mprop\u001b[0m\u001b[0;34m,\u001b[0m \u001b[0mfunction\u001b[0m\u001b[0;34m,\u001b[0m \u001b[0mconditional\u001b[0m\u001b[0;34m=\u001b[0m\u001b[0;32mlambda\u001b[0m \u001b[0mx\u001b[0m\u001b[0;34m:\u001b[0m\u001b[0;32mTrue\u001b[0m\u001b[0;34m)\u001b[0m\u001b[0;34m:\u001b[0m\u001b[0;34m\u001b[0m\u001b[0m\n",
      "\u001b[0;31mIndexError\u001b[0m: index 0 is out of bounds for axis 0 with size 0"
     ]
    }
   ],
   "source": [
    "positive_bars.getBarTransversalPosition(self, x=middle_x)"
   ]
  },
  {
   "cell_type": "code",
   "execution_count": 11,
   "metadata": {},
   "outputs": [
    {
     "data": {
      "image/png": "[encoded data removed]",
      "text/plain": [
       "<Figure size 1800x720 with 1 Axes>"
      ]
     },
     "metadata": {
      "needs_background": "light"
     },
     "output_type": "display_data"
    }
   ],
   "source": [
    "concrete_beam.long_steel_bars.plot()"
   ]
  },
  {
   "cell_type": "code",
   "execution_count": 10,
   "metadata": {},
   "outputs": [
    {
     "data": {
      "text/plain": [
       "388.2976893686456"
      ]
     },
     "execution_count": 10,
     "metadata": {},
     "output_type": "execute_result"
    }
   ],
   "source": [
    "middle_x"
   ]
  },
  {
   "cell_type": "code",
   "execution_count": null,
   "metadata": {},
   "outputs": [],
   "source": [
    "negative_bars.getBarTransversalPosition()"
   ]
  },
  {
   "cell_type": "code",
   "execution_count": 16,
   "metadata": {},
   "outputs": [
    {
     "data": {
      "text/plain": [
       "(array([[-9.8,  5.2,  0.4,  3. ],\n",
       "        [ 9.8,  5.2,  0.4,  3. ],\n",
       "        [-7. ,  5.2,  0.4,  3. ],\n",
       "        [ 7. ,  5.2,  0.4,  3. ],\n",
       "        [-4.2,  5.2,  0.4,  3. ],\n",
       "        [ 4.2,  5.2,  0.4,  3. ],\n",
       "        [-1.4,  5.2,  0.4,  3. ],\n",
       "        [ 1.4,  5.2,  0.4,  3. ],\n",
       "        [-9.8,  7.6,  0.4,  3. ],\n",
       "        [ 9.8,  7.6,  0.4,  3. ]]),\n",
       " [])"
      ]
     },
     "execution_count": 16,
     "metadata": {},
     "output_type": "execute_result"
    }
   ],
   "source": [
    " positive_bars, negative_bars = self.long_steel_bars.getPositiveandNegativeLongSteelBarsInX(x=middle_x)\n",
    "positive_transversal_position, negative_transversal_position = positive_bars.getBarTransversalPosition(self, x=middle_x), negative_bars.getBarTransversalPosition(self, x=middle_x)\n",
    "\n",
    "    tr"
   ]
  },
  {
   "cell_type": "code",
   "execution_count": 13,
   "metadata": {},
   "outputs": [
    {
     "name": "stdout",
     "output_type": "stream",
     "text": [
      "56.5 0 55.800000000000004 55.800000000000004 55.800000000000004\n",
      "116.56654341142095 0 55.800000000000004 55.800000000000004 55.800000000000004\n",
      "122.12903229831738 55.8 55.800000000000004 55.8 55.800000000000004\n",
      "153.8547070030221 55.8 55.800000000000004 55.8 55.800000000000004\n",
      "189.91281494096 55.8 55.800000000000004 55.8 55.800000000000004\n",
      "205.18191469626362 55.8 55.800000000000004 55.8 55.800000000000004\n",
      "214.44290577288854 55.8 55.800000000000004 55.8 55.800000000000004\n",
      "225.25371660371934 55.8 55.79999999999999 55.79999999999999 55.8\n",
      "237.74020287999565 55.8 55.79999999999999 55.79999999999999 55.8\n",
      "301.4594643843844 55.8 0 55.8 55.8\n",
      "365.1787258887731 55.8 55.79999999999999 55.79999999999999 55.8\n",
      "377.0706175804648 55.8 55.79999999999999 55.79999999999999 55.8\n",
      "387.7733201029873 55.8 53.96470588235294 53.96470588235294 55.8\n",
      "397.3086357341668 55.8 53.96470588235294 53.96470588235294 55.8\n",
      "412.0912492131941 55.8 53.96470588235294 53.96470588235294 55.8\n",
      "448.4696271811621 55.8 53.96470588235294 53.96470588235294 55.8\n",
      "480.74395099497593 55.8 53.96470588235294 53.96470588235294 55.8\n",
      "532.846975497488 0 53.96470588235294 53.96470588235294 53.96470588235294\n",
      "618.5972643692209 0 53.96470588235294 53.96470588235294 53.96470588235294\n",
      "655.6462354583194 55.8 53.96470588235294 53.96470588235294 55.8\n",
      "672.4492930690881 55.8 53.96470588235294 53.96470588235294 55.8\n",
      "688.5033468528718 55.8 53.96470588235294 53.96470588235294 55.8\n",
      "721.7183924540213 54.36 53.96470588235294 53.96470588235294 54.36\n",
      "755.1273170482815 54.36 53.96470588235294 53.96470588235294 54.36\n",
      "762.6408300312645 54.36 55.79999999999999 54.36 55.79999999999999\n",
      "770.5550586057213 54.36 55.79999999999999 54.36 55.79999999999999\n",
      "979.9261780415994 54.36 0 54.36 54.36\n"
     ]
    }
   ],
   "source": [
    "for beam_element in beam_elements:\n",
    "    print((beam_element.n1.x+beam_element.n2.x)/2,\n",
    "          beam_element.section.positive_steel_height,\n",
    "          beam_element.section.negative_steel_height,\n",
    "          beam_element.section.minimum_steel_height,\n",
    "          beam_element.section.maximum_steel_height)\n",
    "    "
   ]
  },
  {
   "cell_type": "code",
   "execution_count": 7,
   "metadata": {},
   "outputs": [
    {
     "data": {
      "text/plain": [
       "True"
      ]
     },
     "execution_count": 7,
     "metadata": {},
     "output_type": "execute_result"
    }
   ],
   "source": [
    "self.processing_time>0"
   ]
  },
  {
   "cell_type": "code",
   "execution_count": 94,
   "metadata": {},
   "outputs": [
    {
     "data": {
      "text/plain": [
       "(<Figure size 1800x720 with 1 Axes>,\n",
       " <matplotlib.axes._subplots.AxesSubplot at 0x11bede470>)"
      ]
     },
     "execution_count": 94,
     "metadata": {},
     "output_type": "execute_result"
    },
    {
     "data": {
      "image/png": "[encoded data removed]",
      "text/plain": [
       "<Figure size 1800x720 with 1 Axes>"
      ]
     },
     "metadata": {
      "needs_background": "light"
     },
     "output_type": "display_data"
    }
   ],
   "source": [
    "concrete_beam.plotTransversalInX(x=153.8547070030221)"
   ]
  },
  {
   "cell_type": "code",
   "execution_count": 9,
   "metadata": {},
   "outputs": [
    {
     "data": {
      "image/png": "[encoded data removed]",
      "text/plain": [
       "<Figure size 432x288 with 1 Axes>"
      ]
     },
     "metadata": {
      "needs_background": "light"
     },
     "output_type": "display_data"
    }
   ],
   "source": [
    "beam.plotMomentumDiagram()"
   ]
  },
  {
   "cell_type": "code",
   "execution_count": 23,
   "metadata": {},
   "outputs": [],
   "source": [
    "beam_elements = fc.BeamElements(beam_elements)\n",
    "#self.beam_elements = beam_elements\n",
    "#concrete_beam = self.copy()"
   ]
  },
  {
   "cell_type": "code",
   "execution_count": 18,
   "metadata": {},
   "outputs": [],
   "source": [
    "from math import radians, sin, tan\n"
   ]
  },
  {
   "cell_type": "code",
   "execution_count": 29,
   "metadata": {},
   "outputs": [
    {
     "data": {
      "text/plain": [
       "nan"
      ]
     },
     "execution_count": 29,
     "metadata": {},
     "output_type": "execute_result"
    }
   ],
   "source": [
    "getDecalagedLength(beam_element)"
   ]
  },
  {
   "cell_type": "code",
   "execution_count": 30,
   "metadata": {},
   "outputs": [],
   "source": [
    "bw = beam_element.section.bw\n",
    "d = beam_element.section.maximum_steel_height\n",
    "_, s = concrete_beam.getShearDiagram(x_begin=beam_element.n1.x, x_end=beam_element.n2.x)\n",
    "alpha = radians(concrete_beam.available_transv_steel_bars.inclination_angle)"
   ]
  },
  {
   "cell_type": "code",
   "execution_count": 43,
   "metadata": {},
   "outputs": [],
   "source": [
    "p, n = 2, 4"
   ]
  },
  {
   "cell_type": "code",
   "execution_count": 44,
   "metadata": {},
   "outputs": [],
   "source": [
    "minimum, maximum = min(p, n), max(p, n)"
   ]
  },
  {
   "cell_type": "code",
   "execution_count": 48,
   "metadata": {},
   "outputs": [
    {
     "ename": "AttributeError",
     "evalue": "'BeamElement' object has no attribute 'positive_steel_height'",
     "output_type": "error",
     "traceback": [
      "\u001b[0;31m---------------------------------------------------------------------------\u001b[0m",
      "\u001b[0;31mAttributeError\u001b[0m                            Traceback (most recent call last)",
      "\u001b[0;32m<ipython-input-48-8ed4987bc25e>\u001b[0m in \u001b[0;36m<module>\u001b[0;34m\u001b[0m\n\u001b[0;32m----> 1\u001b[0;31m \u001b[0mbeam_element\u001b[0m\u001b[0;34m.\u001b[0m\u001b[0mpositive_steel_height\u001b[0m\u001b[0;34m\u001b[0m\u001b[0m\n\u001b[0m",
      "\u001b[0;31mAttributeError\u001b[0m: 'BeamElement' object has no attribute 'positive_steel_height'"
     ]
    }
   ],
   "source": [
    "beam_element.positive_steel_height"
   ]
  },
  {
   "cell_type": "code",
   "execution_count": 26,
   "metadata": {},
   "outputs": [],
   "source": [
    "def getDecalagedLength(beam_element):\n",
    "    \"\"\"\n",
    "        Returns decalaged length of a beam element.\n",
    "\n",
    "            Call signatures:\n",
    "\n",
    "                concrete_beam.long_steel_bars_solution_info.getDecalagedLength(beam_element)\n",
    "    \"\"\" \n",
    "    bw = beam_element.section.bw\n",
    "    d = beam_element.section.maximum_steel_height\n",
    "    _, s = concrete_beam.getShearDiagram(x_begin=beam_element.n1.x, x_end=beam_element.n2.x)\n",
    "    alpha = radians(concrete_beam.available_transv_steel_bars.inclination_angle)\n",
    "    if alpha==radians(90):\n",
    "        return 0.5*d\n",
    "    vsd_max = max(abs(s))\n",
    "    fctd = beam_element.material.fctd\n",
    "    v_c0 = 0.6*fctd*bw*d\n",
    "    al_formula = min(d*((vsd_max*(1+tan(alpha)**(-1)))/(2*(vsd_max-v_c0))-tan(alpha)**(-1)), d)\n",
    "    if vsd_max <= v_c0:\n",
    "        al = d\n",
    "    elif alpha==radians(45):\n",
    "        al = max(al_formula, 0.2*d)\n",
    "    return al"
   ]
  },
  {
   "cell_type": "code",
   "execution_count": 27,
   "metadata": {},
   "outputs": [
    {
     "ename": "NameError",
     "evalue": "name 'concrete_beam' is not defined",
     "output_type": "error",
     "traceback": [
      "\u001b[0;31m---------------------------------------------------------------------------\u001b[0m",
      "\u001b[0;31mNameError\u001b[0m                                 Traceback (most recent call last)",
      "\u001b[0;32m<ipython-input-27-1c8082fc1a09>\u001b[0m in \u001b[0;36m<module>\u001b[0;34m\u001b[0m\n\u001b[0;32m----> 1\u001b[0;31m \u001b[0mx\u001b[0m\u001b[0;34m,\u001b[0m \u001b[0mmomentum_diagram\u001b[0m \u001b[0;34m=\u001b[0m \u001b[0mconcrete_beam\u001b[0m\u001b[0;34m.\u001b[0m\u001b[0mgetMomentumDiagram\u001b[0m\u001b[0;34m(\u001b[0m\u001b[0mdivision\u001b[0m\u001b[0;34m=\u001b[0m\u001b[0mconcrete_beam\u001b[0m\u001b[0;34m.\u001b[0m\u001b[0mdivision\u001b[0m\u001b[0;34m)\u001b[0m\u001b[0;34m\u001b[0m\u001b[0m\n\u001b[0m",
      "\u001b[0;31mNameError\u001b[0m: name 'concrete_beam' is not defined"
     ]
    }
   ],
   "source": [
    "x, momentum_diagram = concrete_beam.getMomentumDiagram(division=concrete_beam.division)"
   ]
  },
  {
   "cell_type": "code",
   "execution_count": 28,
   "metadata": {},
   "outputs": [
    {
     "ename": "NameError",
     "evalue": "name 'concrete_beam' is not defined",
     "output_type": "error",
     "traceback": [
      "\u001b[0;31m---------------------------------------------------------------------------\u001b[0m",
      "\u001b[0;31mNameError\u001b[0m                                 Traceback (most recent call last)",
      "\u001b[0;32m<ipython-input-28-ce0e66549586>\u001b[0m in \u001b[0;36m<module>\u001b[0;34m\u001b[0m\n\u001b[1;32m      2\u001b[0m \u001b[0mdecalaged_x_right\u001b[0m \u001b[0;34m=\u001b[0m \u001b[0mnp\u001b[0m\u001b[0;34m.\u001b[0m\u001b[0marray\u001b[0m\u001b[0;34m(\u001b[0m\u001b[0;34m[\u001b[0m\u001b[0;34m]\u001b[0m\u001b[0;34m)\u001b[0m\u001b[0;34m\u001b[0m\u001b[0m\n\u001b[1;32m      3\u001b[0m \u001b[0;34m\u001b[0m\u001b[0m\n\u001b[0;32m----> 4\u001b[0;31m \u001b[0;32mfor\u001b[0m \u001b[0mbeam_element\u001b[0m \u001b[0;32min\u001b[0m \u001b[0mconcrete_beam\u001b[0m\u001b[0;34m.\u001b[0m\u001b[0mbeam_elements\u001b[0m\u001b[0;34m:\u001b[0m\u001b[0;34m\u001b[0m\u001b[0m\n\u001b[0m\u001b[1;32m      5\u001b[0m     \u001b[0ma_l\u001b[0m \u001b[0;34m=\u001b[0m \u001b[0mgetDecalagedLength\u001b[0m\u001b[0;34m(\u001b[0m\u001b[0mbeam_element\u001b[0m\u001b[0;34m)\u001b[0m\u001b[0;34m\u001b[0m\u001b[0m\n\u001b[1;32m      6\u001b[0m     \u001b[0mposition_in_beam_element\u001b[0m \u001b[0;34m=\u001b[0m \u001b[0mx\u001b[0m\u001b[0;34m[\u001b[0m\u001b[0;34m(\u001b[0m\u001b[0mx\u001b[0m\u001b[0;34m>=\u001b[0m\u001b[0mbeam_element\u001b[0m\u001b[0;34m.\u001b[0m\u001b[0mn1\u001b[0m\u001b[0;34m.\u001b[0m\u001b[0mx\u001b[0m\u001b[0;34m)\u001b[0m \u001b[0;34m&\u001b[0m \u001b[0;34m(\u001b[0m\u001b[0mx\u001b[0m\u001b[0;34m<=\u001b[0m\u001b[0mbeam_element\u001b[0m\u001b[0;34m.\u001b[0m\u001b[0mn2\u001b[0m\u001b[0;34m.\u001b[0m\u001b[0mx\u001b[0m\u001b[0;34m)\u001b[0m\u001b[0;34m]\u001b[0m\u001b[0;34m\u001b[0m\u001b[0m\n",
      "\u001b[0;31mNameError\u001b[0m: name 'concrete_beam' is not defined"
     ]
    }
   ],
   "source": [
    "decalaged_x_left = np.array([])\n",
    "decalaged_x_right = np.array([])\n",
    "\n",
    "for beam_element in concrete_beam.beam_elements:\n",
    "    a_l = getDecalagedLength(beam_element)\n",
    "    position_in_beam_element = x[(x>=beam_element.n1.x) & (x<=beam_element.n2.x)]\n",
    "    decalaged_x_left_temp = position_in_beam_element - a_l\n",
    "    decalaged_x_right_temp = position_in_beam_element + a_l\n",
    "    decalaged_x_left = np.concatenate((decalaged_x_left, decalaged_x_left_temp))\n",
    "    decalaged_x_right = np.concatenate((decalaged_x_right, decalaged_x_right_temp))\n",
    "\n",
    "join_decalaged_x = np.concatenate((decalaged_x_left, x, decalaged_x_right))\n",
    "join_decalaged_x_order = join_decalaged_x.argsort()\n",
    "x_decalaged = join_decalaged_x[join_decalaged_x_order]"
   ]
  },
  {
   "cell_type": "code",
   "execution_count": 27,
   "metadata": {},
   "outputs": [
    {
     "data": {
      "text/plain": [
       "nan"
      ]
     },
     "execution_count": 27,
     "metadata": {},
     "output_type": "execute_result"
    }
   ],
   "source": [
    "a_l"
   ]
  },
  {
   "cell_type": "code",
   "execution_count": 25,
   "metadata": {},
   "outputs": [
    {
     "ename": "ValueError",
     "evalue": "x and y must have same first dimension, but have shapes (3000,) and (1000,)",
     "output_type": "error",
     "traceback": [
      "\u001b[0;31m---------------------------------------------------------------------------\u001b[0m",
      "\u001b[0;31mValueError\u001b[0m                                Traceback (most recent call last)",
      "\u001b[0;32m<ipython-input-25-408f194bc208>\u001b[0m in \u001b[0;36m<module>\u001b[0;34m\u001b[0m\n\u001b[0;32m----> 1\u001b[0;31m \u001b[0mplt\u001b[0m\u001b[0;34m.\u001b[0m\u001b[0mplot\u001b[0m\u001b[0;34m(\u001b[0m\u001b[0mx_decalaged\u001b[0m\u001b[0;34m,\u001b[0m \u001b[0mdecalaged_x_left\u001b[0m\u001b[0;34m)\u001b[0m\u001b[0;34m\u001b[0m\u001b[0m\n\u001b[0m",
      "\u001b[0;32m~/OneDrive - Vale S.A/Random/TCC/fconcrete/ENV/lib/python3.6/site-packages/matplotlib/pyplot.py\u001b[0m in \u001b[0;36mplot\u001b[0;34m(scalex, scaley, data, *args, **kwargs)\u001b[0m\n\u001b[1;32m   2794\u001b[0m     return gca().plot(\n\u001b[1;32m   2795\u001b[0m         *args, scalex=scalex, scaley=scaley, **({\"data\": data} if data\n\u001b[0;32m-> 2796\u001b[0;31m         is not None else {}), **kwargs)\n\u001b[0m\u001b[1;32m   2797\u001b[0m \u001b[0;34m\u001b[0m\u001b[0m\n\u001b[1;32m   2798\u001b[0m \u001b[0;34m\u001b[0m\u001b[0m\n",
      "\u001b[0;32m~/OneDrive - Vale S.A/Random/TCC/fconcrete/ENV/lib/python3.6/site-packages/matplotlib/axes/_axes.py\u001b[0m in \u001b[0;36mplot\u001b[0;34m(self, scalex, scaley, data, *args, **kwargs)\u001b[0m\n\u001b[1;32m   1663\u001b[0m         \"\"\"\n\u001b[1;32m   1664\u001b[0m         \u001b[0mkwargs\u001b[0m \u001b[0;34m=\u001b[0m \u001b[0mcbook\u001b[0m\u001b[0;34m.\u001b[0m\u001b[0mnormalize_kwargs\u001b[0m\u001b[0;34m(\u001b[0m\u001b[0mkwargs\u001b[0m\u001b[0;34m,\u001b[0m \u001b[0mmlines\u001b[0m\u001b[0;34m.\u001b[0m\u001b[0mLine2D\u001b[0m\u001b[0;34m.\u001b[0m\u001b[0m_alias_map\u001b[0m\u001b[0;34m)\u001b[0m\u001b[0;34m\u001b[0m\u001b[0m\n\u001b[0;32m-> 1665\u001b[0;31m         \u001b[0mlines\u001b[0m \u001b[0;34m=\u001b[0m \u001b[0;34m[\u001b[0m\u001b[0;34m*\u001b[0m\u001b[0mself\u001b[0m\u001b[0;34m.\u001b[0m\u001b[0m_get_lines\u001b[0m\u001b[0;34m(\u001b[0m\u001b[0;34m*\u001b[0m\u001b[0margs\u001b[0m\u001b[0;34m,\u001b[0m \u001b[0mdata\u001b[0m\u001b[0;34m=\u001b[0m\u001b[0mdata\u001b[0m\u001b[0;34m,\u001b[0m \u001b[0;34m**\u001b[0m\u001b[0mkwargs\u001b[0m\u001b[0;34m)\u001b[0m\u001b[0;34m]\u001b[0m\u001b[0;34m\u001b[0m\u001b[0m\n\u001b[0m\u001b[1;32m   1666\u001b[0m         \u001b[0;32mfor\u001b[0m \u001b[0mline\u001b[0m \u001b[0;32min\u001b[0m \u001b[0mlines\u001b[0m\u001b[0;34m:\u001b[0m\u001b[0;34m\u001b[0m\u001b[0m\n\u001b[1;32m   1667\u001b[0m             \u001b[0mself\u001b[0m\u001b[0;34m.\u001b[0m\u001b[0madd_line\u001b[0m\u001b[0;34m(\u001b[0m\u001b[0mline\u001b[0m\u001b[0;34m)\u001b[0m\u001b[0;34m\u001b[0m\u001b[0m\n",
      "\u001b[0;32m~/OneDrive - Vale S.A/Random/TCC/fconcrete/ENV/lib/python3.6/site-packages/matplotlib/axes/_base.py\u001b[0m in \u001b[0;36m__call__\u001b[0;34m(self, *args, **kwargs)\u001b[0m\n\u001b[1;32m    223\u001b[0m                 \u001b[0mthis\u001b[0m \u001b[0;34m+=\u001b[0m \u001b[0margs\u001b[0m\u001b[0;34m[\u001b[0m\u001b[0;36m0\u001b[0m\u001b[0;34m]\u001b[0m\u001b[0;34m,\u001b[0m\u001b[0;34m\u001b[0m\u001b[0m\n\u001b[1;32m    224\u001b[0m                 \u001b[0margs\u001b[0m \u001b[0;34m=\u001b[0m \u001b[0margs\u001b[0m\u001b[0;34m[\u001b[0m\u001b[0;36m1\u001b[0m\u001b[0;34m:\u001b[0m\u001b[0;34m]\u001b[0m\u001b[0;34m\u001b[0m\u001b[0m\n\u001b[0;32m--> 225\u001b[0;31m             \u001b[0;32myield\u001b[0m \u001b[0;32mfrom\u001b[0m \u001b[0mself\u001b[0m\u001b[0;34m.\u001b[0m\u001b[0m_plot_args\u001b[0m\u001b[0;34m(\u001b[0m\u001b[0mthis\u001b[0m\u001b[0;34m,\u001b[0m \u001b[0mkwargs\u001b[0m\u001b[0;34m)\u001b[0m\u001b[0;34m\u001b[0m\u001b[0m\n\u001b[0m\u001b[1;32m    226\u001b[0m \u001b[0;34m\u001b[0m\u001b[0m\n\u001b[1;32m    227\u001b[0m     \u001b[0;32mdef\u001b[0m \u001b[0mget_next_color\u001b[0m\u001b[0;34m(\u001b[0m\u001b[0mself\u001b[0m\u001b[0;34m)\u001b[0m\u001b[0;34m:\u001b[0m\u001b[0;34m\u001b[0m\u001b[0m\n",
      "\u001b[0;32m~/OneDrive - Vale S.A/Random/TCC/fconcrete/ENV/lib/python3.6/site-packages/matplotlib/axes/_base.py\u001b[0m in \u001b[0;36m_plot_args\u001b[0;34m(self, tup, kwargs)\u001b[0m\n\u001b[1;32m    389\u001b[0m             \u001b[0mx\u001b[0m\u001b[0;34m,\u001b[0m \u001b[0my\u001b[0m \u001b[0;34m=\u001b[0m \u001b[0mindex_of\u001b[0m\u001b[0;34m(\u001b[0m\u001b[0mtup\u001b[0m\u001b[0;34m[\u001b[0m\u001b[0;34m-\u001b[0m\u001b[0;36m1\u001b[0m\u001b[0;34m]\u001b[0m\u001b[0;34m)\u001b[0m\u001b[0;34m\u001b[0m\u001b[0m\n\u001b[1;32m    390\u001b[0m \u001b[0;34m\u001b[0m\u001b[0m\n\u001b[0;32m--> 391\u001b[0;31m         \u001b[0mx\u001b[0m\u001b[0;34m,\u001b[0m \u001b[0my\u001b[0m \u001b[0;34m=\u001b[0m \u001b[0mself\u001b[0m\u001b[0;34m.\u001b[0m\u001b[0m_xy_from_xy\u001b[0m\u001b[0;34m(\u001b[0m\u001b[0mx\u001b[0m\u001b[0;34m,\u001b[0m \u001b[0my\u001b[0m\u001b[0;34m)\u001b[0m\u001b[0;34m\u001b[0m\u001b[0m\n\u001b[0m\u001b[1;32m    392\u001b[0m \u001b[0;34m\u001b[0m\u001b[0m\n\u001b[1;32m    393\u001b[0m         \u001b[0;32mif\u001b[0m \u001b[0mself\u001b[0m\u001b[0;34m.\u001b[0m\u001b[0mcommand\u001b[0m \u001b[0;34m==\u001b[0m \u001b[0;34m'plot'\u001b[0m\u001b[0;34m:\u001b[0m\u001b[0;34m\u001b[0m\u001b[0m\n",
      "\u001b[0;32m~/OneDrive - Vale S.A/Random/TCC/fconcrete/ENV/lib/python3.6/site-packages/matplotlib/axes/_base.py\u001b[0m in \u001b[0;36m_xy_from_xy\u001b[0;34m(self, x, y)\u001b[0m\n\u001b[1;32m    268\u001b[0m         \u001b[0;32mif\u001b[0m \u001b[0mx\u001b[0m\u001b[0;34m.\u001b[0m\u001b[0mshape\u001b[0m\u001b[0;34m[\u001b[0m\u001b[0;36m0\u001b[0m\u001b[0;34m]\u001b[0m \u001b[0;34m!=\u001b[0m \u001b[0my\u001b[0m\u001b[0;34m.\u001b[0m\u001b[0mshape\u001b[0m\u001b[0;34m[\u001b[0m\u001b[0;36m0\u001b[0m\u001b[0;34m]\u001b[0m\u001b[0;34m:\u001b[0m\u001b[0;34m\u001b[0m\u001b[0m\n\u001b[1;32m    269\u001b[0m             raise ValueError(\"x and y must have same first dimension, but \"\n\u001b[0;32m--> 270\u001b[0;31m                              \"have shapes {} and {}\".format(x.shape, y.shape))\n\u001b[0m\u001b[1;32m    271\u001b[0m         \u001b[0;32mif\u001b[0m \u001b[0mx\u001b[0m\u001b[0;34m.\u001b[0m\u001b[0mndim\u001b[0m \u001b[0;34m>\u001b[0m \u001b[0;36m2\u001b[0m \u001b[0;32mor\u001b[0m \u001b[0my\u001b[0m\u001b[0;34m.\u001b[0m\u001b[0mndim\u001b[0m \u001b[0;34m>\u001b[0m \u001b[0;36m2\u001b[0m\u001b[0;34m:\u001b[0m\u001b[0;34m\u001b[0m\u001b[0m\n\u001b[1;32m    272\u001b[0m             raise ValueError(\"x and y can be no greater than 2-D, but have \"\n",
      "\u001b[0;31mValueError\u001b[0m: x and y must have same first dimension, but have shapes (3000,) and (1000,)"
     ]
    },
    {
     "data": {
      "image/png": "[encoded data removed]",
      "text/plain": [
       "<Figure size 432x288 with 1 Axes>"
      ]
     },
     "metadata": {
      "needs_background": "light"
     },
     "output_type": "display_data"
    }
   ],
   "source": [
    "plt.plot(x_decalaged, decalaged_x_left)"
   ]
  },
  {
   "cell_type": "code",
   "execution_count": 5,
   "metadata": {},
   "outputs": [],
   "source": [
    "self.beam_elements = beam_elements"
   ]
  },
  {
   "cell_type": "code",
   "execution_count": 6,
   "metadata": {},
   "outputs": [
    {
     "name": "stdout",
     "output_type": "stream",
     "text": [
      "1187.99999\n",
      "nan\n"
     ]
    },
    {
     "name": "stderr",
     "output_type": "stream",
     "text": [
      "../fconcrete/StructuralConcrete/LongSteelBar/LongSteelBarSolve.py:103: RuntimeWarning: invalid value encountered in less\n",
      "  momentum_positive = np.where(momentum_positive<0, np.nan, momentum_positive)\n",
      "../fconcrete/StructuralConcrete/LongSteelBar/LongSteelBarSolve.py:106: RuntimeWarning: invalid value encountered in greater\n",
      "  momentum_negative = np.where(momentum_negative>0, np.nan, momentum_negative)\n",
      "../fconcrete/Structural/Beam.py:196: RuntimeWarning: invalid value encountered in less_equal\n",
      "  np.array([node.x for node in self.beam_elements.nodes]) <= x)[0][-1]\n"
     ]
    },
    {
     "ename": "IndexError",
     "evalue": "index -1 is out of bounds for axis 0 with size 0",
     "output_type": "error",
     "traceback": [
      "\u001b[0;31m---------------------------------------------------------------------------\u001b[0m",
      "\u001b[0;31mIndexError\u001b[0m                                Traceback (most recent call last)",
      "\u001b[0;32m<ipython-input-6-168e7f7df508>\u001b[0m in \u001b[0;36m<module>\u001b[0;34m\u001b[0m\n\u001b[0;32m----> 1\u001b[0;31m \u001b[0mself\u001b[0m\u001b[0;34m.\u001b[0m\u001b[0msolve_long_steel\u001b[0m\u001b[0;34m(\u001b[0m\u001b[0;34m)\u001b[0m\u001b[0;34m\u001b[0m\u001b[0m\n\u001b[0m",
      "\u001b[0;32m~/OneDrive - Vale S.A/Random/TCC/fconcrete/fconcrete/StructuralConcrete/ConcreteBeam.py\u001b[0m in \u001b[0;36msolve_long_steel\u001b[0;34m(self)\u001b[0m\n\u001b[1;32m    496\u001b[0m             \u001b[0mStarts\u001b[0m \u001b[0mthe\u001b[0m \u001b[0mprocess\u001b[0m \u001b[0mof\u001b[0m \u001b[0msolution\u001b[0m \u001b[0;32mfor\u001b[0m \u001b[0mthe\u001b[0m \u001b[0mused\u001b[0m \u001b[0mlongitudinal\u001b[0m \u001b[0msteel\u001b[0m\u001b[0;34m.\u001b[0m\u001b[0;34m\u001b[0m\u001b[0m\n\u001b[1;32m    497\u001b[0m         \"\"\"\n\u001b[0;32m--> 498\u001b[0;31m         \u001b[0mself\u001b[0m\u001b[0;34m.\u001b[0m\u001b[0mlong_steel_bars_solution_info\u001b[0m \u001b[0;34m=\u001b[0m \u001b[0mfc\u001b[0m\u001b[0;34m.\u001b[0m\u001b[0mLongSteelBarSolve\u001b[0m\u001b[0;34m(\u001b[0m\u001b[0mconcrete_beam\u001b[0m\u001b[0;34m=\u001b[0m\u001b[0mself\u001b[0m\u001b[0;34m)\u001b[0m\u001b[0;34m\u001b[0m\u001b[0m\n\u001b[0m\u001b[1;32m    499\u001b[0m         \u001b[0mself\u001b[0m\u001b[0;34m.\u001b[0m\u001b[0mlong_steel_bars\u001b[0m \u001b[0;34m=\u001b[0m \u001b[0mself\u001b[0m\u001b[0;34m.\u001b[0m\u001b[0mlong_steel_bars_solution_info\u001b[0m\u001b[0;34m.\u001b[0m\u001b[0msteel_bars\u001b[0m\u001b[0;34m\u001b[0m\u001b[0m\n\u001b[1;32m    500\u001b[0m \u001b[0;34m\u001b[0m\u001b[0m\n",
      "\u001b[0;32m~/OneDrive - Vale S.A/Random/TCC/fconcrete/fconcrete/StructuralConcrete/LongSteelBar/LongSteelBarSolve.py\u001b[0m in \u001b[0;36m__init__\u001b[0;34m(self, concrete_beam)\u001b[0m\n\u001b[1;32m     16\u001b[0m         \u001b[0mself\u001b[0m\u001b[0;34m.\u001b[0m\u001b[0mbar_steel_max_removal\u001b[0m \u001b[0;34m=\u001b[0m \u001b[0mself\u001b[0m\u001b[0;34m.\u001b[0m\u001b[0mconcrete_beam\u001b[0m\u001b[0;34m.\u001b[0m\u001b[0mbar_steel_max_removal\u001b[0m\u001b[0;34m\u001b[0m\u001b[0m\n\u001b[1;32m     17\u001b[0m \u001b[0;34m\u001b[0m\u001b[0m\n\u001b[0;32m---> 18\u001b[0;31m         \u001b[0mx\u001b[0m\u001b[0;34m,\u001b[0m \u001b[0mpositive_areas_info\u001b[0m\u001b[0;34m,\u001b[0m \u001b[0mnegative_areas_info\u001b[0m \u001b[0;34m=\u001b[0m \u001b[0mtimeit\u001b[0m\u001b[0;34m(\u001b[0m\u001b[0mverbose\u001b[0m\u001b[0;34m)\u001b[0m\u001b[0;34m(\u001b[0m\u001b[0mself\u001b[0m\u001b[0;34m.\u001b[0m\u001b[0mgetComercialSteelAreaDiagram\u001b[0m\u001b[0;34m)\u001b[0m\u001b[0;34m(\u001b[0m\u001b[0mdivision\u001b[0m\u001b[0;34m=\u001b[0m\u001b[0mconcrete_beam\u001b[0m\u001b[0;34m.\u001b[0m\u001b[0mdivision\u001b[0m\u001b[0;34m)\u001b[0m\u001b[0;34m\u001b[0m\u001b[0m\n\u001b[0m\u001b[1;32m     19\u001b[0m         \u001b[0mself\u001b[0m\u001b[0;34m.\u001b[0m\u001b[0mx\u001b[0m \u001b[0;34m=\u001b[0m \u001b[0mx\u001b[0m\u001b[0;34m\u001b[0m\u001b[0m\n\u001b[1;32m     20\u001b[0m         \u001b[0mself\u001b[0m\u001b[0;34m.\u001b[0m\u001b[0mpositive_areas_info\u001b[0m \u001b[0;34m=\u001b[0m \u001b[0mpositive_areas_info\u001b[0m\u001b[0;34m\u001b[0m\u001b[0m\n",
      "\u001b[0;32m~/OneDrive - Vale S.A/Random/TCC/fconcrete/fconcrete/StructuralConcrete/LongSteelBar/LongSteelBarSolve.py\u001b[0m in \u001b[0;36mgetComercialSteelAreaDiagram\u001b[0;34m(self, **options_diagram)\u001b[0m\n\u001b[1;32m    156\u001b[0m         \"\"\" \n\u001b[1;32m    157\u001b[0m         \u001b[0mx_decalaged\u001b[0m\u001b[0;34m,\u001b[0m \u001b[0mmomentum_positive\u001b[0m\u001b[0;34m,\u001b[0m \u001b[0mmomentum_negative\u001b[0m \u001b[0;34m=\u001b[0m \u001b[0mtimeit\u001b[0m\u001b[0;34m(\u001b[0m\u001b[0mself\u001b[0m\u001b[0;34m.\u001b[0m\u001b[0mverbose\u001b[0m\u001b[0;34m)\u001b[0m\u001b[0;34m(\u001b[0m\u001b[0mself\u001b[0m\u001b[0;34m.\u001b[0m\u001b[0mgetDecalagedMomentumDesignDiagram\u001b[0m\u001b[0;34m)\u001b[0m\u001b[0;34m(\u001b[0m\u001b[0;34m**\u001b[0m\u001b[0moptions_diagram\u001b[0m\u001b[0;34m)\u001b[0m\u001b[0;34m\u001b[0m\u001b[0m\n\u001b[0;32m--> 158\u001b[0;31m         \u001b[0mpositive_areas_info\u001b[0m \u001b[0;34m=\u001b[0m \u001b[0;34m[\u001b[0m\u001b[0mself\u001b[0m\u001b[0;34m.\u001b[0m\u001b[0mgetComercialSteelArea\u001b[0m\u001b[0;34m(\u001b[0m\u001b[0mx\u001b[0m\u001b[0;34m,\u001b[0m \u001b[0mm\u001b[0m\u001b[0;34m)\u001b[0m \u001b[0;32mfor\u001b[0m \u001b[0mx\u001b[0m\u001b[0;34m,\u001b[0m \u001b[0mm\u001b[0m \u001b[0;32min\u001b[0m \u001b[0mzip\u001b[0m\u001b[0;34m(\u001b[0m\u001b[0mx_decalaged\u001b[0m\u001b[0;34m,\u001b[0m \u001b[0mmomentum_positive\u001b[0m\u001b[0;34m)\u001b[0m\u001b[0;34m]\u001b[0m\u001b[0;34m\u001b[0m\u001b[0m\n\u001b[0m\u001b[1;32m    159\u001b[0m         \u001b[0mnegative_areas_info\u001b[0m \u001b[0;34m=\u001b[0m \u001b[0;34m[\u001b[0m\u001b[0mself\u001b[0m\u001b[0;34m.\u001b[0m\u001b[0mgetComercialSteelArea\u001b[0m\u001b[0;34m(\u001b[0m\u001b[0mx\u001b[0m\u001b[0;34m,\u001b[0m \u001b[0mm\u001b[0m\u001b[0;34m)\u001b[0m \u001b[0;32mfor\u001b[0m \u001b[0mx\u001b[0m\u001b[0;34m,\u001b[0m \u001b[0mm\u001b[0m \u001b[0;32min\u001b[0m \u001b[0mzip\u001b[0m\u001b[0;34m(\u001b[0m\u001b[0mx_decalaged\u001b[0m\u001b[0;34m,\u001b[0m \u001b[0mmomentum_negative\u001b[0m\u001b[0;34m)\u001b[0m\u001b[0;34m]\u001b[0m\u001b[0;34m\u001b[0m\u001b[0m\n\u001b[1;32m    160\u001b[0m \u001b[0;34m\u001b[0m\u001b[0m\n",
      "\u001b[0;32m~/OneDrive - Vale S.A/Random/TCC/fconcrete/fconcrete/StructuralConcrete/LongSteelBar/LongSteelBarSolve.py\u001b[0m in \u001b[0;36m<listcomp>\u001b[0;34m(.0)\u001b[0m\n\u001b[1;32m    156\u001b[0m         \"\"\" \n\u001b[1;32m    157\u001b[0m         \u001b[0mx_decalaged\u001b[0m\u001b[0;34m,\u001b[0m \u001b[0mmomentum_positive\u001b[0m\u001b[0;34m,\u001b[0m \u001b[0mmomentum_negative\u001b[0m \u001b[0;34m=\u001b[0m \u001b[0mtimeit\u001b[0m\u001b[0;34m(\u001b[0m\u001b[0mself\u001b[0m\u001b[0;34m.\u001b[0m\u001b[0mverbose\u001b[0m\u001b[0;34m)\u001b[0m\u001b[0;34m(\u001b[0m\u001b[0mself\u001b[0m\u001b[0;34m.\u001b[0m\u001b[0mgetDecalagedMomentumDesignDiagram\u001b[0m\u001b[0;34m)\u001b[0m\u001b[0;34m(\u001b[0m\u001b[0;34m**\u001b[0m\u001b[0moptions_diagram\u001b[0m\u001b[0;34m)\u001b[0m\u001b[0;34m\u001b[0m\u001b[0m\n\u001b[0;32m--> 158\u001b[0;31m         \u001b[0mpositive_areas_info\u001b[0m \u001b[0;34m=\u001b[0m \u001b[0;34m[\u001b[0m\u001b[0mself\u001b[0m\u001b[0;34m.\u001b[0m\u001b[0mgetComercialSteelArea\u001b[0m\u001b[0;34m(\u001b[0m\u001b[0mx\u001b[0m\u001b[0;34m,\u001b[0m \u001b[0mm\u001b[0m\u001b[0;34m)\u001b[0m \u001b[0;32mfor\u001b[0m \u001b[0mx\u001b[0m\u001b[0;34m,\u001b[0m \u001b[0mm\u001b[0m \u001b[0;32min\u001b[0m \u001b[0mzip\u001b[0m\u001b[0;34m(\u001b[0m\u001b[0mx_decalaged\u001b[0m\u001b[0;34m,\u001b[0m \u001b[0mmomentum_positive\u001b[0m\u001b[0;34m)\u001b[0m\u001b[0;34m]\u001b[0m\u001b[0;34m\u001b[0m\u001b[0m\n\u001b[0m\u001b[1;32m    159\u001b[0m         \u001b[0mnegative_areas_info\u001b[0m \u001b[0;34m=\u001b[0m \u001b[0;34m[\u001b[0m\u001b[0mself\u001b[0m\u001b[0;34m.\u001b[0m\u001b[0mgetComercialSteelArea\u001b[0m\u001b[0;34m(\u001b[0m\u001b[0mx\u001b[0m\u001b[0;34m,\u001b[0m \u001b[0mm\u001b[0m\u001b[0;34m)\u001b[0m \u001b[0;32mfor\u001b[0m \u001b[0mx\u001b[0m\u001b[0;34m,\u001b[0m \u001b[0mm\u001b[0m \u001b[0;32min\u001b[0m \u001b[0mzip\u001b[0m\u001b[0;34m(\u001b[0m\u001b[0mx_decalaged\u001b[0m\u001b[0;34m,\u001b[0m \u001b[0mmomentum_negative\u001b[0m\u001b[0;34m)\u001b[0m\u001b[0;34m]\u001b[0m\u001b[0;34m\u001b[0m\u001b[0m\n\u001b[1;32m    160\u001b[0m \u001b[0;34m\u001b[0m\u001b[0m\n",
      "\u001b[0;32m~/OneDrive - Vale S.A/Random/TCC/fconcrete/fconcrete/StructuralConcrete/LongSteelBar/LongSteelBarSolve.py\u001b[0m in \u001b[0;36mgetComercialSteelArea\u001b[0;34m(self, x, momentum)\u001b[0m\n\u001b[1;32m    187\u001b[0m \u001b[0;34m\u001b[0m\u001b[0m\n\u001b[1;32m    188\u001b[0m         \"\"\" \n\u001b[0;32m--> 189\u001b[0;31m         \u001b[0mmin_area\u001b[0m\u001b[0;34m,\u001b[0m \u001b[0mmax_area\u001b[0m \u001b[0;34m=\u001b[0m \u001b[0mself\u001b[0m\u001b[0;34m.\u001b[0m\u001b[0mgetMinimumAndMaximumSteelArea\u001b[0m\u001b[0;34m(\u001b[0m\u001b[0mx\u001b[0m\u001b[0;34m)\u001b[0m\u001b[0;34m\u001b[0m\u001b[0m\n\u001b[0m\u001b[1;32m    190\u001b[0m         \u001b[0marea\u001b[0m \u001b[0;34m=\u001b[0m \u001b[0mself\u001b[0m\u001b[0;34m.\u001b[0m\u001b[0mgetSteelArea\u001b[0m\u001b[0;34m(\u001b[0m\u001b[0mx\u001b[0m\u001b[0;34m,\u001b[0m \u001b[0mmomentum\u001b[0m\u001b[0;34m)\u001b[0m\u001b[0;34m\u001b[0m\u001b[0m\n\u001b[1;32m    191\u001b[0m \u001b[0;34m\u001b[0m\u001b[0m\n",
      "\u001b[0;32m~/OneDrive - Vale S.A/Random/TCC/fconcrete/fconcrete/StructuralConcrete/LongSteelBar/LongSteelBarSolve.py\u001b[0m in \u001b[0;36mgetMinimumAndMaximumSteelArea\u001b[0;34m(self, x)\u001b[0m\n\u001b[1;32m    134\u001b[0m \u001b[0;34m\u001b[0m\u001b[0m\n\u001b[1;32m    135\u001b[0m         \"\"\"\n\u001b[0;32m--> 136\u001b[0;31m         \u001b[0m_\u001b[0m\u001b[0;34m,\u001b[0m \u001b[0mbeam_element\u001b[0m \u001b[0;34m=\u001b[0m \u001b[0mself\u001b[0m\u001b[0;34m.\u001b[0m\u001b[0mconcrete_beam\u001b[0m\u001b[0;34m.\u001b[0m\u001b[0mgetBeamElementInX\u001b[0m\u001b[0;34m(\u001b[0m\u001b[0mx\u001b[0m\u001b[0;34m)\u001b[0m\u001b[0;34m\u001b[0m\u001b[0m\n\u001b[0m\u001b[1;32m    137\u001b[0m         return LongSteelBar.getMinimumAndMaximumSteelArea(\n\u001b[1;32m    138\u001b[0m             \u001b[0marea\u001b[0m \u001b[0;34m=\u001b[0m \u001b[0mbeam_element\u001b[0m\u001b[0;34m.\u001b[0m\u001b[0msection\u001b[0m\u001b[0;34m.\u001b[0m\u001b[0marea\u001b[0m\u001b[0;34m,\u001b[0m\u001b[0;34m\u001b[0m\u001b[0m\n",
      "\u001b[0;32m~/OneDrive - Vale S.A/Random/TCC/fconcrete/fconcrete/Structural/Beam.py\u001b[0m in \u001b[0;36mgetBeamElementInX\u001b[0;34m(self, x)\u001b[0m\n\u001b[1;32m    194\u001b[0m         \"\"\"\n\u001b[1;32m    195\u001b[0m         index = 0 if x<=self.x_begin else -1 if x>=self.x_end else np.where(\n\u001b[0;32m--> 196\u001b[0;31m         np.array([node.x for node in self.beam_elements.nodes]) <= x)[0][-1]\n\u001b[0m\u001b[1;32m    197\u001b[0m         \u001b[0mbar_element\u001b[0m \u001b[0;34m=\u001b[0m \u001b[0mself\u001b[0m\u001b[0;34m.\u001b[0m\u001b[0mbeam_elements\u001b[0m\u001b[0;34m[\u001b[0m\u001b[0mindex\u001b[0m\u001b[0;34m]\u001b[0m\u001b[0;34m\u001b[0m\u001b[0m\n\u001b[1;32m    198\u001b[0m         \u001b[0;32mreturn\u001b[0m \u001b[0mindex\u001b[0m\u001b[0;34m,\u001b[0m \u001b[0mbar_element\u001b[0m\u001b[0;34m\u001b[0m\u001b[0m\n",
      "\u001b[0;31mIndexError\u001b[0m: index -1 is out of bounds for axis 0 with size 0"
     ]
    }
   ],
   "source": [
    "self.solve_long_steel()"
   ]
  },
  {
   "cell_type": "code",
   "execution_count": null,
   "metadata": {},
   "outputs": [],
   "source": []
  },
  {
   "cell_type": "code",
   "execution_count": 17,
   "metadata": {},
   "outputs": [
    {
     "data": {
      "text/plain": [
       "array([   0.,  113.,  583., 1188.])"
      ]
     },
     "execution_count": 17,
     "metadata": {},
     "output_type": "execute_result"
    }
   ],
   "source": [
    "self.beam_elements.nodes.x"
   ]
  },
  {
   "cell_type": "code",
   "execution_count": null,
   "metadata": {},
   "outputs": [],
   "source": [
    "self.beam_elements = fc.BeamElements(beam_elements)"
   ]
  },
  {
   "cell_type": "code",
   "execution_count": 30,
   "metadata": {},
   "outputs": [],
   "source": [
    "concrete_beam = self"
   ]
  },
  {
   "cell_type": "code",
   "execution_count": 34,
   "metadata": {},
   "outputs": [],
   "source": [
    "x, momentum_diagram = concrete_beam.getMomentumDiagram(division=concrete_beam.division)"
   ]
  },
  {
   "cell_type": "code",
   "execution_count": 36,
   "metadata": {},
   "outputs": [
    {
     "data": {
      "text/plain": [
       "1e-05"
      ]
     },
     "execution_count": 36,
     "metadata": {},
     "output_type": "execute_result"
    }
   ],
   "source": []
  },
  {
   "cell_type": "code",
   "execution_count": 47,
   "metadata": {},
   "outputs": [],
   "source": [
    "x, momentum_diagram = concrete_beam.getMomentumDiagram(division=concrete_beam.division)\n",
    "x_decalaged, decalaged_x_left, decalaged_x_right, join_decalaged_x_order = __decalageds_x_axis(x)\n",
    "momentum_positive, momentum_negative = __decalaged_momentums(x_decalaged,\n",
    "                                                            decalaged_x_left,\n",
    "                                                            decalaged_x_right,\n",
    "                                                            join_decalaged_x_order,\n",
    "                                                            momentum_diagram)\n",
    "#momentum_positive = self.__join_momentum_peak(momentum_positive)\n",
    "#momentum_negative = self.__join_momentum_peak(momentum_negative)\n",
    "\n",
    "#return x_decalaged, self.concrete_beam.design_factor*momentum_positive, self.concrete_beam.design_factor*momentum_negative\n",
    "    "
   ]
  },
  {
   "cell_type": "code",
   "execution_count": 51,
   "metadata": {},
   "outputs": [
    {
     "data": {
      "text/plain": [
       "array([], dtype=float64)"
      ]
     },
     "execution_count": 51,
     "metadata": {},
     "output_type": "execute_result"
    }
   ],
   "source": [
    "x_decalaged[np.isnan(x_decalaged)]"
   ]
  },
  {
   "cell_type": "code",
   "execution_count": 46,
   "metadata": {},
   "outputs": [],
   "source": [
    "def __decalageds_x_axis(x):\n",
    "    decalaged_x_left = np.array([])\n",
    "    decalaged_x_right = np.array([])\n",
    "\n",
    "    for beam_element in concrete_beam.beam_elements:\n",
    "        a_l = 1\n",
    "        position_in_beam_element = x[(x>=beam_element.n1.x) & (x<=beam_element.n2.x)]\n",
    "        decalaged_x_left_temp = position_in_beam_element - a_l\n",
    "        decalaged_x_right_temp = position_in_beam_element + a_l\n",
    "        decalaged_x_left = np.concatenate((decalaged_x_left, decalaged_x_left_temp))\n",
    "        decalaged_x_right = np.concatenate((decalaged_x_right, decalaged_x_right_temp))\n",
    "\n",
    "    join_decalaged_x = np.concatenate((decalaged_x_left, x, decalaged_x_right))\n",
    "    join_decalaged_x_order = join_decalaged_x.argsort()\n",
    "    x_decalaged = join_decalaged_x[join_decalaged_x_order]\n",
    "\n",
    "    return x_decalaged, decalaged_x_left, decalaged_x_right, join_decalaged_x_order"
   ]
  },
  {
   "cell_type": "code",
   "execution_count": 41,
   "metadata": {},
   "outputs": [],
   "source": [
    "def __decalaged_momentums(x_decalaged,\n",
    "                          decalaged_x_left,\n",
    "                          decalaged_x_right,\n",
    "                          join_decalaged_x_order,\n",
    "                          momentum_diagram):\n",
    "    #momentum_decalaged_diagram = np.concatenate((momentum_diagram, momentum_diagram, momentum_diagram))[join_decalaged_x_order]\n",
    "\n",
    "    momentum_left = np.interp(x_decalaged, decalaged_x_left, momentum_diagram)\n",
    "    momentum_right = np.interp(x_decalaged, decalaged_x_right, momentum_diagram)\n",
    "\n",
    "    momentum_positive = np.max((momentum_left, momentum_right), axis=0)\n",
    "    momentum_positive = np.where(momentum_positive<0, np.nan, momentum_positive)\n",
    "\n",
    "    momentum_negative = np.min((momentum_left, momentum_right), axis=0)\n",
    "    momentum_negative = np.where(momentum_negative>0, np.nan, momentum_negative)\n",
    "    return momentum_positive, momentum_negative  "
   ]
  },
  {
   "cell_type": "code",
   "execution_count": 42,
   "metadata": {},
   "outputs": [],
   "source": []
  },
  {
   "cell_type": "code",
   "execution_count": 8,
   "metadata": {},
   "outputs": [
    {
     "name": "stdout",
     "output_type": "stream",
     "text": [
      "0.04875000000000002\n",
      "0.009596161535385868\n"
     ]
    }
   ],
   "source": [
    "self = beam.copy()\n",
    "\n",
    "while True:\n",
    "    x_changes = np.concatenate((self.long_steel_bars.long_begins, self.long_steel_bars.long_ends))\n",
    "    x_changes = x_changes[np.isin(x_changes, self.beam_elements.nodes.x, invert=True)]\n",
    "    x_changes = np.unique(x_changes[(x_changes>=0) & (x_changes<=self.length)])\n",
    "\n",
    "    nodes_change = [ fc.Node.Crimp(x) for x in x_changes ]\n",
    "    new_nodes = fc.Nodes(np.concatenate((nodes_change, self.beam_elements.nodes)))\n",
    "    new_nodes = new_nodes[np.argsort(new_nodes.x)]\n",
    "\n",
    "    previous_ds, diff = 0, 0\n",
    "    beam_elements = []\n",
    "\n",
    "    for i in range(0, len(new_nodes)-1):\n",
    "        current_x = new_nodes[i].x\n",
    "        next_x = new_nodes[i+1].x\n",
    "        middle_x = (current_x+next_x)/2\n",
    "\n",
    "        transversal_position = self.long_steel_bars.getBarTransversalPosition(self, x=middle_x)\n",
    "        _, beam_element = self.getBeamElementInX(middle_x)\n",
    "        section, material = beam_element.section, beam_element.material\n",
    "        height = section.height\n",
    "        \n",
    "        _, y, _, area = transversal_position.T\n",
    "        \n",
    "        y_positive = y[y >= height/2]\n",
    "        y_negative = y[y < height/2]\n",
    "        \n",
    "        y_c_negative = (y[y >= (height/2)] @ area[y >= (height/2)])/sum(area[y >= (height/2)]) if sum(y >= (height/2)) else np.nan\n",
    "        y_c_positive = (y[y < (height/2)] @ area[y < (height/2)])/sum(area[y < (height/2)]) if sum(y < (height/2)) else np.nan\n",
    "        new_positive_steel_height, previous_positive_steel_height = (height - y_c_positive), section.positive_steel_height\n",
    "        new_negative_steel_height, previous_negative_steel_height = (y_c_negative), section.negative_steel_height\n",
    "        \n",
    "        previous_ds += 0 if np.isnan(new_positive_steel_height) else previous_positive_steel_height\n",
    "        previous_ds += 0 if np.isnan(new_negative_steel_height) else previous_negative_steel_height\n",
    "        diff += abs(0 if np.isnan(new_positive_steel_height) else previous_positive_steel_height-new_positive_steel_height)\n",
    "        diff += abs(0 if np.isnan(new_negative_steel_height) else previous_negative_steel_height-new_negative_steel_height)\n",
    "\n",
    "        new_section = fc.Rectangle(section.width(), section.height)\n",
    "        new_section = fc.ConcreteSection.setSteelHeight(new_section, new_positive_steel_height, new_negative_steel_height)\n",
    "\n",
    "        new_beam_element = fc.BeamElement([new_nodes[i], new_nodes[i+1]], new_section, material)\n",
    "        beam_elements = [*beam_elements, new_beam_element]\n",
    "    \n",
    "    relative_diff_of_d = diff/previous_ds\n",
    "    print(relative_diff_of_d)\n",
    "\n",
    "    if relative_diff_of_d > self.max_relative_diff_of_steel_height:\n",
    "        self.beam_elements = fc.BeamElements(beam_elements)\n",
    "        self.solve_long_steel()\n",
    "        self.solve_transv_steel()\n",
    "        self.solve_ELS()\n",
    "        self.solve_cost()\n",
    "    else:\n",
    "        break"
   ]
  },
  {
   "cell_type": "code",
   "execution_count": 7,
   "metadata": {},
   "outputs": [
    {
     "data": {
      "image/png": "[encoded data removed]",
      "text/plain": [
       "<Figure size 432x288 with 1 Axes>"
      ]
     },
     "metadata": {
      "needs_background": "light"
     },
     "output_type": "display_data"
    }
   ],
   "source": [
    "self.long_steel_bars.plot()"
   ]
  },
  {
   "cell_type": "code",
   "execution_count": null,
   "metadata": {},
   "outputs": [],
   "source": [
    "fc.BeamElement()"
   ]
  },
  {
   "cell_type": "code",
   "execution_count": null,
   "metadata": {},
   "outputs": [],
   "source": [
    "beam_elements = fc.BeamElements([])"
   ]
  },
  {
   "cell_type": "code",
   "execution_count": 20,
   "metadata": {},
   "outputs": [
    {
     "data": {
      "text/plain": [
       "(24.77, 24.77)"
      ]
     },
     "execution_count": 20,
     "metadata": {},
     "output_type": "execute_result"
    }
   ],
   "source": [
    "previous_d, new_d"
   ]
  },
  {
   "cell_type": "code",
   "execution_count": 26,
   "metadata": {},
   "outputs": [
    {
     "data": {
      "text/plain": [
       "0.015788394504818528"
      ]
     },
     "execution_count": 26,
     "metadata": {},
     "output_type": "execute_result"
    }
   ],
   "source": [
    "diff/previous_ds"
   ]
  },
  {
   "cell_type": "code",
   "execution_count": 16,
   "metadata": {},
   "outputs": [
    {
     "data": {
      "text/plain": [
       "0.0"
      ]
     },
     "execution_count": 16,
     "metadata": {},
     "output_type": "execute_result"
    }
   ],
   "source": [
    "diff"
   ]
  },
  {
   "cell_type": "code",
   "execution_count": 15,
   "metadata": {},
   "outputs": [
    {
     "data": {
      "text/plain": [
       "49.54"
      ]
     },
     "execution_count": 15,
     "metadata": {},
     "output_type": "execute_result"
    }
   ],
   "source": [
    "previous_ds"
   ]
  },
  {
   "cell_type": "code",
   "execution_count": 11,
   "metadata": {},
   "outputs": [
    {
     "data": {
      "text/plain": [
       "24.0"
      ]
     },
     "execution_count": 11,
     "metadata": {},
     "output_type": "execute_result"
    }
   ],
   "source": [
    "beam_element.section.height*.8"
   ]
  },
  {
   "cell_type": "code",
   "execution_count": 27,
   "metadata": {},
   "outputs": [
    {
     "name": "stdout",
     "output_type": "stream",
     "text": [
      "24.77\n",
      "24.77\n",
      "24.77\n"
     ]
    }
   ],
   "source": [
    "for beam_element in self.beam_elements:\n",
    "    print(beam_element.section.d)"
   ]
  },
  {
   "cell_type": "code",
   "execution_count": 157,
   "metadata": {},
   "outputs": [
    {
     "data": {
      "text/plain": [
       "{'bar_elements': array([{'section': <fconcrete.Structural.Section.Rectangle object at 0x12722ffd0>, 'material': <fconcrete.StructuralConcrete.Concrete.Concrete object at 0x127248160>, 'x': [{'x': 0.0, 'condition_boundary': [0, 1], 'length': 20.0}\n",
       ", {'x': 13.14199495097003, 'condition_boundary': [1, 1], 'length': 0.0}\n",
       "], 'E': 26838.405317753142, 'I': 33750.0, 'n1': {'x': 0.0, 'condition_boundary': [0, 1], 'length': 20.0}\n",
       ", 'n2': {'x': 13.14199495097003, 'condition_boundary': [1, 1], 'length': 0.0}\n",
       ", 'length': 13.14199495097003, 'flexural_rigidity': 905796179.4741685},\n",
       "       {'section': <fconcrete.Structural.Section.Rectangle object at 0x12722ffd0>, 'material': <fconcrete.StructuralConcrete.Concrete.Concrete object at 0x127248160>, 'x': [{'x': 13.14199495097003, 'condition_boundary': [1, 1], 'length': 0.0}\n",
       ", {'x': 186.85800504902997, 'condition_boundary': [1, 1], 'length': 0.0}\n",
       "], 'E': 26838.405317753142, 'I': 33750.0, 'n1': {'x': 13.14199495097003, 'condition_boundary': [1, 1], 'length': 0.0}\n",
       ", 'n2': {'x': 186.85800504902997, 'condition_boundary': [1, 1], 'length': 0.0}\n",
       ", 'length': 173.71601009805994, 'flexural_rigidity': 905796179.4741685},\n",
       "       {'section': <fconcrete.Structural.Section.Rectangle object at 0x12722ffd0>, 'material': <fconcrete.StructuralConcrete.Concrete.Concrete object at 0x127248160>, 'x': [{'x': 186.85800504902997, 'condition_boundary': [1, 1], 'length': 0.0}\n",
       ", {'x': 200.0, 'condition_boundary': [0, 1], 'length': 20.0}\n",
       "], 'E': 26838.405317753142, 'I': 33750.0, 'n1': {'x': 186.85800504902997, 'condition_boundary': [1, 1], 'length': 0.0}\n",
       ", 'n2': {'x': 200.0, 'condition_boundary': [0, 1], 'length': 20.0}\n",
       ", 'length': 13.14199495097003, 'flexural_rigidity': 905796179.4741685}],\n",
       "      dtype=object), 'materials': array([<fconcrete.StructuralConcrete.Concrete.Concrete object at 0x127248160>,\n",
       "       <fconcrete.StructuralConcrete.Concrete.Concrete object at 0x127248160>,\n",
       "       <fconcrete.StructuralConcrete.Concrete.Concrete object at 0x127248160>],\n",
       "      dtype=object), 'sections': array([<fconcrete.Structural.Section.Rectangle object at 0x12722ffd0>,\n",
       "       <fconcrete.Structural.Section.Rectangle object at 0x12722ffd0>,\n",
       "       <fconcrete.Structural.Section.Rectangle object at 0x12722ffd0>],\n",
       "      dtype=object), 'x_start': array([  0.        ,  13.14199495, 186.85800505]), 'x_end': array([ 13.14199495, 186.85800505, 200.        ]), 'length': array([ 13.14199495, 173.7160101 ,  13.14199495]), 'flexural_rigidity': array([9.05796179e+08, 9.05796179e+08, 9.05796179e+08]), 'nodes': [{'x': 0.0, 'condition_boundary': [0, 1], 'length': 20.0}\n",
       " {'x': 13.14199495097003, 'condition_boundary': [1, 1], 'length': 0.0}\n",
       " {'x': 186.85800504902997, 'condition_boundary': [1, 1], 'length': 0.0}\n",
       " {'x': 200.0, 'condition_boundary': [0, 1], 'length': 20.0}\n",
       "], 'condition_boundary': array([False,  True,  True,  True,  True,  True, False,  True])}"
      ]
     },
     "execution_count": 157,
     "metadata": {},
     "output_type": "execute_result"
    }
   ],
   "source": [
    "self.beam_elements"
   ]
  },
  {
   "cell_type": "code",
   "execution_count": 121,
   "metadata": {},
   "outputs": [
    {
     "data": {
      "text/plain": [
       "201.5667128868678"
      ]
     },
     "execution_count": 121,
     "metadata": {},
     "output_type": "execute_result"
    }
   ],
   "source": [
    "middle_x"
   ]
  },
  {
   "cell_type": "code",
   "execution_count": null,
   "metadata": {},
   "outputs": [],
   "source": [
    "beam_elements = []\n",
    "nodes = self.beam_elements.nodes\n",
    "for beam_element, i in zip(self.beam_elements, range(0,len(self.beam_elements)):\n",
    "    beam_elements = \n",
    "    n1, n2 = self.beam_elements.nodes[i], self.beam_elements.nodes[i+1]\n",
    "                           \n",
    "    \n",
    "    section, material = beam_element.section, beam_element.material\n",
    "                           \n",
    "    transversal_position = positive_bars.getBarTransversalPosition(self, x=(current_x+next_x)/2)\n",
    "    _, y, _, area = transversal_position.T\n",
    "    y_c = (y @ area)/sum(area)\n",
    "    section.d = section.height - y_c\n",
    "                           \n",
    "    section.d =                  \n",
    "    beam_elements = [*beam_elements, fc.BeamElement([n1, n2], section, material)]"
   ]
  },
  {
   "cell_type": "code",
   "execution_count": 31,
   "metadata": {},
   "outputs": [
    {
     "data": {
      "text/plain": [
       "0\n",
       "width                    15\n",
       "height                   30\n",
       "length                  150\n",
       "cost                126.265\n",
       "error                      \n",
       "Concrete              63.59\n",
       "Longitudinal bar      35.31\n",
       "Transversal bar       27.36\n",
       "Name: 1, dtype: object"
      ]
     },
     "execution_count": 31,
     "metadata": {},
     "output_type": "execute_result"
    }
   ],
   "source": [
    ">>> def concrete_beam_function(width, height, length):\n",
    "...        slab_area = 5*5\n",
    "...        kn_per_m2 = 5\n",
    "...        distributed_load = -slab_area*kn_per_m2/500\n",
    "...        pp = fc.Load.UniformDistributedLoad(-width*height*25/1000000, x_begin=0, x_end=length)\n",
    "...        n1 = fc.Node.SimpleSupport(x=0, length=20)\n",
    "...        n2 = fc.Node.SimpleSupport(x=400, length=20)\n",
    "...        f1 = fc.Load.UniformDistributedLoad(-0.01, x_begin=0, x_end=1)\n",
    "...        beam = fc.ConcreteBeam(\n",
    "...            loads = [f1, pp],\n",
    "...            nodes = [n1, n2],\n",
    "...            section = fc.Rectangle(width, height),\n",
    "...            division = 200\n",
    "...        )\n",
    "...        return beam\n",
    ">>> full_report, solution_report, best_solution = fc.Analysis.getBestSolution(concrete_beam_function,\n",
    "...                                     max_steps_without_decrease=15,\n",
    "...                                     sort_by_multiplication=True,\n",
    "...                                     avoid_estimate=True,\n",
    "...                                     show_progress=False,\n",
    "...                                     width=[15],\n",
    "...                                     height=(30, 34, 2),\n",
    "...                                     length=[150])\n",
    ">>> # Table is sorted by cost ascending, so the first one is the most economic solution.\n",
    ">>> solution_report.iloc[0]\n",
    ">>> # Alternative way to look to the best solution\n",
    "            "
   ]
  },
  {
   "cell_type": "code",
   "execution_count": 36,
   "metadata": {},
   "outputs": [
    {
     "name": "stdout",
     "output_type": "stream",
     "text": [
      "{'width': 15.0, 'height': 30.0, 'length': 150.0, 'cost': 126.2650347902965, 'error': '', 'Concrete': 63.59, 'Longitudinal bar': 35.31, 'Transversal bar': 27.36}\n"
     ]
    }
   ],
   "source": [
    "print(best_solution)"
   ]
  },
  {
   "cell_type": "code",
   "execution_count": 34,
   "metadata": {},
   "outputs": [],
   "source": []
  },
  {
   "cell_type": "code",
   "execution_count": null,
   "metadata": {},
   "outputs": [],
   "source": [
    ">> print(best_solution)\n"
   ]
  },
  {
   "cell_type": "code",
   "execution_count": null,
   "metadata": {},
   "outputs": [],
   "source": [
    "transversal_position = positive_bars.getBarTransversalPosition(self, x=500)\n",
    "x, y, radius, area = transversal_position.T\n",
    "x_c = (x @ area)/sum(area) #should be always 0\n",
    "y_c = (y @ area)/sum(area)"
   ]
  }
 ],
 "metadata": {
  "kernelspec": {
   "display_name": "Python 3",
   "language": "python",
   "name": "python3"
  },
  "language_info": {
   "codemirror_mode": {
    "name": "ipython",
    "version": 3
   },
   "file_extension": ".py",
   "mimetype": "text/x-python",
   "name": "python",
   "nbconvert_exporter": "python",
   "pygments_lexer": "ipython3",
   "version": "3.6.6"
  }
 },
 "nbformat": 4,
 "nbformat_minor": 4
}
