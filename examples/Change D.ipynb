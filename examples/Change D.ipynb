{
 "cells": [
  {
   "cell_type": "code",
   "execution_count": 3,
   "metadata": {},
   "outputs": [],
   "source": [
    "import sys\n",
    "sys.path.insert(0, '../')\n",
    "import fconcrete as fc\n",
    "import numpy as np\n",
    "#plt.rcParams[\"figure.figsize\"] = (25,10)"
   ]
  },
  {
   "cell_type": "code",
   "execution_count": 85,
   "metadata": {},
   "outputs": [],
   "source": [
    "import matplotlib.pyplot as plt"
   ]
  },
  {
   "cell_type": "code",
   "execution_count": 4,
   "metadata": {},
   "outputs": [],
   "source": [
    "def concrete_beam_function(width, height, length):\n",
    "    \n",
    "    n1 = fc.Node.SimpleSupport(x=0, length=20)\n",
    "    n2 = fc.Node.SimpleSupport(x=length, length=20)\n",
    "\n",
    "    slab_area = 5*5\n",
    "    kn_per_m2 = 5\n",
    "    distributed_load = -slab_area*kn_per_m2/500\n",
    "    f1 = fc.Load.UniformDistributedLoad(distributed_load, x_begin=0, x_end=length)\n",
    "    pp = fc.Load.UniformDistributedLoad(-width*height*25/100000, x_begin=0, x_end=length)\n",
    "\n",
    "    beam = fc.ConcreteBeam(\n",
    "        loads = [f1, pp],\n",
    "        nodes = [n1, n2],\n",
    "        section = fc.Rectangle(width,height),\n",
    "        bar_steel_max_removal = 100,\n",
    "        transversal_bar_inclination_angle=90,\n",
    "        available_long_steel_bars = fc.AvailableLongConcreteSteelBar(diameters=[8], max_number=500),\n",
    "        available_transv_steel_bars = fc.AvailableTransvConcreteSteelBar(diameters=[6.3], space_is_multiple_of=[1]),\n",
    "        available_concrete = fc.AvailableConcrete(fck=30, aggressiveness=2),\n",
    "        solve_transv_steel = True,\n",
    "        solve_long_steel = True,\n",
    "        solve_ELS = True,\n",
    "        solve_cost = True,\n",
    "        verbose = False,\n",
    "    )\n",
    "    \n",
    "    return beam"
   ]
  },
  {
   "cell_type": "code",
   "execution_count": 115,
   "metadata": {},
   "outputs": [],
   "source": [
    "beam = concrete_beam_function(15, 30, 200)\n",
    "self = beam"
   ]
  },
  {
   "cell_type": "code",
   "execution_count": 155,
   "metadata": {},
   "outputs": [
    {
     "name": "stdout",
     "output_type": "stream",
     "text": [
      "13.14199495097003\n",
      "186.85800504902997\n"
     ]
    }
   ],
   "source": [
    "self = beam\n",
    "\n",
    "x_changes = np.concatenate((self.long_steel_bars.long_begins, self.long_steel_bars.long_ends))\n",
    "x_changes.sort()\n",
    "\n",
    "for i in range(0, len(x_changes)-1):\n",
    "    current_x = x_changes[i]\n",
    "    next_x = x_changes[i+1]\n",
    "    middle_x = (current_x+next_x)/2\n",
    "    \n",
    "    if (next_x > 0) and (next_x < self.length):\n",
    "        transversal_position = self.long_steel_bars.getBarTransversalPosition(self, x=middle_x)\n",
    "        _, beam_element = self.getBeamElementInX(middle_x)\n",
    "        section = beam_element.section\n",
    "    \n",
    "        _, y, _, area = transversal_position.T\n",
    "        y_c = (y @ area)/sum(area)\n",
    "        section.d = section.height - y_c\n",
    "        print(next_x)\n",
    "        self.beam_elements = self.beam_elements.split(next_x)\n",
    "    \n",
    "    \n",
    "    \n",
    "\n",
    "    "
   ]
  },
  {
   "cell_type": "code",
   "execution_count": 160,
   "metadata": {},
   "outputs": [
    {
     "name": "stdout",
     "output_type": "stream",
     "text": [
      "24.77\n",
      "24.77\n",
      "24.77\n"
     ]
    }
   ],
   "source": [
    "for beam_element in self.beam_elements:\n",
    "    print(beam_element.section.d)"
   ]
  },
  {
   "cell_type": "code",
   "execution_count": 157,
   "metadata": {},
   "outputs": [
    {
     "data": {
      "text/plain": [
       "{'bar_elements': array([{'section': <fconcrete.Structural.Section.Rectangle object at 0x12722ffd0>, 'material': <fconcrete.StructuralConcrete.Concrete.Concrete object at 0x127248160>, 'x': [{'x': 0.0, 'condition_boundary': [0, 1], 'length': 20.0}\n",
       ", {'x': 13.14199495097003, 'condition_boundary': [1, 1], 'length': 0.0}\n",
       "], 'E': 26838.405317753142, 'I': 33750.0, 'n1': {'x': 0.0, 'condition_boundary': [0, 1], 'length': 20.0}\n",
       ", 'n2': {'x': 13.14199495097003, 'condition_boundary': [1, 1], 'length': 0.0}\n",
       ", 'length': 13.14199495097003, 'flexural_rigidity': 905796179.4741685},\n",
       "       {'section': <fconcrete.Structural.Section.Rectangle object at 0x12722ffd0>, 'material': <fconcrete.StructuralConcrete.Concrete.Concrete object at 0x127248160>, 'x': [{'x': 13.14199495097003, 'condition_boundary': [1, 1], 'length': 0.0}\n",
       ", {'x': 186.85800504902997, 'condition_boundary': [1, 1], 'length': 0.0}\n",
       "], 'E': 26838.405317753142, 'I': 33750.0, 'n1': {'x': 13.14199495097003, 'condition_boundary': [1, 1], 'length': 0.0}\n",
       ", 'n2': {'x': 186.85800504902997, 'condition_boundary': [1, 1], 'length': 0.0}\n",
       ", 'length': 173.71601009805994, 'flexural_rigidity': 905796179.4741685},\n",
       "       {'section': <fconcrete.Structural.Section.Rectangle object at 0x12722ffd0>, 'material': <fconcrete.StructuralConcrete.Concrete.Concrete object at 0x127248160>, 'x': [{'x': 186.85800504902997, 'condition_boundary': [1, 1], 'length': 0.0}\n",
       ", {'x': 200.0, 'condition_boundary': [0, 1], 'length': 20.0}\n",
       "], 'E': 26838.405317753142, 'I': 33750.0, 'n1': {'x': 186.85800504902997, 'condition_boundary': [1, 1], 'length': 0.0}\n",
       ", 'n2': {'x': 200.0, 'condition_boundary': [0, 1], 'length': 20.0}\n",
       ", 'length': 13.14199495097003, 'flexural_rigidity': 905796179.4741685}],\n",
       "      dtype=object), 'materials': array([<fconcrete.StructuralConcrete.Concrete.Concrete object at 0x127248160>,\n",
       "       <fconcrete.StructuralConcrete.Concrete.Concrete object at 0x127248160>,\n",
       "       <fconcrete.StructuralConcrete.Concrete.Concrete object at 0x127248160>],\n",
       "      dtype=object), 'sections': array([<fconcrete.Structural.Section.Rectangle object at 0x12722ffd0>,\n",
       "       <fconcrete.Structural.Section.Rectangle object at 0x12722ffd0>,\n",
       "       <fconcrete.Structural.Section.Rectangle object at 0x12722ffd0>],\n",
       "      dtype=object), 'x_start': array([  0.        ,  13.14199495, 186.85800505]), 'x_end': array([ 13.14199495, 186.85800505, 200.        ]), 'length': array([ 13.14199495, 173.7160101 ,  13.14199495]), 'flexural_rigidity': array([9.05796179e+08, 9.05796179e+08, 9.05796179e+08]), 'nodes': [{'x': 0.0, 'condition_boundary': [0, 1], 'length': 20.0}\n",
       " {'x': 13.14199495097003, 'condition_boundary': [1, 1], 'length': 0.0}\n",
       " {'x': 186.85800504902997, 'condition_boundary': [1, 1], 'length': 0.0}\n",
       " {'x': 200.0, 'condition_boundary': [0, 1], 'length': 20.0}\n",
       "], 'condition_boundary': array([False,  True,  True,  True,  True,  True, False,  True])}"
      ]
     },
     "execution_count": 157,
     "metadata": {},
     "output_type": "execute_result"
    }
   ],
   "source": [
    "self.beam_elements"
   ]
  },
  {
   "cell_type": "code",
   "execution_count": 121,
   "metadata": {},
   "outputs": [
    {
     "data": {
      "text/plain": [
       "201.5667128868678"
      ]
     },
     "execution_count": 121,
     "metadata": {},
     "output_type": "execute_result"
    }
   ],
   "source": [
    "middle_x"
   ]
  },
  {
   "cell_type": "code",
   "execution_count": null,
   "metadata": {},
   "outputs": [],
   "source": [
    "beam_elements = []\n",
    "nodes = self.beam_elements.nodes\n",
    "for beam_element, i in zip(self.beam_elements, range(0,len(self.beam_elements)):\n",
    "    beam_elements = \n",
    "    n1, n2 = self.beam_elements.nodes[i], self.beam_elements.nodes[i+1]\n",
    "                           \n",
    "    \n",
    "    section, material = beam_element.section, beam_element.material\n",
    "                           \n",
    "    transversal_position = positive_bars.getBarTransversalPosition(self, x=(current_x+next_x)/2)\n",
    "    _, y, _, area = transversal_position.T\n",
    "    y_c = (y @ area)/sum(area)\n",
    "    section.d = section.height - y_c\n",
    "                           \n",
    "    section.d =                  \n",
    "    beam_elements = [*beam_elements, fc.BeamElement([n1, n2], section, material)]"
   ]
  },
  {
   "cell_type": "code",
   "execution_count": 151,
   "metadata": {},
   "outputs": [
    {
     "data": {
      "image/png": "[encoded data removed]",
      "text/plain": [
       "<Figure size 432x288 with 1 Axes>"
      ]
     },
     "metadata": {
      "needs_background": "light"
     },
     "output_type": "display_data"
    }
   ],
   "source": [
    "self.long_steel_bars.plot()"
   ]
  },
  {
   "cell_type": "code",
   "execution_count": null,
   "metadata": {},
   "outputs": [],
   "source": [
    "transversal_position = positive_bars.getBarTransversalPosition(self, x=500)\n",
    "x, y, radius, area = transversal_position.T\n",
    "x_c = (x @ area)/sum(area) #should be always 0\n",
    "y_c = (y @ area)/sum(area)"
   ]
  }
 ],
 "metadata": {
  "kernelspec": {
   "display_name": "Python 3",
   "language": "python",
   "name": "python3"
  },
  "language_info": {
   "codemirror_mode": {
    "name": "ipython",
    "version": 3
   },
   "file_extension": ".py",
   "mimetype": "text/x-python",
   "name": "python",
   "nbconvert_exporter": "python",
   "pygments_lexer": "ipython3",
   "version": "3.6.6"
  }
 },
 "nbformat": 4,
 "nbformat_minor": 4
}
