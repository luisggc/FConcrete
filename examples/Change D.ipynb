{
 "cells": [
  {
   "cell_type": "code",
   "execution_count": null,
   "metadata": {},
   "outputs": [],
   "source": [
    "import sys\n",
    "sys.path.insert(0, '../')\n",
    "import fconcrete as fc\n",
    "import numpy as np\n",
    "#plt.rcParams[\"figure.figsize\"] = (25,10)"
   ]
  },
  {
   "cell_type": "code",
   "execution_count": null,
   "metadata": {},
   "outputs": [],
   "source": [
    "def concrete_beam_function(width, height, length):\n",
    "    \n",
    "    n1 = fc.Node.SimpleSupport(x=0, length=20)\n",
    "    n2 = fc.Node.SimpleSupport(x=length, length=20)\n",
    "\n",
    "    slab_area = 5*5\n",
    "    kn_per_m2 = 5\n",
    "    distributed_load = -slab_area*kn_per_m2/500\n",
    "    f1 = fc.Load.UniformDistributedLoad(distributed_load, x_begin=0, x_end=length)\n",
    "    pp = fc.Load.UniformDistributedLoad(-width*height*25/100000, x_begin=0, x_end=length)\n",
    "\n",
    "    beam = fc.ConcreteBeam(\n",
    "        loads = [f1, pp],\n",
    "        nodes = [n1, n2],\n",
    "        section = fc.Rectangle(width,height),\n",
    "        bar_steel_max_removal = 100,\n",
    "        transversal_bar_inclination_angle=90,\n",
    "        available_long_steel_bars = fc.AvailableLongConcreteSteelBar(diameters=[8], max_number=500),\n",
    "        available_transv_steel_bars = fc.AvailableTransvConcreteSteelBar(diameters=[6.3], space_is_multiple_of=[1]),\n",
    "        available_concrete = fc.AvailableConcrete(fck=30, aggressiveness=2),\n",
    "        solve_transv_steel = True,\n",
    "        solve_long_steel = True,\n",
    "        solve_ELS = True,\n",
    "        solve_cost = True,\n",
    "        verbose = False,\n",
    "    )\n",
    "    \n",
    "    return beam"
   ]
  },
  {
   "cell_type": "code",
   "execution_count": null,
   "metadata": {},
   "outputs": [],
   "source": [
    "last_positive_bars = last_negative_bars = []\n",
    "x_changes = []\n",
    "for x in range(0, 1000):\n",
    "    positive_bars, negative_bars = self.long_steel_bars.getPositiveandNegativeLongSteelBarsInX(x=x)\n",
    "    positive_bars, negative_bars = positive_bars.steel_bars, negative_bars.steel_bars\n",
    "    if not np.array_equal(positive_bars, last_positive_bars):\n",
    "        x_changes = [*x_changes, x]\n",
    "    elif not np.array_equal(negative_bars, last_negative_bars):\n",
    "        x_changes = [*x_changes, x]\n",
    "    last_positive_bars = positive_bars\n",
    "    last_negative_bars = negative_bars\n",
    "    \n",
    "    \n",
    "    "
   ]
  },
  {
   "cell_type": "code",
   "execution_count": null,
   "metadata": {},
   "outputs": [],
   "source": [
    "for i in range(0, len(x_changes)-1):\n",
    "    current_x = x_changes[i]\n",
    "    next_x = x_changes[i+1]\n",
    "    transversal_position = positive_bars.getBarTransversalPosition(self, x=(current_x+next_x)/2)\n",
    "    _, y, _, area = transversal_position.T\n",
    "    y_c = (y @ area)/sum(area)\n",
    "    section.d = section.height - y_c\n",
    "    self.beam_elements = self.beam_elements.split(next_x)\n",
    "    \n",
    "    \n",
    "    \n",
    "\n",
    "    "
   ]
  },
  {
   "cell_type": "code",
   "execution_count": null,
   "metadata": {},
   "outputs": [],
   "source": [
    "beam_elements = []\n",
    "nodes = self.beam_elements.nodes\n",
    "for beam_element, i in zip(self.beam_elements, range(0,len(self.beam_elements)):\n",
    "    beam_elements = \n",
    "    n1, n2 = self.beam_elements.nodes[i], self.beam_elements.nodes[i+1]\n",
    "                           \n",
    "    \n",
    "    section, material = beam_element.section, beam_element.material\n",
    "                           \n",
    "    transversal_position = positive_bars.getBarTransversalPosition(self, x=(current_x+next_x)/2)\n",
    "    _, y, _, area = transversal_position.T\n",
    "    y_c = (y @ area)/sum(area)\n",
    "    section.d = section.height - y_c\n",
    "                           \n",
    "    section.d =                  \n",
    "    beam_elements = [*beam_elements, fc.BeamElement([n1, n2], section, material)]"
   ]
  },
  {
   "cell_type": "code",
   "execution_count": null,
   "metadata": {},
   "outputs": [],
   "source": [
    "beam.long_steel_bars.plot()"
   ]
  },
  {
   "cell_type": "code",
   "execution_count": null,
   "metadata": {},
   "outputs": [],
   "source": [
    "transversal_position = positive_bars.getBarTransversalPosition(self, x=500)\n",
    "x, y, radius, area = transversal_position.T\n",
    "x_c = (x @ area)/sum(area) #should be always 0\n",
    "y_c = (y @ area)/sum(area)"
   ]
  }
 ],
 "metadata": {
  "kernelspec": {
   "display_name": "Python 3",
   "language": "python",
   "name": "python3"
  },
  "language_info": {
   "codemirror_mode": {
    "name": "ipython",
    "version": 3
   },
   "file_extension": ".py",
   "mimetype": "text/x-python",
   "name": "python",
   "nbconvert_exporter": "python",
   "pygments_lexer": "ipython3",
   "version": "3.6.6"
  }
 },
 "nbformat": 4,
 "nbformat_minor": 4
}
