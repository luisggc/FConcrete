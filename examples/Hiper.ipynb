{
 "cells": [
  {
   "cell_type": "code",
   "execution_count": null,
   "metadata": {},
   "outputs": [],
   "source": [
    "Quantas retiradas de barra é bom\n",
    "melhor seção"
   ]
  },
  {
   "cell_type": "code",
   "execution_count": 1,
   "metadata": {},
   "outputs": [],
   "source": [
    "import sys\n",
    "sys.path.insert(0, '../')\n",
    "import fconcrete as fc\n",
    "import matplotlib.pyplot as plt\n",
    "import numpy as np\n",
    "np.set_printoptions(precision=4, suppress=True, linewidth=3000)\n",
    "import sys\n",
    "import pandas as pd\n",
    "from fconcrete.helpers import printProgressBar\n",
    "import matplotlib.patheffects as pe\n",
    "plt.rcParams[\"figure.figsize\"] = (25,10)"
   ]
  },
  {
   "cell_type": "code",
   "execution_count": 163,
   "metadata": {},
   "outputs": [],
   "source": [
    "class Oi:\n",
    "    def __init__(self, j):\n",
    "        self.j=j\n",
    "    def __name__():\n",
    "        return \"Tipo oi\""
   ]
  },
  {
   "cell_type": "code",
   "execution_count": 168,
   "metadata": {},
   "outputs": [],
   "source": [
    "doctest_global_setup='''\n",
    "    import fconcrete as fc\n",
    "    concrete_beam\n",
    "'''"
   ]
  },
  {
   "cell_type": "code",
   "execution_count": 169,
   "metadata": {},
   "outputs": [
    {
     "data": {
      "text/plain": [
       "'\\n    import fconcrete as fc\\n    concrete_beam\\n'"
      ]
     },
     "execution_count": 169,
     "metadata": {},
     "output_type": "execute_result"
    }
   ],
   "source": [
    "doctest_global_setup"
   ]
  },
  {
   "cell_type": "code",
   "execution_count": 2,
   "metadata": {},
   "outputs": [],
   "source": [
    "n1 = fc.Node.SimpleSupport(x=0)\n",
    "n2 = fc.Node.SimpleSupport(x=250)\n",
    "n3 = fc.Node.SimpleSupport(x=500)\n",
    "\n",
    "f1 = fc.Load.UniformDistributedLoad(-0.1, x_begin=0, x_end=250)\n",
    "f2 = fc.Load.UniformDistributedLoad(-0.3, x_begin=250, x_end=500)\n",
    "\n",
    "section = fc.Rectangle(12, 25)\n",
    "material = fc.Material(E=10**6, poisson=1, alpha=1)\n",
    "\n",
    "beam_element_1 = fc.BeamElement([n1, n2], section, material)\n",
    "beam_element_2 = fc.BeamElement([n2, n3], section, material)\n",
    "\n",
    "beam = fc.Beam(loads=[f1, f2], beam_elements=[beam_element_1, beam_element_2])"
   ]
  },
  {
   "cell_type": "code",
   "execution_count": 12,
   "metadata": {},
   "outputs": [
    {
     "name": "stdout",
     "output_type": "stream",
     "text": [
      "U: number\n",
      "    bLABLABALA\n",
      "\n",
      "__class__: number\n",
      "    bLABLABALA\n",
      "\n",
      "__delattr__: number\n",
      "    bLABLABALA\n",
      "\n",
      "__dict__: number\n",
      "    bLABLABALA\n",
      "\n",
      "__dir__: number\n",
      "    bLABLABALA\n",
      "\n",
      "__doc__: number\n",
      "    bLABLABALA\n",
      "\n",
      "__eq__: number\n",
      "    bLABLABALA\n",
      "\n",
      "__format__: number\n",
      "    bLABLABALA\n",
      "\n",
      "__ge__: number\n",
      "    bLABLABALA\n",
      "\n",
      "__getattribute__: number\n",
      "    bLABLABALA\n",
      "\n",
      "__gt__: number\n",
      "    bLABLABALA\n",
      "\n",
      "__hash__: number\n",
      "    bLABLABALA\n",
      "\n",
      "__init__: number\n",
      "    bLABLABALA\n",
      "\n",
      "__init_subclass__: number\n",
      "    bLABLABALA\n",
      "\n",
      "__le__: number\n",
      "    bLABLABALA\n",
      "\n",
      "__lt__: number\n",
      "    bLABLABALA\n",
      "\n",
      "__module__: number\n",
      "    bLABLABALA\n",
      "\n",
      "__name__: number\n",
      "    bLABLABALA\n",
      "\n",
      "__ne__: number\n",
      "    bLABLABALA\n",
      "\n",
      "__new__: number\n",
      "    bLABLABALA\n",
      "\n",
      "__reduce__: number\n",
      "    bLABLABALA\n",
      "\n",
      "__reduce_ex__: number\n",
      "    bLABLABALA\n",
      "\n",
      "__repr__: number\n",
      "    bLABLABALA\n",
      "\n",
      "__setattr__: number\n",
      "    bLABLABALA\n",
      "\n",
      "__sizeof__: number\n",
      "    bLABLABALA\n",
      "\n",
      "__str__: number\n",
      "    bLABLABALA\n",
      "\n",
      "__subclasshook__: number\n",
      "    bLABLABALA\n",
      "\n",
      "__weakref__: number\n",
      "    bLABLABALA\n",
      "\n",
      "_c1: number\n",
      "    bLABLABALA\n",
      "\n",
      "_c2: number\n",
      "    bLABLABALA\n",
      "\n",
      "_createDiagram: number\n",
      "    bLABLABALA\n",
      "\n",
      "_createIntermediateBeams: number\n",
      "    bLABLABALA\n",
      "\n",
      "_getSupportReactions: number\n",
      "    bLABLABALA\n",
      "\n",
      "_get_beams_efforts: number\n",
      "    bLABLABALA\n",
      "\n",
      "beam_elements: number\n",
      "    bLABLABALA\n",
      "\n",
      "beams_quantity: number\n",
      "    bLABLABALA\n",
      "\n",
      "copy: number\n",
      "    bLABLABALA\n",
      "\n",
      "external_loads: number\n",
      "    bLABLABALA\n",
      "\n",
      "getBeamElementInX: number\n",
      "    bLABLABALA\n",
      "\n",
      "getDisplacement: number\n",
      "    bLABLABALA\n",
      "\n",
      "getDisplacementDiagram: number\n",
      "    bLABLABALA\n",
      "\n",
      "getInternalMomentumStrength: number\n",
      "    bLABLABALA\n",
      "\n",
      "getInternalShearStrength: number\n",
      "    bLABLABALA\n",
      "\n",
      "getMomentumDiagram: number\n",
      "    bLABLABALA\n",
      "\n",
      "getRotation: number\n",
      "    bLABLABALA\n",
      "\n",
      "getRotationDiagram: number\n",
      "    bLABLABALA\n",
      "\n",
      "getShearDiagram: number\n",
      "    bLABLABALA\n",
      "\n",
      "initial_beam_elements: number\n",
      "    bLABLABALA\n",
      "\n",
      "length: number\n",
      "    bLABLABALA\n",
      "\n",
      "loads: number\n",
      "    bLABLABALA\n",
      "\n",
      "matrix_rigidity_global: number\n",
      "    bLABLABALA\n",
      "\n",
      "nodal_efforts: number\n",
      "    bLABLABALA\n",
      "\n",
      "nodes: number\n",
      "    bLABLABALA\n",
      "\n",
      "plotDisplacementDiagram: number\n",
      "    bLABLABALA\n",
      "\n",
      "plotMomentumDiagram: number\n",
      "    bLABLABALA\n",
      "\n",
      "plotRotationDiagram: number\n",
      "    bLABLABALA\n",
      "\n",
      "plotShearDiagram: number\n",
      "    bLABLABALA\n",
      "\n",
      "solve_displacement_constants: number\n",
      "    bLABLABALA\n",
      "\n",
      "solve_structural: number\n",
      "    bLABLABALA\n",
      "\n",
      "x_begin: number\n",
      "    bLABLABALA\n",
      "\n",
      "x_end: number\n",
      "    bLABLABALA\n",
      "\n"
     ]
    }
   ],
   "source": [
    "for att in dir(beam):\n",
    "    print(\"{}: number\\n    bLABLABALA\\n\".format(att))"
   ]
  },
  {
   "cell_type": "code",
   "execution_count": 3,
   "metadata": {},
   "outputs": [
    {
     "ename": "TypeError",
     "evalue": "'Beam' object is not iterable",
     "output_type": "error",
     "traceback": [
      "\u001b[0;31m---------------------------------------------------------------------------\u001b[0m",
      "\u001b[0;31mTypeError\u001b[0m                                 Traceback (most recent call last)",
      "\u001b[0;32m<ipython-input-3-7f3506d4c7fa>\u001b[0m in \u001b[0;36m<module>\u001b[0;34m\u001b[0m\n\u001b[0;32m----> 1\u001b[0;31m \u001b[0;32mfor\u001b[0m \u001b[0mi\u001b[0m \u001b[0;32min\u001b[0m \u001b[0mbeam\u001b[0m\u001b[0;34m:\u001b[0m\u001b[0;34m\u001b[0m\u001b[0m\n\u001b[0m\u001b[1;32m      2\u001b[0m     \u001b[0mprint\u001b[0m\u001b[0;34m(\u001b[0m\u001b[0mi\u001b[0m\u001b[0;34m)\u001b[0m\u001b[0;34m\u001b[0m\u001b[0m\n",
      "\u001b[0;31mTypeError\u001b[0m: 'Beam' object is not iterable"
     ]
    }
   ],
   "source": [
    "for i in beam:\n",
    "    print(i)"
   ]
  },
  {
   "cell_type": "code",
   "execution_count": 167,
   "metadata": {},
   "outputs": [
    {
     "data": {
      "image/png": "[encoded data removed]",
      "text/plain": [
       "<Figure size 1800x720 with 1 Axes>"
      ]
     },
     "metadata": {
      "needs_background": "light"
     },
     "output_type": "display_data"
    }
   ],
   "source": [
    "beam.plotShearDiagram()"
   ]
  },
  {
   "cell_type": "code",
   "execution_count": 155,
   "metadata": {},
   "outputs": [
    {
     "data": {
      "text/plain": [
       "1562500000.0000002"
      ]
     },
     "execution_count": 155,
     "metadata": {},
     "output_type": "execute_result"
    }
   ],
   "source": [
    "beam_element_1.flexural_rigidity"
   ]
  },
  {
   "cell_type": "code",
   "execution_count": 139,
   "metadata": {},
   "outputs": [
    {
     "data": {
      "text/plain": [
       "array([   37.5,  1562.5,    37.5, -1562.5])"
      ]
     },
     "execution_count": 139,
     "metadata": {},
     "output_type": "execute_result"
    }
   ],
   "source": [
    "fc.BeamElement.get_efforts_from_bar_element(\n",
    "                beam_element_2,\n",
    "                f2\n",
    "            )"
   ]
  },
  {
   "cell_type": "code",
   "execution_count": 144,
   "metadata": {},
   "outputs": [],
   "source": [
    "beams_efforts = self.get_beams_efforts()\n",
    "condition_boundary = self.beam_elements.condition_boundary"
   ]
  },
  {
   "cell_type": "code",
   "execution_count": 150,
   "metadata": {},
   "outputs": [],
   "source": [
    "condition_boundary = self.beam_elements.condition_boundary\n",
    "beams_efforts = self.get_beams_efforts()\n",
    "matrix_rigidity_global = self.matrix_rigidity_global()\n",
    "\n",
    "matrix_rigidity_global_determinable = matrix_rigidity_global[condition_boundary, :][:, condition_boundary]\n",
    "beams_efforts_determinable = beams_efforts[condition_boundary]\n",
    "\n",
    "U = np.zeros(len(condition_boundary))\n",
    "U[condition_boundary] = np.linalg.solve(matrix_rigidity_global_determinable, beams_efforts_determinable)\n",
    "self.U = U\n",
    "F = matrix_rigidity_global @ U\n",
    "\n"
   ]
  },
  {
   "cell_type": "code",
   "execution_count": null,
   "metadata": {},
   "outputs": [],
   "source": []
  },
  {
   "cell_type": "code",
   "execution_count": 154,
   "metadata": {},
   "outputs": [
    {
     "data": {
      "image/png": "[encoded data removed]",
      "text/plain": [
       "<Figure size 1800x720 with 1 Axes>"
      ]
     },
     "metadata": {
      "needs_background": "light"
     },
     "output_type": "display_data"
    }
   ],
   "source": [
    "beam.plotShearDiagram()"
   ]
  },
  {
   "cell_type": "code",
   "execution_count": 152,
   "metadata": {},
   "outputs": [
    {
     "data": {
      "text/plain": [
       "array([ 6.25,  0.  , 62.5 ,  0.  , 31.25, -0.  ])"
      ]
     },
     "execution_count": 152,
     "metadata": {},
     "output_type": "execute_result"
    }
   ],
   "source": [
    "beams_efforts - F"
   ]
  },
  {
   "cell_type": "code",
   "execution_count": 148,
   "metadata": {},
   "outputs": [
    {
     "data": {
      "text/plain": [
       "array([  520.8333,  1041.6667, -1562.5   ])"
      ]
     },
     "execution_count": 148,
     "metadata": {},
     "output_type": "execute_result"
    }
   ],
   "source": [
    "beams_efforts_determinable"
   ]
  },
  {
   "cell_type": "code",
   "execution_count": 133,
   "metadata": {},
   "outputs": [
    {
     "data": {
      "text/plain": [
       "array([   12.5   ,   520.8333,    50.    ,  1041.6667,    37.5   , -1562.5   ])"
      ]
     },
     "execution_count": 133,
     "metadata": {},
     "output_type": "execute_result"
    }
   ],
   "source": [
    "beam.get_beams_efforts()"
   ]
  },
  {
   "cell_type": "code",
   "execution_count": 134,
   "metadata": {},
   "outputs": [
    {
     "data": {
      "text/plain": [
       "array([ 0.    ,  0.    ,  0.    ,  0.    ,  0.    , -0.0001])"
      ]
     },
     "execution_count": 134,
     "metadata": {},
     "output_type": "execute_result"
    }
   ],
   "source": [
    "beam.U"
   ]
  },
  {
   "cell_type": "code",
   "execution_count": 135,
   "metadata": {},
   "outputs": [
    {
     "ename": "AttributeError",
     "evalue": "'Beam' object has no attribute 'F'",
     "output_type": "error",
     "traceback": [
      "\u001b[0;31m---------------------------------------------------------------------------\u001b[0m",
      "\u001b[0;31mAttributeError\u001b[0m                            Traceback (most recent call last)",
      "\u001b[0;32m<ipython-input-135-5bdc2eca152c>\u001b[0m in \u001b[0;36m<module>\u001b[0;34m\u001b[0m\n\u001b[0;32m----> 1\u001b[0;31m \u001b[0mbeam\u001b[0m\u001b[0;34m.\u001b[0m\u001b[0mF\u001b[0m\u001b[0;34m\u001b[0m\u001b[0m\n\u001b[0m",
      "\u001b[0;31mAttributeError\u001b[0m: 'Beam' object has no attribute 'F'"
     ]
    }
   ],
   "source": [
    "beam.F"
   ]
  },
  {
   "cell_type": "code",
   "execution_count": 210,
   "metadata": {},
   "outputs": [],
   "source": [
    "    \n",
    "n1 = fc.Node.SimpleSupport(x=0, length=20)\n",
    "n2 = fc.Node.SimpleSupport(x=400, length=20)\n",
    "f1 = fc.Load.UniformDistributedLoad(-0.000001, x_begin=0, x_end=1)\n",
    "\n",
    "concrete_beam = fc.ConcreteBeam(\n",
    "    loads = [f1],\n",
    "    nodes = [n1, n2],\n",
    "    section = fc.Rectangle(20,1000),\n",
    "    division = 20\n",
    ")"
   ]
  },
  {
   "cell_type": "code",
   "execution_count": 230,
   "metadata": {},
   "outputs": [],
   "source": [
    "n1 = fc.Node.SimpleSupport(x=0, length=20)\n",
    "n2 = fc.Node.SimpleSupport(x=400, length=20)\n",
    "f1 = fc.Load.UniformDistributedLoad(-0.000001, x_begin=0, x_end=1)\n",
    "concrete_beam = fc.ConcreteBeam(\n",
    "    loads = [f1],\n",
    "    nodes = [n1, n2],\n",
    "    section = fc.Rectangle(20,1000),\n",
    "    division = 20,\n",
    "    available_long_steel_bars = fc.AvailableLongConcreteSteelBar(diameters=[8], max_number=500),\n",
    "    available_transv_steel_bars = fc.AvailableTransvConcreteSteelBar(diameters=[6.3], space_is_multiple_of=[0.01]),\n",
    "    available_concrete = fc.AvailableConcrete(fck=30, aggressiveness=2)\n",
    ")"
   ]
  },
  {
   "cell_type": "code",
   "execution_count": 228,
   "metadata": {},
   "outputs": [
    {
     "data": {
      "text/plain": [
       "[15.0, 32.0, 150.0, 49.596355615579576, '', 25.44, 11.94, 12.22]"
      ]
     },
     "execution_count": 228,
     "metadata": {},
     "output_type": "execute_result"
    }
   ],
   "source": [
    "new_report[-1]"
   ]
  },
  {
   "cell_type": "code",
   "execution_count": 208,
   "metadata": {},
   "outputs": [
    {
     "data": {
      "text/plain": [
       "True"
      ]
     },
     "execution_count": 208,
     "metadata": {},
     "output_type": "execute_result"
    }
   ],
   "source": [
    ">>> uniform_load_1 = fc.Load.UniformDistributedLoad(0.1, 0, 2000)\n",
    ">>> uniform_load_2 = fc.Load.UniformDistributedLoad('10.0kN/m', '0m', '20m')\n",
    ">>> repr(uniform_load_1) == repr(uniform_load_2)"
   ]
  },
  {
   "cell_type": "code",
   "execution_count": 201,
   "metadata": {},
   "outputs": [
    {
     "data": {
      "text/plain": [
       "{'x': 200.0, 'x_begin': 200.0, 'x_end': 200.0, 'force': -10.0, 'momentum': 0.0, 'q': 0.0, 'order': 0, 'displacement': 0}"
      ]
     },
     "execution_count": 201,
     "metadata": {},
     "output_type": "execute_result"
    }
   ],
   "source": [
    "pontual_load_2"
   ]
  },
  {
   "cell_type": "code",
   "execution_count": 89,
   "metadata": {},
   "outputs": [],
   "source": [
    "def concrete_beam_function(width, height, length):\n",
    "    \n",
    "    n1 = fc.Node.SimpleSupport(x=0, length=20)\n",
    "    n2 = fc.Node.SimpleSupport(x=length, length=20)\n",
    "\n",
    "    slab_area = 5*5\n",
    "    kn_per_m2 = 5\n",
    "    distributed_load = -slab_area*kn_per_m2/500\n",
    "    f1 = fc.Load.UniformDistributedLoad(distributed_load, x_begin=0, x_end=length)\n",
    "    pp = fc.Load.UniformDistributedLoad(-width*height*25/100000, x_begin=0, x_end=length)\n",
    "\n",
    "    beam = fc.ConcreteBeam(\n",
    "        loads = [f1, pp],\n",
    "        nodes = [n1, n2],\n",
    "        section = fc.Rectangle(width,height),\n",
    "        bar_steel_max_removal = 100,\n",
    "        transversal_bar_inclination_angle=90,\n",
    "        available_long_steel_bars = fc.AvailableLongConcreteSteelBar(diameters=[8], max_number=500),\n",
    "        available_transv_steel_bars = fc.AvailableTransvConcreteSteelBar(diameters=[6.3], space_is_multiple_of=[1]),\n",
    "        available_concrete = fc.AvailableConcrete(fck=30, aggressiveness=2),\n",
    "        solve_transv_steel = True,\n",
    "        solve_long_steel = True,\n",
    "        solve_ELS = True,\n",
    "        solve_cost = True,\n",
    "        verbose = False,\n",
    "    )\n",
    "    \n",
    "    return beam"
   ]
  },
  {
   "cell_type": "code",
   "execution_count": 90,
   "metadata": {},
   "outputs": [],
   "source": [
    "beam = concrete_beam_function(100, 230, 1000)"
   ]
  },
  {
   "cell_type": "code",
   "execution_count": 91,
   "metadata": {},
   "outputs": [],
   "source": [
    "self = beam"
   ]
  },
  {
   "cell_type": "code",
   "execution_count": 96,
   "metadata": {},
   "outputs": [],
   "source": [
    "last_positive_bars = last_negative_bars = []\n",
    "x_changes = []\n",
    "for x in range(0, 1000):\n",
    "    positive_bars, negative_bars = self.long_steel_bars.getPositiveandNegativeLongSteelBarsInX(x=x)\n",
    "    positive_bars, negative_bars = positive_bars.steel_bars, negative_bars.steel_bars\n",
    "    if not np.array_equal(positive_bars, last_positive_bars):\n",
    "        x_changes = [*x_changes, x]\n",
    "    elif not np.array_equal(negative_bars, last_negative_bars):\n",
    "        x_changes = [*x_changes, x]\n",
    "    last_positive_bars = positive_bars\n",
    "    last_negative_bars = negative_bars\n",
    "    \n",
    "    \n",
    "    "
   ]
  },
  {
   "cell_type": "code",
   "execution_count": 104,
   "metadata": {
    "collapsed": true
   },
   "outputs": [
    {
     "name": "stdout",
     "output_type": "stream",
     "text": [
      "0\n",
      "1\n",
      "3\n",
      "5\n",
      "7\n",
      "9\n",
      "11\n",
      "13\n",
      "15\n",
      "17\n",
      "19\n",
      "21\n",
      "23\n",
      "25\n",
      "28\n",
      "30\n",
      "32\n",
      "34\n",
      "36\n",
      "38\n",
      "40\n",
      "43\n",
      "45\n",
      "47\n",
      "49\n",
      "51\n",
      "54\n",
      "56\n",
      "58\n",
      "60\n",
      "63\n",
      "65\n",
      "67\n",
      "70\n",
      "72\n",
      "74\n",
      "77\n",
      "79\n",
      "82\n",
      "84\n",
      "86\n",
      "89\n",
      "91\n",
      "94\n",
      "96\n",
      "99\n",
      "102\n",
      "104\n",
      "107\n",
      "109\n",
      "112\n",
      "115\n",
      "117\n",
      "120\n",
      "123\n",
      "125\n",
      "128\n",
      "131\n",
      "134\n",
      "137\n",
      "140\n",
      "142\n",
      "145\n",
      "148\n",
      "151\n",
      "154\n",
      "158\n",
      "161\n",
      "164\n",
      "167\n",
      "170\n",
      "831\n",
      "834\n",
      "837\n",
      "840\n",
      "843\n",
      "847\n",
      "850\n",
      "853\n",
      "856\n",
      "859\n",
      "861\n",
      "864\n",
      "867\n",
      "870\n",
      "873\n",
      "876\n",
      "878\n",
      "881\n",
      "884\n",
      "886\n",
      "889\n",
      "892\n",
      "894\n",
      "897\n",
      "899\n",
      "902\n",
      "905\n",
      "907\n",
      "910\n",
      "912\n",
      "915\n",
      "917\n",
      "919\n",
      "922\n",
      "924\n",
      "927\n",
      "929\n",
      "931\n",
      "934\n",
      "936\n",
      "938\n",
      "941\n",
      "943\n",
      "945\n",
      "947\n",
      "950\n",
      "952\n",
      "954\n",
      "956\n",
      "958\n",
      "961\n",
      "963\n",
      "965\n",
      "967\n",
      "969\n",
      "971\n",
      "973\n",
      "976\n",
      "978\n",
      "980\n",
      "982\n",
      "984\n",
      "986\n",
      "988\n",
      "990\n",
      "992\n",
      "994\n",
      "996\n",
      "998\n"
     ]
    }
   ],
   "source": [
    "for i in range(0, len(x_changes)-1):\n",
    "    current_x = x_changes[i]\n",
    "    next_x = x_changes[i+1]\n",
    "    transversal_position = positive_bars.getBarTransversalPosition(self, x=(current_x+next_x)/2)\n",
    "    _, y, _, area = transversal_position.T\n",
    "    y_c = (y @ area)/sum(area)\n",
    "    section.d = section.height - y_c\n",
    "    self.beam_elements = self.beam_elements.split(next_x)\n",
    "    \n",
    "    \n",
    "    \n",
    "\n",
    "    "
   ]
  },
  {
   "cell_type": "code",
   "execution_count": 110,
   "metadata": {},
   "outputs": [
    {
     "data": {
      "text/plain": [
       "[{'x': 0.0, 'condition_boundary': [0, 1], 'length': 20}\n",
       " {'x': 1000.0, 'condition_boundary': [0, 1], 'length': 20}\n",
       "]"
      ]
     },
     "execution_count": 110,
     "metadata": {},
     "output_type": "execute_result"
    }
   ],
   "source": [
    "self.beam_elements.nodes"
   ]
  },
  {
   "cell_type": "code",
   "execution_count": 113,
   "metadata": {},
   "outputs": [
    {
     "ename": "NameError",
     "evalue": "name 'section' is not defined",
     "output_type": "error",
     "traceback": [
      "\u001b[0;31m---------------------------------------------------------------------------\u001b[0m",
      "\u001b[0;31mNameError\u001b[0m                                 Traceback (most recent call last)",
      "\u001b[0;32m<ipython-input-113-177f785f054a>\u001b[0m in \u001b[0;36m<module>\u001b[0;34m\u001b[0m\n\u001b[1;32m      2\u001b[0m \u001b[0mnodes\u001b[0m \u001b[0;34m=\u001b[0m \u001b[0mself\u001b[0m\u001b[0;34m.\u001b[0m\u001b[0mbeam_elements\u001b[0m\u001b[0;34m.\u001b[0m\u001b[0mnodes\u001b[0m\u001b[0;34m\u001b[0m\u001b[0m\n\u001b[1;32m      3\u001b[0m \u001b[0;32mfor\u001b[0m \u001b[0mi\u001b[0m \u001b[0;32min\u001b[0m \u001b[0mrange\u001b[0m\u001b[0;34m(\u001b[0m\u001b[0;36m0\u001b[0m\u001b[0;34m,\u001b[0m\u001b[0mlen\u001b[0m\u001b[0;34m(\u001b[0m\u001b[0mself\u001b[0m\u001b[0;34m.\u001b[0m\u001b[0mbeam_elements\u001b[0m\u001b[0;34m.\u001b[0m\u001b[0mnodes\u001b[0m\u001b[0;34m)\u001b[0m\u001b[0;34m-\u001b[0m\u001b[0;36m1\u001b[0m\u001b[0;34m)\u001b[0m\u001b[0;34m:\u001b[0m\u001b[0;34m\u001b[0m\u001b[0m\n\u001b[0;32m----> 4\u001b[0;31m     \u001b[0mbeam_elements\u001b[0m \u001b[0;34m=\u001b[0m \u001b[0;34m[\u001b[0m\u001b[0;34m*\u001b[0m\u001b[0mbeam_elements\u001b[0m\u001b[0;34m,\u001b[0m \u001b[0mfc\u001b[0m\u001b[0;34m.\u001b[0m\u001b[0mBeamElement\u001b[0m\u001b[0;34m(\u001b[0m\u001b[0;34m[\u001b[0m\u001b[0mnodes\u001b[0m\u001b[0;34m[\u001b[0m\u001b[0mi\u001b[0m\u001b[0;34m]\u001b[0m\u001b[0;34m,\u001b[0m \u001b[0mnodes\u001b[0m\u001b[0;34m[\u001b[0m\u001b[0mi\u001b[0m\u001b[0;34m+\u001b[0m\u001b[0;36m1\u001b[0m\u001b[0;34m]\u001b[0m\u001b[0;34m]\u001b[0m\u001b[0;34m,\u001b[0m \u001b[0msection\u001b[0m\u001b[0;34m,\u001b[0m \u001b[0mmaterial\u001b[0m\u001b[0;34m)\u001b[0m\u001b[0;34m]\u001b[0m\u001b[0;34m\u001b[0m\u001b[0m\n\u001b[0m",
      "\u001b[0;31mNameError\u001b[0m: name 'section' is not defined"
     ]
    }
   ],
   "source": [
    "beam_elements = []\n",
    "nodes = self.beam_elements.nodes\n",
    "for beam_element, i in zip(self.beam_elements, range(0,len(self.beam_elements)):\n",
    "    beam_elements = \n",
    "    n1, n2 = self.beam_elements.nodes[i], self.beam_elements.nodes[i+1]\n",
    "                           \n",
    "    \n",
    "    section, material = beam_element.section, beam_element.material\n",
    "                           \n",
    "    transversal_position = positive_bars.getBarTransversalPosition(self, x=(current_x+next_x)/2)\n",
    "    _, y, _, area = transversal_position.T\n",
    "    y_c = (y @ area)/sum(area)\n",
    "    section.d = section.height - y_c\n",
    "                           \n",
    "    section.d =                  \n",
    "    beam_elements = [*beam_elements, fc.BeamElement([n1, n2], section, material)]"
   ]
  },
  {
   "cell_type": "code",
   "execution_count": 94,
   "metadata": {},
   "outputs": [
    {
     "data": {
      "image/png": "[encoded data removed]",
      "text/plain": [
       "<Figure size 1800x720 with 1 Axes>"
      ]
     },
     "metadata": {
      "needs_background": "light"
     },
     "output_type": "display_data"
    }
   ],
   "source": [
    "beam.long_steel_bars.plot()"
   ]
  },
  {
   "cell_type": "code",
   "execution_count": 20,
   "metadata": {},
   "outputs": [],
   "source": [
    "transversal_position = positive_bars.getBarTransversalPosition(self, x=500)\n",
    "x, y, radius, area = transversal_position.T\n",
    "x_c = (x @ area)/sum(area) #should be always 0\n",
    "y_c = (y @ area)/sum(area)"
   ]
  },
  {
   "cell_type": "code",
   "execution_count": 21,
   "metadata": {},
   "outputs": [
    {
     "data": {
      "text/plain": [
       "14.366196319018407"
      ]
     },
     "execution_count": 21,
     "metadata": {},
     "output_type": "execute_result"
    }
   ],
   "source": [
    "y_c"
   ]
  },
  {
   "cell_type": "code",
   "execution_count": null,
   "metadata": {},
   "outputs": [],
   "source": []
  },
  {
   "cell_type": "code",
   "execution_count": 9,
   "metadata": {},
   "outputs": [
    {
     "data": {
      "image/png": "[encoded data removed]",
      "text/plain": [
       "<Figure size 1800x720 with 1 Axes>"
      ]
     },
     "metadata": {
      "needs_background": "light"
     },
     "output_type": "display_data"
    }
   ],
   "source": [
    "beam.plotTransversalInX(500)"
   ]
  },
  {
   "cell_type": "code",
   "execution_count": 39,
   "metadata": {
    "scrolled": true
   },
   "outputs": [
    {
     "name": "stdout",
     "output_type": "stream",
     "text": [
      "Progress: |██████████████████████████████████████████████████| 100.0% Complete\n",
      "\n",
      " Ended in step 16 out of 37249. Because max_steps_without_decrease was reached.\n",
      "Progress: |██████████████████████████████████████████████████| 100.0% Complete\n",
      "\n",
      " Ended in step 54 out of 37249. Because max_steps_without_decrease was reached.\n",
      "Progress: |██████████████████████████████████████████████████| 100.0% Complete\n",
      "\n",
      " Ended in step 71 out of 36477. Because max_steps_without_decrease was reached.\n",
      "Progress: |██████████████████████████████████████████████████| 100.0% Complete\n",
      "\n",
      " Ended in step 68 out of 35126. Because max_steps_without_decrease was reached.\n",
      "Progress: |██████████████████████████████████████████████████| 100.0% Complete\n",
      "\n",
      " Ended in step 58 out of 33389. Because max_steps_without_decrease was reached.\n",
      "Progress: |██████████████████████████████████████████████████| 100.0% Complete\n",
      "\n",
      " Ended in step 60 out of 31652. Because max_steps_without_decrease was reached.\n",
      "Progress: |██████████████████████████████████████████████████| 100.0% Complete\n",
      "\n",
      " Ended in step 56 out of 29529. Because max_steps_without_decrease was reached.\n",
      "Progress: |██████████████████████████████████████████████████| 100.0% Complete\n",
      "\n",
      " Ended in step 58 out of 27213. Because max_steps_without_decrease was reached.\n",
      "Progress: |██████████████████████████████████████████████████| 100.0% Complete\n",
      "\n",
      " Ended in step 53 out of 24511. Because max_steps_without_decrease was reached.\n",
      "Progress: |██████████████████████████████████████████████████| 100.0% Complete\n",
      "\n",
      " Ended in step 57 out of 21809. Because max_steps_without_decrease was reached.\n",
      "Progress: |██████████████████████████████████████████████████| 100.0% Complete\n",
      "\n",
      " Ended in step 59 out of 18721. Because max_steps_without_decrease was reached.\n",
      "Progress: |██████████████████████████████████████████████████| 100.0% Complete\n",
      "\n",
      " Ended in step 58 out of 15247. Because max_steps_without_decrease was reached.\n",
      "Progress: |██████████████████████████████████████████████████| 100.0% Complete\n",
      "\n",
      " Ended in step 55 out of 11580. Because max_steps_without_decrease was reached.\n",
      "Progress: |██████████████████████████████████████████████████| 100.0% Complete\n",
      "\n",
      " Ended in step 56 out of 7720. Because max_steps_without_decrease was reached.\n",
      "Progress: |██████████████████████████████████████████████████| 100.0% Complete\n",
      "\n",
      " Ended in step 162 out of 3474. Because max_steps_without_decrease was reached.\n",
      "Progress: |██████████████████████████████████████████████████| 100.0% Complete\n"
     ]
    }
   ],
   "source": [
    "report = []\n",
    "width_start, height_start = 15, 15\n",
    "for length in np.arange(100, 2100, 100): #2100\n",
    "    new_report = fc.Analysis.getBestSolution(concrete_beam_function,\n",
    "                                             max_steps_without_decrease=15,\n",
    "                                             avoid_estimate=True,\n",
    "                                             sort_by_multiplication=True,\n",
    "                                             width=(width_start, 400, 2),\n",
    "                                             height=(height_start, 400, 2),\n",
    "                                             length=[length])\n",
    "    report = [*report, *new_report]\n",
    "    \n",
    "    report_parcial = [ report_line[0:-4] for report_line in new_report if report_line[3] not in (-1, \"cost\") ]\n",
    "    report_parcial = np.array(report_parcial)\n",
    "    if len(report_parcial) == 0: break\n",
    "    minor_cost = report_parcial[np.argsort(report_parcial[:,3])][0][:-1]\n",
    "    width_start, height_start = max(minor_cost[0]-4, 15), max(minor_cost[1]-4, 15)\n",
    "\n",
    "    "
   ]
  },
  {
   "cell_type": "code",
   "execution_count": 50,
   "metadata": {},
   "outputs": [],
   "source": [
    "df = pd.DataFrame(report)\n",
    "df.columns = df.iloc[0]\n",
    "df = df[df[\"cost\"] != \"cost\"]\n",
    "\n",
    "df[\"cost\"] = df[\"cost\"].astype('float')\n",
    "df[\"Concrete\"] = df[\"Concrete\"].astype('float')\n",
    "df[\"Longitudinal bar\"] = df[\"Longitudinal bar\"].astype('float')\n",
    "df[\"Transversal bar\"] = df[\"Transversal bar\"].astype('float')\n",
    "\n",
    "lowest_cost = pd.DataFrame(columns=df.columns)\n",
    "for length in df[\"length\"].unique():\n",
    "    df_parcial = df[df[\"length\"] == length]\n",
    "    if sum(df_parcial[\"cost\"] != -1)==0:\n",
    "        continue\n",
    "    min_cost = min(df_parcial[(df_parcial[\"cost\"] != -1)][\"cost\"])\n",
    "    df_parcial = df_parcial[df_parcial[\"cost\"] == min_cost]\n",
    "    lowest_cost.loc[length] = df_parcial.iloc[0]\n",
    "\n",
    "lowest_cost_merge = lowest_cost.copy()\n",
    "lowest_cost_merge[\"lowest_cost_length\"] = lowest_cost_merge[\"cost\"]\n",
    "lowest_cost_merge = lowest_cost_merge[[\"length\", \"lowest_cost_length\"]]\n",
    "df = df.merge(lowest_cost_merge, on=\"length\")\n",
    "df[\"lowest_cost_length\"] = df[\"cost\"] == df[\"lowest_cost_length\"]"
   ]
  },
  {
   "cell_type": "code",
   "execution_count": 51,
   "metadata": {},
   "outputs": [],
   "source": [
    "#df.to_csv(\"Simple supported multiple tests.csv\", sep=\";\",encoding='utf-8-sig', decimal=\",\")\n"
   ]
  },
  {
   "cell_type": "code",
   "execution_count": 29,
   "metadata": {},
   "outputs": [
    {
     "data": {
      "image/png": "[encoded data removed]",
      "text/plain": [
       "<Figure size 1800x720 with 1 Axes>"
      ]
     },
     "metadata": {
      "needs_background": "light"
     },
     "output_type": "display_data"
    }
   ],
   "source": [
    "for length in [df[\"length\"].unique()[3]]:\n",
    "    df_parcial = df[df[\"length\"] == length]\n",
    "    min_cost = min(df_parcial[(df_parcial[\"cost\"] != -1)][\"cost\"])\n",
    "    df_parcial = df_parcial[df_parcial[\"cost\"] >= min_cost]\n",
    "    data = {'a': df_parcial[\"width\"],\n",
    "        'b': df_parcial[\"height\"],\n",
    "        's': 100*(df_parcial[\"cost\"].replace(-1, min_cost)-min_cost+0.1),\n",
    "        #\"s\": df_parcial[\"cost\"].replace(-1, min_cost),\n",
    "        \"c\": (df_parcial[\"cost\"] == -1).map({True: \"r\", False: \"b\"})\n",
    "       }\n",
    "\n",
    "    for x, y, i in zip(df_parcial[\"width\"],df_parcial[\"height\"], range(1, len(df_parcial[\"height\"])+1)):\n",
    "        plt.text(x, y, i, fontsize=12, horizontalalignment='center', verticalalignment='center',\n",
    "                 color=\"white\", path_effects=[pe.withStroke(linewidth=1, foreground='black')])\n",
    "    \n",
    "    plt.scatter('a', 'b', s=\"s\", c=\"c\", data=data)\n",
    "    \n",
    "    \n",
    "    plt.xlabel('entry a')\n",
    "    plt.ylabel('entry b')\n",
    "    plt.show()"
   ]
  },
  {
   "cell_type": "code",
   "execution_count": 42,
   "metadata": {},
   "outputs": [
    {
     "data": {
      "text/html": [
       "<div>\n",
       "<style scoped>\n",
       "    .dataframe tbody tr th:only-of-type {\n",
       "        vertical-align: middle;\n",
       "    }\n",
       "\n",
       "    .dataframe tbody tr th {\n",
       "        vertical-align: top;\n",
       "    }\n",
       "\n",
       "    .dataframe thead th {\n",
       "        text-align: right;\n",
       "    }\n",
       "</style>\n",
       "<table border=\"1\" class=\"dataframe\">\n",
       "  <thead>\n",
       "    <tr style=\"text-align: right;\">\n",
       "      <th></th>\n",
       "      <th>width</th>\n",
       "      <th>height</th>\n",
       "      <th>length</th>\n",
       "      <th>cost</th>\n",
       "      <th>error</th>\n",
       "      <th>Concrete</th>\n",
       "      <th>Longitudinal bar</th>\n",
       "      <th>Transversal bar</th>\n",
       "    </tr>\n",
       "  </thead>\n",
       "  <tbody>\n",
       "    <tr>\n",
       "      <th>100.0</th>\n",
       "      <td>15.0</td>\n",
       "      <td>15.0</td>\n",
       "      <td>100.0</td>\n",
       "      <td>17.056447</td>\n",
       "      <td></td>\n",
       "      <td>7.95</td>\n",
       "      <td>5.77</td>\n",
       "      <td>3.33</td>\n",
       "    </tr>\n",
       "    <tr>\n",
       "      <th>200.0</th>\n",
       "      <td>15.0</td>\n",
       "      <td>27.0</td>\n",
       "      <td>200.0</td>\n",
       "      <td>60.049609</td>\n",
       "      <td></td>\n",
       "      <td>28.62</td>\n",
       "      <td>22.30</td>\n",
       "      <td>9.13</td>\n",
       "    </tr>\n",
       "    <tr>\n",
       "      <th>300.0</th>\n",
       "      <td>15.0</td>\n",
       "      <td>41.0</td>\n",
       "      <td>300.0</td>\n",
       "      <td>135.851519</td>\n",
       "      <td></td>\n",
       "      <td>65.18</td>\n",
       "      <td>52.66</td>\n",
       "      <td>18.01</td>\n",
       "    </tr>\n",
       "    <tr>\n",
       "      <th>400.0</th>\n",
       "      <td>15.0</td>\n",
       "      <td>59.0</td>\n",
       "      <td>400.0</td>\n",
       "      <td>253.526718</td>\n",
       "      <td></td>\n",
       "      <td>125.07</td>\n",
       "      <td>97.06</td>\n",
       "      <td>31.40</td>\n",
       "    </tr>\n",
       "    <tr>\n",
       "      <th>500.0</th>\n",
       "      <td>15.0</td>\n",
       "      <td>77.0</td>\n",
       "      <td>500.0</td>\n",
       "      <td>418.332898</td>\n",
       "      <td></td>\n",
       "      <td>204.03</td>\n",
       "      <td>163.40</td>\n",
       "      <td>50.90</td>\n",
       "    </tr>\n",
       "    <tr>\n",
       "      <th>600.0</th>\n",
       "      <td>15.0</td>\n",
       "      <td>99.0</td>\n",
       "      <td>600.0</td>\n",
       "      <td>646.400865</td>\n",
       "      <td></td>\n",
       "      <td>314.79</td>\n",
       "      <td>250.93</td>\n",
       "      <td>80.68</td>\n",
       "    </tr>\n",
       "    <tr>\n",
       "      <th>700.0</th>\n",
       "      <td>15.0</td>\n",
       "      <td>123.0</td>\n",
       "      <td>700.0</td>\n",
       "      <td>943.328131</td>\n",
       "      <td></td>\n",
       "      <td>456.29</td>\n",
       "      <td>368.11</td>\n",
       "      <td>118.93</td>\n",
       "    </tr>\n",
       "    <tr>\n",
       "      <th>800.0</th>\n",
       "      <td>15.0</td>\n",
       "      <td>151.0</td>\n",
       "      <td>800.0</td>\n",
       "      <td>1330.056170</td>\n",
       "      <td></td>\n",
       "      <td>640.18</td>\n",
       "      <td>512.67</td>\n",
       "      <td>177.20</td>\n",
       "    </tr>\n",
       "    <tr>\n",
       "      <th>900.0</th>\n",
       "      <td>15.0</td>\n",
       "      <td>179.0</td>\n",
       "      <td>900.0</td>\n",
       "      <td>1805.191314</td>\n",
       "      <td></td>\n",
       "      <td>853.75</td>\n",
       "      <td>699.43</td>\n",
       "      <td>252.01</td>\n",
       "    </tr>\n",
       "    <tr>\n",
       "      <th>1000.0</th>\n",
       "      <td>15.0</td>\n",
       "      <td>211.0</td>\n",
       "      <td>1000.0</td>\n",
       "      <td>2390.466405</td>\n",
       "      <td></td>\n",
       "      <td>1118.19</td>\n",
       "      <td>926.47</td>\n",
       "      <td>345.80</td>\n",
       "    </tr>\n",
       "    <tr>\n",
       "      <th>1100.0</th>\n",
       "      <td>15.0</td>\n",
       "      <td>247.0</td>\n",
       "      <td>1100.0</td>\n",
       "      <td>3122.657141</td>\n",
       "      <td></td>\n",
       "      <td>1439.87</td>\n",
       "      <td>1201.09</td>\n",
       "      <td>481.69</td>\n",
       "    </tr>\n",
       "    <tr>\n",
       "      <th>1200.0</th>\n",
       "      <td>15.0</td>\n",
       "      <td>285.0</td>\n",
       "      <td>1200.0</td>\n",
       "      <td>3994.000173</td>\n",
       "      <td></td>\n",
       "      <td>1812.43</td>\n",
       "      <td>1537.56</td>\n",
       "      <td>644.01</td>\n",
       "    </tr>\n",
       "    <tr>\n",
       "      <th>1300.0</th>\n",
       "      <td>15.0</td>\n",
       "      <td>325.0</td>\n",
       "      <td>1300.0</td>\n",
       "      <td>5012.648842</td>\n",
       "      <td></td>\n",
       "      <td>2239.04</td>\n",
       "      <td>1921.45</td>\n",
       "      <td>852.16</td>\n",
       "    </tr>\n",
       "    <tr>\n",
       "      <th>1400.0</th>\n",
       "      <td>15.0</td>\n",
       "      <td>369.0</td>\n",
       "      <td>1400.0</td>\n",
       "      <td>6243.583790</td>\n",
       "      <td></td>\n",
       "      <td>2737.72</td>\n",
       "      <td>2385.61</td>\n",
       "      <td>1120.25</td>\n",
       "    </tr>\n",
       "    <tr>\n",
       "      <th>1500.0</th>\n",
       "      <td>23.0</td>\n",
       "      <td>399.0</td>\n",
       "      <td>1500.0</td>\n",
       "      <td>11104.563801</td>\n",
       "      <td></td>\n",
       "      <td>4863.35</td>\n",
       "      <td>4205.08</td>\n",
       "      <td>2036.14</td>\n",
       "    </tr>\n",
       "  </tbody>\n",
       "</table>\n",
       "</div>"
      ],
      "text/plain": [
       "0       width  height  length          cost error  Concrete  Longitudinal bar  \\\n",
       "100.0    15.0    15.0   100.0     17.056447            7.95              5.77   \n",
       "200.0    15.0    27.0   200.0     60.049609           28.62             22.30   \n",
       "300.0    15.0    41.0   300.0    135.851519           65.18             52.66   \n",
       "400.0    15.0    59.0   400.0    253.526718          125.07             97.06   \n",
       "500.0    15.0    77.0   500.0    418.332898          204.03            163.40   \n",
       "600.0    15.0    99.0   600.0    646.400865          314.79            250.93   \n",
       "700.0    15.0   123.0   700.0    943.328131          456.29            368.11   \n",
       "800.0    15.0   151.0   800.0   1330.056170          640.18            512.67   \n",
       "900.0    15.0   179.0   900.0   1805.191314          853.75            699.43   \n",
       "1000.0   15.0   211.0  1000.0   2390.466405         1118.19            926.47   \n",
       "1100.0   15.0   247.0  1100.0   3122.657141         1439.87           1201.09   \n",
       "1200.0   15.0   285.0  1200.0   3994.000173         1812.43           1537.56   \n",
       "1300.0   15.0   325.0  1300.0   5012.648842         2239.04           1921.45   \n",
       "1400.0   15.0   369.0  1400.0   6243.583790         2737.72           2385.61   \n",
       "1500.0   23.0   399.0  1500.0  11104.563801         4863.35           4205.08   \n",
       "\n",
       "0       Transversal bar  \n",
       "100.0              3.33  \n",
       "200.0              9.13  \n",
       "300.0             18.01  \n",
       "400.0             31.40  \n",
       "500.0             50.90  \n",
       "600.0             80.68  \n",
       "700.0            118.93  \n",
       "800.0            177.20  \n",
       "900.0            252.01  \n",
       "1000.0           345.80  \n",
       "1100.0           481.69  \n",
       "1200.0           644.01  \n",
       "1300.0           852.16  \n",
       "1400.0          1120.25  \n",
       "1500.0          2036.14  "
      ]
     },
     "execution_count": 42,
     "metadata": {},
     "output_type": "execute_result"
    }
   ],
   "source": [
    "lowest_cost"
   ]
  },
  {
   "cell_type": "code",
   "execution_count": 43,
   "metadata": {},
   "outputs": [
    {
     "data": {
      "text/plain": [
       "[<matplotlib.lines.Line2D at 0x11bef2080>]"
      ]
     },
     "execution_count": 43,
     "metadata": {},
     "output_type": "execute_result"
    },
    {
     "data": {
      "image/png": "[encoded data removed]",
      "text/plain": [
       "<Figure size 1800x720 with 1 Axes>"
      ]
     },
     "metadata": {
      "needs_background": "light"
     },
     "output_type": "display_data"
    }
   ],
   "source": [
    "plt.plot(lowest_cost[\"height\"], lowest_cost[\"length\"])"
   ]
  },
  {
   "cell_type": "code",
   "execution_count": 44,
   "metadata": {},
   "outputs": [
    {
     "data": {
      "text/plain": [
       "100.0     6.666667\n",
       "200.0     7.407407\n",
       "300.0     7.317073\n",
       "400.0     6.779661\n",
       "500.0     6.493506\n",
       "600.0     6.060606\n",
       "700.0     5.691057\n",
       "800.0     5.298013\n",
       "900.0     5.027933\n",
       "1000.0    4.739336\n",
       "1100.0    4.453441\n",
       "1200.0    4.210526\n",
       "1300.0    4.000000\n",
       "1400.0    3.794038\n",
       "1500.0    3.759398\n",
       "dtype: float64"
      ]
     },
     "execution_count": 44,
     "metadata": {},
     "output_type": "execute_result"
    }
   ],
   "source": [
    "lowest_cost[\"length\"]/lowest_cost[\"height\"]"
   ]
  },
  {
   "cell_type": "code",
   "execution_count": 48,
   "metadata": {},
   "outputs": [
    {
     "data": {
      "text/plain": [
       "[<matplotlib.lines.Line2D at 0x119efbda0>]"
      ]
     },
     "execution_count": 48,
     "metadata": {},
     "output_type": "execute_result"
    },
    {
     "data": {
      "image/png": "[encoded data removed]",
      "text/plain": [
       "<Figure size 1800x720 with 1 Axes>"
      ]
     },
     "metadata": {
      "needs_background": "light"
     },
     "output_type": "display_data"
    }
   ],
   "source": [
    "plt.plot(lowest_cost[\"length\"], lowest_cost[\"cost\"], \"-x\")"
   ]
  },
  {
   "cell_type": "code",
   "execution_count": 49,
   "metadata": {},
   "outputs": [
    {
     "data": {
      "text/plain": [
       "100.0     0.170564\n",
       "200.0     0.300248\n",
       "300.0     0.452838\n",
       "400.0     0.633817\n",
       "500.0     0.836666\n",
       "600.0     1.077335\n",
       "700.0     1.347612\n",
       "800.0     1.662570\n",
       "900.0     2.005768\n",
       "1000.0    2.390466\n",
       "1100.0    2.838779\n",
       "1200.0    3.328333\n",
       "1300.0    3.855884\n",
       "1400.0    4.459703\n",
       "1500.0    7.403043\n",
       "dtype: float64"
      ]
     },
     "execution_count": 49,
     "metadata": {},
     "output_type": "execute_result"
    }
   ],
   "source": [
    "lowest_cost[\"cost\"]/lowest_cost[\"length\"]"
   ]
  },
  {
   "cell_type": "code",
   "execution_count": 37,
   "metadata": {},
   "outputs": [
    {
     "data": {
      "image/png": "[encoded data removed]",
      "text/plain": [
       "<Figure size 1800x720 with 1 Axes>"
      ]
     },
     "metadata": {
      "needs_background": "light"
     },
     "output_type": "display_data"
    }
   ],
   "source": [
    "#for length in lowest_cost[\"length\"]:\n",
    "df_parcial = lowest_cost\n",
    "min_cost = min(df_parcial[(df_parcial[\"cost\"] != -1)][\"cost\"])\n",
    "df_parcial = df_parcial[df_parcial[\"cost\"] >= min_cost]\n",
    "data = {'a': df_parcial[\"width\"],\n",
    "    'b': df_parcial[\"height\"],\n",
    "    's': 100*(df_parcial[\"cost\"].replace(-1, min_cost)-min_cost+0.1),\n",
    "    #\"s\": df_parcial[\"cost\"].replace(-1, min_cost),\n",
    "    \"c\": (df_parcial[\"cost\"] == -1).map({True: \"r\", False: \"b\"})\n",
    "   }\n",
    "\n",
    "for x, y, i in zip(df_parcial[\"width\"],df_parcial[\"height\"], range(1, len(df_parcial[\"height\"])+1)):\n",
    "    plt.text(x, y, i, fontsize=12, horizontalalignment='center', verticalalignment='center',\n",
    "             color=\"white\", path_effects=[pe.withStroke(linewidth=1, foreground='black')])\n",
    "\n",
    "plt.scatter('a', 'b', s=\"s\", c=\"c\", data=data)\n",
    "\n",
    "\n",
    "plt.xlabel('entry a')\n",
    "plt.ylabel('entry b')\n",
    "plt.show()"
   ]
  },
  {
   "cell_type": "code",
   "execution_count": 167,
   "metadata": {},
   "outputs": [
    {
     "data": {
      "text/plain": [
       "[<matplotlib.lines.Line2D at 0x11894eb70>]"
      ]
     },
     "execution_count": 167,
     "metadata": {},
     "output_type": "execute_result"
    },
    {
     "data": {
      "image/png": "[encoded data removed]",
      "text/plain": [
       "<Figure size 1800x720 with 1 Axes>"
      ]
     },
     "metadata": {
      "needs_background": "light"
     },
     "output_type": "display_data"
    }
   ],
   "source": [
    "plt.plot(df[\"width\"],df[\"cost\"])\n"
   ]
  }
 ],
 "metadata": {
  "kernelspec": {
   "display_name": "Python 3",
   "language": "python",
   "name": "python3"
  },
  "language_info": {
   "codemirror_mode": {
    "name": "ipython",
    "version": 3
   },
   "file_extension": ".py",
   "mimetype": "text/x-python",
   "name": "python",
   "nbconvert_exporter": "python",
   "pygments_lexer": "ipython3",
   "version": "3.6.6"
  }
 },
 "nbformat": 4,
 "nbformat_minor": 2
}
