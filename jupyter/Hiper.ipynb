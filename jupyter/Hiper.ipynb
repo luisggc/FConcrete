{
 "cells": [
  {
   "cell_type": "code",
   "execution_count": 1,
   "metadata": {},
   "outputs": [],
   "source": [
    "#%matplotlib inline\n",
    "#%matplotlib gtk\n",
    "import sys\n",
    "sys.path.insert(0, '../')\n",
    "from pytest import approx\n",
    "import fconcrete as fc\n",
    "#import fconcrete\n",
    "#from fconcrete import helpers, duplicated, Material, e, Beam, Node, Loads, Nodes, Load,Material, ConcreteBeam, SingleBeamElement, Rectangle, Concrete, Section, ConcreteSteels\n",
    "import matplotlib.pyplot as plt\n",
    "import numpy as np\n",
    "np.set_printoptions(precision=3, suppress=True, linewidth=3000)\n",
    "\n",
    "#from math import log\n",
    "\n",
    "# Tension in MPa\n",
    "# length in cm\n",
    "# Shear in kN"
   ]
  },
  {
   "cell_type": "code",
   "execution_count": 2,
   "metadata": {},
   "outputs": [],
   "source": [
    "material = fc.Concrete(fck='20 MPa', aggressiveness=2)\n",
    "section = fc.Rectangle(25,56, material)\n",
    "\n",
    "f1 = fc.Load.UniformDistributedLoad(-0.1622, x_begin=0, x_end=113)\n",
    "f2 = fc.Load.UniformDistributedLoad(-0.4994, x_begin=113, x_end=583)\n",
    "f3 = fc.Load.UniformDistributedLoad(-0.4196, x_begin=583, x_end=1188)\n",
    "\n",
    "n1 = fc.Node.SimpleSupport(x=0)\n",
    "n2 = fc.Node.SimpleSupport(x=113)\n",
    "n3 = fc.Node.SimpleSupport(x=583)\n",
    "n4 = fc.Node.SimpleSupport(x=1188)\n",
    "\n",
    "bar1 = fc.SingleBeamElement([n1, n2], section)\n",
    "bar2 = fc.SingleBeamElement([n2, n3], section)\n",
    "bar3 = fc.SingleBeamElement([n3, n4], section)\n",
    "\n",
    "fc.config.available_material = {\n",
    "\"concrete_steel_bars\":fc.AvailableConcreteSteelBar(\n",
    "        diameters=[8]\n",
    ")}\n",
    "    \n",
    "beam = fc.ConcreteBeam(\n",
    "    loads = [f1, f2, f3],\n",
    "    beam_elements = [bar1, bar2, bar3],\n",
    "    bar_steel_removal_step = 2\n",
    ")\n",
    "self = beam"
   ]
  },
  {
   "cell_type": "code",
   "execution_count": 3,
   "metadata": {},
   "outputs": [
    {
     "data": {
      "text/plain": [
       "[{'long_begin': -25.310800830830832, 'long_end': 200.12162869869871, 'quantity': 2, 'diameter': -0.8, 'area': -1.0}\n",
       " {'long_begin': 34.14865762762763, 'long_end': 168.01352113113114, 'quantity': 4, 'diameter': -0.8, 'area': -2.0}\n",
       " {'long_begin': 83.24325184184184, 'long_end': 141.17568285285284, 'quantity': 5, 'diameter': -0.8, 'area': -2.5}\n",
       " {'long_begin': 148.31081786786788, 'long_end': 454.6081109009009, 'quantity': 5, 'diameter': 0.8, 'area': 2.5}\n",
       " {'long_begin': 402.79730007007004, 'long_end': 733.7297273773773, 'quantity': 2, 'diameter': -0.8, 'area': -1.0}\n",
       " {'long_begin': 402.79730007007004, 'long_end': 733.7297273773773, 'quantity': 2, 'diameter': -0.8, 'area': -1.0}\n",
       " {'long_begin': 434.391895025025, 'long_end': 711.4729714414414, 'quantity': 4, 'diameter': -0.8, 'area': -2.0}\n",
       " {'long_begin': 434.391895025025, 'long_end': 711.4729714414414, 'quantity': 4, 'diameter': -0.8, 'area': -2.0}\n",
       " {'long_begin': 461.0675693593593, 'long_end': 691.2567555655655, 'quantity': 6, 'diameter': -0.8, 'area': -3.0}\n",
       " {'long_begin': 461.0675693593593, 'long_end': 691.2567555655655, 'quantity': 6, 'diameter': -0.8, 'area': -3.0}\n",
       " {'long_begin': 484.85135274274273, 'long_end': 672.7432414714715, 'quantity': 8, 'diameter': -0.8, 'area': -4.0}\n",
       " {'long_begin': 484.85135274274273, 'long_end': 672.7432414714715, 'quantity': 8, 'diameter': -0.8, 'area': -4.0}\n",
       " {'long_begin': 505.74324517517516, 'long_end': 654.9054039339339, 'quantity': 10, 'diameter': -0.8, 'area': -5.0}\n",
       " {'long_begin': 505.74324517517516, 'long_end': 654.9054039339339, 'quantity': 10, 'diameter': -0.8, 'area': -5.0}\n",
       " {'long_begin': 525.2837844944945, 'long_end': 637.743242952953, 'quantity': 12, 'diameter': -0.8, 'area': -6.0}\n",
       " {'long_begin': 525.2837844944945, 'long_end': 637.743242952953, 'quantity': 12, 'diameter': -0.8, 'area': -6.0}\n",
       " {'long_begin': 543.121622032032, 'long_end': 621.6081071971972, 'quantity': 14, 'diameter': -0.8, 'area': -7.0}\n",
       " {'long_begin': 543.121622032032, 'long_end': 621.6081071971972, 'quantity': 14, 'diameter': -0.8, 'area': -7.0}\n",
       " {'long_begin': 681.4054039339339, 'long_end': 1213.3108008308309, 'quantity': 5, 'diameter': 0.8, 'area': 2.5}\n",
       " {'long_begin': 747.1486465165165, 'long_end': 1148.418909139139, 'quantity': 7, 'diameter': 0.8, 'area': 3.5}\n",
       " {'long_begin': 781.6351324224224, 'long_end': 1113.4189106206206, 'quantity': 9, 'diameter': 0.8, 'area': 4.5}\n",
       " {'long_begin': 828.5270226326326, 'long_end': 1067.040533023023, 'quantity': 11, 'diameter': 0.8, 'area': 5.5}\n",
       "]"
      ]
     },
     "execution_count": 3,
     "metadata": {},
     "output_type": "execute_result"
    }
   ],
   "source": [
    "self.steel_bars"
   ]
  },
  {
   "cell_type": "markdown",
   "metadata": {},
   "source": [
    "### Decaleged Behaviour"
   ]
  },
  {
   "cell_type": "code",
   "execution_count": 5,
   "metadata": {},
   "outputs": [
    {
     "data": {
      "image/png": "[encoded data removed]",
      "text/plain": [
       "<Figure size 432x288 with 1 Axes>"
      ]
     },
     "metadata": {
      "needs_background": "light"
     },
     "output_type": "display_data"
    }
   ],
   "source": [
    "x, yp, yn = beam.getSteelAreaDiagram()\n",
    "plt.plot(x, yp, 'b-')\n",
    "plt.plot(x, yn, 'b-')\n",
    "self.steel_bars.plot(\"area\")"
   ]
  }
 ],
 "metadata": {
  "kernelspec": {
   "display_name": "Python 3",
   "language": "python",
   "name": "python3"
  },
  "language_info": {
   "codemirror_mode": {
    "name": "ipython",
    "version": 3
   },
   "file_extension": ".py",
   "mimetype": "text/x-python",
   "name": "python",
   "nbconvert_exporter": "python",
   "pygments_lexer": "ipython3",
   "version": "3.6.6"
  }
 },
 "nbformat": 4,
 "nbformat_minor": 2
}
