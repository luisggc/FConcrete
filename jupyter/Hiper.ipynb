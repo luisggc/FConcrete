{
 "cells": [
  {
   "cell_type": "code",
   "execution_count": null,
   "metadata": {},
   "outputs": [],
   "source": [
    "Quantas retiradas de barra é bom\n",
    "melhor seção"
   ]
  },
  {
   "cell_type": "code",
   "execution_count": 1,
   "metadata": {},
   "outputs": [],
   "source": [
    "#%matplotlib inline\n",
    "#%matplotlib gtk\n",
    "import sys\n",
    "sys.path.insert(0, '../')\n",
    "from pytest import approx\n",
    "import fconcrete as fc\n",
    "#import fconcrete\n",
    "#from fconcrete import helpers, duplicated, Material, e, Beam, Node, Loads, Nodes, Load,Material, ConcreteBeam, SingleBeamElement, Rectangle, Concrete, Section, ConcreteSteels\n",
    "import matplotlib.pyplot as plt\n",
    "import numpy as np\n",
    "np.set_printoptions(precision=4, suppress=True, linewidth=3000)\n",
    "from math import sin, tan,  pi\n",
    "#from math import log\n",
    "\n",
    "# Tension in MPa\n",
    "# length in cm\n",
    "# Shear in kN"
   ]
  },
  {
   "cell_type": "code",
   "execution_count": 3,
   "metadata": {},
   "outputs": [],
   "source": [
    "material = fc.Concrete(fck='30 MPa', aggressiveness=2)\n",
    "section = fc.Rectangle(25,56, material)\n",
    "\n",
    "#Design\n",
    "f1 = fc.Load.UniformDistributedLoad(-0.1622, x_begin=0, x_end=113)\n",
    "f2 = fc.Load.UniformDistributedLoad(-0.4994, x_begin=113, x_end=583)\n",
    "f3 = fc.Load.UniformDistributedLoad(-0.4196, x_begin=583, x_end=1188)\n",
    "\n",
    "n1 = fc.Node.SimpleSupport(x=0, length=20)\n",
    "n2 = fc.Node.SimpleSupport(x=113, length=20)\n",
    "n3 = fc.Node.SimpleSupport(x=583, length=20)\n",
    "n4 = fc.Node.SimpleSupport(x=1188, length=20)\n",
    "\n",
    "bar1 = fc.SingleBeamElement([n1, n2], section)\n",
    "bar2 = fc.SingleBeamElement([n2, n3], section)\n",
    "bar3 = fc.SingleBeamElement([n3, n4], section)\n",
    "\n",
    "fc.config.available_material = {\n",
    "    \"concrete_long_steel_bars\":fc.AvailableLongConcreteSteelBar(diameters=[8]),\n",
    "    \"concrete_transv_steel_bars\":fc.AvailableTransvConcreteSteelBar(diameters=[8]),\n",
    "}\n",
    "    \n",
    "beam = fc.ConcreteBeam(\n",
    "    loads = [f1, f2, f3],\n",
    "    beam_elements = [bar1, bar2, bar3],\n",
    "    bar_steel_max_removal = 2,\n",
    ")\n",
    "self = beam\n",
    "steel_bars = self.steel_bars"
   ]
  },
  {
   "cell_type": "code",
   "execution_count": null,
   "metadata": {},
   "outputs": [],
   "source": []
  },
  {
   "cell_type": "code",
   "execution_count": 20,
   "metadata": {},
   "outputs": [],
   "source": [
    "class TransvSteelBarSolve():\n",
    "    def __init__(self, concrete_beam, fyk=50, theta_in_degree=45, alpha_in_degree = 90):\n",
    "        self.available = fc.config.available_material[\"concrete_transv_steel_bars\"]\n",
    "        self.concrete_beam = concrete_beam\n",
    "        x, shear_diagram = concrete_beam.getShearDesignDiagram(division=concrete_beam.division)\n",
    "        self.x = x\n",
    "        self.shear_diagram = abs(shear_diagram)\n",
    "        self.fyk = fyk\n",
    "        self.fyd = fyk/1.4\n",
    "        self.theta = (theta_in_degree*pi)/180\n",
    "        self.alpha = (alpha_in_degree*pi)/180\n",
    "        v_rd2, d, v_sd = self.checkProbableCompressedConnectingRod()\n",
    "        self.s_max = self._getS_max(v_rd2, d, v_sd, self.available)\n",
    "        self.shear_area_per_cm = self.getShearSteelAreaPerCmDiagram()\n",
    "        self.transv_steel_bars = self.getStirrupsInfo()\n",
    "    \n",
    "    @staticmethod\n",
    "    def _getS_max(v_rd2, d, v_sd, available):\n",
    "        s_max = min(0.6*d, 30) if v_sd <= 0.67*v_rd2 else min(0.3*d, 20)        \n",
    "        return s_max\n",
    "        \n",
    "    def checkProbableCompressedConnectingRod(self):\n",
    "        max_shear = max(self.shear_diagram)\n",
    "        max_shear_x = self.x[self.shear_diagram == max_shear][0]\n",
    "        max_section = beam.getSingleBeamElementInX(max_shear_x)[1].section\n",
    "        v_rd2 = self.getV_rd2(max_section)\n",
    "        check = max_shear <= v_rd2\n",
    "        if check == False: raise Exception(\"Shear ({}kN) in x={} is greater or equal to maximum shear allowed ({}kN)\".format(max_shear, max_shear_x, v_rd2))\n",
    "        return v_rd2, max_section.d, max_shear\n",
    "    \n",
    "    def getV_rd2(self, section):\n",
    "        fck = section.material.fck\n",
    "        bw = section.bw\n",
    "        d = section.d\n",
    "        fcd = section.material.fcd\n",
    "        alpha_v2 = (1-fck/25)\n",
    "        v_rd2 = 0.54*alpha_v2*fcd*bw*d*(sin(self.theta))*(tan(self.alpha)**(-1)+tan(self.theta)**(-1))\n",
    "        return v_rd2\n",
    "    \n",
    "    def getMinimumSteelAreaPerCm(self,section):\n",
    "        fctm = section.material.fctm\n",
    "        bw = section.bw\n",
    "        As_per_cm_min = 0.2*fctm*bw*sin(self.alpha)/self.fyk\n",
    "        return As_per_cm_min\n",
    "    \n",
    "\n",
    "    def getShearSteelAreaPerCm(self, x, v_sd): \n",
    "        # can be optimized\n",
    "        section = self.concrete_beam.getSingleBeamElementInX(x)[1].section\n",
    "        v_rd2 = self.getV_rd2(section)\n",
    "        As_per_cm_min = self.getMinimumSteelAreaPerCm(section)\n",
    "        \n",
    "        _, single_beam_element = self.concrete_beam.getSingleBeamElementInX(x)\n",
    "        bw = single_beam_element.section.bw\n",
    "        d = single_beam_element.section.d\n",
    "        fctd = single_beam_element.section.material.fctd\n",
    "\n",
    "        v_c0 = 0.6*fctd*bw*d\n",
    "        v_c1 = np.interp(v_sd, [v_c0, v_c0, v_rd2], [v_c0, v_c0, 0])\n",
    "        v_c = v_c1\n",
    "        v_sw = max(v_sd - v_c, 0)\n",
    "        \n",
    "        As_per_cm = v_sw/(0.9*d*self.fyd*(sin(self.alpha))*(tan(self.alpha)**(-1)+tan(self.theta)**(-1)))\n",
    "        \n",
    "        return max(As_per_cm, As_per_cm_min)\n",
    "\n",
    "    def getShearSteelAreaPerCmDiagram(self):\n",
    "        shear_area_per_cm = [self.getShearSteelAreaPerCm(x_u, v_sd) for x_u, v_sd in zip(self.x, self.shear_diagram)]\n",
    "        return np.array(shear_area_per_cm)\n",
    "    \n",
    "    def getComercialInfo(self, as_per_cm):\n",
    "        table = self.available.table\n",
    "        diameter, space, area, as_per_cm = table[table[:, 3] >= as_per_cm][0]\n",
    "        return diameter, space, area, as_per_cm\n",
    "    \n",
    "    def getStirrupsInfo(self):\n",
    "        x_array, shear_area_per_cm = self.x, self.shear_area_per_cm\n",
    "        s_max = self.s_max\n",
    "        x = beam.x_begin\n",
    "        transversal_steel = TransvSteelBars()\n",
    "\n",
    "        while x<beam.x_end:\n",
    "            x_loop = ((x_array>x) & (x_array<x+s_max))\n",
    "            shear = max(abs(shear_area_per_cm[x_loop]))\n",
    "            diameter, space, area, as_per_cm = self.getComercialInfo(shear)\n",
    "            single_beam_element = self.concrete_beam.getSingleBeamElementInX(x)[1]\n",
    "            height = single_beam_element.section.height\n",
    "            width = single_beam_element.section.width()\n",
    "            c = single_beam_element.section.material.c\n",
    "            transversal_steel.add(\n",
    "                fc.TransvSteelBar(x, height-2*c, width-2*c, diameter, space, area, as_per_cm)\n",
    "            )\n",
    "            x += space\n",
    "            \n",
    "        return transversal_steel\n",
    "\n",
    "    def plot(self):\n",
    "        for x, height in zip(self.transv_steel_bars.x, self.transv_steel_bars.heights):\n",
    "            plt.plot([x,x], [0,height])"
   ]
  },
  {
   "cell_type": "code",
   "execution_count": 21,
   "metadata": {},
   "outputs": [],
   "source": [
    "trans_bar = TransvSteelBarSolve(\n",
    "    concrete_beam=beam,\n",
    "    fyk=50,\n",
    "    theta_in_degree = 45,\n",
    "    alpha_in_degree = 90\n",
    ")\n"
   ]
  },
  {
   "cell_type": "code",
   "execution_count": 22,
   "metadata": {},
   "outputs": [
    {
     "data": {
      "image/png": "[encoded data removed]",
      "text/plain": [
       "<Figure size 432x288 with 1 Axes>"
      ]
     },
     "metadata": {
      "needs_background": "light"
     },
     "output_type": "display_data"
    }
   ],
   "source": [
    "trans_bar.plot()"
   ]
  },
  {
   "cell_type": "code",
   "execution_count": 121,
   "metadata": {},
   "outputs": [],
   "source": [
    "class TransvSteelBar():\n",
    "    def __init__(self, x, height, width, diameter, space_after, area, as_per_cm):\n",
    "        self.x = x\n",
    "        self.height = height\n",
    "        self.width = width\n",
    "        self.diameter = diameter\n",
    "        self.space_after = space_after\n",
    "        self.area = area\n",
    "        self.as_per_cm = as_per_cm\n",
    "    \n",
    "\n",
    "    "
   ]
  },
  {
   "cell_type": "code",
   "execution_count": 6,
   "metadata": {},
   "outputs": [
    {
     "data": {
      "text/plain": [
       "\"<class 'fconcrete.TransvSteelBar.TransvSteelBar.TransvSteelBar'>\""
      ]
     },
     "execution_count": 6,
     "metadata": {},
     "output_type": "execute_result"
    }
   ],
   "source": [
    "str(type(fc.TransvSteelBar(1,2,3,4,5,6,7)))"
   ]
  },
  {
   "cell_type": "code",
   "execution_count": 123,
   "metadata": {},
   "outputs": [],
   "source": [
    "a = TransvSteelBars()"
   ]
  },
  {
   "cell_type": "code",
   "execution_count": 7,
   "metadata": {},
   "outputs": [],
   "source": [
    "class TransvSteelBars():\n",
    "    def __init__(self, steel_bars=[]):\n",
    "        self.steel_bars = np.array(steel_bars)\n",
    "        self.x = np.array([ steel_bar.x for steel_bar in self.steel_bars ])\n",
    "        self.heights = np.array([ steel_bar.height for steel_bar in self.steel_bars ])\n",
    "        self.widths = np.array([ steel_bar.width for steel_bar in self.steel_bars ])\n",
    "        self.diameters = np.array([ steel_bar.diameter for steel_bar in self.steel_bars ])\n",
    "        self.space_afters = np.array([ steel_bar.space_after for steel_bar in self.steel_bars ])\n",
    "        self.areas = np.array([ steel_bar.area for steel_bar in self.steel_bars ])\n",
    "        self.as_per_cms = np.array([ steel_bar.as_per_cm for steel_bar in self.steel_bars ])\n",
    "    \n",
    "    def add(self, new_steel_bars):\n",
    "        previous_steel_bars = self.steel_bars\n",
    "        if str(type(new_steel_bars)) == \"<class 'fconcrete.TransvSteelBar.TransvSteelBar.TransvSteelBars'>\":\n",
    "            concatenation = list(np.concatenate((previous_steel_bars,new_steel_bars.steel_bars)))\n",
    "            concatenation.sort(key=lambda x: x.long_begin, reverse=False)\n",
    "            new_steel_bars = np.array(concatenation)\n",
    "            \n",
    "        elif str(type(new_steel_bars)) == \"<class 'fconcrete.TransvSteelBar.TransvSteelBar.TransvSteelBar'>\":\n",
    "            new_steel_bars = np.append(previous_steel_bars,new_steel_bars)\n",
    "        self.__init__(new_steel_bars)\n",
    "    \n",
    "    def changeProperty(self, prop, function, conditional=lambda x:True):\n",
    "        steel_bars = copy.deepcopy(self)\n",
    "        for previous_steel_bar in steel_bars:\n",
    "            if conditional(previous_steel_bar):\n",
    "                current_attribute_value = getattr(previous_steel_bar, prop)\n",
    "                setattr(previous_steel_bar, prop, function(current_attribute_value)) \n",
    "        return steel_bars\n",
    "\n",
    "    def plotLong(self):\n",
    "        x_stirrups = self.x\n",
    "        height_stirrups = self.heights\n",
    "        for x, height in zip(x_stirrups, height_stirrups):\n",
    "            plt.plot([x,x], [0,height])\n",
    "            \n",
    "    def __getitem__(self, key):\n",
    "        return self.steel_bars[key]\n",
    "    \n",
    "    def __repr__(self):\n",
    "        return str(self.steel_bars)"
   ]
  },
  {
   "cell_type": "code",
   "execution_count": null,
   "metadata": {},
   "outputs": [],
   "source": []
  },
  {
   "cell_type": "code",
   "execution_count": 100,
   "metadata": {},
   "outputs": [
    {
     "data": {
      "text/plain": [
       "[<matplotlib.lines.Line2D at 0x118a09fd0>]"
      ]
     },
     "execution_count": 100,
     "metadata": {},
     "output_type": "execute_result"
    },
    {
     "data": {
      "image/png": "[encoded data removed]",
      "text/plain": [
       "<Figure size 432x288 with 1 Axes>"
      ]
     },
     "metadata": {
      "needs_background": "light"
     },
     "output_type": "display_data"
    }
   ],
   "source": [
    "x = trans_bar.x\n",
    "shear_area_per_cm = trans_bar.shear_area_per_cm\n",
    "plt.plot(x, shear_area_per_cm)"
   ]
  },
  {
   "cell_type": "code",
   "execution_count": 60,
   "metadata": {},
   "outputs": [],
   "source": []
  },
  {
   "cell_type": "code",
   "execution_count": 77,
   "metadata": {},
   "outputs": [],
   "source": [
    "a, b, c = [1, 2, 3]"
   ]
  },
  {
   "cell_type": "code",
   "execution_count": 106,
   "metadata": {},
   "outputs": [
    {
     "data": {
      "image/png": "[encoded data removed]",
      "text/plain": [
       "<Figure size 432x288 with 1 Axes>"
      ]
     },
     "metadata": {
      "needs_background": "light"
     },
     "output_type": "display_data"
    }
   ],
   "source": [
    "beam.plotShearDiagram()\n",
    "trans_bar.plot()"
   ]
  },
  {
   "cell_type": "markdown",
   "metadata": {},
   "source": [
    "### Decaleged Behaviour"
   ]
  },
  {
   "cell_type": "code",
   "execution_count": 3,
   "metadata": {
    "scrolled": true
   },
   "outputs": [
    {
     "data": {
      "image/png": "[encoded data removed]",
      "text/plain": [
       "<Figure size 432x288 with 1 Axes>"
      ]
     },
     "metadata": {
      "needs_background": "light"
     },
     "output_type": "display_data"
    }
   ],
   "source": [
    "x, yp, yn = beam.getSteelAreaDiagram()\n",
    "plt.plot(x, yp, 'b-')\n",
    "plt.plot(x, yn, 'b-')\n",
    "self.steel_bars.plot()"
   ]
  }
 ],
 "metadata": {
  "kernelspec": {
   "display_name": "Python 3",
   "language": "python",
   "name": "python3"
  },
  "language_info": {
   "codemirror_mode": {
    "name": "ipython",
    "version": 3
   },
   "file_extension": ".py",
   "mimetype": "text/x-python",
   "name": "python",
   "nbconvert_exporter": "python",
   "pygments_lexer": "ipython3",
   "version": "3.6.6"
  }
 },
 "nbformat": 4,
 "nbformat_minor": 2
}
