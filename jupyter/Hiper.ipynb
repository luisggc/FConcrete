{
 "cells": [
  {
   "cell_type": "code",
   "execution_count": null,
   "metadata": {},
   "outputs": [],
   "source": [
    "Quantas retiradas de barra é bom\n",
    "melhor seção"
   ]
  },
  {
   "cell_type": "code",
   "execution_count": 1,
   "metadata": {},
   "outputs": [],
   "source": [
    "import sys\n",
    "sys.path.insert(0, '../')\n",
    "import fconcrete as fc\n",
    "import matplotlib.pyplot as plt\n",
    "from pytest import approx\n",
    "import numpy as np\n",
    "np.set_printoptions(precision=4, suppress=True, linewidth=3000)\n",
    "from math import sin, tan,  pi\n",
    "from fconcrete.helpers import cond\n",
    "import copy"
   ]
  },
  {
   "cell_type": "code",
   "execution_count": 2,
   "metadata": {},
   "outputs": [],
   "source": [
    "material = fc.Concrete('20 MPa', 1)\n",
    "section = fc.Rectangle(25,60)\n",
    "\n",
    "f1 = fc.Load.UniformDistributedLoad(-0.1622, x_begin=0, x_end=113)\n",
    "f2 = fc.Load.UniformDistributedLoad(-0.4994, x_begin=113, x_end=583)\n",
    "f3 = fc.Load.UniformDistributedLoad(-0.4196, x_begin=583, x_end=1188)\n",
    "\n",
    "n1 = fc.Node.SimpleSupport(x=0, length=20)\n",
    "n2 = fc.Node.SimpleSupport(x=113, length=20)\n",
    "n3 = fc.Node.SimpleSupport(x=583, length=20)\n",
    "n4 = fc.Node.SimpleSupport(x=1188, length=20)\n",
    "\n",
    "bar1 = fc.BeamElement([n1, n2], section, material)\n",
    "bar2 = fc.BeamElement([n2, n3], section, material)\n",
    "bar3 = fc.BeamElement([n3, n4], section, material)\n",
    "\n",
    "    \n",
    "beam = fc.ConcreteBeam(\n",
    "    loads = [f1, f2, f3],\n",
    "    beam_elements = [bar1, bar2, bar3],\n",
    "    bar_steel_max_removal = 3,\n",
    "    transversal_bar_inclination_angle=90,\n",
    "    available_long_steel_bars = fc.AvailableLongConcreteSteelBar(diameters=[8]),\n",
    "    available_transv_steel_bars = fc.AvailableTransvConcreteSteelBar(diameters=[8])\n",
    ")"
   ]
  },
  {
   "cell_type": "code",
   "execution_count": 8,
   "metadata": {},
   "outputs": [],
   "source": [
    "self = beam"
   ]
  },
  {
   "cell_type": "code",
   "execution_count": 9,
   "metadata": {},
   "outputs": [
    {
     "data": {
      "image/png": "[encoded data removed]",
      "text/plain": [
       "<Figure size 432x288 with 1 Axes>"
      ]
     },
     "metadata": {
      "needs_background": "light"
     },
     "output_type": "display_data"
    }
   ],
   "source": [
    "self.long_steel_bars.plot()"
   ]
  },
  {
   "cell_type": "code",
   "execution_count": 19,
   "metadata": {},
   "outputs": [],
   "source": [
    "x=1000\n",
    "positive_bars, negative_bars = self.long_steel_bars.getPositiveandNegativeLongSteelBarsInX(x=x)"
   ]
  },
  {
   "cell_type": "code",
   "execution_count": 20,
   "metadata": {},
   "outputs": [],
   "source": [
    "_, beam_element = self.getBeamElementInX(x)"
   ]
  },
  {
   "cell_type": "code",
   "execution_count": 23,
   "metadata": {},
   "outputs": [
    {
     "data": {
      "image/png": "[encoded data removed]",
      "text/plain": [
       "<Figure size 432x288 with 1 Axes>"
      ]
     },
     "metadata": {
      "needs_background": "light"
     },
     "output_type": "display_data"
    }
   ],
   "source": [
    "bars = positive_bars\n",
    "fig, ax = plt.subplots()\n",
    "ax.set_aspect(\"equal\")\n",
    "\n",
    "height = 200\n",
    "\n",
    "y = np.linspace(0, height, 100)\n",
    "x = np.cos(y)/np.cos(y)+50\n",
    "\n",
    "x_base = np.linspace(-x[0], x[0], 100)\n",
    "x_top = np.linspace(-x[-1], x[-1], 100)\n",
    "\n",
    "ax.plot(x, y)\n",
    "ax.plot(2*y[0]-x, y)\n",
    "ax.plot(x_base,np.zeros(len(y)))\n",
    "ax.plot(x_top,height*np.ones(len(y)))\n",
    "\n",
    "x0, y0 = -x[0], y[0]\n",
    "x0_left, x0_right = x0+beam_element.material.c, -x0-beam_element.material.c\n",
    "\n",
    "radius = max(abs(bars.diameters))\n",
    "horizontal_distance = max(2, 2*radius, 1.2*self.biggest_aggregate_dimension)\n",
    "vertical_distance = max(2, 2*radius, 0.5*self.biggest_aggregate_dimension)\n",
    "\n",
    "number_of_bars = max(abs(bars.quantities_accumulated))\n",
    "n = 0\n",
    "bar_in_the_left = row_number =True\n",
    "\n",
    "while n<number_of_bars+1:\n",
    "    \n",
    "    y_row = y0+beam_element.material.c+radius*row_number+(vertical_distance+radius)*(row_number-1)\n",
    "    if bar_in_the_left:\n",
    "        circle = plt.Circle((x0_left+radius, y_row), radius)\n",
    "        x0_left+=2*radius+horizontal_distance\n",
    "    else:\n",
    "        circle = plt.Circle((x0_right-radius, y_row), radius)\n",
    "        x0_right-=2*radius+horizontal_distance\n",
    "        \n",
    "    space_between_bars = x0_right-x0_left-2*horizontal_distance\n",
    "    possible_bar_in_row = (space_between_bars+horizontal_distance)//(2*radius+horizontal_distance)\n",
    "    # Nao tem espaco para colcoar nenhuma depois\n",
    "    if possible_bar_in_row==0:\n",
    "        row_number+=1\n",
    "        x0_left = x0+c\n",
    "        x0_right = -x0-c\n",
    "        bar_in_the_left = False\n",
    "    elif (possible_bar_in_row==1 and bar_in_the_left) or (n == number_of_bars):\n",
    "        circle = plt.Circle((0, y_row), radius)\n",
    "        ax.add_artist(circle)\n",
    "    else:\n",
    "        ax.add_artist(circle)\n",
    "    n+=1\n",
    "    bar_in_the_left = not bar_in_the_left\n",
    "\n"
   ]
  },
  {
   "cell_type": "code",
   "execution_count": 83,
   "metadata": {},
   "outputs": [
    {
     "data": {
      "text/plain": [
       "True"
      ]
     },
     "execution_count": 83,
     "metadata": {},
     "output_type": "execute_result"
    }
   ],
   "source": [
    "not 0"
   ]
  },
  {
   "cell_type": "code",
   "execution_count": 58,
   "metadata": {},
   "outputs": [
    {
     "data": {
      "text/plain": [
       "[]"
      ]
     },
     "execution_count": 58,
     "metadata": {},
     "output_type": "execute_result"
    }
   ],
   "source": [
    "fig, ax = plt.subplots()\n",
    "ax.set_aspect(\"equal\")\n",
    "\n",
    "height = 20\n",
    "\n",
    "y = np.linspace(0, height, 100)\n",
    "x = np.cos(y)/np.cos(y)+5\n",
    "\n",
    "x_base = np.linspace(-x[0], x[0], 100)\n",
    "x_top = np.linspace(-x[-1], x[-1], 100)\n",
    "\n",
    "\n",
    "ax.plot(x, y)\n",
    "ax.plot(2*y[0]-x, y)\n",
    "ax.plot(x_base,np.zeros(len(y)))\n",
    "ax.plot(x_top,height*np.ones(len(y)))\n",
    "\n",
    "x0, y0 = -x[0], y[0]\n",
    "x0_left = x0+c\n",
    "x0_right = -x0-c\n",
    "radius = 0.2\n",
    "horizontal_distance = 0.2\n",
    "vertical_distance = 0.2\n",
    "row_number = 1\n",
    "\n",
    "number_of_bars = 40\n",
    "n = 0\n",
    "bar_in_the_left = True\n",
    "while n<number_of_bars+1:\n",
    "    \n",
    "    y_row = y0+c+radius*row_number+(vertical_distance+radius)*(row_number-1)\n",
    "    if bar_in_the_left:\n",
    "        circle = plt.Circle((x0_left+radius, y_row), radius)\n",
    "        x0_left+=2*radius+horizontal_distance\n",
    "    else:\n",
    "        circle = plt.Circle((x0_right-radius, y_row), radius)\n",
    "        x0_right-=2*radius+horizontal_distance\n",
    "        \n",
    "    space_between_bars = x0_right-x0_left-2*horizontal_distance\n",
    "    possible_bar_in_row = (space_between_bars+horizontal_distance)//(2*radius+horizontal_distance)\n",
    "    # Nao tem espaco para colcoar nenhuma depois\n",
    "    if possible_bar_in_row==0:\n",
    "        row_number+=1\n",
    "        x0_left = x0+c\n",
    "        x0_right = -x0-c\n",
    "        bar_in_the_left = False\n",
    "    elif (possible_bar_in_row==1 and bar_in_the_left) or (n == number_of_bars):\n",
    "        circle = plt.Circle((0, y_row), radius)\n",
    "        ax.add_artist(circle)\n",
    "    else:\n",
    "        ax.add_artist(circle)\n",
    "    n+=1\n",
    "    bar_in_the_left = not bar_in_the_left\n",
    "\n"
   ]
  },
  {
   "cell_type": "code",
   "execution_count": 47,
   "metadata": {},
   "outputs": [
    {
     "data": {
      "text/plain": [
       "10.00442569798805"
      ]
     },
     "execution_count": 47,
     "metadata": {},
     "output_type": "execute_result"
    }
   ],
   "source": [
    "x[0]"
   ]
  },
  {
   "cell_type": "code",
   "execution_count": 14,
   "metadata": {},
   "outputs": [
    {
     "data": {
      "text/plain": [
       "[<matplotlib.lines.Line2D at 0x123989828>]"
      ]
     },
     "execution_count": 14,
     "metadata": {},
     "output_type": "execute_result"
    },
    {
     "data": {
      "image/png": "[encoded data removed]",
      "text/plain": [
       "<Figure size 432x288 with 1 Axes>"
      ]
     },
     "metadata": {
      "needs_background": "light"
     },
     "output_type": "display_data"
    }
   ],
   "source": [
    "plt.plot(y, -x)"
   ]
  },
  {
   "cell_type": "code",
   "execution_count": 6,
   "metadata": {},
   "outputs": [],
   "source": [
    "self = beam.transv_steel_bars_solution_info"
   ]
  },
  {
   "cell_type": "code",
   "execution_count": 10,
   "metadata": {},
   "outputs": [
    {
     "data": {
      "text/plain": [
       "[{'x': 0.0, 'height': 55.0, 'width': 20.0, 'diameter': 8.0, 'space_after': 30.0, 'area': 1.0, 'as_per_cm': 0.03333333333333333}\n",
       " {'x': 30.0, 'height': 55.0, 'width': 20.0, 'diameter': 8.0, 'space_after': 30.0, 'area': 1.0, 'as_per_cm': 0.03333333333333333}\n",
       " {'x': 60.0, 'height': 55.0, 'width': 20.0, 'diameter': 8.0, 'space_after': 30.0, 'area': 1.0, 'as_per_cm': 0.03333333333333333}\n",
       " {'x': 90.0, 'height': 55.0, 'width': 20.0, 'diameter': 8.0, 'space_after': 30.0, 'area': 1.0, 'as_per_cm': 0.03333333333333333}\n",
       " {'x': 120.0, 'height': 55.0, 'width': 20.0, 'diameter': 8.0, 'space_after': 30.0, 'area': 1.0, 'as_per_cm': 0.03333333333333333}\n",
       " {'x': 150.0, 'height': 55.0, 'width': 20.0, 'diameter': 8.0, 'space_after': 30.0, 'area': 1.0, 'as_per_cm': 0.03333333333333333}\n",
       " {'x': 180.0, 'height': 55.0, 'width': 20.0, 'diameter': 8.0, 'space_after': 30.0, 'area': 1.0, 'as_per_cm': 0.03333333333333333}\n",
       " {'x': 210.0, 'height': 55.0, 'width': 20.0, 'diameter': 8.0, 'space_after': 30.0, 'area': 1.0, 'as_per_cm': 0.03333333333333333}\n",
       " {'x': 240.0, 'height': 55.0, 'width': 20.0, 'diameter': 8.0, 'space_after': 30.0, 'area': 1.0, 'as_per_cm': 0.03333333333333333}\n",
       " {'x': 270.0, 'height': 55.0, 'width': 20.0, 'diameter': 8.0, 'space_after': 30.0, 'area': 1.0, 'as_per_cm': 0.03333333333333333}\n",
       " {'x': 300.0, 'height': 55.0, 'width': 20.0, 'diameter': 8.0, 'space_after': 30.0, 'area': 1.0, 'as_per_cm': 0.03333333333333333}\n",
       " {'x': 330.0, 'height': 55.0, 'width': 20.0, 'diameter': 8.0, 'space_after': 30.0, 'area': 1.0, 'as_per_cm': 0.03333333333333333}\n",
       " {'x': 360.0, 'height': 55.0, 'width': 20.0, 'diameter': 8.0, 'space_after': 30.0, 'area': 1.0, 'as_per_cm': 0.03333333333333333}\n",
       " {'x': 390.0, 'height': 55.0, 'width': 20.0, 'diameter': 8.0, 'space_after': 30.0, 'area': 1.0, 'as_per_cm': 0.03333333333333333}\n",
       " {'x': 420.0, 'height': 55.0, 'width': 20.0, 'diameter': 8.0, 'space_after': 30.0, 'area': 1.0, 'as_per_cm': 0.03333333333333333}\n",
       " {'x': 450.0, 'height': 55.0, 'width': 20.0, 'diameter': 8.0, 'space_after': 30.0, 'area': 1.0, 'as_per_cm': 0.03333333333333333}\n",
       " {'x': 480.0, 'height': 55.0, 'width': 20.0, 'diameter': 8.0, 'space_after': 30.0, 'area': 1.0, 'as_per_cm': 0.03333333333333333}\n",
       " {'x': 510.0, 'height': 55.0, 'width': 20.0, 'diameter': 8.0, 'space_after': 20.0, 'area': 1.0, 'as_per_cm': 0.05}\n",
       " {'x': 530.0, 'height': 55.0, 'width': 20.0, 'diameter': 8.0, 'space_after': 15.0, 'area': 1.0, 'as_per_cm': 0.06666666666666667}\n",
       " {'x': 545.0, 'height': 55.0, 'width': 20.0, 'diameter': 8.0, 'space_after': 15.0, 'area': 1.0, 'as_per_cm': 0.06666666666666667}\n",
       " {'x': 560.0, 'height': 55.0, 'width': 20.0, 'diameter': 8.0, 'space_after': 10.0, 'area': 1.0, 'as_per_cm': 0.1}\n",
       " {'x': 570.0, 'height': 55.0, 'width': 20.0, 'diameter': 8.0, 'space_after': 10.0, 'area': 1.0, 'as_per_cm': 0.1}\n",
       " {'x': 580.0, 'height': 55.0, 'width': 20.0, 'diameter': 8.0, 'space_after': 10.0, 'area': 1.0, 'as_per_cm': 0.1}\n",
       " {'x': 590.0, 'height': 55.0, 'width': 20.0, 'diameter': 8.0, 'space_after': 10.0, 'area': 1.0, 'as_per_cm': 0.1}\n",
       " {'x': 600.0, 'height': 55.0, 'width': 20.0, 'diameter': 8.0, 'space_after': 10.0, 'area': 1.0, 'as_per_cm': 0.1}\n",
       " {'x': 610.0, 'height': 55.0, 'width': 20.0, 'diameter': 8.0, 'space_after': 15.0, 'area': 1.0, 'as_per_cm': 0.06666666666666667}\n",
       " {'x': 625.0, 'height': 55.0, 'width': 20.0, 'diameter': 8.0, 'space_after': 15.0, 'area': 1.0, 'as_per_cm': 0.06666666666666667}\n",
       " {'x': 640.0, 'height': 55.0, 'width': 20.0, 'diameter': 8.0, 'space_after': 15.0, 'area': 1.0, 'as_per_cm': 0.06666666666666667}\n",
       " {'x': 655.0, 'height': 55.0, 'width': 20.0, 'diameter': 8.0, 'space_after': 20.0, 'area': 1.0, 'as_per_cm': 0.05}\n",
       " {'x': 675.0, 'height': 55.0, 'width': 20.0, 'diameter': 8.0, 'space_after': 20.0, 'area': 1.0, 'as_per_cm': 0.05}\n",
       " {'x': 695.0, 'height': 55.0, 'width': 20.0, 'diameter': 8.0, 'space_after': 30.0, 'area': 1.0, 'as_per_cm': 0.03333333333333333}\n",
       " {'x': 725.0, 'height': 55.0, 'width': 20.0, 'diameter': 8.0, 'space_after': 30.0, 'area': 1.0, 'as_per_cm': 0.03333333333333333}\n",
       " {'x': 755.0, 'height': 55.0, 'width': 20.0, 'diameter': 8.0, 'space_after': 30.0, 'area': 1.0, 'as_per_cm': 0.03333333333333333}\n",
       " {'x': 785.0, 'height': 55.0, 'width': 20.0, 'diameter': 8.0, 'space_after': 30.0, 'area': 1.0, 'as_per_cm': 0.03333333333333333}\n",
       " {'x': 815.0, 'height': 55.0, 'width': 20.0, 'diameter': 8.0, 'space_after': 30.0, 'area': 1.0, 'as_per_cm': 0.03333333333333333}\n",
       " {'x': 845.0, 'height': 55.0, 'width': 20.0, 'diameter': 8.0, 'space_after': 30.0, 'area': 1.0, 'as_per_cm': 0.03333333333333333}\n",
       " {'x': 875.0, 'height': 55.0, 'width': 20.0, 'diameter': 8.0, 'space_after': 30.0, 'area': 1.0, 'as_per_cm': 0.03333333333333333}\n",
       " {'x': 905.0, 'height': 55.0, 'width': 20.0, 'diameter': 8.0, 'space_after': 30.0, 'area': 1.0, 'as_per_cm': 0.03333333333333333}\n",
       " {'x': 935.0, 'height': 55.0, 'width': 20.0, 'diameter': 8.0, 'space_after': 30.0, 'area': 1.0, 'as_per_cm': 0.03333333333333333}\n",
       " {'x': 965.0, 'height': 55.0, 'width': 20.0, 'diameter': 8.0, 'space_after': 30.0, 'area': 1.0, 'as_per_cm': 0.03333333333333333}\n",
       " {'x': 995.0, 'height': 55.0, 'width': 20.0, 'diameter': 8.0, 'space_after': 30.0, 'area': 1.0, 'as_per_cm': 0.03333333333333333}\n",
       " {'x': 1025.0, 'height': 55.0, 'width': 20.0, 'diameter': 8.0, 'space_after': 30.0, 'area': 1.0, 'as_per_cm': 0.03333333333333333}\n",
       " {'x': 1055.0, 'height': 55.0, 'width': 20.0, 'diameter': 8.0, 'space_after': 30.0, 'area': 1.0, 'as_per_cm': 0.03333333333333333}\n",
       " {'x': 1085.0, 'height': 55.0, 'width': 20.0, 'diameter': 8.0, 'space_after': 30.0, 'area': 1.0, 'as_per_cm': 0.03333333333333333}\n",
       " {'x': 1115.0, 'height': 55.0, 'width': 20.0, 'diameter': 8.0, 'space_after': 30.0, 'area': 1.0, 'as_per_cm': 0.03333333333333333}\n",
       " {'x': 1145.0, 'height': 55.0, 'width': 20.0, 'diameter': 8.0, 'space_after': 30.0, 'area': 1.0, 'as_per_cm': 0.03333333333333333}\n",
       " {'x': 1175.0, 'height': 55.0, 'width': 20.0, 'diameter': 8.0, 'space_after': 30.0, 'area': 1.0, 'as_per_cm': 0.03333333333333333}\n",
       "]"
      ]
     },
     "execution_count": 10,
     "metadata": {},
     "output_type": "execute_result"
    }
   ],
   "source": [
    "beam.transv_steel_bars"
   ]
  }
 ],
 "metadata": {
  "kernelspec": {
   "display_name": "Python 3",
   "language": "python",
   "name": "python3"
  },
  "language_info": {
   "codemirror_mode": {
    "name": "ipython",
    "version": 3
   },
   "file_extension": ".py",
   "mimetype": "text/x-python",
   "name": "python",
   "nbconvert_exporter": "python",
   "pygments_lexer": "ipython3",
   "version": "3.6.6"
  }
 },
 "nbformat": 4,
 "nbformat_minor": 2
}
