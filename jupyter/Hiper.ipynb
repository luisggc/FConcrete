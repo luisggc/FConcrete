{
 "cells": [
  {
   "cell_type": "code",
   "execution_count": null,
   "metadata": {},
   "outputs": [],
   "source": [
    "Quantas retiradas de barra é bom\n",
    "melhor seção"
   ]
  },
  {
   "cell_type": "code",
   "execution_count": 1,
   "metadata": {},
   "outputs": [],
   "source": [
    "import sys\n",
    "sys.path.insert(0, '../')\n",
    "import fconcrete as fc\n",
    "import matplotlib.pyplot as plt\n",
    "from pytest import approx\n",
    "import numpy as np\n",
    "np.set_printoptions(precision=4, suppress=True, linewidth=3000)\n",
    "from math import sin, tan,  pi\n",
    "from fconcrete.helpers import cond\n",
    "import copy\n",
    "plt.rcParams[\"figure.figsize\"] = (25,10)"
   ]
  },
  {
   "cell_type": "code",
   "execution_count": 4,
   "metadata": {},
   "outputs": [],
   "source": [
    "f1 = fc.Load.UniformDistributedLoad(-0.1622, x_begin=0, x_end=113)\n",
    "f2 = fc.Load.UniformDistributedLoad(-0.4994, x_begin=113, x_end=583)\n",
    "f3 = fc.Load.UniformDistributedLoad(-0.4196, x_begin=583, x_end=1188)\n",
    "\n",
    "n1 = fc.Node.SimpleSupport(x=0, length=20)\n",
    "n2 = fc.Node.SimpleSupport(x=113, length=20)\n",
    "n3 = fc.Node.SimpleSupport(x=583, length=20)\n",
    "n4 = fc.Node.SimpleSupport(x=1188, length=20)\n",
    "\n",
    "beam_element1 = fc.BeamElement([n1, n2])\n",
    "beam_element2 = fc.BeamElement([n2, n3])\n",
    "beam_element3 = fc.BeamElement([n3, n4])\n",
    "#beam_elements = [beam_element1, beam_element2, beam_element3],\n",
    "\n",
    "    \n",
    "beam = fc.ConcreteBeam(\n",
    "    loads = [f1, f2, f3],\n",
    "    nodes = [n1, n2, n3, n4],\n",
    "    section = fc.Rectangle(25,60),\n",
    "    bar_steel_max_removal = 100,\n",
    "    transversal_bar_inclination_angle=90,\n",
    "    available_long_steel_bars = fc.AvailableLongConcreteSteelBar(diameters=[8]),\n",
    "    available_transv_steel_bars = fc.AvailableTransvConcreteSteelBar(diameters=[8]),\n",
    "    available_concrete = fc.AvailableConcrete(fck=30, aggressiveness=2),\n",
    ")\n",
    "self = beam\n",
    "    "
   ]
  },
  {
   "cell_type": "code",
   "execution_count": 17,
   "metadata": {},
   "outputs": [],
   "source": [
    "if None:\n",
    "    print(\"oi\")"
   ]
  },
  {
   "cell_type": "code",
   "execution_count": 9,
   "metadata": {},
   "outputs": [],
   "source": [
    "nodes = [n1, n2, n3, n4]"
   ]
  },
  {
   "cell_type": "code",
   "execution_count": 4,
   "metadata": {},
   "outputs": [],
   "source": [
    "beam_elements = []"
   ]
  },
  {
   "cell_type": "code",
   "execution_count": 14,
   "metadata": {},
   "outputs": [],
   "source": [
    "beam_elements = []\n",
    "for i in range(0,len(nodes)-1):\n",
    "    beam_elements = [*beam_elements, fc.BeamElement([nodes[i], nodes[i+1]])]"
   ]
  },
  {
   "cell_type": "code",
   "execution_count": 15,
   "metadata": {},
   "outputs": [
    {
     "data": {
      "text/plain": [
       "[{'section': <fconcrete.Structural.Section.Rectangle object at 0x114acd470>, 'material': <fconcrete.Structural.Material.Material object at 0x113accef0>, 'x': [{'x': 0.0, 'condition_boundary': [0, 1], 'length': 20}\n",
       " , {'x': 113.0, 'condition_boundary': [0, 1], 'length': 20}\n",
       " ], 'E': 100000.00000000001, 'I': 1000.0, 'n1': {'x': 0.0, 'condition_boundary': [0, 1], 'length': 20}\n",
       " , 'n2': {'x': 113.0, 'condition_boundary': [0, 1], 'length': 20}\n",
       " , 'length': 113.0, 'flexural_rigidity': 100000000.00000001},\n",
       " {'section': <fconcrete.Structural.Section.Rectangle object at 0x114acd470>, 'material': <fconcrete.Structural.Material.Material object at 0x113accef0>, 'x': [{'x': 113.0, 'condition_boundary': [0, 1], 'length': 20}\n",
       " , {'x': 583.0, 'condition_boundary': [0, 1], 'length': 20}\n",
       " ], 'E': 100000.00000000001, 'I': 1000.0, 'n1': {'x': 113.0, 'condition_boundary': [0, 1], 'length': 20}\n",
       " , 'n2': {'x': 583.0, 'condition_boundary': [0, 1], 'length': 20}\n",
       " , 'length': 470.0, 'flexural_rigidity': 100000000.00000001},\n",
       " {'section': <fconcrete.Structural.Section.Rectangle object at 0x114acd470>, 'material': <fconcrete.Structural.Material.Material object at 0x113accef0>, 'x': [{'x': 583.0, 'condition_boundary': [0, 1], 'length': 20}\n",
       " , {'x': 1188.0, 'condition_boundary': [0, 1], 'length': 20}\n",
       " ], 'E': 100000.00000000001, 'I': 1000.0, 'n1': {'x': 583.0, 'condition_boundary': [0, 1], 'length': 20}\n",
       " , 'n2': {'x': 1188.0, 'condition_boundary': [0, 1], 'length': 20}\n",
       " , 'length': 605.0, 'flexural_rigidity': 100000000.00000001}]"
      ]
     },
     "execution_count": 15,
     "metadata": {},
     "output_type": "execute_result"
    }
   ],
   "source": [
    "beam_elements"
   ]
  },
  {
   "cell_type": "code",
   "execution_count": 3,
   "metadata": {},
   "outputs": [
    {
     "data": {
      "image/png": "[encoded data removed]",
      "text/plain": [
       "<Figure size 1800x720 with 1 Axes>"
      ]
     },
     "metadata": {
      "needs_background": "light"
     },
     "output_type": "display_data"
    }
   ],
   "source": [
    "beam.plotTransversalInX(1000)"
   ]
  }
 ],
 "metadata": {
  "kernelspec": {
   "display_name": "Python 3",
   "language": "python",
   "name": "python3"
  },
  "language_info": {
   "codemirror_mode": {
    "name": "ipython",
    "version": 3
   },
   "file_extension": ".py",
   "mimetype": "text/x-python",
   "name": "python",
   "nbconvert_exporter": "python",
   "pygments_lexer": "ipython3",
   "version": "3.6.6"
  }
 },
 "nbformat": 4,
 "nbformat_minor": 2
}
