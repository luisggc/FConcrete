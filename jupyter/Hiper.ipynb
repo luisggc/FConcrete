{
 "cells": [
  {
   "cell_type": "code",
   "execution_count": null,
   "metadata": {},
   "outputs": [],
   "source": [
    "Quantas retiradas de barra é bom\n",
    "melhor seção"
   ]
  },
  {
   "cell_type": "code",
   "execution_count": 1,
   "metadata": {},
   "outputs": [
    {
     "data": {
      "text/plain": [
       "'0.47.0'"
      ]
     },
     "execution_count": 1,
     "metadata": {},
     "output_type": "execute_result"
    }
   ],
   "source": [
    "import numba"
   ]
  },
  {
   "cell_type": "code",
   "execution_count": 1,
   "metadata": {},
   "outputs": [],
   "source": [
    "import sys\n",
    "sys.path.insert(0, '../')\n",
    "import fconcrete as fc\n",
    "import matplotlib.pyplot as plt\n",
    "from pytest import approx\n",
    "import numpy as np\n",
    "np.set_printoptions(precision=4, suppress=True, linewidth=3000)\n",
    "from math import sin, tan,  pi\n",
    "from fconcrete.helpers import cond\n",
    "import copy\n",
    "plt.rcParams[\"figure.figsize\"] = (25,10)"
   ]
  },
  {
   "cell_type": "code",
   "execution_count": 4,
   "metadata": {
    "scrolled": true
   },
   "outputs": [
    {
     "name": "stdout",
     "output_type": "stream",
     "text": [
      "Solve transv steel executed in 0.11045718193054199s\n",
      "getDecalagedMomentumDesignDiagram executed in 0.13867902755737305s\n",
      "getComercialSteelAreaDiagram executed in 0.6471543312072754s\n",
      "Anchor positive steel bar executed in 0.011687040328979492s\n",
      "Anchor negative steel bar executed in 0.018863201141357422s\n",
      "Solve ELS executed in 0.18572711944580078s\n"
     ]
    }
   ],
   "source": [
    "\n",
    "\n",
    "f1 = fc.Load.UniformDistributedLoad(-0.1622, x_begin=0, x_end=113)\n",
    "f2 = fc.Load.UniformDistributedLoad(-0.4994, x_begin=113, x_end=583)\n",
    "f3 = fc.Load.UniformDistributedLoad(-0.4196, x_begin=583, x_end=1188)\n",
    "\n",
    "n1 = fc.Node.SimpleSupport(x=0, length=20)\n",
    "n2 = fc.Node.SimpleSupport(x=113, length=20)\n",
    "n3 = fc.Node.SimpleSupport(x=583, length=20)\n",
    "n4 = fc.Node.SimpleSupport(x=1188, length=20)\n",
    "\n",
    "beam_element1 = fc.BeamElement([n1, n2])\n",
    "beam_element2 = fc.BeamElement([n2, n3])\n",
    "beam_element3 = fc.BeamElement([n3, n4])\n",
    "#beam_elements = [beam_element1, beam_element2, beam_element3],\n",
    "\n",
    "    \n",
    "beam = fc.ConcreteBeam(\n",
    "    loads = [f1, f2, f3],\n",
    "    nodes = [n1, n2, n3, n4],\n",
    "    section = fc.Rectangle(25,60),\n",
    "    bar_steel_max_removal = 100,\n",
    "    transversal_bar_inclination_angle=90,\n",
    "    available_long_steel_bars = fc.AvailableLongConcreteSteelBar(diameters=[8]),\n",
    "    available_transv_steel_bars = fc.AvailableTransvConcreteSteelBar(diameters=[8]),\n",
    "    available_concrete = fc.AvailableConcrete(fck=30, aggressiveness=2),\n",
    "    solve_transv_steel = True,\n",
    "    solve_long_steel = True,\n",
    "    solve_ELS = True,\n",
    "    solve_cost = True,\n",
    "    verbose = True,\n",
    ")\n",
    "\n",
    "self = beam\n",
    "    "
   ]
  },
  {
   "cell_type": "code",
   "execution_count": 7,
   "metadata": {},
   "outputs": [
    {
     "data": {
      "text/plain": [
       "0.0"
      ]
     },
     "execution_count": 7,
     "metadata": {},
     "output_type": "execute_result"
    }
   ],
   "source": [
    "sem min e max\n",
    "\n",
    "Solve transv steel executed in 0.12053775787353516s\n",
    "getDecalagedMomentumDesignDiagram executed in 0.13939976692199707s\n",
    " executed in 0.9244771003723145s\n",
    "Anchor pogetComercialSteelAreaDiagramsitive steel bar executed in 0.01114511489868164s\n",
    "Anchor negative steel bar executed in 0.01766490936279297s\n",
    "Solve ELS executed in 0.18258404731750488s"
   ]
  },
  {
   "cell_type": "code",
   "execution_count": 16,
   "metadata": {},
   "outputs": [],
   "source": [
    "Primeira otim\n",
    "\n",
    "Solve transv steel executed in 0.10584712028503418s\n",
    "getDecalagedMomentumDesignDiagram executed in 0.1461648941040039s\n",
    "getComercialSteelAreaDiagram executed in 0.9500012397766113s\n",
    "Anchor positive steel bar executed in 0.8684840202331543s\n",
    "Anchor negative steel bar executed in 1.2928712368011475s\n",
    "Solve ELS executed in 0.15725302696228027s"
   ]
  },
  {
   "cell_type": "code",
   "execution_count": 18,
   "metadata": {},
   "outputs": [
    {
     "data": {
      "text/plain": [
       "array([-1. , -1. , -1. , -1. , -1. , -1. , -1. , -1. , -1. , -1. , -1. , -1. , -1. , -1. , -1. , -1. , -1. , -1. , -1. , -1. , -1. , -1. , -1.5, -1.5, -1.5, -1.5, -1.5, -1.5, -1.5, -1.5, -1.5, -1.5])"
      ]
     },
     "execution_count": 18,
     "metadata": {},
     "output_type": "execute_result"
    }
   ],
   "source": [
    "negative_area_diagram"
   ]
  },
  {
   "cell_type": "code",
   "execution_count": 4,
   "metadata": {},
   "outputs": [
    {
     "data": {
      "text/plain": [
       "array([[nan, nan, nan, ..., 5. , 5. , 5. ],\n",
       "       [nan, nan, nan, ..., 0.8, 0.8, 0.8],\n",
       "       [nan, nan, nan, ..., 2.5, 2.5, 2.5]])"
      ]
     },
     "execution_count": 4,
     "metadata": {},
     "output_type": "execute_result"
    }
   ],
   "source": [
    "self.long_steel_bars_solution_info.positive_areas_info\n"
   ]
  },
  {
   "cell_type": "code",
   "execution_count": 10,
   "metadata": {},
   "outputs": [],
   "source": [
    "Puro python\n",
    "\n",
    "Solve transv steel executed in 0.15480375289916992s\n",
    "getComercialSteelAreaDiagram executed in 1.0153019428253174s\n",
    "Get positive steel bar in interspace executed in 0.006880044937133789s\n",
    "Get negative steel bar in interspace executed in 0.010609149932861328s\n",
    "Array to longsteelbar executed in 0.00017189979553222656s\n",
    "Anchor positive steel bar executed in 0.9272449016571045s\n",
    "Anchor negative steel bar executed in 1.4422531127929688s\n",
    "To concrete Beam executed in 3.1919138431549072s\n",
    "Solve displac constants executed in 0.00019693374633789062s\n",
    "Get displacement diagram executed in 0.050521135330200195s\n",
    "Get displacement diagram executed in 0.04890918731689453s\n",
    "Get displacement diagram executed in 0.04987621307373047s\n",
    "Solve ELS executed in 3.3421761989593506s"
   ]
  },
  {
   "cell_type": "code",
   "execution_count": 20,
   "metadata": {},
   "outputs": [],
   "source": [
    "import time"
   ]
  },
  {
   "cell_type": "code",
   "execution_count": null,
   "metadata": {},
   "outputs": [],
   "source": [
    "import timeit\n",
    "\n",
    "timeit.timeit(\"time.sleep(1)\")\n"
   ]
  },
  {
   "cell_type": "code",
   "execution_count": 9,
   "metadata": {},
   "outputs": [],
   "source": [
    "import time"
   ]
  },
  {
   "cell_type": "code",
   "execution_count": 3,
   "metadata": {},
   "outputs": [],
   "source": [
    "def timeit(name=False, do=True):\n",
    "    def inner0(function):\n",
    "        if not do: return function\n",
    "        def inner(*args, **kw):\n",
    "            start = time.time()\n",
    "            val = function(*args, **kw)\n",
    "            end = time.time()\n",
    "            print(\"{} executed in {}s\".format(function.__name__ if name == \"\" else name, end-start))\n",
    "            return val\n",
    "        return inner\n",
    "    return inner0"
   ]
  },
  {
   "cell_type": "code",
   "execution_count": 6,
   "metadata": {},
   "outputs": [],
   "source": [
    "import time"
   ]
  },
  {
   "cell_type": "code",
   "execution_count": 7,
   "metadata": {},
   "outputs": [],
   "source": [
    "def func_name(t):\n",
    "    time.sleep(t)\n",
    "    return t"
   ]
  },
  {
   "cell_type": "code",
   "execution_count": 17,
   "metadata": {},
   "outputs": [
    {
     "name": "stdout",
     "output_type": "stream",
     "text": [
      "False executed in 0.5001688003540039s\n"
     ]
    },
    {
     "data": {
      "text/plain": [
       "0.5"
      ]
     },
     "execution_count": 17,
     "metadata": {},
     "output_type": "execute_result"
    }
   ],
   "source": [
    "timeit()(func_name)(0.5)"
   ]
  },
  {
   "cell_type": "code",
   "execution_count": 9,
   "metadata": {},
   "outputs": [
    {
     "data": {
      "text/plain": [
       "37.367547035217285"
      ]
     },
     "execution_count": 9,
     "metadata": {},
     "output_type": "execute_result"
    }
   ],
   "source": [
    "t.toc()"
   ]
  },
  {
   "cell_type": "code",
   "execution_count": 3,
   "metadata": {},
   "outputs": [],
   "source": [
    "\n",
    "beam.solve_transv_steel()"
   ]
  },
  {
   "cell_type": "code",
   "execution_count": 4,
   "metadata": {},
   "outputs": [],
   "source": [
    "beam.solve_long_steel()"
   ]
  },
  {
   "cell_type": "code",
   "execution_count": 8,
   "metadata": {},
   "outputs": [
    {
     "data": {
      "image/png": "[encoded data removed]",
      "text/plain": [
       "<Figure size 1800x720 with 1 Axes>"
      ]
     },
     "metadata": {
      "needs_background": "light"
     },
     "output_type": "display_data"
    }
   ],
   "source": [
    "beam.plotTransversalInX(900)"
   ]
  },
  {
   "cell_type": "code",
   "execution_count": 19,
   "metadata": {},
   "outputs": [],
   "source": [
    "cost_table = np.array(cost_table)"
   ]
  },
  {
   "cell_type": "code",
   "execution_count": 22,
   "metadata": {},
   "outputs": [
    {
     "name": "stderr",
     "output_type": "stream",
     "text": [
      "/Users/luis/OneDrive - Vale S.A/Random/TCC Código/fconcrete/ENV/lib/python3.6/site-packages/ipykernel_launcher.py:1: FutureWarning: elementwise comparison failed; returning scalar instead, but in the future will perform elementwise comparison\n",
      "  \"\"\"Entry point for launching an IPython kernel.\n"
     ]
    },
    {
     "data": {
      "text/plain": [
       "array([], shape=(0, 82, 6), dtype='<U51')"
      ]
     },
     "execution_count": 22,
     "metadata": {},
     "output_type": "execute_result"
    }
   ],
   "source": [
    "cost_table[cost_table[:, 5] == True]\n"
   ]
  },
  {
   "cell_type": "code",
   "execution_count": 27,
   "metadata": {},
   "outputs": [
    {
     "name": "stderr",
     "output_type": "stream",
     "text": [
      "/Users/luis/OneDrive - Vale S.A/Random/TCC Código/fconcrete/ENV/lib/python3.6/site-packages/ipykernel_launcher.py:1: FutureWarning: elementwise comparison failed; returning scalar instead, but in the future will perform elementwise comparison\n",
      "  \"\"\"Entry point for launching an IPython kernel.\n"
     ]
    },
    {
     "data": {
      "text/plain": [
       "False"
      ]
     },
     "execution_count": 27,
     "metadata": {},
     "output_type": "execute_result"
    }
   ],
   "source": [
    "cost_table[:, 5] == True"
   ]
  },
  {
   "cell_type": "code",
   "execution_count": 28,
   "metadata": {},
   "outputs": [],
   "source": [
    "cost_table = []\n",
    "decimal_numbers = 2\n",
    "\n",
    "total_cost = total_length = 0\n",
    "for lb in self.transv_steel_bars:\n",
    "    total_cost += lb.cost\n",
    "    total_length += lb.length\n",
    "    row = [\"Transversal bar\",\n",
    "           round(lb.cost, decimal_numbers),\n",
    "           round(lb.length, decimal_numbers),\n",
    "           \"m\",\n",
    "           \"{}cm x {}cm. Diameter {}mm. Placed in {}m \".format(round(lb.width,decimal_numbers),\n",
    "                                                               round(lb.height,decimal_numbers),\n",
    "                                                               abs(lb.diameter*10),\n",
    "                                                               round(lb.x,decimal_numbers)), False]\n",
    "    cost_table = [*cost_table, row]\n",
    "    \n",
    "\n",
    "row = [\"Longitudinal bar\",\n",
    "       round(total_cost, decimal_numbers),\n",
    "       round(total_length, decimal_numbers),\n",
    "       \"m\", \"\", True]\n",
    "\n",
    "cost_table = [*cost_table, row]\n"
   ]
  },
  {
   "cell_type": "code",
   "execution_count": 29,
   "metadata": {},
   "outputs": [
    {
     "data": {
      "text/plain": [
       "[['Transversal bar',\n",
       "  3.6,\n",
       "  175.0,\n",
       "  'm',\n",
       "  '19.0cm x 54.0cm. Diameter 8.0mm. Placed in 0.0m ',\n",
       "  False],\n",
       " ['Transversal bar',\n",
       "  3.6,\n",
       "  175.0,\n",
       "  'm',\n",
       "  '19.0cm x 54.0cm. Diameter 8.0mm. Placed in 30.0m ',\n",
       "  False],\n",
       " ['Transversal bar',\n",
       "  3.6,\n",
       "  175.0,\n",
       "  'm',\n",
       "  '19.0cm x 54.0cm. Diameter 8.0mm. Placed in 60.0m ',\n",
       "  False],\n",
       " ['Transversal bar',\n",
       "  3.6,\n",
       "  175.0,\n",
       "  'm',\n",
       "  '19.0cm x 54.0cm. Diameter 8.0mm. Placed in 90.0m ',\n",
       "  False],\n",
       " ['Transversal bar',\n",
       "  3.6,\n",
       "  175.0,\n",
       "  'm',\n",
       "  '19.0cm x 54.0cm. Diameter 8.0mm. Placed in 120.0m ',\n",
       "  False],\n",
       " ['Transversal bar',\n",
       "  3.6,\n",
       "  175.0,\n",
       "  'm',\n",
       "  '19.0cm x 54.0cm. Diameter 8.0mm. Placed in 150.0m ',\n",
       "  False],\n",
       " ['Transversal bar',\n",
       "  3.6,\n",
       "  175.0,\n",
       "  'm',\n",
       "  '19.0cm x 54.0cm. Diameter 8.0mm. Placed in 180.0m ',\n",
       "  False],\n",
       " ['Transversal bar',\n",
       "  3.6,\n",
       "  175.0,\n",
       "  'm',\n",
       "  '19.0cm x 54.0cm. Diameter 8.0mm. Placed in 210.0m ',\n",
       "  False],\n",
       " ['Transversal bar',\n",
       "  3.6,\n",
       "  175.0,\n",
       "  'm',\n",
       "  '19.0cm x 54.0cm. Diameter 8.0mm. Placed in 240.0m ',\n",
       "  False],\n",
       " ['Transversal bar',\n",
       "  3.6,\n",
       "  175.0,\n",
       "  'm',\n",
       "  '19.0cm x 54.0cm. Diameter 8.0mm. Placed in 270.0m ',\n",
       "  False],\n",
       " ['Transversal bar',\n",
       "  3.6,\n",
       "  175.0,\n",
       "  'm',\n",
       "  '19.0cm x 54.0cm. Diameter 8.0mm. Placed in 300.0m ',\n",
       "  False],\n",
       " ['Transversal bar',\n",
       "  3.6,\n",
       "  175.0,\n",
       "  'm',\n",
       "  '19.0cm x 54.0cm. Diameter 8.0mm. Placed in 330.0m ',\n",
       "  False],\n",
       " ['Transversal bar',\n",
       "  3.6,\n",
       "  175.0,\n",
       "  'm',\n",
       "  '19.0cm x 54.0cm. Diameter 8.0mm. Placed in 360.0m ',\n",
       "  False],\n",
       " ['Transversal bar',\n",
       "  3.6,\n",
       "  175.0,\n",
       "  'm',\n",
       "  '19.0cm x 54.0cm. Diameter 8.0mm. Placed in 390.0m ',\n",
       "  False],\n",
       " ['Transversal bar',\n",
       "  3.6,\n",
       "  175.0,\n",
       "  'm',\n",
       "  '19.0cm x 54.0cm. Diameter 8.0mm. Placed in 420.0m ',\n",
       "  False],\n",
       " ['Transversal bar',\n",
       "  3.6,\n",
       "  175.0,\n",
       "  'm',\n",
       "  '19.0cm x 54.0cm. Diameter 8.0mm. Placed in 450.0m ',\n",
       "  False],\n",
       " ['Transversal bar',\n",
       "  3.6,\n",
       "  175.0,\n",
       "  'm',\n",
       "  '19.0cm x 54.0cm. Diameter 8.0mm. Placed in 480.0m ',\n",
       "  False],\n",
       " ['Transversal bar',\n",
       "  3.6,\n",
       "  175.0,\n",
       "  'm',\n",
       "  '19.0cm x 54.0cm. Diameter 8.0mm. Placed in 510.0m ',\n",
       "  False],\n",
       " ['Transversal bar',\n",
       "  3.6,\n",
       "  175.0,\n",
       "  'm',\n",
       "  '19.0cm x 54.0cm. Diameter 8.0mm. Placed in 540.0m ',\n",
       "  False],\n",
       " ['Transversal bar',\n",
       "  3.6,\n",
       "  175.0,\n",
       "  'm',\n",
       "  '19.0cm x 54.0cm. Diameter 8.0mm. Placed in 565.0m ',\n",
       "  False],\n",
       " ['Transversal bar',\n",
       "  3.6,\n",
       "  175.0,\n",
       "  'm',\n",
       "  '19.0cm x 54.0cm. Diameter 8.0mm. Placed in 580.0m ',\n",
       "  False],\n",
       " ['Transversal bar',\n",
       "  3.6,\n",
       "  175.0,\n",
       "  'm',\n",
       "  '19.0cm x 54.0cm. Diameter 8.0mm. Placed in 595.0m ',\n",
       "  False],\n",
       " ['Transversal bar',\n",
       "  3.6,\n",
       "  175.0,\n",
       "  'm',\n",
       "  '19.0cm x 54.0cm. Diameter 8.0mm. Placed in 610.0m ',\n",
       "  False],\n",
       " ['Transversal bar',\n",
       "  3.6,\n",
       "  175.0,\n",
       "  'm',\n",
       "  '19.0cm x 54.0cm. Diameter 8.0mm. Placed in 630.0m ',\n",
       "  False],\n",
       " ['Transversal bar',\n",
       "  3.6,\n",
       "  175.0,\n",
       "  'm',\n",
       "  '19.0cm x 54.0cm. Diameter 8.0mm. Placed in 655.0m ',\n",
       "  False],\n",
       " ['Transversal bar',\n",
       "  3.6,\n",
       "  175.0,\n",
       "  'm',\n",
       "  '19.0cm x 54.0cm. Diameter 8.0mm. Placed in 685.0m ',\n",
       "  False],\n",
       " ['Transversal bar',\n",
       "  3.6,\n",
       "  175.0,\n",
       "  'm',\n",
       "  '19.0cm x 54.0cm. Diameter 8.0mm. Placed in 715.0m ',\n",
       "  False],\n",
       " ['Transversal bar',\n",
       "  3.6,\n",
       "  175.0,\n",
       "  'm',\n",
       "  '19.0cm x 54.0cm. Diameter 8.0mm. Placed in 745.0m ',\n",
       "  False],\n",
       " ['Transversal bar',\n",
       "  3.6,\n",
       "  175.0,\n",
       "  'm',\n",
       "  '19.0cm x 54.0cm. Diameter 8.0mm. Placed in 775.0m ',\n",
       "  False],\n",
       " ['Transversal bar',\n",
       "  3.6,\n",
       "  175.0,\n",
       "  'm',\n",
       "  '19.0cm x 54.0cm. Diameter 8.0mm. Placed in 805.0m ',\n",
       "  False],\n",
       " ['Transversal bar',\n",
       "  3.6,\n",
       "  175.0,\n",
       "  'm',\n",
       "  '19.0cm x 54.0cm. Diameter 8.0mm. Placed in 835.0m ',\n",
       "  False],\n",
       " ['Transversal bar',\n",
       "  3.6,\n",
       "  175.0,\n",
       "  'm',\n",
       "  '19.0cm x 54.0cm. Diameter 8.0mm. Placed in 865.0m ',\n",
       "  False],\n",
       " ['Transversal bar',\n",
       "  3.6,\n",
       "  175.0,\n",
       "  'm',\n",
       "  '19.0cm x 54.0cm. Diameter 8.0mm. Placed in 895.0m ',\n",
       "  False],\n",
       " ['Transversal bar',\n",
       "  3.6,\n",
       "  175.0,\n",
       "  'm',\n",
       "  '19.0cm x 54.0cm. Diameter 8.0mm. Placed in 925.0m ',\n",
       "  False],\n",
       " ['Transversal bar',\n",
       "  3.6,\n",
       "  175.0,\n",
       "  'm',\n",
       "  '19.0cm x 54.0cm. Diameter 8.0mm. Placed in 955.0m ',\n",
       "  False],\n",
       " ['Transversal bar',\n",
       "  3.6,\n",
       "  175.0,\n",
       "  'm',\n",
       "  '19.0cm x 54.0cm. Diameter 8.0mm. Placed in 985.0m ',\n",
       "  False],\n",
       " ['Transversal bar',\n",
       "  3.6,\n",
       "  175.0,\n",
       "  'm',\n",
       "  '19.0cm x 54.0cm. Diameter 8.0mm. Placed in 1015.0m ',\n",
       "  False],\n",
       " ['Transversal bar',\n",
       "  3.6,\n",
       "  175.0,\n",
       "  'm',\n",
       "  '19.0cm x 54.0cm. Diameter 8.0mm. Placed in 1045.0m ',\n",
       "  False],\n",
       " ['Transversal bar',\n",
       "  3.6,\n",
       "  175.0,\n",
       "  'm',\n",
       "  '19.0cm x 54.0cm. Diameter 8.0mm. Placed in 1075.0m ',\n",
       "  False],\n",
       " ['Transversal bar',\n",
       "  3.6,\n",
       "  175.0,\n",
       "  'm',\n",
       "  '19.0cm x 54.0cm. Diameter 8.0mm. Placed in 1105.0m ',\n",
       "  False],\n",
       " ['Transversal bar',\n",
       "  3.6,\n",
       "  175.0,\n",
       "  'm',\n",
       "  '19.0cm x 54.0cm. Diameter 8.0mm. Placed in 1135.0m ',\n",
       "  False],\n",
       " ['Transversal bar',\n",
       "  3.6,\n",
       "  175.0,\n",
       "  'm',\n",
       "  '19.0cm x 54.0cm. Diameter 8.0mm. Placed in 1165.0m ',\n",
       "  False],\n",
       " ['Longitudinal bar', 151.23, 7350.0, 'm', '', True]]"
      ]
     },
     "execution_count": 29,
     "metadata": {},
     "output_type": "execute_result"
    }
   ],
   "source": [
    "cost_table"
   ]
  },
  {
   "cell_type": "code",
   "execution_count": 11,
   "metadata": {},
   "outputs": [
    {
     "data": {
      "text/plain": [
       "5.89"
      ]
     },
     "execution_count": 11,
     "metadata": {},
     "output_type": "execute_result"
    }
   ],
   "source": [
    "round(5.888, 2)"
   ]
  },
  {
   "cell_type": "code",
   "execution_count": null,
   "metadata": {},
   "outputs": [],
   "source": []
  },
  {
   "cell_type": "code",
   "execution_count": 16,
   "metadata": {},
   "outputs": [],
   "source": [
    "cost_table = [[\"Material\", \"Price\", \"Quantity\", \"Unit\", \"Commentary\", \"Is Subtotal\"]]"
   ]
  },
  {
   "cell_type": "code",
   "execution_count": 17,
   "metadata": {},
   "outputs": [],
   "source": [
    "row = [\"Concrete\", 3423423, 50, \"m3\", \"Between 1m and 10m\", False]"
   ]
  },
  {
   "cell_type": "code",
   "execution_count": 19,
   "metadata": {},
   "outputs": [],
   "source": [
    "cost_table = [*cost_table, row]"
   ]
  },
  {
   "cell_type": "code",
   "execution_count": 22,
   "metadata": {},
   "outputs": [],
   "source": [
    "cost_table = [*cost_table, row]"
   ]
  },
  {
   "cell_type": "code",
   "execution_count": 23,
   "metadata": {},
   "outputs": [
    {
     "data": {
      "text/plain": [
       "[['Material', 'Price', 'Quantity', 'Unit', 'Commentary', 'Is Subtotal'],\n",
       " ['Concrete', 3423423, 50, 'm3', 'Between 1m and 10m', False],\n",
       " ['Concrete', 3423423, 50, 'm3', 'Between 1m and 10m', False]]"
      ]
     },
     "execution_count": 23,
     "metadata": {},
     "output_type": "execute_result"
    }
   ],
   "source": [
    "cost_table"
   ]
  }
 ],
 "metadata": {
  "kernelspec": {
   "display_name": "Python 3",
   "language": "python",
   "name": "python3"
  },
  "language_info": {
   "codemirror_mode": {
    "name": "ipython",
    "version": 3
   },
   "file_extension": ".py",
   "mimetype": "text/x-python",
   "name": "python",
   "nbconvert_exporter": "python",
   "pygments_lexer": "ipython3",
   "version": "3.6.6"
  }
 },
 "nbformat": 4,
 "nbformat_minor": 2
}
