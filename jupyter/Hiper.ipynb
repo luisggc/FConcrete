{
 "cells": [
  {
   "cell_type": "code",
   "execution_count": 1,
   "metadata": {},
   "outputs": [],
   "source": [
    "#%matplotlib inline\n",
    "#%matplotlib gtk\n",
    "import sys\n",
    "sys.path.insert(0, '../')\n",
    "from pytest import approx\n",
    "import fconcrete as fc\n",
    "#import fconcrete\n",
    "#from fconcrete import helpers, duplicated, Material, e, Beam, Node, Loads, Nodes, Load,Material, ConcreteBeam, SingleBeamElement, Rectangle, Concrete, Section, ConcreteSteels\n",
    "import matplotlib.pyplot as plt\n",
    "import numpy as np\n",
    "np.set_printoptions(precision=3, suppress=True, linewidth=3000)\n",
    "\n",
    "#from math import log\n",
    "\n",
    "# Tension in MPa\n",
    "# length in cm\n",
    "# Shear in kN"
   ]
  },
  {
   "cell_type": "code",
   "execution_count": 2,
   "metadata": {},
   "outputs": [],
   "source": [
    "material = fc.Concrete(fck='20 MPa', aggressiveness=2)\n",
    "section = fc.Rectangle(25,56, material)\n",
    "\n",
    "f1 = fc.Load.UniformDistributedLoad(-0.1622, x_begin=0, x_end=113)\n",
    "f2 = fc.Load.UniformDistributedLoad(-0.4994, x_begin=113, x_end=583)\n",
    "f3 = fc.Load.UniformDistributedLoad(-0.4196, x_begin=583, x_end=1188)\n",
    "\n",
    "n1 = fc.Node.SimpleSupport(x=0)\n",
    "n2 = fc.Node.SimpleSupport(x=113)\n",
    "n3 = fc.Node.SimpleSupport(x=583)\n",
    "n4 = fc.Node.SimpleSupport(x=1188)\n",
    "\n",
    "bar1 = fc.SingleBeamElement([n1, n2], section)\n",
    "bar2 = fc.SingleBeamElement([n2, n3], section)\n",
    "bar3 = fc.SingleBeamElement([n3, n4], section)\n",
    "\n",
    "\n",
    "fc.config.available_material = {\n",
    "\"concrete_steel_bars\":fc.AvailableConcreteSteelBar(\n",
    "        diameters=[8]\n",
    ")}\n",
    "    \n",
    "    \n",
    "beam = fc.ConcreteBeam(\n",
    "    loads = [f1, f2, f3],\n",
    "    bars = [bar1, bar2, bar3]\n",
    ")\n",
    "self = beam"
   ]
  },
  {
   "cell_type": "code",
   "execution_count": 3,
   "metadata": {},
   "outputs": [
    {
     "data": {
      "text/plain": [
       "array([[-100. ,   -0.8,  -50. ],\n",
       "       [ -99. ,   -0.8,  -49.5],\n",
       "       [ -98. ,   -0.8,  -49. ],\n",
       "       [ -97. ,   -0.8,  -48.5],\n",
       "       [ -96. ,   -0.8,  -48. ],\n",
       "       [ -95. ,   -0.8,  -47.5],\n",
       "       [ -94. ,   -0.8,  -47. ],\n",
       "       [ -93. ,   -0.8,  -46.5],\n",
       "       [ -92. ,   -0.8,  -46. ],\n",
       "       [ -91. ,   -0.8,  -45.5],\n",
       "       [ -90. ,   -0.8,  -45. ],\n",
       "       [ -89. ,   -0.8,  -44.5],\n",
       "       [ -88. ,   -0.8,  -44. ],\n",
       "       [ -87. ,   -0.8,  -43.5],\n",
       "       [ -86. ,   -0.8,  -43. ],\n",
       "       [ -85. ,   -0.8,  -42.5],\n",
       "       [ -84. ,   -0.8,  -42. ],\n",
       "       [ -83. ,   -0.8,  -41.5],\n",
       "       [ -82. ,   -0.8,  -41. ],\n",
       "       [ -81. ,   -0.8,  -40.5],\n",
       "       [ -80. ,   -0.8,  -40. ],\n",
       "       [ -79. ,   -0.8,  -39.5],\n",
       "       [ -78. ,   -0.8,  -39. ],\n",
       "       [ -77. ,   -0.8,  -38.5],\n",
       "       [ -76. ,   -0.8,  -38. ],\n",
       "       [ -75. ,   -0.8,  -37.5],\n",
       "       [ -74. ,   -0.8,  -37. ],\n",
       "       [ -73. ,   -0.8,  -36.5],\n",
       "       [ -72. ,   -0.8,  -36. ],\n",
       "       [ -71. ,   -0.8,  -35.5],\n",
       "       [ -70. ,   -0.8,  -35. ],\n",
       "       [ -69. ,   -0.8,  -34.5],\n",
       "       [ -68. ,   -0.8,  -34. ],\n",
       "       [ -67. ,   -0.8,  -33.5],\n",
       "       [ -66. ,   -0.8,  -33. ],\n",
       "       [ -65. ,   -0.8,  -32.5],\n",
       "       [ -64. ,   -0.8,  -32. ],\n",
       "       [ -63. ,   -0.8,  -31.5],\n",
       "       [ -62. ,   -0.8,  -31. ],\n",
       "       [ -61. ,   -0.8,  -30.5],\n",
       "       [ -60. ,   -0.8,  -30. ],\n",
       "       [ -59. ,   -0.8,  -29.5],\n",
       "       [ -58. ,   -0.8,  -29. ],\n",
       "       [ -57. ,   -0.8,  -28.5],\n",
       "       [ -56. ,   -0.8,  -28. ],\n",
       "       [ -55. ,   -0.8,  -27.5],\n",
       "       [ -54. ,   -0.8,  -27. ],\n",
       "       [ -53. ,   -0.8,  -26.5],\n",
       "       [ -52. ,   -0.8,  -26. ],\n",
       "       [ -51. ,   -0.8,  -25.5],\n",
       "       [ -50. ,   -0.8,  -25. ],\n",
       "       [ -49. ,   -0.8,  -24.5],\n",
       "       [ -48. ,   -0.8,  -24. ],\n",
       "       [ -47. ,   -0.8,  -23.5],\n",
       "       [ -46. ,   -0.8,  -23. ],\n",
       "       [ -45. ,   -0.8,  -22.5],\n",
       "       [ -44. ,   -0.8,  -22. ],\n",
       "       [ -43. ,   -0.8,  -21.5],\n",
       "       [ -42. ,   -0.8,  -21. ],\n",
       "       [ -41. ,   -0.8,  -20.5],\n",
       "       [ -40. ,   -0.8,  -20. ],\n",
       "       [ -39. ,   -0.8,  -19.5],\n",
       "       [ -38. ,   -0.8,  -19. ],\n",
       "       [ -37. ,   -0.8,  -18.5],\n",
       "       [ -36. ,   -0.8,  -18. ],\n",
       "       [ -35. ,   -0.8,  -17.5],\n",
       "       [ -34. ,   -0.8,  -17. ],\n",
       "       [ -33. ,   -0.8,  -16.5],\n",
       "       [ -32. ,   -0.8,  -16. ],\n",
       "       [ -31. ,   -0.8,  -15.5],\n",
       "       [ -30. ,   -0.8,  -15. ],\n",
       "       [ -29. ,   -0.8,  -14.5],\n",
       "       [ -28. ,   -0.8,  -14. ],\n",
       "       [ -27. ,   -0.8,  -13.5],\n",
       "       [ -26. ,   -0.8,  -13. ],\n",
       "       [ -25. ,   -0.8,  -12.5],\n",
       "       [ -24. ,   -0.8,  -12. ],\n",
       "       [ -23. ,   -0.8,  -11.5],\n",
       "       [ -22. ,   -0.8,  -11. ],\n",
       "       [ -21. ,   -0.8,  -10.5],\n",
       "       [ -20. ,   -0.8,  -10. ],\n",
       "       [ -19. ,   -0.8,   -9.5],\n",
       "       [ -18. ,   -0.8,   -9. ],\n",
       "       [ -17. ,   -0.8,   -8.5],\n",
       "       [ -16. ,   -0.8,   -8. ],\n",
       "       [ -15. ,   -0.8,   -7.5],\n",
       "       [ -14. ,   -0.8,   -7. ],\n",
       "       [ -13. ,   -0.8,   -6.5],\n",
       "       [ -12. ,   -0.8,   -6. ],\n",
       "       [ -11. ,   -0.8,   -5.5],\n",
       "       [ -10. ,   -0.8,   -5. ],\n",
       "       [  -9. ,   -0.8,   -4.5],\n",
       "       [  -8. ,   -0.8,   -4. ],\n",
       "       [  -7. ,   -0.8,   -3.5],\n",
       "       [  -6. ,   -0.8,   -3. ],\n",
       "       [  -5. ,   -0.8,   -2.5],\n",
       "       [  -4. ,   -0.8,   -2. ],\n",
       "       [  -3. ,   -0.8,   -1.5],\n",
       "       [  -2. ,   -0.8,   -1. ],\n",
       "       [   2. ,    0.8,    1. ],\n",
       "       [   3. ,    0.8,    1.5],\n",
       "       [   4. ,    0.8,    2. ],\n",
       "       [   5. ,    0.8,    2.5],\n",
       "       [   6. ,    0.8,    3. ],\n",
       "       [   7. ,    0.8,    3.5],\n",
       "       [   8. ,    0.8,    4. ],\n",
       "       [   9. ,    0.8,    4.5],\n",
       "       [  10. ,    0.8,    5. ],\n",
       "       [  11. ,    0.8,    5.5],\n",
       "       [  12. ,    0.8,    6. ],\n",
       "       [  13. ,    0.8,    6.5],\n",
       "       [  14. ,    0.8,    7. ],\n",
       "       [  15. ,    0.8,    7.5],\n",
       "       [  16. ,    0.8,    8. ],\n",
       "       [  17. ,    0.8,    8.5],\n",
       "       [  18. ,    0.8,    9. ],\n",
       "       [  19. ,    0.8,    9.5],\n",
       "       [  20. ,    0.8,   10. ],\n",
       "       [  21. ,    0.8,   10.5],\n",
       "       [  22. ,    0.8,   11. ],\n",
       "       [  23. ,    0.8,   11.5],\n",
       "       [  24. ,    0.8,   12. ],\n",
       "       [  25. ,    0.8,   12.5],\n",
       "       [  26. ,    0.8,   13. ],\n",
       "       [  27. ,    0.8,   13.5],\n",
       "       [  28. ,    0.8,   14. ],\n",
       "       [  29. ,    0.8,   14.5],\n",
       "       [  30. ,    0.8,   15. ],\n",
       "       [  31. ,    0.8,   15.5],\n",
       "       [  32. ,    0.8,   16. ],\n",
       "       [  33. ,    0.8,   16.5],\n",
       "       [  34. ,    0.8,   17. ],\n",
       "       [  35. ,    0.8,   17.5],\n",
       "       [  36. ,    0.8,   18. ],\n",
       "       [  37. ,    0.8,   18.5],\n",
       "       [  38. ,    0.8,   19. ],\n",
       "       [  39. ,    0.8,   19.5],\n",
       "       [  40. ,    0.8,   20. ],\n",
       "       [  41. ,    0.8,   20.5],\n",
       "       [  42. ,    0.8,   21. ],\n",
       "       [  43. ,    0.8,   21.5],\n",
       "       [  44. ,    0.8,   22. ],\n",
       "       [  45. ,    0.8,   22.5],\n",
       "       [  46. ,    0.8,   23. ],\n",
       "       [  47. ,    0.8,   23.5],\n",
       "       [  48. ,    0.8,   24. ],\n",
       "       [  49. ,    0.8,   24.5],\n",
       "       [  50. ,    0.8,   25. ],\n",
       "       [  51. ,    0.8,   25.5],\n",
       "       [  52. ,    0.8,   26. ],\n",
       "       [  53. ,    0.8,   26.5],\n",
       "       [  54. ,    0.8,   27. ],\n",
       "       [  55. ,    0.8,   27.5],\n",
       "       [  56. ,    0.8,   28. ],\n",
       "       [  57. ,    0.8,   28.5],\n",
       "       [  58. ,    0.8,   29. ],\n",
       "       [  59. ,    0.8,   29.5],\n",
       "       [  60. ,    0.8,   30. ],\n",
       "       [  61. ,    0.8,   30.5],\n",
       "       [  62. ,    0.8,   31. ],\n",
       "       [  63. ,    0.8,   31.5],\n",
       "       [  64. ,    0.8,   32. ],\n",
       "       [  65. ,    0.8,   32.5],\n",
       "       [  66. ,    0.8,   33. ],\n",
       "       [  67. ,    0.8,   33.5],\n",
       "       [  68. ,    0.8,   34. ],\n",
       "       [  69. ,    0.8,   34.5],\n",
       "       [  70. ,    0.8,   35. ],\n",
       "       [  71. ,    0.8,   35.5],\n",
       "       [  72. ,    0.8,   36. ],\n",
       "       [  73. ,    0.8,   36.5],\n",
       "       [  74. ,    0.8,   37. ],\n",
       "       [  75. ,    0.8,   37.5],\n",
       "       [  76. ,    0.8,   38. ],\n",
       "       [  77. ,    0.8,   38.5],\n",
       "       [  78. ,    0.8,   39. ],\n",
       "       [  79. ,    0.8,   39.5],\n",
       "       [  80. ,    0.8,   40. ],\n",
       "       [  81. ,    0.8,   40.5],\n",
       "       [  82. ,    0.8,   41. ],\n",
       "       [  83. ,    0.8,   41.5],\n",
       "       [  84. ,    0.8,   42. ],\n",
       "       [  85. ,    0.8,   42.5],\n",
       "       [  86. ,    0.8,   43. ],\n",
       "       [  87. ,    0.8,   43.5],\n",
       "       [  88. ,    0.8,   44. ],\n",
       "       [  89. ,    0.8,   44.5],\n",
       "       [  90. ,    0.8,   45. ],\n",
       "       [  91. ,    0.8,   45.5],\n",
       "       [  92. ,    0.8,   46. ],\n",
       "       [  93. ,    0.8,   46.5],\n",
       "       [  94. ,    0.8,   47. ],\n",
       "       [  95. ,    0.8,   47.5],\n",
       "       [  96. ,    0.8,   48. ],\n",
       "       [  97. ,    0.8,   48.5],\n",
       "       [  98. ,    0.8,   49. ],\n",
       "       [  99. ,    0.8,   49.5],\n",
       "       [ 100. ,    0.8,   50. ]])"
      ]
     },
     "execution_count": 3,
     "metadata": {},
     "output_type": "execute_result"
    }
   ],
   "source": [
    "fc.config.available_material[\"concrete_steel_bars\"].table"
   ]
  },
  {
   "cell_type": "code",
   "execution_count": 4,
   "metadata": {
    "scrolled": true
   },
   "outputs": [
    {
     "data": {
      "text/plain": [
       "[<matplotlib.lines.Line2D at 0x121207908>]"
      ]
     },
     "execution_count": 4,
     "metadata": {},
     "output_type": "execute_result"
    },
    {
     "data": {
      "image/png": "[encoded data removed]",
      "text/plain": [
       "<Figure size 432x288 with 1 Axes>"
      ]
     },
     "metadata": {
      "needs_background": "light"
     },
     "output_type": "display_data"
    }
   ],
   "source": [
    "x_decalaged, momentum_positive, momentum_negative = beam.getDecalagedMomentumDiagram()\n",
    "plt.plot(x_decalaged, -momentum_positive)\n",
    "plt.plot(x_decalaged, -momentum_negative)\n",
    "#x, y = beam.getShearDiagram()\n",
    "#plt.plot(x, y)"
   ]
  },
  {
   "cell_type": "code",
   "execution_count": 5,
   "metadata": {},
   "outputs": [
    {
     "data": {
      "text/plain": [
       "[<matplotlib.lines.Line2D at 0x123ef4588>]"
      ]
     },
     "execution_count": 5,
     "metadata": {},
     "output_type": "execute_result"
    },
    {
     "data": {
      "image/png": "[encoded data removed]",
      "text/plain": [
       "<Figure size 432x288 with 1 Axes>"
      ]
     },
     "metadata": {
      "needs_background": "light"
     },
     "output_type": "display_data"
    }
   ],
   "source": [
    "x, yp, yn = beam.getSteelAreaDiagram()\n",
    "plt.plot(x, yp)\n",
    "#x, y = beam.getShearDiagram()\n",
    "#plt.plot(x, y)"
   ]
  },
  {
   "cell_type": "markdown",
   "metadata": {},
   "source": [
    "# Rascunho"
   ]
  },
  {
   "cell_type": "code",
   "execution_count": 6,
   "metadata": {},
   "outputs": [],
   "source": [
    "x, positive_areas_info, negative_areas_info = beam.getComercialSteelAreaDiagram()"
   ]
  },
  {
   "cell_type": "code",
   "execution_count": 7,
   "metadata": {},
   "outputs": [],
   "source": [
    "quantity_positive, diameter_positive, area_positive = positive_areas_info"
   ]
  },
  {
   "cell_type": "code",
   "execution_count": 8,
   "metadata": {},
   "outputs": [
    {
     "data": {
      "text/plain": [
       "[<matplotlib.lines.Line2D at 0x123dc19b0>]"
      ]
     },
     "execution_count": 8,
     "metadata": {},
     "output_type": "execute_result"
    },
    {
     "data": {
      "image/png": "[encoded data removed]",
      "text/plain": [
       "<Figure size 432x288 with 1 Axes>"
      ]
     },
     "metadata": {
      "needs_background": "light"
     },
     "output_type": "display_data"
    }
   ],
   "source": [
    "x, yp, yn = beam.getSteelAreaDiagram()\n",
    "plt.plot(x, yp, 'b-')\n",
    "plt.plot(x, area_positive)"
   ]
  },
  {
   "cell_type": "code",
   "execution_count": 8,
   "metadata": {},
   "outputs": [],
   "source": [
    "def getInterspaceBetweenMomentum(x, area):\n",
    "    '''\n",
    "        Return an array and each row represents a interspace.\n",
    "        Element row[0] is the begin of interspace and row[1], the end.\n",
    "    '''\n",
    "    previous_y=np.nan\n",
    "    interspace = np.array([0, 0])\n",
    "    for x_u,y in zip(x, area):\n",
    "        if np.isnan(previous_y) and not np.isnan(y):\n",
    "            begin = x_u\n",
    "        elif np.isnan(y) and not np.isnan(previous_y):\n",
    "            end = x_u\n",
    "            interspace = np.vstack([interspace, [begin, end]])\n",
    "        previous_y = y\n",
    "    interspace = np.vstack([interspace, [begin, x[-1]]])[1:]\n",
    "    return interspace"
   ]
  },
  {
   "cell_type": "code",
   "execution_count": 10,
   "metadata": {},
   "outputs": [],
   "source": [
    "interspaces = getInterspaceBetweenMomentum(x, area_positive)"
   ]
  },
  {
   "cell_type": "code",
   "execution_count": 11,
   "metadata": {},
   "outputs": [],
   "source": [
    "class SteelBars():\n",
    "    def __init__(self, steelbars=[]):\n",
    "        self.steelbars = np.array(steelbars)\n",
    "    \n",
    "    def add(self, steelbar):\n",
    "        self.steelbars = np.append(self.steelbars,steelbar)\n",
    "    \n",
    "    def plot(self,prop='quantity'):\n",
    "        for steelbar in self.steelbars:\n",
    "            steelbar.plot(prop)\n",
    "    \n",
    "    def __getitem__(self, key):\n",
    "        return self.steelbars[key]\n",
    "    \n",
    "    def __repr__(self):\n",
    "        return str(self.steelbars)\n",
    "        \n",
    "class SteelBar():\n",
    "    def __init__(self, long_begin, long_end, quantity, diameter):\n",
    "        self.long_begin = long_begin\n",
    "        self.long_end = long_end\n",
    "        self.quantity = quantity\n",
    "        self.diameter = diameter\n",
    "    \n",
    "    def plot(self,prop='quantity'):\n",
    "        y = getattr(self, prop)\n",
    "        plt.plot([self.long_begin, self.long_end], [y,y])\n",
    "    \n",
    "    def __repr__(self):\n",
    "        return str(self.__dict__)+'\\n'"
   ]
  },
  {
   "cell_type": "code",
   "execution_count": 12,
   "metadata": {},
   "outputs": [],
   "source": [
    "def getBarsInInterspaces(x, areas_info):\n",
    "    quantities, diameters, areas = areas_info  \n",
    "    bars = SteelBars()\n",
    "    \n",
    "    for interspace in getInterspaceBetweenMomentum(x, area_positive):\n",
    "        is_in_interpace = (x > interspace[0]) & (x<interspace[1])\n",
    "        x_interspace = x[is_in_interpace]\n",
    "        quantities_interspace = quantities[is_in_interpace]\n",
    "        diameter = diameters[is_in_interpace][0]\n",
    "\n",
    "        max_quantity_interspace = int(max(quantities_interspace))\n",
    "\n",
    "        for quantity in range(1, max_quantity_interspace+1):\n",
    "            x_same_quantity = x_interspace[quantities_interspace == quantity]\n",
    "            if len(x_same_quantity)>0:\n",
    "                new_bar = SteelBar(long_begin=min(x_same_quantity),\n",
    "                                   long_end=max(x_same_quantity),\n",
    "                                   quantity=quantity,\n",
    "                                   diameter=diameter)\n",
    "                bars.add(new_bar)\n",
    "\n",
    "    return bars"
   ]
  },
  {
   "cell_type": "code",
   "execution_count": null,
   "metadata": {},
   "outputs": [],
   "source": []
  },
  {
   "cell_type": "code",
   "execution_count": 14,
   "metadata": {},
   "outputs": [
    {
     "data": {
      "image/png": "[encoded data removed]",
      "text/plain": [
       "<Figure size 432x288 with 1 Axes>"
      ]
     },
     "metadata": {
      "needs_background": "light"
     },
     "output_type": "display_data"
    }
   ],
   "source": [
    "getBarsInInterspaces(x, positive_areas_info).plot()\n"
   ]
  },
  {
   "cell_type": "code",
   "execution_count": 69,
   "metadata": {},
   "outputs": [],
   "source": [
    "new_bar = SteelBar(long_begin=0,\n",
    "                                   long_end=2,\n",
    "                                   quantity=5,\n",
    "                                   diameter=0.1)"
   ]
  },
  {
   "cell_type": "code",
   "execution_count": 77,
   "metadata": {},
   "outputs": [
    {
     "data": {
      "text/plain": [
       "5"
      ]
     },
     "execution_count": 77,
     "metadata": {},
     "output_type": "execute_result"
    }
   ],
   "source": [
    "getattr(new_bar, 'quantity')"
   ]
  },
  {
   "cell_type": "code",
   "execution_count": 72,
   "metadata": {},
   "outputs": [
    {
     "ename": "TypeError",
     "evalue": "'SteelBar' object is not subscriptable",
     "output_type": "error",
     "traceback": [
      "\u001b[0;31m---------------------------------------------------------------------------\u001b[0m",
      "\u001b[0;31mTypeError\u001b[0m                                 Traceback (most recent call last)",
      "\u001b[0;32m<ipython-input-72-dc07e5b4e6c9>\u001b[0m in \u001b[0;36m<module>\u001b[0;34m\u001b[0m\n\u001b[0;32m----> 1\u001b[0;31m \u001b[0mnew_bar\u001b[0m\u001b[0;34m[\u001b[0m\u001b[0;34m'quantity'\u001b[0m\u001b[0;34m]\u001b[0m\u001b[0;34m\u001b[0m\u001b[0m\n\u001b[0m",
      "\u001b[0;31mTypeError\u001b[0m: 'SteelBar' object is not subscriptable"
     ]
    }
   ],
   "source": [
    "new_bar['quantity']"
   ]
  },
  {
   "cell_type": "code",
   "execution_count": 71,
   "metadata": {},
   "outputs": [
    {
     "ename": "TypeError",
     "evalue": "'SteelBar' object is not subscriptable",
     "output_type": "error",
     "traceback": [
      "\u001b[0;31m---------------------------------------------------------------------------\u001b[0m",
      "\u001b[0;31mTypeError\u001b[0m                                 Traceback (most recent call last)",
      "\u001b[0;32m<ipython-input-71-8b0b81e107e0>\u001b[0m in \u001b[0;36m<module>\u001b[0;34m\u001b[0m\n\u001b[0;32m----> 1\u001b[0;31m \u001b[0mnew_bar\u001b[0m\u001b[0;34m.\u001b[0m\u001b[0mplot\u001b[0m\u001b[0;34m(\u001b[0m\u001b[0;34m)\u001b[0m\u001b[0;34m\u001b[0m\u001b[0m\n\u001b[0m",
      "\u001b[0;32m<ipython-input-66-42971c36cbf7>\u001b[0m in \u001b[0;36mplot\u001b[0;34m(self, prop)\u001b[0m\n\u001b[1;32m     24\u001b[0m \u001b[0;34m\u001b[0m\u001b[0m\n\u001b[1;32m     25\u001b[0m     \u001b[0;32mdef\u001b[0m \u001b[0mplot\u001b[0m\u001b[0;34m(\u001b[0m\u001b[0mself\u001b[0m\u001b[0;34m,\u001b[0m\u001b[0mprop\u001b[0m\u001b[0;34m=\u001b[0m\u001b[0;34m'quantity'\u001b[0m\u001b[0;34m)\u001b[0m\u001b[0;34m:\u001b[0m\u001b[0;34m\u001b[0m\u001b[0m\n\u001b[0;32m---> 26\u001b[0;31m         \u001b[0mplt\u001b[0m\u001b[0;34m.\u001b[0m\u001b[0mplot\u001b[0m\u001b[0;34m(\u001b[0m\u001b[0;34m[\u001b[0m\u001b[0mself\u001b[0m\u001b[0;34m.\u001b[0m\u001b[0mlong_begin\u001b[0m\u001b[0;34m,\u001b[0m \u001b[0mself\u001b[0m\u001b[0;34m.\u001b[0m\u001b[0mlong_end\u001b[0m\u001b[0;34m]\u001b[0m\u001b[0;34m,\u001b[0m \u001b[0;34m[\u001b[0m\u001b[0mself\u001b[0m\u001b[0;34m[\u001b[0m\u001b[0mprop\u001b[0m\u001b[0;34m]\u001b[0m\u001b[0;34m,\u001b[0m \u001b[0mself\u001b[0m\u001b[0;34m[\u001b[0m\u001b[0mprop\u001b[0m\u001b[0;34m]\u001b[0m\u001b[0;34m]\u001b[0m\u001b[0;34m)\u001b[0m\u001b[0;34m\u001b[0m\u001b[0m\n\u001b[0m\u001b[1;32m     27\u001b[0m \u001b[0;34m\u001b[0m\u001b[0m\n\u001b[1;32m     28\u001b[0m     \u001b[0;32mdef\u001b[0m \u001b[0m__repr__\u001b[0m\u001b[0;34m(\u001b[0m\u001b[0mself\u001b[0m\u001b[0;34m)\u001b[0m\u001b[0;34m:\u001b[0m\u001b[0;34m\u001b[0m\u001b[0m\n",
      "\u001b[0;31mTypeError\u001b[0m: 'SteelBar' object is not subscriptable"
     ]
    }
   ],
   "source": [
    "new_bar.plot()"
   ]
  },
  {
   "cell_type": "code",
   "execution_count": 27,
   "metadata": {},
   "outputs": [
    {
     "data": {
      "text/plain": [
       "[<matplotlib.lines.Line2D at 0x1159e84a8>]"
      ]
     },
     "execution_count": 27,
     "metadata": {},
     "output_type": "execute_result"
    },
    {
     "data": {
      "image/png": "[encoded data removed]",
      "text/plain": [
       "<Figure size 432x288 with 1 Axes>"
      ]
     },
     "metadata": {
      "needs_background": "light"
     },
     "output_type": "display_data"
    }
   ],
   "source": [
    "plt.plot([148.311,454.608], [2, 2])"
   ]
  },
  {
   "cell_type": "code",
   "execution_count": 13,
   "metadata": {},
   "outputs": [
    {
     "data": {
      "text/plain": [
       "array([nan, nan, nan, nan, nan, nan, nan, nan, nan, nan, nan, nan, nan, nan, nan, nan, nan, nan, nan, nan, nan, nan, nan, nan, nan, nan, nan, nan, nan, nan, nan, nan, nan, nan, nan, nan, nan, nan, nan, nan, nan, nan, nan, nan, nan, nan, nan, nan, nan, nan, nan, nan, nan, nan, nan, nan, nan, nan, nan, nan, nan, nan, nan, nan, nan, nan, nan, nan, nan, nan, nan, nan, nan, nan, nan, nan, nan, nan, nan, nan, nan, nan, nan, nan, nan, nan, nan, nan, nan, nan, nan, nan, nan, nan, nan, nan, nan, nan, nan, nan, nan, nan, nan, nan, nan, nan, nan, nan, nan, nan, nan, nan, nan, nan, nan, nan, nan, nan, nan, nan, nan, nan, nan, nan, nan, nan, nan, nan, nan, nan, nan, nan, nan, nan, nan, nan, nan, nan, nan, nan, nan, nan, nan, nan, nan, nan, nan, nan, nan, nan, nan, nan, nan, nan, nan, nan, nan, nan, nan, nan, nan, nan, nan, nan, nan, nan, nan, nan, nan, nan, nan, nan, nan, nan, nan, nan, nan, nan, nan, nan, nan, nan, nan, nan, nan, nan, nan, nan, nan, nan, nan, nan, nan, nan, nan, nan, nan, nan, nan, nan, nan, nan, nan, nan, nan, nan, nan, nan, nan, nan, nan, nan, nan, nan, nan, nan, nan, nan, nan, nan, nan, nan, nan, nan, nan, nan, nan, nan, nan, nan, nan, nan, nan, nan, nan, nan, nan, nan, nan, nan, nan, nan, nan, nan, nan, nan, nan, nan, nan, nan, nan, nan, nan, nan, nan, nan, nan, nan, nan, nan, nan, nan, nan, nan, nan, nan, nan, nan, nan, nan, nan, nan, nan, nan, nan, nan, nan, nan, nan, nan, nan, nan, nan, nan, nan, nan, nan, nan, nan, nan, nan, nan, nan, nan, nan, nan, nan, nan, nan, nan, nan, nan, nan, nan, nan, nan, nan, nan, nan, nan, nan, nan, nan, nan, nan, nan, nan, nan, nan, nan, nan, nan, nan, nan, nan, nan, nan, nan, nan, nan, nan, nan, nan, nan, nan, nan, nan, nan, nan, nan, nan, nan, nan, nan, nan, nan, nan, nan, nan, nan, nan, nan, nan, nan, nan, nan, nan, nan, nan, nan, nan, nan, nan, nan, nan, nan, nan, nan, nan, nan, nan, nan, nan, nan, nan, nan, nan, nan, nan, nan, nan, nan, nan, nan, nan, nan, nan, nan, nan, nan, nan, nan, nan, nan, nan, nan, nan, nan, nan, nan, nan, nan, nan, nan, nan, nan, nan, nan, nan, nan, nan, nan, nan, nan, nan, nan, nan, nan, nan, nan, nan, nan, nan, nan, nan, nan, nan, nan, nan, nan, nan, nan, nan, nan, nan, nan, nan, nan, nan, nan, nan, nan, nan, nan, nan, nan, nan, nan, nan, nan, nan, nan, nan, nan, nan, nan, nan, nan, nan, nan, nan, nan, nan, nan, nan, nan, nan, nan, nan, nan, nan, nan, nan, nan, nan, nan, nan, nan, nan, nan, nan, nan, nan, nan, nan, nan, nan, nan, nan, nan, nan, nan, nan, nan, nan, nan, nan, nan, nan, nan, nan, nan, nan, nan, nan, nan, nan, nan, nan, nan, nan, nan, nan, nan, nan, nan, nan, nan, nan, nan, nan, nan, nan, nan, nan, nan, nan, nan, nan, nan, nan, nan, nan, nan, nan, nan, nan, nan, nan, nan, nan, nan, nan, nan, nan, nan, nan, nan, nan, nan, nan, nan, nan, nan, nan, nan, nan, nan, nan, nan, nan, nan, nan, nan, nan, nan, nan, nan, nan, nan, nan, nan, nan, nan, nan, nan, nan, nan, nan, nan, nan, nan, nan, nan, nan, nan, nan, nan, nan, nan, nan, nan, nan, nan, nan, nan, nan, nan,\n",
       "       nan, nan, nan, nan, nan, nan, nan, nan, nan, nan, nan, nan, nan, nan, nan, nan, nan, nan, nan, nan, nan, nan, nan, nan, nan, nan, nan, nan, nan, nan, nan, nan, nan, nan, nan, nan, nan, nan, nan, nan, nan, nan, nan, nan, nan, nan, nan, nan, nan, nan, nan, nan, nan, nan, nan, nan, nan, nan, nan, nan, nan, nan, nan, nan, nan, nan, nan, nan, nan, nan, nan, nan, nan, nan, nan, nan, nan, nan, nan, nan, nan, nan, nan, nan, nan, nan, nan, nan, nan, nan, nan, nan, nan, nan, nan, nan, nan, nan, nan, nan, nan, nan, nan, nan, nan, nan, nan, nan, nan, nan, nan, nan, nan, nan, nan, nan, nan, nan, nan, nan, nan, nan, nan, nan, nan, nan, nan, nan, nan, nan, nan, nan, nan, nan, nan, nan, nan, nan, nan, nan, nan, nan, nan, nan, nan, nan, nan, nan, nan, nan, nan, nan, nan, nan, nan, nan, nan, nan, nan, nan, nan, nan, nan, nan, nan, nan, nan, nan, nan, nan, nan, nan, nan, nan, nan, nan, nan, nan, nan, nan, nan, nan, nan, nan, nan, nan, nan, nan, nan, nan, nan, nan, nan, nan, nan, nan, nan, nan, nan, nan, nan, nan, nan, nan, nan, nan, nan, nan, nan, nan, nan, nan, nan, nan, nan, nan, nan, nan, nan, nan, nan, nan, nan, nan, nan, nan, nan, nan, nan, nan, nan, nan, nan, nan, nan, nan, nan, nan, nan, nan, nan, nan, nan, nan, nan, nan, nan, nan, nan, nan, nan, nan, nan, nan, nan, nan, nan, nan, nan, nan, nan, nan, nan, nan, nan, nan, nan, nan, nan, nan, nan, nan, nan, nan, nan, nan, nan, nan, nan, nan, nan, nan, nan, nan, nan, nan, nan, nan, nan, nan, nan, nan, nan, nan, nan, nan, nan, nan, nan, nan, nan, nan, nan, nan, nan, nan, nan, nan, nan, nan, nan, nan, nan, nan, nan, nan, nan, nan, nan, nan, nan, nan, nan, nan, nan, nan, nan, nan, nan, nan, nan, nan, nan, nan, nan, nan, nan, nan, nan, nan, nan, nan, nan, nan, nan, nan])"
      ]
     },
     "execution_count": 13,
     "metadata": {},
     "output_type": "execute_result"
    }
   ],
   "source": [
    "yp[np.isnan(yp)]"
   ]
  },
  {
   "cell_type": "code",
   "execution_count": 11,
   "metadata": {},
   "outputs": [
    {
     "data": {
      "text/plain": [
       "[<matplotlib.lines.Line2D at 0x118d75160>]"
      ]
     },
     "execution_count": 11,
     "metadata": {},
     "output_type": "execute_result"
    },
    {
     "data": {
      "image/png": "[encoded data removed]",
      "text/plain": [
       "<Figure size 432x288 with 1 Axes>"
      ]
     },
     "metadata": {
      "needs_background": "light"
     },
     "output_type": "display_data"
    }
   ],
   "source": [
    "a = x[np.isnan(yp)]\n",
    "b = yp[np.isnan(yp)]\n",
    "plt.plot(a, b)"
   ]
  },
  {
   "cell_type": "code",
   "execution_count": 80,
   "metadata": {},
   "outputs": [
    {
     "ename": "TypeError",
     "evalue": "only integer scalar arrays can be converted to a scalar index",
     "output_type": "error",
     "traceback": [
      "\u001b[0;31m---------------------------------------------------------------------------\u001b[0m",
      "\u001b[0;31mTypeError\u001b[0m                                 Traceback (most recent call last)",
      "\u001b[0;32m<ipython-input-80-2dd939d9ab36>\u001b[0m in \u001b[0;36m<module>\u001b[0;34m\u001b[0m\n\u001b[0;32m----> 1\u001b[0;31m \u001b[0myp\u001b[0m\u001b[0;34m[\u001b[0m\u001b[0mnp\u001b[0m\u001b[0;34m.\u001b[0m\u001b[0misnan\u001b[0m\u001b[0;34m(\u001b[0m\u001b[0myp\u001b[0m\u001b[0;34m)\u001b[0m\u001b[0;34m]\u001b[0m\u001b[0;34m\u001b[0m\u001b[0m\n\u001b[0m",
      "\u001b[0;31mTypeError\u001b[0m: only integer scalar arrays can be converted to a scalar index"
     ]
    }
   ],
   "source": [
    "yp[np.isnan(yp)]"
   ]
  },
  {
   "cell_type": "code",
   "execution_count": 49,
   "metadata": {},
   "outputs": [
    {
     "data": {
      "text/plain": [
       "array([2., 2., 2., ..., 2., 2., 2.])"
      ]
     },
     "execution_count": 49,
     "metadata": {},
     "output_type": "execute_result"
    }
   ],
   "source": [
    "number_of_bars[~np.isnan(number_of_bars)]"
   ]
  },
  {
   "cell_type": "code",
   "execution_count": 51,
   "metadata": {},
   "outputs": [],
   "source": [
    "bar_removal = number_of_bars.copy()\n",
    "for number in np.unique(number_of_bars[~np.isnan(number_of_bars)]):\n",
    "    bar_removal = np.vstack([bar_removal, number*(number_of_bars==number)])\n",
    "bar_removal = bar_removal[1:]"
   ]
  },
  {
   "cell_type": "code",
   "execution_count": 52,
   "metadata": {},
   "outputs": [],
   "source": [
    "bar_removal = np.where(bar_removal==0, np.nan, bar_removal)"
   ]
  },
  {
   "cell_type": "code",
   "execution_count": 53,
   "metadata": {},
   "outputs": [
    {
     "data": {
      "text/plain": [
       "array([[nan, nan, nan, ...,  2.,  2.,  2.],\n",
       "       [nan, nan, nan, ..., nan, nan, nan],\n",
       "       [nan, nan, nan, ..., nan, nan, nan],\n",
       "       ...,\n",
       "       [nan, nan, nan, ..., nan, nan, nan],\n",
       "       [nan, nan, nan, ..., nan, nan, nan],\n",
       "       [nan, nan, nan, ..., nan, nan, nan]])"
      ]
     },
     "execution_count": 53,
     "metadata": {},
     "output_type": "execute_result"
    }
   ],
   "source": [
    "bar_removal"
   ]
  },
  {
   "cell_type": "code",
   "execution_count": 54,
   "metadata": {},
   "outputs": [
    {
     "data": {
      "image/png": "[encoded data removed]",
      "text/plain": [
       "<Figure size 432x288 with 1 Axes>"
      ]
     },
     "metadata": {
      "needs_background": "light"
     },
     "output_type": "display_data"
    }
   ],
   "source": [
    "for bar in bar_removal:\n",
    "    plt.plot(x, bar, 'b')\n",
    "    \n",
    "plt.show()"
   ]
  },
  {
   "cell_type": "code",
   "execution_count": 57,
   "metadata": {},
   "outputs": [],
   "source": [
    "a = np.array([1, 2, 4])\n",
    "a1 = np.vstack([a, [5,6,6]])\n",
    "a2 = np.vstack([a1, [5,6,6]])"
   ]
  },
  {
   "cell_type": "code",
   "execution_count": 55,
   "metadata": {},
   "outputs": [
    {
     "data": {
      "text/plain": [
       "array([[1, 2, 4],\n",
       "       [5, 6, 6],\n",
       "       [5, 6, 6]])"
      ]
     },
     "execution_count": 55,
     "metadata": {},
     "output_type": "execute_result"
    }
   ],
   "source": [
    "a2"
   ]
  },
  {
   "cell_type": "code",
   "execution_count": 35,
   "metadata": {},
   "outputs": [
    {
     "data": {
      "text/plain": [
       "array([array([[1, 2, 3],\n",
       "       [4, 5, 6]]), array([5, 7, 8])], dtype=object)"
      ]
     },
     "execution_count": 35,
     "metadata": {},
     "output_type": "execute_result"
    }
   ],
   "source": [
    "np.array([np.array([[1,2,3],[4,5,6]]),np.array([5,7,8])])"
   ]
  },
  {
   "cell_type": "code",
   "execution_count": 41,
   "metadata": {},
   "outputs": [],
   "source": []
  },
  {
   "cell_type": "code",
   "execution_count": 55,
   "metadata": {},
   "outputs": [],
   "source": [
    "x, necessary_area = beam.getSteelAreaDiagram()\n",
    "x, y = beam.getComercialSteelAreaDiagram()\n",
    "number_of_bars = np.array(y)[:,0]\n",
    "bar_diameter = np.array(y)[:,1]\n",
    "comercial_area = np.array(y)[:,2]"
   ]
  },
  {
   "cell_type": "code",
   "execution_count": 64,
   "metadata": {},
   "outputs": [
    {
     "data": {
      "image/png": "[encoded data removed]",
      "text/plain": [
       "<Figure size 432x288 with 1 Axes>"
      ]
     },
     "metadata": {},
     "output_type": "display_data"
    }
   ],
   "source": []
  },
  {
   "cell_type": "code",
   "execution_count": 69,
   "metadata": {
    "scrolled": false
   },
   "outputs": [
    {
     "data": {
      "image/png": "[encoded data removed]",
      "text/plain": [
       "<Figure size 432x288 with 1 Axes>"
      ]
     },
     "metadata": {},
     "output_type": "display_data"
    },
    {
     "data": {
      "image/png": "[encoded data removed]",
      "text/plain": [
       "<Figure size 432x288 with 2 Axes>"
      ]
     },
     "metadata": {},
     "output_type": "display_data"
    }
   ],
   "source": [
    "plt.cla()\n",
    "fig, ax1 = plt.subplots()\n",
    "\n",
    "ax2 = ax1.twinx()\n",
    "#ax1.plot(x, comercial_area, 'g-')\n",
    "ax2.plot(x, number_of_bars, 'b-')\n",
    "\n",
    "ax1.set_xlabel('X data')\n",
    "#ax1.set_ylabel('Y1 data', color='g')\n",
    "ax2.set_ylabel('Y2 data', color='b')\n",
    "\n",
    "\n",
    "fig.tight_layout()  # otherwise the right y-label is slightly clipped\n",
    "plt.show()"
   ]
  },
  {
   "cell_type": "code",
   "execution_count": 7,
   "metadata": {},
   "outputs": [],
   "source": [
    "gapminder_us = gapminder[gapminder.country==\"United States\"]"
   ]
  },
  {
   "cell_type": "code",
   "execution_count": 49,
   "metadata": {},
   "outputs": [
    {
     "data": {
      "text/plain": [
       "Text(0,0.5,'Y2 data')"
      ]
     },
     "execution_count": 49,
     "metadata": {},
     "output_type": "execute_result"
    },
    {
     "data": {
      "image/png": "[encoded data removed]",
      "text/plain": [
       "<Figure size 432x288 with 2 Axes>"
      ]
     },
     "metadata": {},
     "output_type": "display_data"
    }
   ],
   "source": [
    "import numpy as np\n",
    "import matplotlib.pyplot as plt\n",
    "x = np.arange(0, 10, 0.1)\n",
    "y1 = 0.05 * x**2\n",
    "y2 = -1 *y1\n",
    "\n",
    "fig, ax1 = plt.subplots()\n",
    "\n",
    "ax2 = ax1.twinx()\n",
    "ax1.plot(x, y1, 'g-')\n",
    "ax2.plot(x, y2, 'b-')\n",
    "\n",
    "ax1.set_xlabel('X data')\n",
    "ax1.set_ylabel('Y1 data', color='g')\n",
    "ax2.set_ylabel('Y2 data', color='b')"
   ]
  },
  {
   "cell_type": "code",
   "execution_count": 67,
   "metadata": {},
   "outputs": [
    {
     "data": {
      "image/png": "[encoded data removed]",
      "text/plain": [
       "<Figure size 432x288 with 2 Axes>"
      ]
     },
     "metadata": {},
     "output_type": "display_data"
    }
   ],
   "source": [
    "import matplotlib.pyplot as plt\n",
    "\n",
    "# Create some mock data\n",
    "t = np.arange(0.01, 10.0, 0.01)\n",
    "data1 = np.exp(t)\n",
    "data2 = np.sin(2 * np.pi * t)\n",
    "\n",
    "fig, ax1 = plt.subplots()\n",
    "\n",
    "color = 'tab:red'\n",
    "ax1.set_xlabel('time (s)')\n",
    "ax1.set_ylabel('exp', color=color)\n",
    "ax1.plot(t, data1, color=color)\n",
    "ax1.tick_params(axis='y', labelcolor=color)\n",
    "\n",
    "ax2 = ax1.twinx()  # instantiate a second axes that shares the same x-axis\n",
    "\n",
    "color = 'tab:blue'\n",
    "ax2.set_ylabel('sin', color=color)  # we already handled the x-label with ax1\n",
    "ax2.plot(t, data2, color=color)\n",
    "ax2.tick_params(axis='y', labelcolor=color)\n",
    "\n",
    "fig.tight_layout()  # otherwise the right y-label is slightly clipped\n",
    "plt.show()\n"
   ]
  },
  {
   "cell_type": "code",
   "execution_count": null,
   "metadata": {},
   "outputs": [],
   "source": []
  }
 ],
 "metadata": {
  "kernelspec": {
   "display_name": "Python 3",
   "language": "python",
   "name": "python3"
  },
  "language_info": {
   "codemirror_mode": {
    "name": "ipython",
    "version": 3
   },
   "file_extension": ".py",
   "mimetype": "text/x-python",
   "name": "python",
   "nbconvert_exporter": "python",
   "pygments_lexer": "ipython3",
   "version": "3.6.6"
  }
 },
 "nbformat": 4,
 "nbformat_minor": 2
}
