{
 "cells": [
  {
   "cell_type": "code",
   "execution_count": 1,
   "metadata": {},
   "outputs": [],
   "source": [
    "#%matplotlib inline\n",
    "#%matplotlib gtk\n",
    "import sys\n",
    "sys.path.insert(0, '../')\n",
    "from pytest import approx\n",
    "import fconcrete as fc\n",
    "#import fconcrete\n",
    "#from fconcrete import helpers, duplicated, Material, e, Beam, Node, Loads, Nodes, Load,Material, ConcreteBeam, SingleBeamElement, Rectangle, Concrete, Section, ConcreteSteels\n",
    "import matplotlib.pyplot as plt\n",
    "import numpy as np\n",
    "np.set_printoptions(precision=3, suppress=True, linewidth=3000)\n",
    "\n",
    "#from math import log\n",
    "\n",
    "# Tension in MPa\n",
    "# length in cm\n",
    "# Shear in kN"
   ]
  },
  {
   "cell_type": "code",
   "execution_count": 6,
   "metadata": {},
   "outputs": [],
   "source": [
    "material = fc.Concrete(fck='30 MPa', aggressiveness=2)\n",
    "section = fc.Rectangle(25,56, material)\n",
    "\n",
    "#Design\n",
    "f1 = fc.Load.UniformDistributedLoad(-0.1622, x_begin=0, x_end=113)\n",
    "f2 = fc.Load.UniformDistributedLoad(-0.4994, x_begin=113, x_end=583)\n",
    "f3 = fc.Load.UniformDistributedLoad(-0.4196, x_begin=583, x_end=1188)\n",
    "\n",
    "n1 = fc.Node.SimpleSupport(x=0)\n",
    "n2 = fc.Node.SimpleSupport(x=113)\n",
    "n3 = fc.Node.SimpleSupport(x=583)\n",
    "n4 = fc.Node.SimpleSupport(x=1188)\n",
    "\n",
    "bar1 = fc.SingleBeamElement([n1, n2], section)\n",
    "bar2 = fc.SingleBeamElement([n2, n3], section)\n",
    "bar3 = fc.SingleBeamElement([n3, n4], section)\n",
    "\n",
    "fc.config.available_material = {\n",
    "    \"concrete_steel_bars\":fc.AvailableConcreteSteelBar(diameters=[8]),\n",
    "    \"steel_bar_surface_type\":\"ribbed\"\n",
    "}\n",
    "    \n",
    "beam = fc.ConcreteBeam(\n",
    "    loads = [f1, f2, f3],\n",
    "    beam_elements = [bar1, bar2, bar3],\n",
    "    bar_steel_max_removal = 2,\n",
    ")\n",
    "self = beam\n",
    "steel_bars = self.steel_bars"
   ]
  },
  {
   "cell_type": "markdown",
   "metadata": {},
   "source": [
    "### Decaleged Behaviour"
   ]
  },
  {
   "cell_type": "code",
   "execution_count": 7,
   "metadata": {
    "scrolled": true
   },
   "outputs": [
    {
     "data": {
      "image/png": "[encoded data removed]",
      "text/plain": [
       "<Figure size 432x288 with 1 Axes>"
      ]
     },
     "metadata": {
      "needs_background": "light"
     },
     "output_type": "display_data"
    }
   ],
   "source": [
    "x, yp, yn = beam.getSteelAreaDiagram()\n",
    "plt.plot(x, yp, 'b-')\n",
    "plt.plot(x, yn, 'b-')\n",
    "self.steel_bars.plot()"
   ]
  },
  {
   "cell_type": "code",
   "execution_count": 9,
   "metadata": {
    "scrolled": true
   },
   "outputs": [
    {
     "data": {
      "text/plain": [
       "array([{'long_begin': -61.34513665021177, 'long_end': 236.15596451807966, 'quantity': 2, 'diameter': -0.8, 'interspace': (-26.49999, 200.63514131131132), 'quantity_accumulated': 2, 'area_accumulated': -1.0, 'area': -1.0, 'fyd': 43.47826086956522}\n",
       ", {'long_begin': -17.34513739095251, 'long_end': 212.37218113469626, 'quantity': 4, 'diameter': -0.8, 'interspace': (-26.49999, 200.63514131131132), 'quantity_accumulated': 6, 'area_accumulated': -3.0, 'area': -2.0, 'fyd': 43.47826086956522}\n",
       ", {'long_begin': 125.961943255516, 'long_end': 476.9569855132528, 'quantity': 5, 'diameter': 0.8, 'interspace': (147.79730525525525, 455.1216235135135), 'quantity_accumulated': 5, 'area_accumulated': 2.5, 'area': 2.5, 'fyd': 43.47826086956522}\n",
       ", {'long_begin': 243.6916710032637, 'long_end': 358.88941948722675, 'quantity': 1, 'diameter': 0.8, 'interspace': (147.79730525525525, 455.1216235135135), 'quantity_accumulated': 6, 'area_accumulated': 3.0, 'area': 0.5, 'fyd': 43.47826086956522}\n",
       ", {'long_begin': 365.4862383939653, 'long_end': 771.0407890534821, 'quantity': 2, 'diameter': -0.8, 'interspace': (402.28378745745744, 734.0675656556556), 'quantity_accumulated': 2, 'area_accumulated': -1.0, 'area': -1.0, 'fyd': 43.47826086956522}\n",
       ", {'long_begin': 365.4862383939653, 'long_end': 771.0407890534821, 'quantity': 2, 'diameter': -0.8, 'interspace': (402.28378745745744, 1214.49999), 'quantity_accumulated': 2, 'area_accumulated': -1.0, 'area': -1.0, 'fyd': 43.47826086956522}\n",
       ", {'long_begin': 388.7565091647361, 'long_end': 754.729978963392, 'quantity': 16, 'diameter': -0.8, 'interspace': (402.28378745745744, 734.0675656556556), 'quantity_accumulated': 18, 'area_accumulated': -9.0, 'area': -8.0, 'fyd': 43.47826086956522}\n",
       ", {'long_begin': 388.7565091647361, 'long_end': 754.729978963392, 'quantity': 16, 'diameter': -0.8, 'interspace': (402.28378745745744, 1214.49999), 'quantity_accumulated': 18, 'area_accumulated': -9.0, 'area': -8.0, 'fyd': 43.47826086956522}\n",
       ", {'long_begin': 654.9616196011156, 'long_end': 1239.7545851636492, 'quantity': 5, 'diameter': 0.8, 'interspace': (681.0675656556556, 1214.49999), 'quantity_accumulated': 5, 'area_accumulated': 2.5, 'area': 2.5, 'fyd': 43.47826086956522}\n",
       ", {'long_begin': 698.6237805820965, 'long_end': 1196.943775073559, 'quantity': 11, 'diameter': 0.8, 'interspace': (681.0675656556556, 1214.49999), 'quantity_accumulated': 16, 'area_accumulated': 8.0, 'area': 5.5, 'fyd': 43.47826086956522}\n",
       "], dtype=object)"
      ]
     },
     "execution_count": 9,
     "metadata": {},
     "output_type": "execute_result"
    }
   ],
   "source": [
    "self.steel_bars.steel_bars"
   ]
  },
  {
   "cell_type": "code",
   "execution_count": 12,
   "metadata": {},
   "outputs": [
    {
     "ename": "TypeError",
     "evalue": "'<' not supported between instances of 'SteelBar' and 'SteelBar'",
     "output_type": "error",
     "traceback": [
      "\u001b[0;31m---------------------------------------------------------------------------\u001b[0m",
      "\u001b[0;31mTypeError\u001b[0m                                 Traceback (most recent call last)",
      "\u001b[0;32m<ipython-input-12-e69b76d3642f>\u001b[0m in \u001b[0;36m<module>\u001b[0;34m\u001b[0m\n\u001b[0;32m----> 1\u001b[0;31m \u001b[0mnp\u001b[0m\u001b[0;34m.\u001b[0m\u001b[0munique\u001b[0m\u001b[0;34m(\u001b[0m\u001b[0mself\u001b[0m\u001b[0;34m.\u001b[0m\u001b[0msteel_bars\u001b[0m\u001b[0;34m.\u001b[0m\u001b[0msteel_bars\u001b[0m\u001b[0;34m)\u001b[0m\u001b[0;34m\u001b[0m\u001b[0m\n\u001b[0m",
      "\u001b[0;32m<__array_function__ internals>\u001b[0m in \u001b[0;36munique\u001b[0;34m(*args, **kwargs)\u001b[0m\n",
      "\u001b[0;32m~/OneDrive - Vale S.A/Random/TCC Código/fconcrete/ENV/lib/python3.6/site-packages/numpy/lib/arraysetops.py\u001b[0m in \u001b[0;36munique\u001b[0;34m(ar, return_index, return_inverse, return_counts, axis)\u001b[0m\n\u001b[1;32m    260\u001b[0m     \u001b[0mar\u001b[0m \u001b[0;34m=\u001b[0m \u001b[0mnp\u001b[0m\u001b[0;34m.\u001b[0m\u001b[0masanyarray\u001b[0m\u001b[0;34m(\u001b[0m\u001b[0mar\u001b[0m\u001b[0;34m)\u001b[0m\u001b[0;34m\u001b[0m\u001b[0m\n\u001b[1;32m    261\u001b[0m     \u001b[0;32mif\u001b[0m \u001b[0maxis\u001b[0m \u001b[0;32mis\u001b[0m \u001b[0;32mNone\u001b[0m\u001b[0;34m:\u001b[0m\u001b[0;34m\u001b[0m\u001b[0m\n\u001b[0;32m--> 262\u001b[0;31m         \u001b[0mret\u001b[0m \u001b[0;34m=\u001b[0m \u001b[0m_unique1d\u001b[0m\u001b[0;34m(\u001b[0m\u001b[0mar\u001b[0m\u001b[0;34m,\u001b[0m \u001b[0mreturn_index\u001b[0m\u001b[0;34m,\u001b[0m \u001b[0mreturn_inverse\u001b[0m\u001b[0;34m,\u001b[0m \u001b[0mreturn_counts\u001b[0m\u001b[0;34m)\u001b[0m\u001b[0;34m\u001b[0m\u001b[0m\n\u001b[0m\u001b[1;32m    263\u001b[0m         \u001b[0;32mreturn\u001b[0m \u001b[0m_unpack_tuple\u001b[0m\u001b[0;34m(\u001b[0m\u001b[0mret\u001b[0m\u001b[0;34m)\u001b[0m\u001b[0;34m\u001b[0m\u001b[0m\n\u001b[1;32m    264\u001b[0m \u001b[0;34m\u001b[0m\u001b[0m\n",
      "\u001b[0;32m~/OneDrive - Vale S.A/Random/TCC Código/fconcrete/ENV/lib/python3.6/site-packages/numpy/lib/arraysetops.py\u001b[0m in \u001b[0;36m_unique1d\u001b[0;34m(ar, return_index, return_inverse, return_counts)\u001b[0m\n\u001b[1;32m    308\u001b[0m         \u001b[0maux\u001b[0m \u001b[0;34m=\u001b[0m \u001b[0mar\u001b[0m\u001b[0;34m[\u001b[0m\u001b[0mperm\u001b[0m\u001b[0;34m]\u001b[0m\u001b[0;34m\u001b[0m\u001b[0m\n\u001b[1;32m    309\u001b[0m     \u001b[0;32melse\u001b[0m\u001b[0;34m:\u001b[0m\u001b[0;34m\u001b[0m\u001b[0m\n\u001b[0;32m--> 310\u001b[0;31m         \u001b[0mar\u001b[0m\u001b[0;34m.\u001b[0m\u001b[0msort\u001b[0m\u001b[0;34m(\u001b[0m\u001b[0;34m)\u001b[0m\u001b[0;34m\u001b[0m\u001b[0m\n\u001b[0m\u001b[1;32m    311\u001b[0m         \u001b[0maux\u001b[0m \u001b[0;34m=\u001b[0m \u001b[0mar\u001b[0m\u001b[0;34m\u001b[0m\u001b[0m\n\u001b[1;32m    312\u001b[0m     \u001b[0mmask\u001b[0m \u001b[0;34m=\u001b[0m \u001b[0mnp\u001b[0m\u001b[0;34m.\u001b[0m\u001b[0mempty\u001b[0m\u001b[0;34m(\u001b[0m\u001b[0maux\u001b[0m\u001b[0;34m.\u001b[0m\u001b[0mshape\u001b[0m\u001b[0;34m,\u001b[0m \u001b[0mdtype\u001b[0m\u001b[0;34m=\u001b[0m\u001b[0mnp\u001b[0m\u001b[0;34m.\u001b[0m\u001b[0mbool_\u001b[0m\u001b[0;34m)\u001b[0m\u001b[0;34m\u001b[0m\u001b[0m\n",
      "\u001b[0;31mTypeError\u001b[0m: '<' not supported between instances of 'SteelBar' and 'SteelBar'"
     ]
    }
   ],
   "source": [
    "np.unique(self.steel_bars.steel_bars)"
   ]
  }
 ],
 "metadata": {
  "kernelspec": {
   "display_name": "Python 3",
   "language": "python",
   "name": "python3"
  },
  "language_info": {
   "codemirror_mode": {
    "name": "ipython",
    "version": 3
   },
   "file_extension": ".py",
   "mimetype": "text/x-python",
   "name": "python",
   "nbconvert_exporter": "python",
   "pygments_lexer": "ipython3",
   "version": "3.6.6"
  }
 },
 "nbformat": 4,
 "nbformat_minor": 2
}
