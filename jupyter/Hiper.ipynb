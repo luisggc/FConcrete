{
 "cells": [
  {
   "cell_type": "code",
   "execution_count": 1,
   "metadata": {},
   "outputs": [
    {
     "name": "stdout",
     "output_type": "stream",
     "text": [
      "entrou\n"
     ]
    }
   ],
   "source": [
    "#%matplotlib inline\n",
    "#%matplotlib gtk\n",
    "import sys\n",
    "sys.path.insert(0, '../')\n",
    "from pytest import approx\n",
    "import fconcrete as fc\n",
    "#import fconcrete\n",
    "#from fconcrete import helpers, duplicated, Material, e, Beam, Node, Loads, Nodes, Load,Material, ConcreteBeam, SingleBeamElement, Rectangle, Concrete, Section, ConcreteSteels\n",
    "import matplotlib.pyplot as plt\n",
    "import numpy as np\n",
    "np.set_printoptions(precision=3, suppress=True, linewidth=3000)\n",
    "\n",
    "#from math import log\n",
    "\n",
    "# Tension in MPa\n",
    "# length in cm\n",
    "# Shear in kN"
   ]
  },
  {
   "cell_type": "code",
   "execution_count": 2,
   "metadata": {},
   "outputs": [],
   "source": [
    "material = fc.Concrete(fck='20 MPa', aggressiveness=2)\n",
    "section = fc.Rectangle(25,56, material)\n",
    "\n",
    "f1 = fc.Load.UniformDistributedLoad(-0.1622, x_begin=0, x_end=113)\n",
    "f2 = fc.Load.UniformDistributedLoad(-0.4994, x_begin=113, x_end=583)\n",
    "f3 = fc.Load.UniformDistributedLoad(-0.4196, x_begin=583, x_end=1188)\n",
    "\n",
    "n1 = fc.Node.SimpleSupport(x=0)\n",
    "n2 = fc.Node.SimpleSupport(x=113)\n",
    "n3 = fc.Node.SimpleSupport(x=583)\n",
    "n4 = fc.Node.SimpleSupport(x=1188)\n",
    "\n",
    "bar1 = fc.SingleBeamElement([n1, n2], section)\n",
    "bar2 = fc.SingleBeamElement([n2, n3], section)\n",
    "bar3 = fc.SingleBeamElement([n3, n4], section)\n",
    "\n",
    "fc.config.available_material = {\n",
    "\"concrete_steel_bars\":fc.AvailableConcreteSteelBar(\n",
    "        diameters=[8]\n",
    ")}\n",
    "    \n",
    "beam = fc.ConcreteBeam(\n",
    "    loads = [f1, f2, f3],\n",
    "    bars = [bar1, bar2, bar3],\n",
    "    remove_steel_jump = 2\n",
    ")\n",
    "self = beam"
   ]
  },
  {
   "cell_type": "code",
   "execution_count": 3,
   "metadata": {},
   "outputs": [
    {
     "data": {
      "text/plain": [
       "[{'long_begin': -25.310800830830832, 'long_end': 200.12162869869871, 'quantity': 2, 'diameter': -0.8, 'area': -1.0}\n",
       " {'long_begin': 34.14865762762763, 'long_end': 168.01352113113114, 'quantity': 3, 'diameter': -0.8, 'area': -1.5}\n",
       " {'long_begin': 59.45946845845846, 'long_end': 154.25676371371372, 'quantity': 4, 'diameter': -0.8, 'area': -2.0}\n",
       " {'long_begin': 83.24325184184184, 'long_end': 141.17568285285284, 'quantity': 5, 'diameter': -0.8, 'area': -2.5}\n",
       " {'long_begin': 148.31081786786788, 'long_end': 454.6081109009009, 'quantity': 2, 'diameter': 0.8, 'area': 1.0}\n",
       " {'long_begin': 191.45946623623624, 'long_end': 411.12162425425424, 'quantity': 3, 'diameter': 0.8, 'area': 1.5}\n",
       " {'long_begin': 226.28379042042042, 'long_end': 376.12162573573573, 'quantity': 4, 'diameter': 0.8, 'area': 2.0}\n",
       " {'long_begin': 402.79730007007004, 'long_end': 733.7297273773773, 'quantity': 2, 'diameter': -0.8, 'area': -1.0}\n",
       " {'long_begin': 402.79730007007004, 'long_end': 733.7297273773773, 'quantity': 2, 'diameter': -0.8, 'area': -1.0}\n",
       " {'long_begin': 434.391895025025, 'long_end': 711.4729714414414, 'quantity': 3, 'diameter': -0.8, 'area': -1.5}\n",
       " {'long_begin': 434.391895025025, 'long_end': 711.4729714414414, 'quantity': 3, 'diameter': -0.8, 'area': -1.5}\n",
       " {'long_begin': 448.32432677677673, 'long_end': 701.6216198098098, 'quantity': 4, 'diameter': -0.8, 'area': -2.0}\n",
       " {'long_begin': 448.32432677677673, 'long_end': 701.6216198098098, 'quantity': 4, 'diameter': -0.8, 'area': -2.0}\n",
       " {'long_begin': 461.0675693593593, 'long_end': 691.2567555655655, 'quantity': 5, 'diameter': -0.8, 'area': -2.5}\n",
       " {'long_begin': 461.0675693593593, 'long_end': 691.2567555655655, 'quantity': 5, 'diameter': -0.8, 'area': -2.5}\n",
       " {'long_begin': 473.2972993293293, 'long_end': 681.7432422122122, 'quantity': 6, 'diameter': -0.8, 'area': -3.0}\n",
       " {'long_begin': 473.2972993293293, 'long_end': 681.7432422122122, 'quantity': 6, 'diameter': -0.8, 'area': -3.0}\n",
       " {'long_begin': 484.85135274274273, 'long_end': 672.7432414714715, 'quantity': 7, 'diameter': -0.8, 'area': -3.5}\n",
       " {'long_begin': 484.85135274274273, 'long_end': 672.7432414714715, 'quantity': 7, 'diameter': -0.8, 'area': -3.5}\n",
       " {'long_begin': 495.5540552652652, 'long_end': 663.5675663963964, 'quantity': 8, 'diameter': -0.8, 'area': -4.0}\n",
       " {'long_begin': 495.5540552652652, 'long_end': 663.5675663963964, 'quantity': 8, 'diameter': -0.8, 'area': -4.0}\n",
       " {'long_begin': 505.74324517517516, 'long_end': 654.9054039339339, 'quantity': 9, 'diameter': -0.8, 'area': -4.5}\n",
       " {'long_begin': 505.74324517517516, 'long_end': 654.9054039339339, 'quantity': 9, 'diameter': -0.8, 'area': -4.5}\n",
       " {'long_begin': 515.7702711411412, 'long_end': 646.0675671371371, 'quantity': 10, 'diameter': -0.8, 'area': -5.0}\n",
       " {'long_begin': 515.7702711411412, 'long_end': 646.0675671371371, 'quantity': 10, 'diameter': -0.8, 'area': -5.0}\n",
       " {'long_begin': 525.2837844944945, 'long_end': 637.743242952953, 'quantity': 11, 'diameter': -0.8, 'area': -5.5}\n",
       " {'long_begin': 525.2837844944945, 'long_end': 637.743242952953, 'quantity': 11, 'diameter': -0.8, 'area': -5.5}\n",
       " {'long_begin': 534.2837852352352, 'long_end': 629.4189187687688, 'quantity': 12, 'diameter': -0.8, 'area': -6.0}\n",
       " {'long_begin': 534.2837852352352, 'long_end': 629.4189187687688, 'quantity': 12, 'diameter': -0.8, 'area': -6.0}\n",
       " {'long_begin': 543.121622032032, 'long_end': 621.6081071971972, 'quantity': 13, 'diameter': -0.8, 'area': -6.5}\n",
       " {'long_begin': 543.121622032032, 'long_end': 621.6081071971972, 'quantity': 13, 'diameter': -0.8, 'area': -6.5}\n",
       " {'long_begin': 551.7837844944945, 'long_end': 613.6216212912913, 'quantity': 14, 'diameter': -0.8, 'area': -7.0}\n",
       " {'long_begin': 551.7837844944945, 'long_end': 613.6216212912913, 'quantity': 14, 'diameter': -0.8, 'area': -7.0}\n",
       " {'long_begin': 681.4054039339339, 'long_end': 1213.3108008308309, 'quantity': 2, 'diameter': 0.8, 'area': 1.0}\n",
       " {'long_begin': 705.1891873173173, 'long_end': 1189.5270174474474, 'quantity': 3, 'diameter': 0.8, 'area': 1.5}\n",
       " {'long_begin': 717.9324298998998, 'long_end': 1177.2972874774775, 'quantity': 4, 'diameter': 0.8, 'area': 2.0}\n",
       " {'long_begin': 732.2026999299298, 'long_end': 1163.3648557257256, 'quantity': 5, 'diameter': 0.8, 'area': 2.5}\n",
       " {'long_begin': 747.1486465165165, 'long_end': 1148.418909139139, 'quantity': 6, 'diameter': 0.8, 'area': 3.0}\n",
       " {'long_begin': 763.4594566066066, 'long_end': 1131.7702607707708, 'quantity': 7, 'diameter': 0.8, 'area': 3.5}\n",
       " {'long_begin': 781.6351324224224, 'long_end': 1113.4189106206206, 'quantity': 8, 'diameter': 0.8, 'area': 4.0}\n",
       " {'long_begin': 802.7026991891892, 'long_end': 1092.527018188188, 'quantity': 9, 'diameter': 0.8, 'area': 4.5}\n",
       " {'long_begin': 828.5270226326326, 'long_end': 1067.040533023023, 'quantity': 10, 'diameter': 0.8, 'area': 5.0}\n",
       " {'long_begin': 864.5405359859859, 'long_end': 1030.6891813913915, 'quantity': 11, 'diameter': 0.8, 'area': 5.5}\n",
       "]"
      ]
     },
     "execution_count": 3,
     "metadata": {},
     "output_type": "execute_result"
    }
   ],
   "source": [
    "beam.steel_bars"
   ]
  },
  {
   "cell_type": "code",
   "execution_count": 10,
   "metadata": {},
   "outputs": [],
   "source": [
    "steel_bars = SteelBars(beam.steel_bars.steel_bars)"
   ]
  },
  {
   "cell_type": "code",
   "execution_count": 11,
   "metadata": {},
   "outputs": [
    {
     "data": {
      "text/plain": [
       "[{'long_begin': -25.310800830830832, 'long_end': 200.12162869869871, 'quantity': 2, 'diameter': -0.8, 'area': -1.0}\n",
       " {'long_begin': 34.14865762762763, 'long_end': 168.01352113113114, 'quantity': 3, 'diameter': -0.8, 'area': -1.5}\n",
       " {'long_begin': 59.45946845845846, 'long_end': 154.25676371371372, 'quantity': 4, 'diameter': -0.8, 'area': -2.0}\n",
       " {'long_begin': 83.24325184184184, 'long_end': 141.17568285285284, 'quantity': 5, 'diameter': -0.8, 'area': -2.5}\n",
       " {'long_begin': 148.31081786786788, 'long_end': 454.6081109009009, 'quantity': 2, 'diameter': 0.8, 'area': 1.0}\n",
       " {'long_begin': 191.45946623623624, 'long_end': 411.12162425425424, 'quantity': 3, 'diameter': 0.8, 'area': 1.5}\n",
       " {'long_begin': 226.28379042042042, 'long_end': 376.12162573573573, 'quantity': 4, 'diameter': 0.8, 'area': 2.0}\n",
       " {'long_begin': 402.79730007007004, 'long_end': 733.7297273773773, 'quantity': 2, 'diameter': -0.8, 'area': -1.0}\n",
       " {'long_begin': 402.79730007007004, 'long_end': 733.7297273773773, 'quantity': 2, 'diameter': -0.8, 'area': -1.0}\n",
       " {'long_begin': 434.391895025025, 'long_end': 711.4729714414414, 'quantity': 3, 'diameter': -0.8, 'area': -1.5}\n",
       " {'long_begin': 434.391895025025, 'long_end': 711.4729714414414, 'quantity': 3, 'diameter': -0.8, 'area': -1.5}\n",
       " {'long_begin': 448.32432677677673, 'long_end': 701.6216198098098, 'quantity': 4, 'diameter': -0.8, 'area': -2.0}\n",
       " {'long_begin': 448.32432677677673, 'long_end': 701.6216198098098, 'quantity': 4, 'diameter': -0.8, 'area': -2.0}\n",
       " {'long_begin': 461.0675693593593, 'long_end': 691.2567555655655, 'quantity': 5, 'diameter': -0.8, 'area': -2.5}\n",
       " {'long_begin': 461.0675693593593, 'long_end': 691.2567555655655, 'quantity': 5, 'diameter': -0.8, 'area': -2.5}\n",
       " {'long_begin': 473.2972993293293, 'long_end': 681.7432422122122, 'quantity': 6, 'diameter': -0.8, 'area': -3.0}\n",
       " {'long_begin': 473.2972993293293, 'long_end': 681.7432422122122, 'quantity': 6, 'diameter': -0.8, 'area': -3.0}\n",
       " {'long_begin': 484.85135274274273, 'long_end': 672.7432414714715, 'quantity': 7, 'diameter': -0.8, 'area': -3.5}\n",
       " {'long_begin': 484.85135274274273, 'long_end': 672.7432414714715, 'quantity': 7, 'diameter': -0.8, 'area': -3.5}\n",
       " {'long_begin': 495.5540552652652, 'long_end': 663.5675663963964, 'quantity': 8, 'diameter': -0.8, 'area': -4.0}\n",
       " {'long_begin': 495.5540552652652, 'long_end': 663.5675663963964, 'quantity': 8, 'diameter': -0.8, 'area': -4.0}\n",
       " {'long_begin': 505.74324517517516, 'long_end': 654.9054039339339, 'quantity': 9, 'diameter': -0.8, 'area': -4.5}\n",
       " {'long_begin': 505.74324517517516, 'long_end': 654.9054039339339, 'quantity': 9, 'diameter': -0.8, 'area': -4.5}\n",
       " {'long_begin': 515.7702711411412, 'long_end': 646.0675671371371, 'quantity': 10, 'diameter': -0.8, 'area': -5.0}\n",
       " {'long_begin': 515.7702711411412, 'long_end': 646.0675671371371, 'quantity': 10, 'diameter': -0.8, 'area': -5.0}\n",
       " {'long_begin': 525.2837844944945, 'long_end': 637.743242952953, 'quantity': 11, 'diameter': -0.8, 'area': -5.5}\n",
       " {'long_begin': 525.2837844944945, 'long_end': 637.743242952953, 'quantity': 11, 'diameter': -0.8, 'area': -5.5}\n",
       " {'long_begin': 534.2837852352352, 'long_end': 629.4189187687688, 'quantity': 12, 'diameter': -0.8, 'area': -6.0}\n",
       " {'long_begin': 534.2837852352352, 'long_end': 629.4189187687688, 'quantity': 12, 'diameter': -0.8, 'area': -6.0}\n",
       " {'long_begin': 543.121622032032, 'long_end': 621.6081071971972, 'quantity': 13, 'diameter': -0.8, 'area': -6.5}\n",
       " {'long_begin': 543.121622032032, 'long_end': 621.6081071971972, 'quantity': 13, 'diameter': -0.8, 'area': -6.5}\n",
       " {'long_begin': 551.7837844944945, 'long_end': 613.6216212912913, 'quantity': 14, 'diameter': -0.8, 'area': -7.0}\n",
       " {'long_begin': 551.7837844944945, 'long_end': 613.6216212912913, 'quantity': 14, 'diameter': -0.8, 'area': -7.0}\n",
       " {'long_begin': 681.4054039339339, 'long_end': 1213.3108008308309, 'quantity': 2, 'diameter': 0.8, 'area': 1.0}\n",
       " {'long_begin': 705.1891873173173, 'long_end': 1189.5270174474474, 'quantity': 3, 'diameter': 0.8, 'area': 1.5}\n",
       " {'long_begin': 717.9324298998998, 'long_end': 1177.2972874774775, 'quantity': 4, 'diameter': 0.8, 'area': 2.0}\n",
       " {'long_begin': 732.2026999299298, 'long_end': 1163.3648557257256, 'quantity': 5, 'diameter': 0.8, 'area': 2.5}\n",
       " {'long_begin': 747.1486465165165, 'long_end': 1148.418909139139, 'quantity': 6, 'diameter': 0.8, 'area': 3.0}\n",
       " {'long_begin': 763.4594566066066, 'long_end': 1131.7702607707708, 'quantity': 7, 'diameter': 0.8, 'area': 3.5}\n",
       " {'long_begin': 781.6351324224224, 'long_end': 1113.4189106206206, 'quantity': 8, 'diameter': 0.8, 'area': 4.0}\n",
       " {'long_begin': 802.7026991891892, 'long_end': 1092.527018188188, 'quantity': 9, 'diameter': 0.8, 'area': 4.5}\n",
       " {'long_begin': 828.5270226326326, 'long_end': 1067.040533023023, 'quantity': 10, 'diameter': 0.8, 'area': 5.0}\n",
       " {'long_begin': 864.5405359859859, 'long_end': 1030.6891813913915, 'quantity': 11, 'diameter': 0.8, 'area': 5.5}\n",
       "]"
      ]
     },
     "execution_count": 11,
     "metadata": {},
     "output_type": "execute_result"
    }
   ],
   "source": [
    "steel_bars"
   ]
  },
  {
   "cell_type": "code",
   "execution_count": 8,
   "metadata": {},
   "outputs": [],
   "source": [
    "class SteelBars():\n",
    "    def __init__(self, steel_bars=[], remove_steel_jump=2):\n",
    "        self.steel_bars = np.array(steel_bars)\n",
    "    \n",
    "    def add(self, steelbar):\n",
    "        if str(type(steelbar)) == \"<class 'fconcrete.SteelBar.SteelBars'>\":\n",
    "            concatenation = list(np.concatenate((self.steel_bars,steelbar.steel_bars)))\n",
    "            concatenation.sort(key=lambda x: x.long_begin, reverse=False)\n",
    "            self.steel_bars = np.array(concatenation)\n",
    "            \n",
    "        elif str(type(steelbar)) == \"<class 'fconcrete.SteelBar.SteelBar'>\":\n",
    "            self.steel_bars = np.append(self.steel_bars,steelbar)\n",
    "    \n",
    "    def plot(self,prop='quantity'):\n",
    "        for steelbar in self.steel_bars:\n",
    "            steelbar.plot(prop)\n",
    "    \n",
    "    def __getitem__(self, key):\n",
    "        return self.steel_bars[key]\n",
    "    \n",
    "    def __repr__(self):\n",
    "        return str(self.steel_bars)"
   ]
  },
  {
   "cell_type": "code",
   "execution_count": null,
   "metadata": {},
   "outputs": [],
   "source": [
    "steel_bars"
   ]
  },
  {
   "cell_type": "code",
   "execution_count": 3,
   "metadata": {
    "scrolled": true
   },
   "outputs": [
    {
     "data": {
      "text/plain": [
       "[<matplotlib.lines.Line2D at 0x11db8d160>]"
      ]
     },
     "execution_count": 3,
     "metadata": {},
     "output_type": "execute_result"
    },
    {
     "data": {
      "image/png": "[encoded data removed]",
      "text/plain": [
       "<Figure size 432x288 with 1 Axes>"
      ]
     },
     "metadata": {
      "needs_background": "light"
     },
     "output_type": "display_data"
    }
   ],
   "source": [
    "x_decalaged, momentum_positive, momentum_negative = beam.getDecalagedMomentumDiagram()\n",
    "plt.plot(x_decalaged, -momentum_positive)\n",
    "plt.plot(x_decalaged, -momentum_negative)"
   ]
  },
  {
   "cell_type": "code",
   "execution_count": 5,
   "metadata": {},
   "outputs": [
    {
     "data": {
      "text/plain": [
       "[<matplotlib.lines.Line2D at 0x1207c7ef0>]"
      ]
     },
     "execution_count": 5,
     "metadata": {},
     "output_type": "execute_result"
    },
    {
     "data": {
      "image/png": "[encoded data removed]",
      "text/plain": [
       "<Figure size 432x288 with 1 Axes>"
      ]
     },
     "metadata": {
      "needs_background": "light"
     },
     "output_type": "display_data"
    }
   ],
   "source": [
    "x, yp, yn = beam.getSteelAreaDiagram()\n",
    "plt.plot(x, yp)\n",
    "plt.plot(x, yn)"
   ]
  },
  {
   "cell_type": "markdown",
   "metadata": {},
   "source": [
    "# Rascunho"
   ]
  },
  {
   "cell_type": "code",
   "execution_count": 5,
   "metadata": {},
   "outputs": [],
   "source": []
  },
  {
   "cell_type": "code",
   "execution_count": 6,
   "metadata": {},
   "outputs": [],
   "source": [
    "quantity_positive, diameter_positive, area_positive = positive_areas_info"
   ]
  },
  {
   "cell_type": "code",
   "execution_count": 8,
   "metadata": {},
   "outputs": [
    {
     "data": {
      "text/plain": [
       "[<matplotlib.lines.Line2D at 0x109d314e0>]"
      ]
     },
     "execution_count": 8,
     "metadata": {},
     "output_type": "execute_result"
    },
    {
     "data": {
      "image/png": "[encoded data removed]",
      "text/plain": [
       "<Figure size 432x288 with 1 Axes>"
      ]
     },
     "metadata": {
      "needs_background": "light"
     },
     "output_type": "display_data"
    }
   ],
   "source": [
    "x, yp, yn = beam.getSteelAreaDiagram()\n",
    "plt.plot(x, yp, 'b-')\n",
    "plt.plot(x, area_positive)"
   ]
  },
  {
   "cell_type": "code",
   "execution_count": 4,
   "metadata": {},
   "outputs": [],
   "source": [
    "x, positive_areas_info, negative_areas_info = self.getComercialSteelAreaDiagram()"
   ]
  },
  {
   "cell_type": "code",
   "execution_count": 5,
   "metadata": {},
   "outputs": [],
   "source": [
    "quantities, diameters, areas = negative_areas_info"
   ]
  },
  {
   "cell_type": "code",
   "execution_count": 8,
   "metadata": {},
   "outputs": [
    {
     "data": {
      "text/plain": [
       "array([-7. , -6.5, -6. , ...,  nan,  nan,  nan])"
      ]
     },
     "execution_count": 8,
     "metadata": {},
     "output_type": "execute_result"
    }
   ],
   "source": [
    "np.unique(areas)"
   ]
  },
  {
   "cell_type": "code",
   "execution_count": 25,
   "metadata": {
    "collapsed": true
   },
   "outputs": [
    {
     "ename": "ValueError",
     "evalue": "all input arrays must have the same shape",
     "output_type": "error",
     "traceback": [
      "\u001b[0;31m---------------------------------------------------------------------------\u001b[0m",
      "\u001b[0;31mValueError\u001b[0m                                Traceback (most recent call last)",
      "\u001b[0;32m<ipython-input-25-788845bc5b37>\u001b[0m in \u001b[0;36m<module>\u001b[0;34m\u001b[0m\n\u001b[1;32m     19\u001b[0m \u001b[0mareas_loop\u001b[0m \u001b[0;34m=\u001b[0m \u001b[0mnp\u001b[0m\u001b[0;34m.\u001b[0m\u001b[0mconcatenate\u001b[0m\u001b[0;34m(\u001b[0m\u001b[0;34m[\u001b[0m \u001b[0mareas\u001b[0m\u001b[0;34m*\u001b[0m\u001b[0;34m(\u001b[0m\u001b[0mi\u001b[0m\u001b[0;34m)\u001b[0m \u001b[0;32mfor\u001b[0m \u001b[0mi\u001b[0m \u001b[0;32min\u001b[0m \u001b[0mrange\u001b[0m\u001b[0;34m(\u001b[0m\u001b[0;36m2\u001b[0m\u001b[0;34m,\u001b[0m \u001b[0mmax_number\u001b[0m\u001b[0;34m+\u001b[0m\u001b[0;36m1\u001b[0m\u001b[0;34m)\u001b[0m\u001b[0;34m]\u001b[0m\u001b[0;34m)\u001b[0m\u001b[0;34m\u001b[0m\u001b[0m\n\u001b[1;32m     20\u001b[0m \u001b[0mnumber_of_bars\u001b[0m \u001b[0;34m=\u001b[0m \u001b[0mareas_loop\u001b[0m\u001b[0;34m/\u001b[0m\u001b[0mnp\u001b[0m\u001b[0;34m.\u001b[0m\u001b[0mtile\u001b[0m\u001b[0;34m(\u001b[0m\u001b[0mareas\u001b[0m\u001b[0;34m,\u001b[0m\u001b[0mmax_number\u001b[0m\u001b[0;34m-\u001b[0m\u001b[0;36m1\u001b[0m\u001b[0;34m)\u001b[0m\u001b[0;34m\u001b[0m\u001b[0m\n\u001b[0;32m---> 21\u001b[0;31m \u001b[0mtable_of_positive_steel\u001b[0m \u001b[0;34m=\u001b[0m \u001b[0mnp\u001b[0m\u001b[0;34m.\u001b[0m\u001b[0mstack\u001b[0m\u001b[0;34m(\u001b[0m\u001b[0;34m(\u001b[0m\u001b[0mnumber_of_bars\u001b[0m\u001b[0;34m,\u001b[0m \u001b[0mdiameters_loop\u001b[0m\u001b[0;34m,\u001b[0m \u001b[0mareas_loop\u001b[0m\u001b[0;34m)\u001b[0m\u001b[0;34m,\u001b[0m \u001b[0maxis\u001b[0m\u001b[0;34m=\u001b[0m\u001b[0;36m1\u001b[0m\u001b[0;34m)\u001b[0m\u001b[0;34m\u001b[0m\u001b[0m\n\u001b[0m",
      "\u001b[0;32m<__array_function__ internals>\u001b[0m in \u001b[0;36mstack\u001b[0;34m(*args, **kwargs)\u001b[0m\n",
      "\u001b[0;32m~/OneDrive - Vale S.A/Random/TCC Código/fconcrete/ENV/lib/python3.6/site-packages/numpy/core/shape_base.py\u001b[0m in \u001b[0;36mstack\u001b[0;34m(arrays, axis, out)\u001b[0m\n\u001b[1;32m    423\u001b[0m     \u001b[0mshapes\u001b[0m \u001b[0;34m=\u001b[0m \u001b[0;34m{\u001b[0m\u001b[0marr\u001b[0m\u001b[0;34m.\u001b[0m\u001b[0mshape\u001b[0m \u001b[0;32mfor\u001b[0m \u001b[0marr\u001b[0m \u001b[0;32min\u001b[0m \u001b[0marrays\u001b[0m\u001b[0;34m}\u001b[0m\u001b[0;34m\u001b[0m\u001b[0m\n\u001b[1;32m    424\u001b[0m     \u001b[0;32mif\u001b[0m \u001b[0mlen\u001b[0m\u001b[0;34m(\u001b[0m\u001b[0mshapes\u001b[0m\u001b[0;34m)\u001b[0m \u001b[0;34m!=\u001b[0m \u001b[0;36m1\u001b[0m\u001b[0;34m:\u001b[0m\u001b[0;34m\u001b[0m\u001b[0m\n\u001b[0;32m--> 425\u001b[0;31m         \u001b[0;32mraise\u001b[0m \u001b[0mValueError\u001b[0m\u001b[0;34m(\u001b[0m\u001b[0;34m'all input arrays must have the same shape'\u001b[0m\u001b[0;34m)\u001b[0m\u001b[0;34m\u001b[0m\u001b[0m\n\u001b[0m\u001b[1;32m    426\u001b[0m \u001b[0;34m\u001b[0m\u001b[0m\n\u001b[1;32m    427\u001b[0m     \u001b[0mresult_ndim\u001b[0m \u001b[0;34m=\u001b[0m \u001b[0marrays\u001b[0m\u001b[0;34m[\u001b[0m\u001b[0;36m0\u001b[0m\u001b[0;34m]\u001b[0m\u001b[0;34m.\u001b[0m\u001b[0mndim\u001b[0m \u001b[0;34m+\u001b[0m \u001b[0;36m1\u001b[0m\u001b[0;34m\u001b[0m\u001b[0m\n",
      "\u001b[0;31mValueError\u001b[0m: all input arrays must have the same shape"
     ]
    }
   ],
   "source": [
    "diameters=[8]\n",
    "diameters_to_area={\n",
    "    5: 0.2,\n",
    "    6.3: 0.315,\n",
    "    8: 0.5,\n",
    "    10: 0.8,\n",
    "    12.5: 1.25,\n",
    "    16: 2,\n",
    "    20: 3.15,\n",
    "    25: 5,\n",
    "    32: 8,\n",
    "    40: 12.5\n",
    "}\n",
    "max_number=5\n",
    "    \n",
    "diameters = np.array(diameters)\n",
    "areas = np.array(areas)\n",
    "diameters_loop = np.tile(diameters/10, max_number-1)\n",
    "areas_loop = np.concatenate([ areas*(i) for i in range(2, max_number+1)])\n",
    "number_of_bars = areas_loop/np.tile(areas,max_number-1)\n",
    "table_of_positive_steel = np.stack((number_of_bars, diameters_loop, areas_loop), axis=1)"
   ]
  },
  {
   "cell_type": "code",
   "execution_count": 28,
   "metadata": {},
   "outputs": [
    {
     "data": {
      "text/plain": [
       "4"
      ]
     },
     "execution_count": 28,
     "metadata": {},
     "output_type": "execute_result"
    }
   ],
   "source": [
    "len(diameters_loop)"
   ]
  },
  {
   "cell_type": "code",
   "execution_count": null,
   "metadata": {},
   "outputs": [],
   "source": [
    "\n",
    "\n",
    "\n",
    "\n",
    "\n",
    "table_of_negative_steel = -np.array(table_of_positive_steel)\n",
    "table_of_positive_and_negative_steel = np.vstack([table_of_negative_steel, table_of_positive_steel])\n",
    "table = np.array(table_of_positive_and_negative_steel[\n",
    "    table_of_positive_and_negative_steel[:,2].argsort()\n",
    "])"
   ]
  },
  {
   "cell_type": "code",
   "execution_count": 9,
   "metadata": {},
   "outputs": [],
   "source": [
    "def _getBarsInInterspaces(self, x, areas_info):\n",
    "    quantities, diameters, areas = areas_info  \n",
    "    bars = SteelBars()\n",
    "    for interspace in self._getInterspaceBetweenMomentum(x, areas):\n",
    "        is_in_interpace = (x > interspace[0]) & (x<interspace[1])\n",
    "        x_interspace = x[is_in_interpace]\n",
    "        quantities_interspace = quantities[is_in_interpace]\n",
    "        diameter = diameters[is_in_interpace][0]\n",
    "\n",
    "        max_quantity_interspace = int(max(quantities_interspace))\n",
    "\n",
    "        for quantity in range(1, max_quantity_interspace+1):\n",
    "            x_same_quantity = x_interspace[quantities_interspace == quantity]\n",
    "            if len(x_same_quantity)>0:\n",
    "                new_bar = SteelBar(long_begin=min(x_same_quantity),\n",
    "                                long_end=max(x_same_quantity),\n",
    "                                quantity=quantity,\n",
    "                                diameter=diameter)\n",
    "                bars.add(new_bar)\n",
    "\n",
    "    return bars"
   ]
  },
  {
   "cell_type": "code",
   "execution_count": null,
   "metadata": {},
   "outputs": [],
   "source": []
  },
  {
   "cell_type": "code",
   "execution_count": 13,
   "metadata": {},
   "outputs": [
    {
     "data": {
      "image/png": "[encoded data removed]",
      "text/plain": [
       "<Figure size 432x288 with 1 Axes>"
      ]
     },
     "metadata": {
      "needs_background": "light"
     },
     "output_type": "display_data"
    }
   ],
   "source": [
    "getBarsInInterspaces(x, positive_areas_info).plot()\n"
   ]
  },
  {
   "cell_type": "code",
   "execution_count": 69,
   "metadata": {},
   "outputs": [],
   "source": [
    "new_bar = SteelBar(long_begin=0,\n",
    "                                   long_end=2,\n",
    "                                   quantity=5,\n",
    "                                   diameter=0.1)"
   ]
  },
  {
   "cell_type": "code",
   "execution_count": 77,
   "metadata": {},
   "outputs": [
    {
     "data": {
      "text/plain": [
       "5"
      ]
     },
     "execution_count": 77,
     "metadata": {},
     "output_type": "execute_result"
    }
   ],
   "source": [
    "getattr(new_bar, 'quantity')"
   ]
  },
  {
   "cell_type": "code",
   "execution_count": 72,
   "metadata": {},
   "outputs": [
    {
     "ename": "TypeError",
     "evalue": "'SteelBar' object is not subscriptable",
     "output_type": "error",
     "traceback": [
      "\u001b[0;31m---------------------------------------------------------------------------\u001b[0m",
      "\u001b[0;31mTypeError\u001b[0m                                 Traceback (most recent call last)",
      "\u001b[0;32m<ipython-input-72-dc07e5b4e6c9>\u001b[0m in \u001b[0;36m<module>\u001b[0;34m\u001b[0m\n\u001b[0;32m----> 1\u001b[0;31m \u001b[0mnew_bar\u001b[0m\u001b[0;34m[\u001b[0m\u001b[0;34m'quantity'\u001b[0m\u001b[0;34m]\u001b[0m\u001b[0;34m\u001b[0m\u001b[0m\n\u001b[0m",
      "\u001b[0;31mTypeError\u001b[0m: 'SteelBar' object is not subscriptable"
     ]
    }
   ],
   "source": [
    "new_bar['quantity']"
   ]
  },
  {
   "cell_type": "code",
   "execution_count": 71,
   "metadata": {},
   "outputs": [
    {
     "ename": "TypeError",
     "evalue": "'SteelBar' object is not subscriptable",
     "output_type": "error",
     "traceback": [
      "\u001b[0;31m---------------------------------------------------------------------------\u001b[0m",
      "\u001b[0;31mTypeError\u001b[0m                                 Traceback (most recent call last)",
      "\u001b[0;32m<ipython-input-71-8b0b81e107e0>\u001b[0m in \u001b[0;36m<module>\u001b[0;34m\u001b[0m\n\u001b[0;32m----> 1\u001b[0;31m \u001b[0mnew_bar\u001b[0m\u001b[0;34m.\u001b[0m\u001b[0mplot\u001b[0m\u001b[0;34m(\u001b[0m\u001b[0;34m)\u001b[0m\u001b[0;34m\u001b[0m\u001b[0m\n\u001b[0m",
      "\u001b[0;32m<ipython-input-66-42971c36cbf7>\u001b[0m in \u001b[0;36mplot\u001b[0;34m(self, prop)\u001b[0m\n\u001b[1;32m     24\u001b[0m \u001b[0;34m\u001b[0m\u001b[0m\n\u001b[1;32m     25\u001b[0m     \u001b[0;32mdef\u001b[0m \u001b[0mplot\u001b[0m\u001b[0;34m(\u001b[0m\u001b[0mself\u001b[0m\u001b[0;34m,\u001b[0m\u001b[0mprop\u001b[0m\u001b[0;34m=\u001b[0m\u001b[0;34m'quantity'\u001b[0m\u001b[0;34m)\u001b[0m\u001b[0;34m:\u001b[0m\u001b[0;34m\u001b[0m\u001b[0m\n\u001b[0;32m---> 26\u001b[0;31m         \u001b[0mplt\u001b[0m\u001b[0;34m.\u001b[0m\u001b[0mplot\u001b[0m\u001b[0;34m(\u001b[0m\u001b[0;34m[\u001b[0m\u001b[0mself\u001b[0m\u001b[0;34m.\u001b[0m\u001b[0mlong_begin\u001b[0m\u001b[0;34m,\u001b[0m \u001b[0mself\u001b[0m\u001b[0;34m.\u001b[0m\u001b[0mlong_end\u001b[0m\u001b[0;34m]\u001b[0m\u001b[0;34m,\u001b[0m \u001b[0;34m[\u001b[0m\u001b[0mself\u001b[0m\u001b[0;34m[\u001b[0m\u001b[0mprop\u001b[0m\u001b[0;34m]\u001b[0m\u001b[0;34m,\u001b[0m \u001b[0mself\u001b[0m\u001b[0;34m[\u001b[0m\u001b[0mprop\u001b[0m\u001b[0;34m]\u001b[0m\u001b[0;34m]\u001b[0m\u001b[0;34m)\u001b[0m\u001b[0;34m\u001b[0m\u001b[0m\n\u001b[0m\u001b[1;32m     27\u001b[0m \u001b[0;34m\u001b[0m\u001b[0m\n\u001b[1;32m     28\u001b[0m     \u001b[0;32mdef\u001b[0m \u001b[0m__repr__\u001b[0m\u001b[0;34m(\u001b[0m\u001b[0mself\u001b[0m\u001b[0;34m)\u001b[0m\u001b[0;34m:\u001b[0m\u001b[0;34m\u001b[0m\u001b[0m\n",
      "\u001b[0;31mTypeError\u001b[0m: 'SteelBar' object is not subscriptable"
     ]
    }
   ],
   "source": [
    "new_bar.plot()"
   ]
  },
  {
   "cell_type": "code",
   "execution_count": 27,
   "metadata": {},
   "outputs": [
    {
     "data": {
      "text/plain": [
       "[<matplotlib.lines.Line2D at 0x1159e84a8>]"
      ]
     },
     "execution_count": 27,
     "metadata": {},
     "output_type": "execute_result"
    },
    {
     "data": {
      "image/png": "[encoded data removed]",
      "text/plain": [
       "<Figure size 432x288 with 1 Axes>"
      ]
     },
     "metadata": {
      "needs_background": "light"
     },
     "output_type": "display_data"
    }
   ],
   "source": [
    "plt.plot([148.311,454.608], [2, 2])"
   ]
  },
  {
   "cell_type": "code",
   "execution_count": 13,
   "metadata": {},
   "outputs": [
    {
     "data": {
      "text/plain": [
       "array([nan, nan, nan, nan, nan, nan, nan, nan, nan, nan, nan, nan, nan, nan, nan, nan, nan, nan, nan, nan, nan, nan, nan, nan, nan, nan, nan, nan, nan, nan, nan, nan, nan, nan, nan, nan, nan, nan, nan, nan, nan, nan, nan, nan, nan, nan, nan, nan, nan, nan, nan, nan, nan, nan, nan, nan, nan, nan, nan, nan, nan, nan, nan, nan, nan, nan, nan, nan, nan, nan, nan, nan, nan, nan, nan, nan, nan, nan, nan, nan, nan, nan, nan, nan, nan, nan, nan, nan, nan, nan, nan, nan, nan, nan, nan, nan, nan, nan, nan, nan, nan, nan, nan, nan, nan, nan, nan, nan, nan, nan, nan, nan, nan, nan, nan, nan, nan, nan, nan, nan, nan, nan, nan, nan, nan, nan, nan, nan, nan, nan, nan, nan, nan, nan, nan, nan, nan, nan, nan, nan, nan, nan, nan, nan, nan, nan, nan, nan, nan, nan, nan, nan, nan, nan, nan, nan, nan, nan, nan, nan, nan, nan, nan, nan, nan, nan, nan, nan, nan, nan, nan, nan, nan, nan, nan, nan, nan, nan, nan, nan, nan, nan, nan, nan, nan, nan, nan, nan, nan, nan, nan, nan, nan, nan, nan, nan, nan, nan, nan, nan, nan, nan, nan, nan, nan, nan, nan, nan, nan, nan, nan, nan, nan, nan, nan, nan, nan, nan, nan, nan, nan, nan, nan, nan, nan, nan, nan, nan, nan, nan, nan, nan, nan, nan, nan, nan, nan, nan, nan, nan, nan, nan, nan, nan, nan, nan, nan, nan, nan, nan, nan, nan, nan, nan, nan, nan, nan, nan, nan, nan, nan, nan, nan, nan, nan, nan, nan, nan, nan, nan, nan, nan, nan, nan, nan, nan, nan, nan, nan, nan, nan, nan, nan, nan, nan, nan, nan, nan, nan, nan, nan, nan, nan, nan, nan, nan, nan, nan, nan, nan, nan, nan, nan, nan, nan, nan, nan, nan, nan, nan, nan, nan, nan, nan, nan, nan, nan, nan, nan, nan, nan, nan, nan, nan, nan, nan, nan, nan, nan, nan, nan, nan, nan, nan, nan, nan, nan, nan, nan, nan, nan, nan, nan, nan, nan, nan, nan, nan, nan, nan, nan, nan, nan, nan, nan, nan, nan, nan, nan, nan, nan, nan, nan, nan, nan, nan, nan, nan, nan, nan, nan, nan, nan, nan, nan, nan, nan, nan, nan, nan, nan, nan, nan, nan, nan, nan, nan, nan, nan, nan, nan, nan, nan, nan, nan, nan, nan, nan, nan, nan, nan, nan, nan, nan, nan, nan, nan, nan, nan, nan, nan, nan, nan, nan, nan, nan, nan, nan, nan, nan, nan, nan, nan, nan, nan, nan, nan, nan, nan, nan, nan, nan, nan, nan, nan, nan, nan, nan, nan, nan, nan, nan, nan, nan, nan, nan, nan, nan, nan, nan, nan, nan, nan, nan, nan, nan, nan, nan, nan, nan, nan, nan, nan, nan, nan, nan, nan, nan, nan, nan, nan, nan, nan, nan, nan, nan, nan, nan, nan, nan, nan, nan, nan, nan, nan, nan, nan, nan, nan, nan, nan, nan, nan, nan, nan, nan, nan, nan, nan, nan, nan, nan, nan, nan, nan, nan, nan, nan, nan, nan, nan, nan, nan, nan, nan, nan, nan, nan, nan, nan, nan, nan, nan, nan, nan, nan, nan, nan, nan, nan, nan, nan, nan, nan, nan, nan, nan, nan, nan, nan, nan, nan, nan, nan, nan, nan, nan, nan, nan, nan, nan, nan, nan, nan, nan, nan, nan, nan, nan, nan, nan, nan, nan, nan, nan, nan, nan, nan, nan, nan, nan, nan, nan, nan, nan, nan, nan, nan, nan, nan, nan, nan, nan, nan, nan, nan, nan, nan, nan, nan, nan, nan, nan, nan, nan, nan, nan, nan,\n",
       "       nan, nan, nan, nan, nan, nan, nan, nan, nan, nan, nan, nan, nan, nan, nan, nan, nan, nan, nan, nan, nan, nan, nan, nan, nan, nan, nan, nan, nan, nan, nan, nan, nan, nan, nan, nan, nan, nan, nan, nan, nan, nan, nan, nan, nan, nan, nan, nan, nan, nan, nan, nan, nan, nan, nan, nan, nan, nan, nan, nan, nan, nan, nan, nan, nan, nan, nan, nan, nan, nan, nan, nan, nan, nan, nan, nan, nan, nan, nan, nan, nan, nan, nan, nan, nan, nan, nan, nan, nan, nan, nan, nan, nan, nan, nan, nan, nan, nan, nan, nan, nan, nan, nan, nan, nan, nan, nan, nan, nan, nan, nan, nan, nan, nan, nan, nan, nan, nan, nan, nan, nan, nan, nan, nan, nan, nan, nan, nan, nan, nan, nan, nan, nan, nan, nan, nan, nan, nan, nan, nan, nan, nan, nan, nan, nan, nan, nan, nan, nan, nan, nan, nan, nan, nan, nan, nan, nan, nan, nan, nan, nan, nan, nan, nan, nan, nan, nan, nan, nan, nan, nan, nan, nan, nan, nan, nan, nan, nan, nan, nan, nan, nan, nan, nan, nan, nan, nan, nan, nan, nan, nan, nan, nan, nan, nan, nan, nan, nan, nan, nan, nan, nan, nan, nan, nan, nan, nan, nan, nan, nan, nan, nan, nan, nan, nan, nan, nan, nan, nan, nan, nan, nan, nan, nan, nan, nan, nan, nan, nan, nan, nan, nan, nan, nan, nan, nan, nan, nan, nan, nan, nan, nan, nan, nan, nan, nan, nan, nan, nan, nan, nan, nan, nan, nan, nan, nan, nan, nan, nan, nan, nan, nan, nan, nan, nan, nan, nan, nan, nan, nan, nan, nan, nan, nan, nan, nan, nan, nan, nan, nan, nan, nan, nan, nan, nan, nan, nan, nan, nan, nan, nan, nan, nan, nan, nan, nan, nan, nan, nan, nan, nan, nan, nan, nan, nan, nan, nan, nan, nan, nan, nan, nan, nan, nan, nan, nan, nan, nan, nan, nan, nan, nan, nan, nan, nan, nan, nan, nan, nan, nan, nan, nan, nan, nan, nan, nan, nan, nan, nan, nan, nan, nan, nan, nan, nan, nan])"
      ]
     },
     "execution_count": 13,
     "metadata": {},
     "output_type": "execute_result"
    }
   ],
   "source": [
    "yp[np.isnan(yp)]"
   ]
  },
  {
   "cell_type": "code",
   "execution_count": 11,
   "metadata": {},
   "outputs": [
    {
     "data": {
      "text/plain": [
       "[<matplotlib.lines.Line2D at 0x118d75160>]"
      ]
     },
     "execution_count": 11,
     "metadata": {},
     "output_type": "execute_result"
    },
    {
     "data": {
      "image/png": "[encoded data removed]",
      "text/plain": [
       "<Figure size 432x288 with 1 Axes>"
      ]
     },
     "metadata": {
      "needs_background": "light"
     },
     "output_type": "display_data"
    }
   ],
   "source": [
    "a = x[np.isnan(yp)]\n",
    "b = yp[np.isnan(yp)]\n",
    "plt.plot(a, b)"
   ]
  },
  {
   "cell_type": "code",
   "execution_count": 80,
   "metadata": {},
   "outputs": [
    {
     "ename": "TypeError",
     "evalue": "only integer scalar arrays can be converted to a scalar index",
     "output_type": "error",
     "traceback": [
      "\u001b[0;31m---------------------------------------------------------------------------\u001b[0m",
      "\u001b[0;31mTypeError\u001b[0m                                 Traceback (most recent call last)",
      "\u001b[0;32m<ipython-input-80-2dd939d9ab36>\u001b[0m in \u001b[0;36m<module>\u001b[0;34m\u001b[0m\n\u001b[0;32m----> 1\u001b[0;31m \u001b[0myp\u001b[0m\u001b[0;34m[\u001b[0m\u001b[0mnp\u001b[0m\u001b[0;34m.\u001b[0m\u001b[0misnan\u001b[0m\u001b[0;34m(\u001b[0m\u001b[0myp\u001b[0m\u001b[0;34m)\u001b[0m\u001b[0;34m]\u001b[0m\u001b[0;34m\u001b[0m\u001b[0m\n\u001b[0m",
      "\u001b[0;31mTypeError\u001b[0m: only integer scalar arrays can be converted to a scalar index"
     ]
    }
   ],
   "source": [
    "yp[np.isnan(yp)]"
   ]
  },
  {
   "cell_type": "code",
   "execution_count": 49,
   "metadata": {},
   "outputs": [
    {
     "data": {
      "text/plain": [
       "array([2., 2., 2., ..., 2., 2., 2.])"
      ]
     },
     "execution_count": 49,
     "metadata": {},
     "output_type": "execute_result"
    }
   ],
   "source": [
    "number_of_bars[~np.isnan(number_of_bars)]"
   ]
  },
  {
   "cell_type": "code",
   "execution_count": 51,
   "metadata": {},
   "outputs": [],
   "source": [
    "bar_removal = number_of_bars.copy()\n",
    "for number in np.unique(number_of_bars[~np.isnan(number_of_bars)]):\n",
    "    bar_removal = np.vstack([bar_removal, number*(number_of_bars==number)])\n",
    "bar_removal = bar_removal[1:]"
   ]
  },
  {
   "cell_type": "code",
   "execution_count": 52,
   "metadata": {},
   "outputs": [],
   "source": [
    "bar_removal = np.where(bar_removal==0, np.nan, bar_removal)"
   ]
  },
  {
   "cell_type": "code",
   "execution_count": 53,
   "metadata": {},
   "outputs": [
    {
     "data": {
      "text/plain": [
       "array([[nan, nan, nan, ...,  2.,  2.,  2.],\n",
       "       [nan, nan, nan, ..., nan, nan, nan],\n",
       "       [nan, nan, nan, ..., nan, nan, nan],\n",
       "       ...,\n",
       "       [nan, nan, nan, ..., nan, nan, nan],\n",
       "       [nan, nan, nan, ..., nan, nan, nan],\n",
       "       [nan, nan, nan, ..., nan, nan, nan]])"
      ]
     },
     "execution_count": 53,
     "metadata": {},
     "output_type": "execute_result"
    }
   ],
   "source": [
    "bar_removal"
   ]
  },
  {
   "cell_type": "code",
   "execution_count": 54,
   "metadata": {},
   "outputs": [
    {
     "data": {
      "image/png": "[encoded data removed]",
      "text/plain": [
       "<Figure size 432x288 with 1 Axes>"
      ]
     },
     "metadata": {
      "needs_background": "light"
     },
     "output_type": "display_data"
    }
   ],
   "source": [
    "for bar in bar_removal:\n",
    "    plt.plot(x, bar, 'b')\n",
    "    \n",
    "plt.show()"
   ]
  },
  {
   "cell_type": "code",
   "execution_count": 57,
   "metadata": {},
   "outputs": [],
   "source": [
    "a = np.array([1, 2, 4])\n",
    "a1 = np.vstack([a, [5,6,6]])\n",
    "a2 = np.vstack([a1, [5,6,6]])"
   ]
  },
  {
   "cell_type": "code",
   "execution_count": 55,
   "metadata": {},
   "outputs": [
    {
     "data": {
      "text/plain": [
       "array([[1, 2, 4],\n",
       "       [5, 6, 6],\n",
       "       [5, 6, 6]])"
      ]
     },
     "execution_count": 55,
     "metadata": {},
     "output_type": "execute_result"
    }
   ],
   "source": [
    "a2"
   ]
  },
  {
   "cell_type": "code",
   "execution_count": 35,
   "metadata": {},
   "outputs": [
    {
     "data": {
      "text/plain": [
       "array([array([[1, 2, 3],\n",
       "       [4, 5, 6]]), array([5, 7, 8])], dtype=object)"
      ]
     },
     "execution_count": 35,
     "metadata": {},
     "output_type": "execute_result"
    }
   ],
   "source": [
    "np.array([np.array([[1,2,3],[4,5,6]]),np.array([5,7,8])])"
   ]
  },
  {
   "cell_type": "code",
   "execution_count": 41,
   "metadata": {},
   "outputs": [],
   "source": []
  },
  {
   "cell_type": "code",
   "execution_count": 55,
   "metadata": {},
   "outputs": [],
   "source": [
    "x, necessary_area = beam.getSteelAreaDiagram()\n",
    "x, y = beam.getComercialSteelAreaDiagram()\n",
    "number_of_bars = np.array(y)[:,0]\n",
    "bar_diameter = np.array(y)[:,1]\n",
    "comercial_area = np.array(y)[:,2]"
   ]
  },
  {
   "cell_type": "code",
   "execution_count": 64,
   "metadata": {},
   "outputs": [
    {
     "data": {
      "image/png": "[encoded data removed]",
      "text/plain": [
       "<Figure size 432x288 with 1 Axes>"
      ]
     },
     "metadata": {},
     "output_type": "display_data"
    }
   ],
   "source": []
  },
  {
   "cell_type": "code",
   "execution_count": 69,
   "metadata": {
    "scrolled": false
   },
   "outputs": [
    {
     "data": {
      "image/png": "[encoded data removed]",
      "text/plain": [
       "<Figure size 432x288 with 1 Axes>"
      ]
     },
     "metadata": {},
     "output_type": "display_data"
    },
    {
     "data": {
      "image/png": "[encoded data removed]",
      "text/plain": [
       "<Figure size 432x288 with 2 Axes>"
      ]
     },
     "metadata": {},
     "output_type": "display_data"
    }
   ],
   "source": [
    "plt.cla()\n",
    "fig, ax1 = plt.subplots()\n",
    "\n",
    "ax2 = ax1.twinx()\n",
    "#ax1.plot(x, comercial_area, 'g-')\n",
    "ax2.plot(x, number_of_bars, 'b-')\n",
    "\n",
    "ax1.set_xlabel('X data')\n",
    "#ax1.set_ylabel('Y1 data', color='g')\n",
    "ax2.set_ylabel('Y2 data', color='b')\n",
    "\n",
    "\n",
    "fig.tight_layout()  # otherwise the right y-label is slightly clipped\n",
    "plt.show()"
   ]
  },
  {
   "cell_type": "code",
   "execution_count": 7,
   "metadata": {},
   "outputs": [],
   "source": [
    "gapminder_us = gapminder[gapminder.country==\"United States\"]"
   ]
  },
  {
   "cell_type": "code",
   "execution_count": 49,
   "metadata": {},
   "outputs": [
    {
     "data": {
      "text/plain": [
       "Text(0,0.5,'Y2 data')"
      ]
     },
     "execution_count": 49,
     "metadata": {},
     "output_type": "execute_result"
    },
    {
     "data": {
      "image/png": "[encoded data removed]",
      "text/plain": [
       "<Figure size 432x288 with 2 Axes>"
      ]
     },
     "metadata": {},
     "output_type": "display_data"
    }
   ],
   "source": [
    "import numpy as np\n",
    "import matplotlib.pyplot as plt\n",
    "x = np.arange(0, 10, 0.1)\n",
    "y1 = 0.05 * x**2\n",
    "y2 = -1 *y1\n",
    "\n",
    "fig, ax1 = plt.subplots()\n",
    "\n",
    "ax2 = ax1.twinx()\n",
    "ax1.plot(x, y1, 'g-')\n",
    "ax2.plot(x, y2, 'b-')\n",
    "\n",
    "ax1.set_xlabel('X data')\n",
    "ax1.set_ylabel('Y1 data', color='g')\n",
    "ax2.set_ylabel('Y2 data', color='b')"
   ]
  },
  {
   "cell_type": "code",
   "execution_count": 67,
   "metadata": {},
   "outputs": [
    {
     "data": {
      "image/png": "[encoded data removed]",
      "text/plain": [
       "<Figure size 432x288 with 2 Axes>"
      ]
     },
     "metadata": {},
     "output_type": "display_data"
    }
   ],
   "source": [
    "import matplotlib.pyplot as plt\n",
    "\n",
    "# Create some mock data\n",
    "t = np.arange(0.01, 10.0, 0.01)\n",
    "data1 = np.exp(t)\n",
    "data2 = np.sin(2 * np.pi * t)\n",
    "\n",
    "fig, ax1 = plt.subplots()\n",
    "\n",
    "color = 'tab:red'\n",
    "ax1.set_xlabel('time (s)')\n",
    "ax1.set_ylabel('exp', color=color)\n",
    "ax1.plot(t, data1, color=color)\n",
    "ax1.tick_params(axis='y', labelcolor=color)\n",
    "\n",
    "ax2 = ax1.twinx()  # instantiate a second axes that shares the same x-axis\n",
    "\n",
    "color = 'tab:blue'\n",
    "ax2.set_ylabel('sin', color=color)  # we already handled the x-label with ax1\n",
    "ax2.plot(t, data2, color=color)\n",
    "ax2.tick_params(axis='y', labelcolor=color)\n",
    "\n",
    "fig.tight_layout()  # otherwise the right y-label is slightly clipped\n",
    "plt.show()\n"
   ]
  },
  {
   "cell_type": "code",
   "execution_count": null,
   "metadata": {},
   "outputs": [],
   "source": []
  }
 ],
 "metadata": {
  "kernelspec": {
   "display_name": "Python 3",
   "language": "python",
   "name": "python3"
  },
  "language_info": {
   "codemirror_mode": {
    "name": "ipython",
    "version": 3
   },
   "file_extension": ".py",
   "mimetype": "text/x-python",
   "name": "python",
   "nbconvert_exporter": "python",
   "pygments_lexer": "ipython3",
   "version": "3.6.6"
  }
 },
 "nbformat": 4,
 "nbformat_minor": 2
}
