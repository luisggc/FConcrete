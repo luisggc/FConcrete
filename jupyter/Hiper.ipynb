{
 "cells": [
  {
   "cell_type": "code",
   "execution_count": null,
   "metadata": {},
   "outputs": [],
   "source": [
    "Quantas retiradas de barra é bom\n",
    "melhor seção"
   ]
  },
  {
   "cell_type": "code",
   "execution_count": 3,
   "metadata": {},
   "outputs": [],
   "source": [
    "import sys\n",
    "sys.path.insert(0, '../')\n",
    "from pytest import approx\n",
    "import fconcrete as fc\n",
    "import matplotlib.pyplot as plt\n",
    "import numpy as np\n",
    "np.set_printoptions(precision=4, suppress=True, linewidth=3000)\n",
    "from math import sin, tan,  pi\n",
    "from fconcrete.helpers import cond\n",
    "import copy"
   ]
  },
  {
   "cell_type": "code",
   "execution_count": null,
   "metadata": {},
   "outputs": [],
   "source": [
    "fc.AvailableLongConcreteSteelBar()"
   ]
  },
  {
   "cell_type": "code",
   "execution_count": 2,
   "metadata": {},
   "outputs": [
    {
     "name": "stdout",
     "output_type": "stream",
     "text": [
      "-2.184501675578808\n",
      "2.100031058124653\n",
      "1.659597931136987\n",
      "-2.184501675578808\n",
      "2.100031058124653\n",
      "1.659597931136987\n",
      "-2.184501675578808\n",
      "2.100031058124653\n",
      "1.659597931136987\n",
      "-2.184501675578808\n",
      "2.100031058124653\n",
      "1.659597931136987\n",
      "-2.184501675578808\n",
      "2.100031058124653\n",
      "1.659597931136987\n",
      "-2.184501675578808\n",
      "2.100031058124653\n",
      "1.659597931136987\n"
     ]
    }
   ],
   "source": [
    "material = fc.Concrete('20 MPa', 1)\n",
    "section = fc.Rectangle(25,60)\n",
    "\n",
    "f1 = fc.Load.UniformDistributedLoad(-0.1622, x_begin=0, x_end=113)\n",
    "f2 = fc.Load.UniformDistributedLoad(-0.4994, x_begin=113, x_end=583)\n",
    "f3 = fc.Load.UniformDistributedLoad(-0.4196, x_begin=583, x_end=1188)\n",
    "\n",
    "n1 = fc.Node.SimpleSupport(x=0, length=20)\n",
    "n2 = fc.Node.SimpleSupport(x=113, length=20)\n",
    "n3 = fc.Node.SimpleSupport(x=583, length=20)\n",
    "n4 = fc.Node.SimpleSupport(x=1188, length=20)\n",
    "\n",
    "bar1 = fc.BeamElement([n1, n2], section, material)\n",
    "bar2 = fc.BeamElement([n2, n3], section, material)\n",
    "bar3 = fc.BeamElement([n3, n4], section, material)\n",
    "\n",
    "    \n",
    "beam = fc.ConcreteBeam(\n",
    "    loads = [f1, f2, f3],\n",
    "    beam_elements = [bar1, bar2, bar3],\n",
    "    bar_steel_max_removal = 2,\n",
    "    transversal_bar_inclination_angle=45,\n",
    "    available_long_steel_bars = fc.AvailableLongConcreteSteelBar(diameters=[8]),\n",
    "    available_transv_steel_bars = fc.AvailableTransvConcreteSteelBar(diameters=[8])\n",
    ")\n",
    "\n",
    "self = beam\n"
   ]
  },
  {
   "cell_type": "code",
   "execution_count": 3,
   "metadata": {},
   "outputs": [
    {
     "data": {
      "image/png": "[encoded data removed]",
      "text/plain": [
       "<Figure size 432x288 with 1 Axes>"
      ]
     },
     "metadata": {
      "needs_background": "light"
     },
     "output_type": "display_data"
    }
   ],
   "source": [
    "beam.long_steel_bars.plot()"
   ]
  },
  {
   "cell_type": "code",
   "execution_count": 3,
   "metadata": {},
   "outputs": [
    {
     "data": {
      "image/png": "[encoded data removed]",
      "text/plain": [
       "<Figure size 432x288 with 1 Axes>"
      ]
     },
     "metadata": {
      "needs_background": "light"
     },
     "output_type": "display_data"
    }
   ],
   "source": [
    "beam.long_steel_bars.plot()"
   ]
  },
  {
   "cell_type": "code",
   "execution_count": 8,
   "metadata": {},
   "outputs": [
    {
     "data": {
      "text/plain": [
       "3.141592653589793"
      ]
     },
     "execution_count": 8,
     "metadata": {},
     "output_type": "execute_result"
    }
   ],
   "source": [
    "math.radians(180)"
   ]
  }
 ],
 "metadata": {
  "kernelspec": {
   "display_name": "Python 3",
   "language": "python",
   "name": "python3"
  },
  "language_info": {
   "codemirror_mode": {
    "name": "ipython",
    "version": 3
   },
   "file_extension": ".py",
   "mimetype": "text/x-python",
   "name": "python",
   "nbconvert_exporter": "python",
   "pygments_lexer": "ipython3",
   "version": "3.6.6"
  }
 },
 "nbformat": 4,
 "nbformat_minor": 2
}
