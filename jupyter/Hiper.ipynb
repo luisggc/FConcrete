{
 "cells": [
  {
   "cell_type": "code",
   "execution_count": 1,
   "metadata": {},
   "outputs": [],
   "source": [
    "import sys\n",
    "sys.path.insert(0, '../')\n",
    "from fconcrete import e, Beam, Node, Loads, Nodes, Load,Material, ConcreteBeam, SingleBeamElement, Rectangle, Concrete, Section, ConcreteSteels\n",
    "import matplotlib.pyplot as plt\n",
    "import numpy as np\n",
    "np.set_printoptions(precision=3, suppress=True, linewidth=3000)\n",
    "#from math import log\n",
    "\n",
    "# Tension in MPa\n",
    "# length in cm\n",
    "# Shear in kN"
   ]
  },
  {
   "cell_type": "markdown",
   "metadata": {},
   "source": [
    "# Simplest Example"
   ]
  },
  {
   "cell_type": "markdown",
   "metadata": {},
   "source": [
    "# Youtube teste   https://www.youtube.com/watch?v=Drelp5WNdgQ"
   ]
  },
  {
   "cell_type": "code",
   "execution_count": 32,
   "metadata": {},
   "outputs": [],
   "source": [
    "#material = Material(E=1, poisson=0.3, alpha=1)\n",
    "#section = Rectangle(12,1, material)\n",
    "\n",
    "material = Material(E=2.17*10**6, poisson=0.3, alpha=1)\n",
    "section = Rectangle(0.3,0.5, material)\n",
    "\n",
    "f1 = Load.PontualLoad(-10, x=2.5)\n",
    "f3 = Load.UniformDistributedLoad(-2, x_begin=11, x_end=15)\n",
    "\n",
    "n1 = Node.SimpleSupport(x=0)\n",
    "n2 = Node.MiddleNode(x=5)\n",
    "n3 = Node.MiddleNode(x=11)\n",
    "n4 = Node.SimpleSupport(x=15)\n",
    "\n",
    "bar1 = SingleBeamElement([n1, n2], section)\n",
    "bar2 = SingleBeamElement([n2, n3], section)\n",
    "bar3 = SingleBeamElement([n3, n4], section)\n",
    "\n",
    "beam = Beam(\n",
    "    loads = [f1, f3],\n",
    "    bars = [bar1, bar2, bar3]\n",
    ")\n",
    "self = beam"
   ]
  },
  {
   "cell_type": "markdown",
   "metadata": {},
   "source": [
    "# Mateiral tese teste"
   ]
  },
  {
   "cell_type": "code",
   "execution_count": 6,
   "metadata": {},
   "outputs": [],
   "source": [
    "material = Material(E=2.5*10**7, poisson=0.3, alpha=1)\n",
    "section = Rectangle(0.4,0.6, material)\n",
    "f1 = Load.PontualLoad(-1, x=5)\n",
    "n1 = Node.Free(x=0)\n",
    "n2 = Node.Free(x=10)\n",
    "bar1 = SingleBeamElement([n1, n2], section)\n",
    "beam = Beam(\n",
    "    loads = [f1],\n",
    "    bars = [bar1]\n",
    ")\n",
    "self = beam\n",
    "self.solve()"
   ]
  },
  {
   "cell_type": "code",
   "execution_count": 3,
   "metadata": {},
   "outputs": [
    {
     "data": {
      "text/plain": [
       "10"
      ]
     },
     "execution_count": 3,
     "metadata": {},
     "output_type": "execute_result"
    }
   ],
   "source": [
    "self.length"
   ]
  },
  {
   "cell_type": "code",
   "execution_count": 5,
   "metadata": {},
   "outputs": [
    {
     "data": {
      "text/plain": [
       "array([ 1.,  0., -1., -8.,  0.,  0.])"
      ]
     },
     "execution_count": 5,
     "metadata": {},
     "output_type": "execute_result"
    }
   ],
   "source": [
    "condition_boundary = self.bars.condition_boundary\n",
    "beams_efforts = self.get_beams_efforts()\n",
    "matrix_rigidity_global = self.matrix_rigidity_global()\n",
    "\n",
    "matrix_rigidity_global_determinable = matrix_rigidity_global[\n",
    "    condition_boundary, :][:, condition_boundary]\n",
    "beams_efforts_determinable = beams_efforts[condition_boundary]\n",
    "\n",
    "U = np.zeros(len(condition_boundary))\n",
    "U[condition_boundary] = np.linalg.solve(matrix_rigidity_global_determinable, beams_efforts_determinable)\n",
    "#U[condition_boundary] = beams_efforts_determinable @ np.linalg.pinv(matrix_rigidity_global_determinable)\n",
    "\n",
    "F = matrix_rigidity_global @ U\n",
    "F"
   ]
  },
  {
   "cell_type": "code",
   "execution_count": 66,
   "metadata": {},
   "outputs": [
    {
     "data": {
      "text/plain": [
       "array([ True,  True,  True,  True,  True,  True])"
      ]
     },
     "execution_count": 66,
     "metadata": {},
     "output_type": "execute_result"
    }
   ],
   "source": [
    "condition_boundary"
   ]
  },
  {
   "cell_type": "code",
   "execution_count": 67,
   "metadata": {},
   "outputs": [
    {
     "data": {
      "text/plain": [
       "(array([[ 17280.,  43200., -17280.,  43200.,      0.,      0.],\n",
       "        [ 43200., 144000., -43200.,  72000.,      0.,      0.],\n",
       "        [-17280., -43200.,  34560.,      0., -17280.,  43200.],\n",
       "        [ 43200.,  72000.,      0., 288000., -43200.,  72000.],\n",
       "        [     0.,      0., -17280., -43200.,  17280., -43200.],\n",
       "        [     0.,      0.,  43200.,  72000., -43200., 144000.]]),\n",
       " array([-4.123e+11,  6.872e+10, -6.872e+10,  6.872e+10,  2.749e+11,  6.872e+10]))"
      ]
     },
     "execution_count": 67,
     "metadata": {},
     "output_type": "execute_result"
    }
   ],
   "source": [
    "matrix_rigidity_global, U"
   ]
  },
  {
   "cell_type": "code",
   "execution_count": 68,
   "metadata": {},
   "outputs": [
    {
     "data": {
      "text/plain": [
       "array([ 1.,  0., -1., -8.,  0.,  0.])"
      ]
     },
     "execution_count": 68,
     "metadata": {},
     "output_type": "execute_result"
    }
   ],
   "source": [
    "matrix_rigidity_global @ U"
   ]
  },
  {
   "cell_type": "code",
   "execution_count": 69,
   "metadata": {},
   "outputs": [
    {
     "data": {
      "text/plain": [
       "(array([0., 0., 1., 0., 0., 0.]),\n",
       " array([ 1.,  0., -1., -8.,  0.,  0.]),\n",
       " array([-1.,  0.,  2.,  8.,  0.,  0.]))"
      ]
     },
     "execution_count": 69,
     "metadata": {},
     "output_type": "execute_result"
    }
   ],
   "source": [
    "beams_efforts, F, beams_efforts - F"
   ]
  },
  {
   "cell_type": "code",
   "execution_count": 72,
   "metadata": {},
   "outputs": [
    {
     "data": {
      "text/plain": [
       "array([-1.,  0.,  2.,  8.,  0.,  0.])"
      ]
     },
     "execution_count": 72,
     "metadata": {},
     "output_type": "execute_result"
    }
   ],
   "source": [
    "self.getSupportReactions()"
   ]
  },
  {
   "cell_type": "code",
   "execution_count": 7,
   "metadata": {},
   "outputs": [
    {
     "data": {
      "image/png": "[encoded data removed]",
      "text/plain": [
       "<Figure size 432x288 with 1 Axes>"
      ]
     },
     "metadata": {},
     "output_type": "display_data"
    }
   ],
   "source": [
    "self.solve()\n",
    "self.plotShearDiagram()\n",
    "self.plotMomentumDiagram()"
   ]
  },
  {
   "cell_type": "code",
   "execution_count": 5,
   "metadata": {},
   "outputs": [
    {
     "data": {
      "text/plain": [
       "array([[ 0.444,  0.667, -0.444,  0.667],\n",
       "       [ 0.667,  1.333, -0.667,  0.667],\n",
       "       [-0.444, -0.667,  0.444, -0.667],\n",
       "       [ 0.667,  0.667, -0.667,  1.333]])"
      ]
     },
     "execution_count": 5,
     "metadata": {},
     "output_type": "execute_result"
    }
   ],
   "source": [
    "matrix_rigidity_global/(material.E*section.I)"
   ]
  },
  {
   "cell_type": "code",
   "execution_count": 6,
   "metadata": {},
   "outputs": [
    {
     "data": {
      "text/plain": [
       "array([[ 0.444,  0.667, -0.444,  0.667],\n",
       "       [ 0.667,  1.333, -0.667,  0.667],\n",
       "       [-0.444, -0.667,  0.444, -0.667],\n",
       "       [ 0.667,  0.667, -0.667,  1.333]])"
      ]
     },
     "execution_count": 6,
     "metadata": {},
     "output_type": "execute_result"
    }
   ],
   "source": [
    "self.bars.bar_elements[0].get_matrix_rigidity_unitary()/(material.E*section.I)"
   ]
  },
  {
   "cell_type": "code",
   "execution_count": 5,
   "metadata": {},
   "outputs": [],
   "source": [
    "material = Material(E=2500, poisson=0.3, alpha=1)\n",
    "section = Rectangle(40,60, material)\n",
    "\n",
    "f1 = Load.UniformDistributedLoad(-8, x_begin=0, x_end=100)\n",
    "\n",
    "n1 = Node.Crimp(x=0)\n",
    "n2 = Node.SimpleSupport(x=100)\n",
    "\n",
    "bar1 = SingleBeamElement([n1, n2], section)\n",
    "\n",
    "beam = Beam(\n",
    "    loads = [f1],\n",
    "    bars = [bar1],\n",
    "    steel= ConcreteSteels(diameters=[8])\n",
    ")\n",
    "beam.solve()"
   ]
  },
  {
   "cell_type": "code",
   "execution_count": null,
   "metadata": {},
   "outputs": [],
   "source": []
  },
  {
   "cell_type": "code",
   "execution_count": 14,
   "metadata": {},
   "outputs": [
    {
     "data": {
      "text/plain": [
       "[<matplotlib.lines.Line2D at 0x1c172eafd0>]"
      ]
     },
     "execution_count": 14,
     "metadata": {},
     "output_type": "execute_result"
    },
    {
     "data": {
      "image/png": "[encoded data removed]",
      "text/plain": [
       "<Figure size 432x288 with 1 Axes>"
      ]
     },
     "metadata": {},
     "output_type": "display_data"
    }
   ],
   "source": [
    "x, y = beam.getMomentumDiagram()\n",
    "plt.plot(x, y)"
   ]
  },
  {
   "cell_type": "code",
   "execution_count": 3,
   "metadata": {},
   "outputs": [
    {
     "name": "stdout",
     "output_type": "stream",
     "text": [
      "0.0\n",
      "299.99999\n",
      "299.99999\n"
     ]
    },
    {
     "data": {
      "text/plain": [
       "array([ 0.00000000e+00,  0.00000000e+00,  7.57306469e-29, -2.27191941e-26])"
      ]
     },
     "execution_count": 3,
     "metadata": {},
     "output_type": "execute_result"
    }
   ],
   "source": [
    "beam.getSupportReactions()"
   ]
  },
  {
   "cell_type": "code",
   "execution_count": 11,
   "metadata": {},
   "outputs": [],
   "source": [
    "material = Concrete(fck=30, aggressiveness=3)\n",
    "section = Rectangle(25,44.6, material)\n",
    "\n",
    "f1 = Load.UniformDistributedLoad(-16.22/100, x_begin=0, x_end=113)\n",
    "f2 = Load.UniformDistributedLoad(-49.94/100, x_begin=113, x_end=583)\n",
    "f3 = Load.UniformDistributedLoad(-41.96/100, x_begin=113+470, x_end=1188)\n",
    "\n",
    "n1 = Node.SimpleSupport(x=0)\n",
    "n2 = Node.SimpleSupport(x=113)\n",
    "n3 = Node.SimpleSupport(x=583)\n",
    "n4 = Node.SimpleSupport(x=1188)\n",
    "\n",
    "bar1 = SingleBeamElement([n1, n2], section)\n",
    "bar2 = SingleBeamElement([n2, n3], section)\n",
    "bar3 = SingleBeamElement([n3, n4], section)\n",
    "\n",
    "beam = ConcreteBeam(\n",
    "    loads = [f1, f2, f3],\n",
    "    bars = [bar1, bar2, bar3],\n",
    "    steel= ConcreteSteels(diameters=[8])\n",
    ")\n",
    "beam.solve()"
   ]
  },
  {
   "cell_type": "code",
   "execution_count": 12,
   "metadata": {},
   "outputs": [
    {
     "data": {
      "text/plain": [
       "array([-5.46207613e+01, -3.97903932e-13,  1.55272599e+02, -1.81898940e-12,\n",
       "        3.18455200e+02,  0.00000000e+00,  8.77975619e+01,  0.00000000e+00])"
      ]
     },
     "execution_count": 12,
     "metadata": {},
     "output_type": "execute_result"
    }
   ],
   "source": [
    "beam.getSupportReactions()"
   ]
  },
  {
   "cell_type": "code",
   "execution_count": 13,
   "metadata": {},
   "outputs": [
    {
     "data": {
      "text/plain": [
       "array([-5.46207613e+01, -3.97903932e-13,  1.55272599e+02, -1.81898940e-12,\n",
       "        3.18455200e+02,  0.00000000e+00,  8.77975619e+01,  0.00000000e+00])"
      ]
     },
     "execution_count": 13,
     "metadata": {},
     "output_type": "execute_result"
    }
   ],
   "source": [
    "beam.getSupportReactions()"
   ]
  },
  {
   "cell_type": "code",
   "execution_count": 14,
   "metadata": {},
   "outputs": [
    {
     "name": "stdout",
     "output_type": "stream",
     "text": [
      "0.6223190210830329\n",
      "0.6308212181586415\n",
      "0.6406099955698865\n",
      "0.649838201235576\n",
      "0.6586963203340286\n",
      "0.6671484652356086\n",
      "0.6750761739016465\n",
      "0.6827802681793322\n",
      "0.6885183656940853\n",
      "0.6956017800950633\n",
      "0.7022004205708705\n",
      "0.7087107973266337\n",
      "-1.2885650860484248\n",
      "1.1509230182624606\n",
      "1.161259744509118\n",
      "1.173129605946283\n",
      "1.1869010139448624\n",
      "1.2030706967032296\n",
      "1.222324893246683\n",
      "1.2456392597205004\n",
      "1.274449427198178\n",
      "1.313633714688605\n",
      "1.3618156405080273\n",
      "1.4275680104218609\n",
      "1.5226451265460825\n",
      "1.6722948101966142\n",
      "1.9424145807581819\n",
      "2.5764719812757817\n",
      "5.828281464829053\n",
      "-3.5343072499088253\n",
      "-0.54170021471405\n",
      "0.07164029694017209\n",
      "0.3360528553227701\n",
      "0.48335395497782224\n",
      "0.5772422357671354\n",
      "0.642310853763153\n",
      "0.6900637901538351\n",
      "0.7242498265138227\n",
      "0.7533549230696793\n",
      "0.7769244008141015\n",
      "0.7964003815760079\n",
      "0.8127640823421455\n",
      "0.8267063240869672\n",
      "0.8387275609105116\n",
      "0.8491992270791832\n",
      "0.8584027970839728\n",
      "0.8665554655840307\n",
      "0.8738275057240361\n",
      "0.8803542906923334\n",
      "0.886244799444754\n",
      "0.891587750455935\n",
      "0.8964561009348009\n",
      "0.9009103980648243\n",
      "0.9050013100536611\n",
      "0.9079867851812891\n",
      "0.9115022537431231\n",
      "0.9147621965482168\n",
      "0.917793496357148\n",
      "0.9206193927334174\n",
      "0.9232600789841156\n",
      "-1.003971514460339\n",
      "0.9199055810302218\n",
      "0.9177486738771801\n",
      "0.9154738252549752\n",
      "0.9137409876251252\n",
      "0.9112186433266207\n",
      "0.9085460516790479\n",
      "0.9036669308076857\n",
      "0.9005956246709753\n",
      "0.8981009801529949\n",
      "0.894635126031986\n",
      "0.8909275459164282\n",
      "0.8878131557727621\n",
      "0.8835718678775638\n",
      "0.8799284032651349\n",
      "0.8750238230746731\n",
      "0.8697049327984141\n",
      "0.8649679134035052\n",
      "0.8586943361738782\n",
      "0.8477138979519242\n",
      "0.8411702145077221\n",
      "0.8326602015672712\n",
      "0.824533415286397\n",
      "0.8140171407800274\n",
      "0.802167657951186\n",
      "0.7903271935636971\n",
      "0.7750377217501644\n",
      "0.7592201675877328\n",
      "0.7386923685645637\n",
      "0.7143546202284511\n",
      "0.6874755919394732\n",
      "0.6444122801703015\n",
      "0.5991423527161253\n",
      "0.5441707538813767\n",
      "0.46643232332459467\n",
      "0.3616947979871636\n",
      "0.19676278338466924\n",
      "-0.0828690036425293\n",
      "-0.6479285621996719\n",
      "-2.5304482833066952\n",
      "25.731530284937534\n",
      "3.73137344226878\n",
      "2.4459309360813566\n",
      "2.0411119545791734\n",
      "1.7826302300152939\n",
      "1.62704504622243\n",
      "1.5191578938887016\n",
      "1.4453827579919174\n",
      "1.3870259132408378\n",
      "1.3442435599727822\n",
      "1.309997098073549\n",
      "1.2798018209131918\n",
      "1.2566110356971412\n",
      "1.2351516049297966\n",
      "1.2184519119908008\n",
      "1.2120425892525282\n",
      "1.1972900200653518\n",
      "1.1856890117167604\n",
      "1.175382461940083\n",
      "1.1649058052596233\n",
      "1.1566769547043614\n",
      "1.148095662857123\n"
     ]
    }
   ],
   "source": [
    "x_ftool, shear_diagram_v47 = np.loadtxt(r\"../tests/structural/shear_diagram_v47.txt\").T\n",
    "x_ftool = x_ftool*100\n",
    "\n",
    "for index, x in enumerate(x_ftool):\n",
    "    fconcrete_shear = beam.getInternalShearStrength(x)\n",
    "    ftool_shear = shear_diagram_v47[index]\n",
    "    if fconcrete_shear != 0:\n",
    "        diff = ftool_shear/fconcrete_shear\n",
    "        print(diff)\n",
    "\n"
   ]
  },
  {
   "cell_type": "code",
   "execution_count": 15,
   "metadata": {},
   "outputs": [
    {
     "data": {
      "text/plain": [
       "[<matplotlib.lines.Line2D at 0x1c119f3358>]"
      ]
     },
     "execution_count": 15,
     "metadata": {},
     "output_type": "execute_result"
    },
    {
     "data": {
      "image/png": "[encoded data removed]",
      "text/plain": [
       "<Figure size 432x288 with 1 Axes>"
      ]
     },
     "metadata": {},
     "output_type": "display_data"
    }
   ],
   "source": [
    "plt.plot(x_ftool, shear_diagram_v47)\n",
    "x, momentum = beam.getShearDiagram()\n",
    "plt.plot(x, momentum)"
   ]
  },
  {
   "cell_type": "code",
   "execution_count": 24,
   "metadata": {},
   "outputs": [
    {
     "data": {
      "text/plain": [
       "8392"
      ]
     },
     "execution_count": 24,
     "metadata": {},
     "output_type": "execute_result"
    }
   ],
   "source": [
    "x_array, momentum_diagram_1 = np.loadtxt(r\"../tests/structural/momentum_diagram_1.txt\").T\n",
    "#x, momentum_diagram_1 = np.loadtxt(r\"../tests/structural/momentum_diagram_1.txt\").T"
   ]
  },
  {
   "cell_type": "code",
   "execution_count": 12,
   "metadata": {},
   "outputs": [
    {
     "data": {
      "text/plain": [
       "array([ 0.  ,  0.09,  0.19,  0.28,  0.38,  0.47,  0.56,  0.66,  0.75,\n",
       "        0.85,  0.94,  1.04,  1.13,  1.13,  1.23,  1.33,  1.43,  1.53,\n",
       "        1.63,  1.73,  1.83,  1.93,  2.03,  2.13,  2.23,  2.33,  2.43,\n",
       "        2.53,  2.63,  2.73,  2.83,  2.93,  3.03,  3.13,  3.23,  3.33,\n",
       "        3.43,  3.53,  3.63,  3.73,  3.83,  3.93,  4.03,  4.13,  4.23,\n",
       "        4.33,  4.43,  4.53,  4.63,  4.73,  4.83,  4.93,  5.03,  5.13,\n",
       "        5.23,  5.33,  5.43,  5.53,  5.63,  5.73,  5.83,  5.83,  5.93,\n",
       "        6.03,  6.13,  6.23,  6.33,  6.43,  6.52,  6.62,  6.72,  6.82,\n",
       "        6.92,  7.02,  7.12,  7.22,  7.32,  7.42,  7.52,  7.62,  7.71,\n",
       "        7.81,  7.91,  8.01,  8.11,  8.21,  8.31,  8.41,  8.51,  8.61,\n",
       "        8.71,  8.81,  8.9 ,  9.  ,  9.1 ,  9.2 ,  9.3 ,  9.4 ,  9.5 ,\n",
       "        9.6 ,  9.7 ,  9.8 ,  9.9 , 10.  , 10.09, 10.19, 10.29, 10.39,\n",
       "       10.49, 10.59, 10.69, 10.79, 10.89, 10.99, 11.09, 11.19, 11.28,\n",
       "       11.38, 11.48, 11.58, 11.68, 11.78, 11.88])"
      ]
     },
     "execution_count": 12,
     "metadata": {},
     "output_type": "execute_result"
    }
   ],
   "source": [
    "for x in "
   ]
  },
  {
   "cell_type": "code",
   "execution_count": 3,
   "metadata": {},
   "outputs": [
    {
     "data": {
      "text/plain": [
       "(-72.94936128392622, -7207.711925083664)"
      ]
     },
     "execution_count": 3,
     "metadata": {},
     "output_type": "execute_result"
    }
   ],
   "source": [
    "x = 113\n",
    "beam.getInternalShearStrength(x), beam.getInternalMomentumStrength(x)"
   ]
  },
  {
   "cell_type": "code",
   "execution_count": 16,
   "metadata": {},
   "outputs": [
    {
     "data": {
      "text/plain": [
       "[<matplotlib.lines.Line2D at 0x1c11af0278>]"
      ]
     },
     "execution_count": 16,
     "metadata": {},
     "output_type": "execute_result"
    },
    {
     "data": {
      "image/png": "[encoded data removed]",
      "text/plain": [
       "<Figure size 432x288 with 1 Axes>"
      ]
     },
     "metadata": {},
     "output_type": "display_data"
    }
   ],
   "source": [
    "x, m = beam.getMomentumDiagram()\n",
    "plt.plot(x, -m)"
   ]
  },
  {
   "cell_type": "code",
   "execution_count": 5,
   "metadata": {},
   "outputs": [
    {
     "data": {
      "text/plain": [
       "[<matplotlib.lines.Line2D at 0x116aa0978>]"
      ]
     },
     "execution_count": 5,
     "metadata": {},
     "output_type": "execute_result"
    },
    {
     "data": {
      "image/png": "[encoded data removed]",
      "text/plain": [
       "<Figure size 432x288 with 1 Axes>"
      ]
     },
     "metadata": {},
     "output_type": "display_data"
    }
   ],
   "source": [
    "x_decalaged, momentum_positive, momentum_negative = beam.getDecalagedMomentumDiagram()\n",
    "plt.plot(x_decalaged, -momentum_positive)\n",
    "plt.plot(x_decalaged, -momentum_negative)\n",
    "#x, y = beam.getShearDiagram()\n",
    "#plt.plot(x, y)"
   ]
  },
  {
   "cell_type": "code",
   "execution_count": 6,
   "metadata": {},
   "outputs": [],
   "source": [
    "self = beam\n",
    "\n",
    "x_decalaged, momentum_positive, momentum_negative = self.getDecalagedMomentumDiagram()\n",
    "positive_areas = [self.getSteelArea(x, m) for x, m in zip(x_decalaged, momentum_positive)]\n",
    "#negative_areas = [self.getSteelArea(x, m) for x, m in zip(x_decalaged, momentum_negative)]"
   ]
  },
  {
   "cell_type": "code",
   "execution_count": 7,
   "metadata": {},
   "outputs": [
    {
     "name": "stdout",
     "output_type": "stream",
     "text": [
      "1\n"
     ]
    }
   ],
   "source": [
    "x=300\n",
    "index = np.where(\n",
    "            np.array([node.x for node in self.bars.nodes]) <= x)[0][-1]\n",
    "print(index)\n",
    "bar_element = self.bars.bar_elements[index]"
   ]
  },
  {
   "cell_type": "markdown",
   "metadata": {},
   "source": [
    "# Rascunho"
   ]
  },
  {
   "cell_type": "code",
   "execution_count": 9,
   "metadata": {},
   "outputs": [],
   "source": [
    "x, necessary_area = beam.getSteelAreaDiagram()\n",
    "x, y = beam.getComercialSteelAreaDiagram()\n",
    "number_of_bars = np.array(y)[:,0]\n",
    "bar_diameter = np.array(y)[:,1]\n",
    "comercial_area = np.array(y)[:,2]"
   ]
  },
  {
   "cell_type": "code",
   "execution_count": 14,
   "metadata": {},
   "outputs": [
    {
     "data": {
      "image/png": "[encoded data removed]",
      "text/plain": [
       "<Figure size 432x288 with 1 Axes>"
      ]
     },
     "metadata": {},
     "output_type": "display_data"
    }
   ],
   "source": [
    "fig, ax1 = plt.subplots()\n",
    "#ax2 = ax1.twinx()\n",
    "#ax1.plot(x, comercial_area, 'g-')\n",
    "ax1.plot(x, number_of_bars, 'b-')\n",
    "plt.show()"
   ]
  },
  {
   "cell_type": "code",
   "execution_count": 70,
   "metadata": {},
   "outputs": [],
   "source": [
    "bar_removal = number_of_bars.copy()\n",
    "for number in np.unique(number_of_bars):\n",
    "    bar_removal = np.vstack([bar_removal, number*(number_of_bars==number)])\n",
    "bar_removal = bar_removal[1:]"
   ]
  },
  {
   "cell_type": "code",
   "execution_count": 81,
   "metadata": {},
   "outputs": [],
   "source": [
    "bar_removal = np.where(bar_removal==0, np.nan, bar_removal)"
   ]
  },
  {
   "cell_type": "code",
   "execution_count": 89,
   "metadata": {},
   "outputs": [
    {
     "data": {
      "text/plain": [
       "array([[nan, nan, nan, ..., nan, nan, nan],\n",
       "       [nan, nan, nan, ..., nan, nan, nan],\n",
       "       [nan, nan, nan, ..., nan, nan, nan],\n",
       "       ...,\n",
       "       [nan, nan, nan, ..., nan, nan, nan],\n",
       "       [nan, nan, nan, ..., nan, nan, nan],\n",
       "       [nan, nan, nan, ..., nan, nan, nan]])"
      ]
     },
     "execution_count": 89,
     "metadata": {},
     "output_type": "execute_result"
    }
   ],
   "source": [
    "bar_removal"
   ]
  },
  {
   "cell_type": "code",
   "execution_count": 88,
   "metadata": {},
   "outputs": [
    {
     "data": {
      "image/png": "[encoded data removed]",
      "text/plain": [
       "<Figure size 432x288 with 1 Axes>"
      ]
     },
     "metadata": {},
     "output_type": "display_data"
    }
   ],
   "source": [
    "for bar in bar_removal:\n",
    "    plt.plot(x, bar, 'b')\n",
    "    \n",
    "plt.show()"
   ]
  },
  {
   "cell_type": "code",
   "execution_count": 57,
   "metadata": {},
   "outputs": [],
   "source": [
    "a = np.array([1, 2, 4])\n",
    "a1 = np.vstack([a, [5,6,6]])\n",
    "a2 = np.vstack([a1, [5,6,6]])"
   ]
  },
  {
   "cell_type": "code",
   "execution_count": 55,
   "metadata": {},
   "outputs": [
    {
     "data": {
      "text/plain": [
       "array([[1, 2, 4],\n",
       "       [5, 6, 6],\n",
       "       [5, 6, 6]])"
      ]
     },
     "execution_count": 55,
     "metadata": {},
     "output_type": "execute_result"
    }
   ],
   "source": [
    "a2"
   ]
  },
  {
   "cell_type": "code",
   "execution_count": 35,
   "metadata": {},
   "outputs": [
    {
     "data": {
      "text/plain": [
       "array([array([[1, 2, 3],\n",
       "       [4, 5, 6]]), array([5, 7, 8])], dtype=object)"
      ]
     },
     "execution_count": 35,
     "metadata": {},
     "output_type": "execute_result"
    }
   ],
   "source": [
    "np.array([np.array([[1,2,3],[4,5,6]]),np.array([5,7,8])])"
   ]
  },
  {
   "cell_type": "code",
   "execution_count": 41,
   "metadata": {},
   "outputs": [],
   "source": []
  },
  {
   "cell_type": "code",
   "execution_count": 55,
   "metadata": {},
   "outputs": [],
   "source": [
    "x, necessary_area = beam.getSteelAreaDiagram()\n",
    "x, y = beam.getComercialSteelAreaDiagram()\n",
    "number_of_bars = np.array(y)[:,0]\n",
    "bar_diameter = np.array(y)[:,1]\n",
    "comercial_area = np.array(y)[:,2]"
   ]
  },
  {
   "cell_type": "code",
   "execution_count": 64,
   "metadata": {},
   "outputs": [
    {
     "data": {
      "image/png": "[encoded data removed]",
      "text/plain": [
       "<Figure size 432x288 with 1 Axes>"
      ]
     },
     "metadata": {},
     "output_type": "display_data"
    }
   ],
   "source": []
  },
  {
   "cell_type": "code",
   "execution_count": 69,
   "metadata": {
    "scrolled": false
   },
   "outputs": [
    {
     "data": {
      "image/png": "[encoded data removed]",
      "text/plain": [
       "<Figure size 432x288 with 1 Axes>"
      ]
     },
     "metadata": {},
     "output_type": "display_data"
    },
    {
     "data": {
      "image/png": "[encoded data removed]",
      "text/plain": [
       "<Figure size 432x288 with 2 Axes>"
      ]
     },
     "metadata": {},
     "output_type": "display_data"
    }
   ],
   "source": [
    "plt.cla()\n",
    "fig, ax1 = plt.subplots()\n",
    "\n",
    "ax2 = ax1.twinx()\n",
    "#ax1.plot(x, comercial_area, 'g-')\n",
    "ax2.plot(x, number_of_bars, 'b-')\n",
    "\n",
    "ax1.set_xlabel('X data')\n",
    "#ax1.set_ylabel('Y1 data', color='g')\n",
    "ax2.set_ylabel('Y2 data', color='b')\n",
    "\n",
    "\n",
    "fig.tight_layout()  # otherwise the right y-label is slightly clipped\n",
    "plt.show()"
   ]
  },
  {
   "cell_type": "code",
   "execution_count": 7,
   "metadata": {},
   "outputs": [],
   "source": [
    "gapminder_us = gapminder[gapminder.country==\"United States\"]"
   ]
  },
  {
   "cell_type": "code",
   "execution_count": 49,
   "metadata": {},
   "outputs": [
    {
     "data": {
      "text/plain": [
       "Text(0,0.5,'Y2 data')"
      ]
     },
     "execution_count": 49,
     "metadata": {},
     "output_type": "execute_result"
    },
    {
     "data": {
      "image/png": "[encoded data removed]",
      "text/plain": [
       "<Figure size 432x288 with 2 Axes>"
      ]
     },
     "metadata": {},
     "output_type": "display_data"
    }
   ],
   "source": [
    "import numpy as np\n",
    "import matplotlib.pyplot as plt\n",
    "x = np.arange(0, 10, 0.1)\n",
    "y1 = 0.05 * x**2\n",
    "y2 = -1 *y1\n",
    "\n",
    "fig, ax1 = plt.subplots()\n",
    "\n",
    "ax2 = ax1.twinx()\n",
    "ax1.plot(x, y1, 'g-')\n",
    "ax2.plot(x, y2, 'b-')\n",
    "\n",
    "ax1.set_xlabel('X data')\n",
    "ax1.set_ylabel('Y1 data', color='g')\n",
    "ax2.set_ylabel('Y2 data', color='b')"
   ]
  },
  {
   "cell_type": "code",
   "execution_count": 67,
   "metadata": {},
   "outputs": [
    {
     "data": {
      "image/png": "[encoded data removed]",
      "text/plain": [
       "<Figure size 432x288 with 2 Axes>"
      ]
     },
     "metadata": {},
     "output_type": "display_data"
    }
   ],
   "source": [
    "import matplotlib.pyplot as plt\n",
    "\n",
    "# Create some mock data\n",
    "t = np.arange(0.01, 10.0, 0.01)\n",
    "data1 = np.exp(t)\n",
    "data2 = np.sin(2 * np.pi * t)\n",
    "\n",
    "fig, ax1 = plt.subplots()\n",
    "\n",
    "color = 'tab:red'\n",
    "ax1.set_xlabel('time (s)')\n",
    "ax1.set_ylabel('exp', color=color)\n",
    "ax1.plot(t, data1, color=color)\n",
    "ax1.tick_params(axis='y', labelcolor=color)\n",
    "\n",
    "ax2 = ax1.twinx()  # instantiate a second axes that shares the same x-axis\n",
    "\n",
    "color = 'tab:blue'\n",
    "ax2.set_ylabel('sin', color=color)  # we already handled the x-label with ax1\n",
    "ax2.plot(t, data2, color=color)\n",
    "ax2.tick_params(axis='y', labelcolor=color)\n",
    "\n",
    "fig.tight_layout()  # otherwise the right y-label is slightly clipped\n",
    "plt.show()\n"
   ]
  },
  {
   "cell_type": "code",
   "execution_count": null,
   "metadata": {},
   "outputs": [],
   "source": []
  }
 ],
 "metadata": {
  "kernelspec": {
   "display_name": "Python 3",
   "language": "python",
   "name": "python3"
  },
  "language_info": {
   "codemirror_mode": {
    "name": "ipython",
    "version": 3
   },
   "file_extension": ".py",
   "mimetype": "text/x-python",
   "name": "python",
   "nbconvert_exporter": "python",
   "pygments_lexer": "ipython3",
   "version": "3.6.5"
  }
 },
 "nbformat": 4,
 "nbformat_minor": 2
}
