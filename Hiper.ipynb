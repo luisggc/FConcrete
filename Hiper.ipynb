{
 "cells": [
  {
   "cell_type": "code",
   "execution_count": 1,
   "metadata": {},
   "outputs": [],
   "source": [
    "import matplotlib.pyplot as plt\n",
    "from math import log\n",
    "import numpy as np\n",
    "%matplotlib notebook "
   ]
  },
  {
   "cell_type": "markdown",
   "metadata": {},
   "source": [
    "## User Input"
   ]
  },
  {
   "cell_type": "code",
   "execution_count": 2,
   "metadata": {},
   "outputs": [],
   "source": [
    "from fconcrete import Load, Node, Beam, SingleBeamElement #, helpers.integrate as integrate"
   ]
  },
  {
   "cell_type": "code",
   "execution_count": 8,
   "metadata": {},
   "outputs": [],
   "source": [
    "class Material():\n",
    "    \"\"\"\n",
    "    E - in MPA\n",
    "    Poisson - \n",
    "    \"\"\"    \n",
    "    def __init__(self, E, poisson, alpha):\n",
    "        self.E = E\n",
    "        self.poisson = poisson\n",
    "        self.alpha = alpha\n",
    "        \n",
    "class Concrete(Material):\n",
    "    def __init__(self, fck, aggressiveness, aggregate=\"granito\"):\n",
    "        \n",
    "        alpha_e = 0\n",
    "        if aggregate in [\"basalto\", \"diabásio\"]: alpha_e = 1.2\n",
    "        if aggregate in [\"granito\", \"gnaisse\"]: alpha_e = 1\n",
    "        if aggregate in [\"calcário\"]: alpha_e = 0.9\n",
    "        if aggregate in [\"arenito\"]: alpha_e = 0.7\n",
    "        if alpha_e == 0: raise Exception(\"Must select a valid aggregate: basalto, diabásio, granito, gnaisse, calcário ou arenito\")\n",
    "        \n",
    "        if fck<20 or fck>90: raise Exception(\"Must select a valid fck value (between 20MPa and 90MPa)\")\n",
    "        if (fck>=20 and fck<=50): E_ci = alpha_e*5600*(fck**0.5)\n",
    "        E_ci = alpha_e*21500*(fck/10+1.25)**(1/3) if fck>50 else E_ci\n",
    "            \n",
    "        fctm = 0.3*(fck**(2/3)) if fck<=50 else 2.12*log(1+0.11*fck)\n",
    "        fctk_inf = 0.7*fctm\n",
    "        fctk_sup = 1.3*fctm\n",
    "        fctd = fck/1.4\n",
    "\n",
    "        self.c = 1 if aggressiveness==1 else 2 if aggressiveness==2 else 3 if aggressiveness==3 else 4 if aggressiveness==4 else 0\n",
    "        if self.c==0: raise Exception(\"Must select a valid fck value (between 1 and 4)\")\n",
    "    \n",
    "        \n",
    "        super(Concrete, self ).__init__(E_ci, 0.2, 10**(-5))\n",
    "        \n",
    "        self.fck = fck\n",
    "        self.E_ci = E_ci\n",
    "        self.fctm = fctm\n",
    "        self.fctk_inf = fctk_inf\n",
    "        self.fctk_sup = fctk_sup\n",
    "        self.fctd = fctd\n",
    "        \n",
    "\n",
    "\n",
    "class Section():\n",
    "    \"\"\"\n",
    "    Class to represent simetrical section along the y axis.\n",
    "    function_width is made to define the width along the y axis. The function starts with x=0 and ends in x=height.\n",
    "    height is to represent the maximum y value possible.\n",
    "    \"\"\"    \n",
    "    def __init__(self, function_width, height, material):\n",
    "        self.material = material\n",
    "        self.height = height\n",
    "        self.function_width = function_width\n",
    "        self.area = self.getAreaBetween(0, height, 1000)\n",
    "        self.I = self._I()\n",
    "        self.d = height - material.c\n",
    "        \n",
    "    def width(self, height):\n",
    "        return 0 if height>self.height else self.function_width(height)\n",
    "    \n",
    "    def getAreaBetween(self, begin_height, end_height, interations=100):\n",
    "        return 2*integrate(self.function_width, begin_height, end_height, interations)\n",
    "    \n",
    "    def _I(self):\n",
    "        raise NotImplmentedError\n",
    "        return\n",
    "        \n",
    "    def plot(self, N=100):\n",
    "        height = self.height\n",
    "        x = np.linspace(0, height, N)\n",
    "        y = np.array([self.function_width(xi) for xi in x])\n",
    "        return plt.plot(y,x, -y, x)\n",
    "    \n",
    "    \n",
    "class Rectangle(Section):\n",
    "    def __init__(self,width, height, material):\n",
    "        self.material = material\n",
    "        self.__width = width\n",
    "        self.height = height\n",
    "        self.function_width = lambda x:width/2\n",
    "        self.area = width*height\n",
    "        self.I = self.width()*self.height**3/12\n",
    "        \n",
    "    def getAreaBetween(self, begin_height, end_height):\n",
    "        return self.width()*(end_height - begin_height)\n",
    "    \n",
    "    def width(self, height=0):\n",
    "        return self.__width\n",
    "    \n",
    "\n",
    "        "
   ]
  },
  {
   "cell_type": "code",
   "execution_count": 14,
   "metadata": {},
   "outputs": [],
   "source": [
    "material = Concrete(fck=30, aggressiveness=3)\n",
    "section = Rectangle(10,20, material)\n",
    "\n",
    "f1 = Load.PontualLoad(-16, x=6)\n",
    "f4 = Load.UniformDistributedLoad(-8, x_begin=0, x_end=4)\n",
    "\n",
    "n1 = Node.SimpleSupport(x=0)\n",
    "n2 = Node.SimpleSupport(x=4)\n",
    "n3 = Node.MiddleNode(x=6)\n",
    "\n",
    "bar1 = SingleBeamElement([n1, n2], section)\n",
    "bar2 = SingleBeamElement([n2, n3], section)\n",
    "\n",
    "beam = Beam(\n",
    "    loads = [f1, f4],\n",
    "    bars = [bar1, bar2]\n",
    ")\n",
    "\n",
    "self = beam"
   ]
  },
  {
   "cell_type": "code",
   "execution_count": 15,
   "metadata": {},
   "outputs": [
    {
     "data": {
      "text/plain": [
       "[<matplotlib.lines.Line2D at 0x1173ddf98>]"
      ]
     },
     "execution_count": 15,
     "metadata": {},
     "output_type": "execute_result"
    },
    {
     "data": {
      "image/png": "[encoded data removed]",
      "text/plain": [
       "<Figure size 432x288 with 1 Axes>"
      ]
     },
     "metadata": {},
     "output_type": "display_data"
    }
   ],
   "source": [
    "x, y = beam.getMomentumDiagram()\n",
    "plt.plot(x, y)\n",
    "x, y = beam.getShearDiagram()\n",
    "plt.plot(x, y)"
   ]
  },
  {
   "cell_type": "code",
   "execution_count": 8,
   "metadata": {},
   "outputs": [],
   "source": []
  }
 ],
 "metadata": {
  "kernelspec": {
   "display_name": "Python 3",
   "language": "python",
   "name": "python3"
  },
  "language_info": {
   "codemirror_mode": {
    "name": "ipython",
    "version": 3
   },
   "file_extension": ".py",
   "mimetype": "text/x-python",
   "name": "python",
   "nbconvert_exporter": "python",
   "pygments_lexer": "ipython3",
   "version": "3.6.5"
  }
 },
 "nbformat": 4,
 "nbformat_minor": 2
}
